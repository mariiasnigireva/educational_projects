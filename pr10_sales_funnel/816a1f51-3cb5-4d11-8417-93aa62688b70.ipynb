{
 "cells": [
  {
   "cell_type": "markdown",
   "metadata": {},
   "source": [
    "<div style=\"border:solid green 2px; padding: 20px\">\n",
    "<h2> Комментарий ревьюера </h2>\n",
    "    \n",
    "Привет, Мария :) Меня зовут Макеева Таня, и я буду делать ревью твоей работы. Предлагаю общаться на \"ты\", надеюсь, ты не против :)\n",
    "\n",
    "Мои комментарии ты сможешь найти по заголовку \"комментарий ревьюера\", а ещё они отмечены тремя цветами:   \n",
    " \n",
    "<div class=\"alert alert-danger\">\n",
    "<h2> Комментарий ревьюера </h2>\n",
    "    \n",
    "Красным цветом выделены более критические моменты, которые обязательно нужно исправить.\n",
    "    \n",
    "</div>\n",
    "\n",
    "<div class=\"alert alert-warning\">\n",
    "<h2> Комментарий ревьюера </h2>\n",
    "    \n",
    "Жёлтым цветом выделены некоторые недочёты, которые тоже стоит улучшить. Если они совсем незначительные и их немного, работа может быть принята.\n",
    "    \n",
    "</div>\n",
    "\n",
    "<div class=\"alert alert-success\">\n",
    "<h2> Комментарий ревьюера </h2>\n",
    "    \n",
    "И зелёным цветом выделены советы на будущее, а также места, которые получились у тебя лучше всего.\n",
    "    \n",
    "</div>\n",
    "\n",
    "\n",
    "Давай вести диалог через комментарии. Задавай вопросы, если такие будут, а также пиши об изменениях в ответ на мои комментарии. Пожалуйста, оставляй свои сообщения заметным цветом, отличным от моих, чтобы я ничего не упустила. \n",
    "\n",
    "<div class=\"alert alert-info\">\n",
    "<h2> Комментарий студента </h2>\n",
    "    \n",
    "Например, ты можешь оставлять свои сообщения так.\n",
    "    \n",
    "</div>\n",
    "\n",
    "И не удаляй комментарии, чтобы вся история общения была перед глазами :)"
   ]
  },
  {
   "cell_type": "markdown",
   "metadata": {},
   "source": [
    "<div class=\"alert alert-info\">\n",
    "<h2> Комментарий студента </h2>\n",
    "    \n",
    "Привет, Таня! Спасибо за подробный разбор и очень позитивные комментарии. Все, что было помечено жёлтым и красным поправила.\n",
    "    \n",
    "</div>"
   ]
  },
  {
   "cell_type": "markdown",
   "metadata": {},
   "source": [
    "<div class=\"alert alert-success\">\n",
    "<h2> Комментарий ревьюера v2</h2>\n",
    "    \n",
    "Рада была проверить твою работу :)\n",
    "    \n",
    "Комментарии по второй итерации будут с отметкой v2\n",
    "    \n",
    "</div>"
   ]
  },
  {
   "cell_type": "markdown",
   "metadata": {},
   "source": [
    "# Анализ поведения пользователей мобильного приложения\n",
    "\n",
    "## Оглавление\n",
    "* [ЦЕЛЬ: Анализ поведения пользователей мобильного приложения](#step1)\n",
    "\n",
    "* [План исследования](#step2)\n",
    "\n",
    "* [Описание данных](#step3)\n",
    "\n",
    "* [Исследование](#step4)\n",
    "    * [Шаг 1. Изучение общей информации](#step5)\n",
    "    * [Шаг 1. Вывод](#step6)\n",
    "    * [Шаг 2. Подготовка данных](#step7)\n",
    "    * [Шаг 2. Вывод](#step8)\n",
    "    * [Шаг 3. Изучение и проверка данных](#step9)\n",
    "    * [Шаг 3. Вывод](#step10)\n",
    "    * [Шаг 4. Изучение воронки событий](#step11)\n",
    "    * [Шаг 4. Вывод](#step12)\n",
    "    * [Шаг 5. Изучение результатов эксперимента](#step13)\n",
    "    * [Шаг 5. Вывод](#step14)\n",
    "           \n",
    "* [Общие выводы](#step15)\n",
    "\n",
    "## ЦЕЛЬ: Анализ поведения пользователей мобильного приложения  <a id=\"step1\"></a> \n",
    "\n",
    "Цель исследования - разобраться, как ведут себя пользователи мобильного приложения. Необходимо изучить воронку продаж, узнать, как пользователи доходят до покупки. Сколько пользователей доходит до покупки, а сколько — «застревает» на предыдущих шагах и на каких именно. Далее нужно исследовать результаты A/A/B-эксперимента до и после смены шрифта в приложении и выяснить, какой шрифт лучше. Предварительно необходимо провести сравнение контрольных групп.\n",
    "\n",
    "\n",
    "## План исследования:  <a id=\"step2\"></a> \n",
    "\n",
    "**1. Шаг - Изучение общей информации:**\n",
    "\n",
    "1. Загрузить файл.\n",
    "1. Изучить общею информацию из файла.\n",
    "\n",
    "**2. Шаг - подготовка данных:**\n",
    "Для достоверности и удобства дальнейшего анализа необходимо:\n",
    "\n",
    "1. Произвести замену названий столбцов на удобные;\n",
    "1. Проверить пропуски и типы данных, откорректировать при необходимости;\n",
    "1. Добавить столбец даты и времени, а также отдельный столбец дат;\n",
    "\n",
    "**3. Шаг - изучение и проверка данных:**\n",
    "В этой части исследования необходимо:\n",
    "\n",
    "1. Подсчитать количество событий в логе;\n",
    "1. Подсчитать количество пользователей в логе;\n",
    "1. Оценить, сколько в среднем событий приходится на пользователя;\n",
    "1. Оценить период, данными за который мы располагаем, найдя максимальную и минимальную дату;\n",
    "1. Проверить, являются ли данные за весь период одинаково полными, построив гистограмму по дате и времени (технически в логи новых дней по некоторым пользователям могут «доезжать» события из прошлого — это может «перекашивать данные»);\n",
    "1. Определить, с какого момента данные полные и отбросьте более старые;\n",
    "1. Оценив численные потери событий и пользователей, при отбросе старых данных;\n",
    "1. Проверить наличие в очищенном датасете пользователей из всех трёх экспериментальных групп.\n",
    "\n",
    "\n",
    "**4. Шаг - изучение воронки событий:**\n",
    "\n",
    "1. Посмотреть, какие события есть в логах, как часто они встречаются. Отсортировать события по частоте;\n",
    "1. Посчитать, сколько пользователей совершали каждое из этих событий. Отсортировать события по числу пользователей. Посчить долю пользователей, которые хоть раз совершали событие;\n",
    "1. Сделать предположение, в каком порядке происходят события. Если какие-то события не выстраиваются в последовательную цепочку, их не нужно учитывать при расчёте воронки;\n",
    "1. По воронке событий посчитать, какая доля пользователей проходит на следующий шаг воронки (от числа пользователей на предыдущем). То есть для последовательности событий A → B → C посчитайте отношение числа пользователей с событием B к количеству пользователей с событием A, а также отношение числа пользователей с событием C к количеству пользователей с событием B;\n",
    "1. Сделать выводы о том, на каком шаге теряется больше всего пользователей;\n",
    "1. Посчитать, какая доля пользователей доходит от первого события до оплаты.\n",
    "\n",
    "\n",
    "**5. Шаг - изучение результатов эксперимента:**\n",
    "В этой части исследования необходимо:\n",
    "\n",
    "1. Определить, сколько пользователей в каждой экспериментальной группе;\n",
    "1. Проверить, находят ли статистические критерии разницу между выборками 246 и 247 для А/А-эксперимента;\n",
    "1. Выбрать самое популярное событие. Посчить число пользователей, совершивших это событие в каждой из контрольных групп. Посчить долю пользователей, совершивших это событие. Проверить, будет ли отличие между группами статистически достоверным. Проделать то же самое для всех других событий. Сделать вывод о корректности разбиения на группы;\n",
    "1. Проделать предыдущий пункт с группой с изменённым шрифтом. Сравнить результаты с каждой из контрольных групп в отдельности по каждому событию. Сравнить результаты с объединённой контрольной группой. Сделать выводы из эксперимента;\n",
    "1. Определить допустимый уровень значимости (с учётом вероятности получения ложного результата: при уровне значимости 0.1 каждый десятый раз можно получать ложный результат). В случае изменения уровня значимости проделать предыдущие пункты и проверьте свои выводы.\n",
    "\n",
    "**Общие выводы**\n",
    "\n",
    "По результатам анализа сделать выводы и рекомендации по смене шрифта.\n",
    "\n",
    "\n",
    "## Описание данных:  <a id=\"step3\"></a> \n",
    "\n",
    "\n",
    "**Таблица logs_exp:**\n",
    "Каждая запись в логе — это действие пользователя, или событие.\n",
    "\n",
    "* EventName — название события;\n",
    "* DeviceIDHash — уникальный идентификатор пользователя;\n",
    "* EventTimestamp — время события;\n",
    "* ExpId — номер эксперимента: 246 и 247 — контрольные группы, а 248 — экспериментальная.\n",
    "\n",
    "## Исследование <a id=\"step4\"></a> \n",
    "\n",
    "\n",
    "## Шаг 1. Изучение общей информации  <a id=\"step5\"></a> "
   ]
  },
  {
   "cell_type": "code",
   "execution_count": 1,
   "metadata": {},
   "outputs": [],
   "source": [
    "import pandas as pd\n",
    "import numpy as np\n",
    "import seaborn as sns\n",
    "import matplotlib.pyplot as plt\n",
    "import scipy.stats as stats\n",
    "import datetime as dt\n",
    "import math as mth\n",
    "from IPython.display import display\n",
    "from scipy import stats as st\n",
    "from pandas.plotting import register_matplotlib_converters"
   ]
  },
  {
   "cell_type": "code",
   "execution_count": 2,
   "metadata": {},
   "outputs": [],
   "source": [
    "logs_exp = pd.read_csv('/datasets/logs_exp.csv', sep='\\t')"
   ]
  },
  {
   "cell_type": "code",
   "execution_count": 3,
   "metadata": {
    "scrolled": true
   },
   "outputs": [
    {
     "data": {
      "text/html": [
       "<div>\n",
       "<style scoped>\n",
       "    .dataframe tbody tr th:only-of-type {\n",
       "        vertical-align: middle;\n",
       "    }\n",
       "\n",
       "    .dataframe tbody tr th {\n",
       "        vertical-align: top;\n",
       "    }\n",
       "\n",
       "    .dataframe thead th {\n",
       "        text-align: right;\n",
       "    }\n",
       "</style>\n",
       "<table border=\"1\" class=\"dataframe\">\n",
       "  <thead>\n",
       "    <tr style=\"text-align: right;\">\n",
       "      <th></th>\n",
       "      <th>EventName</th>\n",
       "      <th>DeviceIDHash</th>\n",
       "      <th>EventTimestamp</th>\n",
       "      <th>ExpId</th>\n",
       "    </tr>\n",
       "  </thead>\n",
       "  <tbody>\n",
       "    <tr>\n",
       "      <td>0</td>\n",
       "      <td>MainScreenAppear</td>\n",
       "      <td>4575588528974610257</td>\n",
       "      <td>1564029816</td>\n",
       "      <td>246</td>\n",
       "    </tr>\n",
       "    <tr>\n",
       "      <td>1</td>\n",
       "      <td>MainScreenAppear</td>\n",
       "      <td>7416695313311560658</td>\n",
       "      <td>1564053102</td>\n",
       "      <td>246</td>\n",
       "    </tr>\n",
       "    <tr>\n",
       "      <td>2</td>\n",
       "      <td>PaymentScreenSuccessful</td>\n",
       "      <td>3518123091307005509</td>\n",
       "      <td>1564054127</td>\n",
       "      <td>248</td>\n",
       "    </tr>\n",
       "    <tr>\n",
       "      <td>3</td>\n",
       "      <td>CartScreenAppear</td>\n",
       "      <td>3518123091307005509</td>\n",
       "      <td>1564054127</td>\n",
       "      <td>248</td>\n",
       "    </tr>\n",
       "    <tr>\n",
       "      <td>4</td>\n",
       "      <td>PaymentScreenSuccessful</td>\n",
       "      <td>6217807653094995999</td>\n",
       "      <td>1564055322</td>\n",
       "      <td>248</td>\n",
       "    </tr>\n",
       "    <tr>\n",
       "      <td>5</td>\n",
       "      <td>CartScreenAppear</td>\n",
       "      <td>6217807653094995999</td>\n",
       "      <td>1564055323</td>\n",
       "      <td>248</td>\n",
       "    </tr>\n",
       "    <tr>\n",
       "      <td>6</td>\n",
       "      <td>OffersScreenAppear</td>\n",
       "      <td>8351860793733343758</td>\n",
       "      <td>1564066242</td>\n",
       "      <td>246</td>\n",
       "    </tr>\n",
       "    <tr>\n",
       "      <td>7</td>\n",
       "      <td>MainScreenAppear</td>\n",
       "      <td>5682100281902512875</td>\n",
       "      <td>1564085677</td>\n",
       "      <td>246</td>\n",
       "    </tr>\n",
       "    <tr>\n",
       "      <td>8</td>\n",
       "      <td>MainScreenAppear</td>\n",
       "      <td>1850981295691852772</td>\n",
       "      <td>1564086702</td>\n",
       "      <td>247</td>\n",
       "    </tr>\n",
       "    <tr>\n",
       "      <td>9</td>\n",
       "      <td>MainScreenAppear</td>\n",
       "      <td>5407636962369102641</td>\n",
       "      <td>1564112112</td>\n",
       "      <td>246</td>\n",
       "    </tr>\n",
       "  </tbody>\n",
       "</table>\n",
       "</div>"
      ],
      "text/plain": [
       "                 EventName         DeviceIDHash  EventTimestamp  ExpId\n",
       "0         MainScreenAppear  4575588528974610257      1564029816    246\n",
       "1         MainScreenAppear  7416695313311560658      1564053102    246\n",
       "2  PaymentScreenSuccessful  3518123091307005509      1564054127    248\n",
       "3         CartScreenAppear  3518123091307005509      1564054127    248\n",
       "4  PaymentScreenSuccessful  6217807653094995999      1564055322    248\n",
       "5         CartScreenAppear  6217807653094995999      1564055323    248\n",
       "6       OffersScreenAppear  8351860793733343758      1564066242    246\n",
       "7         MainScreenAppear  5682100281902512875      1564085677    246\n",
       "8         MainScreenAppear  1850981295691852772      1564086702    247\n",
       "9         MainScreenAppear  5407636962369102641      1564112112    246"
      ]
     },
     "metadata": {},
     "output_type": "display_data"
    },
    {
     "data": {
      "text/plain": [
       "(244126, 4)"
      ]
     },
     "execution_count": 3,
     "metadata": {},
     "output_type": "execute_result"
    }
   ],
   "source": [
    "#path = '/Users/mariia/Documents/python/сборный проект-2/logs_exp.csv'\n",
    "#logs_exp = pd.read_csv(path, sep='\\t')\n",
    "display(logs_exp.head(10))\n",
    "logs_exp.shape"
   ]
  },
  {
   "cell_type": "markdown",
   "metadata": {},
   "source": [
    "<div class=\"alert alert-danger\">\n",
    "<h2> Комментарий ревьюера </h2>\n",
    "    \n",
    "На этом месте код отработал с ошибкой, так как ты оставила закомментированой ту строчку, с которой проект должен отработать в тренажере. Общие рекомендации к проверке такие, что мы должны возвращать работу, если код не запустился полностью из-за ошибок. Я в качестве исключения сама закомментирую твой путь и раскомментирую рабочий. Но в следующий раз будь, пожалуйста, внимательнее. Потому что другой ревьюер может вернуть тебе работу, и это станет неприятным сюрпризом.\n",
    "    \n",
    "P.S. Вернула строки как было\n",
    "    \n",
    "</div>"
   ]
  },
  {
   "cell_type": "markdown",
   "metadata": {},
   "source": [
    "<div class=\"alert alert-info\">\n",
    "<h2> Комментарий студента </h2>\n",
    "    \n",
    "Спасибо!\n",
    "    \n",
    "</div>"
   ]
  },
  {
   "cell_type": "markdown",
   "metadata": {},
   "source": [
    "<div class=\"alert alert-success\">\n",
    "<h2> Комментарий ревьюера v2</h2>\n",
    "    \n",
    "Отлично, в этот раз всё отработало как надо :)\n",
    "    \n",
    "</div>"
   ]
  },
  {
   "cell_type": "markdown",
   "metadata": {},
   "source": [
    "Датасет представляет собой таблицу из 244126 строк и 4 столбцов. Таким образом, мы имеем 244126 событий. Посмотрим на типы данных в таблице:"
   ]
  },
  {
   "cell_type": "code",
   "execution_count": 4,
   "metadata": {
    "scrolled": true
   },
   "outputs": [
    {
     "name": "stdout",
     "output_type": "stream",
     "text": [
      "<class 'pandas.core.frame.DataFrame'>\n",
      "RangeIndex: 244126 entries, 0 to 244125\n",
      "Data columns (total 4 columns):\n",
      "EventName         244126 non-null object\n",
      "DeviceIDHash      244126 non-null int64\n",
      "EventTimestamp    244126 non-null int64\n",
      "ExpId             244126 non-null int64\n",
      "dtypes: int64(3), object(1)\n",
      "memory usage: 7.5+ MB\n"
     ]
    }
   ],
   "source": [
    "logs_exp.info()"
   ]
  },
  {
   "cell_type": "markdown",
   "metadata": {},
   "source": [
    "Пропусков в данных нет. Типы данных все правильные за исключением столбца EventTimestamp с датой и временем, в следующем шаге произведём замену."
   ]
  },
  {
   "cell_type": "markdown",
   "metadata": {},
   "source": [
    "## Шаг 1. Вывод  <a id=\"step6\"></a> "
   ]
  },
  {
   "cell_type": "markdown",
   "metadata": {},
   "source": [
    "В таблице logs_exp 244126 событий, каждому событию соответствует описание события, дата и время, уникальный ID пользователя, совершивший действие. Пропусков в данных нет. В следующем шаге нужно сделать замену типа данных в столбце даты и времени, заменить названия столбцов на более очевидные, проверить наличие в данных дубликатов и убрать их при необходимости."
   ]
  },
  {
   "cell_type": "markdown",
   "metadata": {},
   "source": [
    "## Шаг 2. Подготовка данных <a id=\"step7\"></a> "
   ]
  },
  {
   "cell_type": "markdown",
   "metadata": {},
   "source": [
    "Заменим названия столбцов:"
   ]
  },
  {
   "cell_type": "code",
   "execution_count": 5,
   "metadata": {},
   "outputs": [
    {
     "data": {
      "text/html": [
       "<div>\n",
       "<style scoped>\n",
       "    .dataframe tbody tr th:only-of-type {\n",
       "        vertical-align: middle;\n",
       "    }\n",
       "\n",
       "    .dataframe tbody tr th {\n",
       "        vertical-align: top;\n",
       "    }\n",
       "\n",
       "    .dataframe thead th {\n",
       "        text-align: right;\n",
       "    }\n",
       "</style>\n",
       "<table border=\"1\" class=\"dataframe\">\n",
       "  <thead>\n",
       "    <tr style=\"text-align: right;\">\n",
       "      <th></th>\n",
       "      <th>event_name</th>\n",
       "      <th>user_id</th>\n",
       "      <th>event_timestamp</th>\n",
       "      <th>group</th>\n",
       "    </tr>\n",
       "  </thead>\n",
       "  <tbody>\n",
       "    <tr>\n",
       "      <td>0</td>\n",
       "      <td>MainScreenAppear</td>\n",
       "      <td>4575588528974610257</td>\n",
       "      <td>1564029816</td>\n",
       "      <td>246</td>\n",
       "    </tr>\n",
       "    <tr>\n",
       "      <td>1</td>\n",
       "      <td>MainScreenAppear</td>\n",
       "      <td>7416695313311560658</td>\n",
       "      <td>1564053102</td>\n",
       "      <td>246</td>\n",
       "    </tr>\n",
       "    <tr>\n",
       "      <td>2</td>\n",
       "      <td>PaymentScreenSuccessful</td>\n",
       "      <td>3518123091307005509</td>\n",
       "      <td>1564054127</td>\n",
       "      <td>248</td>\n",
       "    </tr>\n",
       "    <tr>\n",
       "      <td>3</td>\n",
       "      <td>CartScreenAppear</td>\n",
       "      <td>3518123091307005509</td>\n",
       "      <td>1564054127</td>\n",
       "      <td>248</td>\n",
       "    </tr>\n",
       "    <tr>\n",
       "      <td>4</td>\n",
       "      <td>PaymentScreenSuccessful</td>\n",
       "      <td>6217807653094995999</td>\n",
       "      <td>1564055322</td>\n",
       "      <td>248</td>\n",
       "    </tr>\n",
       "  </tbody>\n",
       "</table>\n",
       "</div>"
      ],
      "text/plain": [
       "                event_name              user_id  event_timestamp  group\n",
       "0         MainScreenAppear  4575588528974610257       1564029816    246\n",
       "1         MainScreenAppear  7416695313311560658       1564053102    246\n",
       "2  PaymentScreenSuccessful  3518123091307005509       1564054127    248\n",
       "3         CartScreenAppear  3518123091307005509       1564054127    248\n",
       "4  PaymentScreenSuccessful  6217807653094995999       1564055322    248"
      ]
     },
     "execution_count": 5,
     "metadata": {},
     "output_type": "execute_result"
    }
   ],
   "source": [
    "logs_exp.rename(columns={'EventName': 'event_name', 'DeviceIDHash': 'user_id', 'EventTimestamp': 'event_timestamp', 'ExpId': 'group'}, inplace=True)\n",
    "logs_exp.head()"
   ]
  },
  {
   "cell_type": "markdown",
   "metadata": {},
   "source": [
    "Посмотрим, нет ли в данных дубликатов:"
   ]
  },
  {
   "cell_type": "code",
   "execution_count": 6,
   "metadata": {},
   "outputs": [
    {
     "data": {
      "text/html": [
       "<div>\n",
       "<style scoped>\n",
       "    .dataframe tbody tr th:only-of-type {\n",
       "        vertical-align: middle;\n",
       "    }\n",
       "\n",
       "    .dataframe tbody tr th {\n",
       "        vertical-align: top;\n",
       "    }\n",
       "\n",
       "    .dataframe thead th {\n",
       "        text-align: right;\n",
       "    }\n",
       "</style>\n",
       "<table border=\"1\" class=\"dataframe\">\n",
       "  <thead>\n",
       "    <tr style=\"text-align: right;\">\n",
       "      <th></th>\n",
       "      <th>event_name</th>\n",
       "      <th>user_id</th>\n",
       "      <th>event_timestamp</th>\n",
       "      <th>group</th>\n",
       "    </tr>\n",
       "  </thead>\n",
       "  <tbody>\n",
       "    <tr>\n",
       "      <td>453</td>\n",
       "      <td>MainScreenAppear</td>\n",
       "      <td>5613408041324010552</td>\n",
       "      <td>1564474784</td>\n",
       "      <td>248</td>\n",
       "    </tr>\n",
       "    <tr>\n",
       "      <td>2350</td>\n",
       "      <td>CartScreenAppear</td>\n",
       "      <td>1694940645335807244</td>\n",
       "      <td>1564609899</td>\n",
       "      <td>248</td>\n",
       "    </tr>\n",
       "    <tr>\n",
       "      <td>3573</td>\n",
       "      <td>MainScreenAppear</td>\n",
       "      <td>434103746454591587</td>\n",
       "      <td>1564628377</td>\n",
       "      <td>248</td>\n",
       "    </tr>\n",
       "    <tr>\n",
       "      <td>4076</td>\n",
       "      <td>MainScreenAppear</td>\n",
       "      <td>3761373764179762633</td>\n",
       "      <td>1564631266</td>\n",
       "      <td>247</td>\n",
       "    </tr>\n",
       "    <tr>\n",
       "      <td>4803</td>\n",
       "      <td>MainScreenAppear</td>\n",
       "      <td>2835328739789306622</td>\n",
       "      <td>1564634641</td>\n",
       "      <td>248</td>\n",
       "    </tr>\n",
       "  </tbody>\n",
       "</table>\n",
       "</div>"
      ],
      "text/plain": [
       "            event_name              user_id  event_timestamp  group\n",
       "453   MainScreenAppear  5613408041324010552       1564474784    248\n",
       "2350  CartScreenAppear  1694940645335807244       1564609899    248\n",
       "3573  MainScreenAppear   434103746454591587       1564628377    248\n",
       "4076  MainScreenAppear  3761373764179762633       1564631266    247\n",
       "4803  MainScreenAppear  2835328739789306622       1564634641    248"
      ]
     },
     "execution_count": 6,
     "metadata": {},
     "output_type": "execute_result"
    }
   ],
   "source": [
    "logs_exp[logs_exp.duplicated() == True].head()"
   ]
  },
  {
   "cell_type": "code",
   "execution_count": 7,
   "metadata": {},
   "outputs": [
    {
     "name": "stdout",
     "output_type": "stream",
     "text": [
      "В данных 413 строк-дубликатов.\n"
     ]
    }
   ],
   "source": [
    "print(f'В данных {logs_exp.duplicated().sum()} строк-дубликатов.')"
   ]
  },
  {
   "cell_type": "markdown",
   "metadata": {},
   "source": [
    "Посмотрим, как распределены дуликаты по группам, поскольку это важно для проведения A/A/B теста:"
   ]
  },
  {
   "cell_type": "code",
   "execution_count": 8,
   "metadata": {},
   "outputs": [
    {
     "data": {
      "text/plain": [
       "248    165\n",
       "247    125\n",
       "246    123\n",
       "Name: group, dtype: int64"
      ]
     },
     "execution_count": 8,
     "metadata": {},
     "output_type": "execute_result"
    }
   ],
   "source": [
    "logs_exp[logs_exp.duplicated() == True].group.value_counts()"
   ]
  },
  {
   "cell_type": "markdown",
   "metadata": {},
   "source": [
    "Видим, что дубликаты неравномерно распределены по группам, особенно много их в экспериментальной группе 248. Значит перед анализом результатов A/A/B теста нужно будет ещё раз тщательно проверить, что пользователи равномерно распределены по группам. Кроме того видно, что использование номеров групп неудобно для анализа, нужно будет заменить. Уберём сначала дубликаты из таблицы:"
   ]
  },
  {
   "cell_type": "code",
   "execution_count": 9,
   "metadata": {},
   "outputs": [
    {
     "data": {
      "text/plain": [
       "0"
      ]
     },
     "execution_count": 9,
     "metadata": {},
     "output_type": "execute_result"
    }
   ],
   "source": [
    "logs_exp = logs_exp.drop_duplicates().reset_index(drop = True)\n",
    "logs_exp.duplicated().sum()"
   ]
  },
  {
   "cell_type": "markdown",
   "metadata": {},
   "source": [
    "Теперь переименуем группы следующим образом: 246 на A1, 247 на A2 — это контрольные группы, а 248 — экспериментальную – на B:"
   ]
  },
  {
   "cell_type": "code",
   "execution_count": 10,
   "metadata": {},
   "outputs": [
    {
     "data": {
      "text/html": [
       "<div>\n",
       "<style scoped>\n",
       "    .dataframe tbody tr th:only-of-type {\n",
       "        vertical-align: middle;\n",
       "    }\n",
       "\n",
       "    .dataframe tbody tr th {\n",
       "        vertical-align: top;\n",
       "    }\n",
       "\n",
       "    .dataframe thead th {\n",
       "        text-align: right;\n",
       "    }\n",
       "</style>\n",
       "<table border=\"1\" class=\"dataframe\">\n",
       "  <thead>\n",
       "    <tr style=\"text-align: right;\">\n",
       "      <th></th>\n",
       "      <th>event_name</th>\n",
       "      <th>user_id</th>\n",
       "      <th>event_timestamp</th>\n",
       "      <th>group</th>\n",
       "    </tr>\n",
       "  </thead>\n",
       "  <tbody>\n",
       "    <tr>\n",
       "      <td>0</td>\n",
       "      <td>MainScreenAppear</td>\n",
       "      <td>4575588528974610257</td>\n",
       "      <td>1564029816</td>\n",
       "      <td>A1</td>\n",
       "    </tr>\n",
       "    <tr>\n",
       "      <td>1</td>\n",
       "      <td>MainScreenAppear</td>\n",
       "      <td>7416695313311560658</td>\n",
       "      <td>1564053102</td>\n",
       "      <td>A1</td>\n",
       "    </tr>\n",
       "    <tr>\n",
       "      <td>2</td>\n",
       "      <td>PaymentScreenSuccessful</td>\n",
       "      <td>3518123091307005509</td>\n",
       "      <td>1564054127</td>\n",
       "      <td>B</td>\n",
       "    </tr>\n",
       "    <tr>\n",
       "      <td>3</td>\n",
       "      <td>CartScreenAppear</td>\n",
       "      <td>3518123091307005509</td>\n",
       "      <td>1564054127</td>\n",
       "      <td>B</td>\n",
       "    </tr>\n",
       "    <tr>\n",
       "      <td>4</td>\n",
       "      <td>PaymentScreenSuccessful</td>\n",
       "      <td>6217807653094995999</td>\n",
       "      <td>1564055322</td>\n",
       "      <td>B</td>\n",
       "    </tr>\n",
       "  </tbody>\n",
       "</table>\n",
       "</div>"
      ],
      "text/plain": [
       "                event_name              user_id  event_timestamp group\n",
       "0         MainScreenAppear  4575588528974610257       1564029816    A1\n",
       "1         MainScreenAppear  7416695313311560658       1564053102    A1\n",
       "2  PaymentScreenSuccessful  3518123091307005509       1564054127     B\n",
       "3         CartScreenAppear  3518123091307005509       1564054127     B\n",
       "4  PaymentScreenSuccessful  6217807653094995999       1564055322     B"
      ]
     },
     "execution_count": 10,
     "metadata": {},
     "output_type": "execute_result"
    }
   ],
   "source": [
    "logs_exp['group'] = logs_exp['group'].astype('str')\n",
    "logs_exp['group'] = logs_exp['group'].replace({'246': 'A1', '247': 'A2', '248': 'B'})\n",
    "logs_exp.head()"
   ]
  },
  {
   "cell_type": "markdown",
   "metadata": {},
   "source": [
    "Добавим столбец даты и времени, а также отдельный столбец дат:"
   ]
  },
  {
   "cell_type": "code",
   "execution_count": 11,
   "metadata": {},
   "outputs": [
    {
     "data": {
      "text/html": [
       "<div>\n",
       "<style scoped>\n",
       "    .dataframe tbody tr th:only-of-type {\n",
       "        vertical-align: middle;\n",
       "    }\n",
       "\n",
       "    .dataframe tbody tr th {\n",
       "        vertical-align: top;\n",
       "    }\n",
       "\n",
       "    .dataframe thead th {\n",
       "        text-align: right;\n",
       "    }\n",
       "</style>\n",
       "<table border=\"1\" class=\"dataframe\">\n",
       "  <thead>\n",
       "    <tr style=\"text-align: right;\">\n",
       "      <th></th>\n",
       "      <th>event_name</th>\n",
       "      <th>user_id</th>\n",
       "      <th>event_timestamp</th>\n",
       "      <th>group</th>\n",
       "      <th>datetime</th>\n",
       "      <th>date</th>\n",
       "    </tr>\n",
       "  </thead>\n",
       "  <tbody>\n",
       "    <tr>\n",
       "      <td>0</td>\n",
       "      <td>MainScreenAppear</td>\n",
       "      <td>4575588528974610257</td>\n",
       "      <td>1564029816</td>\n",
       "      <td>A1</td>\n",
       "      <td>2019-07-25 04:43:36</td>\n",
       "      <td>2019-07-25</td>\n",
       "    </tr>\n",
       "    <tr>\n",
       "      <td>1</td>\n",
       "      <td>MainScreenAppear</td>\n",
       "      <td>7416695313311560658</td>\n",
       "      <td>1564053102</td>\n",
       "      <td>A1</td>\n",
       "      <td>2019-07-25 11:11:42</td>\n",
       "      <td>2019-07-25</td>\n",
       "    </tr>\n",
       "    <tr>\n",
       "      <td>2</td>\n",
       "      <td>PaymentScreenSuccessful</td>\n",
       "      <td>3518123091307005509</td>\n",
       "      <td>1564054127</td>\n",
       "      <td>B</td>\n",
       "      <td>2019-07-25 11:28:47</td>\n",
       "      <td>2019-07-25</td>\n",
       "    </tr>\n",
       "    <tr>\n",
       "      <td>3</td>\n",
       "      <td>CartScreenAppear</td>\n",
       "      <td>3518123091307005509</td>\n",
       "      <td>1564054127</td>\n",
       "      <td>B</td>\n",
       "      <td>2019-07-25 11:28:47</td>\n",
       "      <td>2019-07-25</td>\n",
       "    </tr>\n",
       "    <tr>\n",
       "      <td>4</td>\n",
       "      <td>PaymentScreenSuccessful</td>\n",
       "      <td>6217807653094995999</td>\n",
       "      <td>1564055322</td>\n",
       "      <td>B</td>\n",
       "      <td>2019-07-25 11:48:42</td>\n",
       "      <td>2019-07-25</td>\n",
       "    </tr>\n",
       "  </tbody>\n",
       "</table>\n",
       "</div>"
      ],
      "text/plain": [
       "                event_name              user_id  event_timestamp group  \\\n",
       "0         MainScreenAppear  4575588528974610257       1564029816    A1   \n",
       "1         MainScreenAppear  7416695313311560658       1564053102    A1   \n",
       "2  PaymentScreenSuccessful  3518123091307005509       1564054127     B   \n",
       "3         CartScreenAppear  3518123091307005509       1564054127     B   \n",
       "4  PaymentScreenSuccessful  6217807653094995999       1564055322     B   \n",
       "\n",
       "             datetime        date  \n",
       "0 2019-07-25 04:43:36  2019-07-25  \n",
       "1 2019-07-25 11:11:42  2019-07-25  \n",
       "2 2019-07-25 11:28:47  2019-07-25  \n",
       "3 2019-07-25 11:28:47  2019-07-25  \n",
       "4 2019-07-25 11:48:42  2019-07-25  "
      ]
     },
     "execution_count": 11,
     "metadata": {},
     "output_type": "execute_result"
    }
   ],
   "source": [
    "logs_exp['datetime'] = pd.to_datetime(logs_exp['event_timestamp'], unit='s')\n",
    "logs_exp['date'] = logs_exp['datetime'].dt.date\n",
    "logs_exp.head()"
   ]
  },
  {
   "cell_type": "code",
   "execution_count": 12,
   "metadata": {},
   "outputs": [
    {
     "name": "stdout",
     "output_type": "stream",
     "text": [
      "<class 'pandas.core.frame.DataFrame'>\n",
      "RangeIndex: 243713 entries, 0 to 243712\n",
      "Data columns (total 6 columns):\n",
      "event_name         243713 non-null object\n",
      "user_id            243713 non-null int64\n",
      "event_timestamp    243713 non-null int64\n",
      "group              243713 non-null object\n",
      "datetime           243713 non-null datetime64[ns]\n",
      "date               243713 non-null object\n",
      "dtypes: datetime64[ns](1), int64(2), object(3)\n",
      "memory usage: 11.2+ MB\n"
     ]
    }
   ],
   "source": [
    "logs_exp.info()"
   ]
  },
  {
   "cell_type": "markdown",
   "metadata": {},
   "source": [
    "## Шаг 2. Вывод  <a id=\"step8\"></a> "
   ]
  },
  {
   "cell_type": "markdown",
   "metadata": {},
   "source": [
    "После проделанной предобработки в таблице нет пропусков и дубликатов, добавлены столбцы с датой и временем. "
   ]
  },
  {
   "cell_type": "markdown",
   "metadata": {},
   "source": [
    "<div class=\"alert alert-success\">\n",
    "<h2> Комментарий ревьюера </h2>\n",
    "    \n",
    "Очень хорошо и внимательно проведена предобработка данных. Ты использовала наиболее удачные функции для работы с дубликатами, изменением названий столбцов и групп в датасете, замены типа данных для столбца с датой. Всё хорошо прокомментировано и логично сделано. Молодец!\n",
    "    \n",
    "</div>"
   ]
  },
  {
   "cell_type": "markdown",
   "metadata": {},
   "source": [
    "## Шаг 3. Изучение и проверка данных  <a id=\"step9\"></a> "
   ]
  },
  {
   "cell_type": "markdown",
   "metadata": {},
   "source": [
    "Посмотрим, сколько всего событий и пользователей в логе после удаления дубликатов: "
   ]
  },
  {
   "cell_type": "code",
   "execution_count": 13,
   "metadata": {},
   "outputs": [
    {
     "name": "stdout",
     "output_type": "stream",
     "text": [
      "В логе 243713 событий. \n",
      "Всего в датасете фигурирует 7551 уникальных пользователей.\n",
      "Таким образом на одного уникального пользователя приходится примерно 32 события.\n"
     ]
    }
   ],
   "source": [
    "print(f\"\"\"В логе {len(logs_exp.event_name)} событий. \n",
    "Всего в датасете фигурирует {len(logs_exp.user_id.unique())} уникальных пользователей.\n",
    "Таким образом на одного уникального пользователя приходится примерно {round(len(logs_exp.event_name)/len(logs_exp.user_id.unique()))} события.\"\"\")"
   ]
  },
  {
   "cell_type": "markdown",
   "metadata": {},
   "source": [
    "<div class=\"alert alert-success\">\n",
    "<h2> Комментарий ревьюера </h2>\n",
    "    \n",
    "Отлично! Все три значения выше посчитаны корректно.\n",
    "</div>"
   ]
  },
  {
   "cell_type": "markdown",
   "metadata": {},
   "source": [
    "Посмотрим, данными за какой период мы располагаем:"
   ]
  },
  {
   "cell_type": "code",
   "execution_count": 14,
   "metadata": {},
   "outputs": [
    {
     "name": "stdout",
     "output_type": "stream",
     "text": [
      "Самое раннее событие в логе произошло 2019-07-25 04:43:36, самое позднее – 2019-08-07 21:15:17.\n"
     ]
    }
   ],
   "source": [
    "print(f\"\"\"Самое раннее событие в логе произошло {logs_exp.datetime.min()}, самое позднее – {logs_exp.datetime.max()}.\"\"\")"
   ]
  },
  {
   "cell_type": "markdown",
   "metadata": {},
   "source": [
    "Технически в логи новых дней по некоторым пользователям могут «доезжать» события из прошлого — это может «перекашивать данные». Чтобы определить, с какого момента данные полные и отбросить более старые, построим сначала гистограмму распределения событий по дате и времени:"
   ]
  },
  {
   "cell_type": "code",
   "execution_count": 15,
   "metadata": {},
   "outputs": [
    {
     "data": {
      "image/png": "[encoded data removed]",
      "text/plain": [
       "<Figure size 432x288 with 1 Axes>"
      ]
     },
     "metadata": {
      "needs_background": "light"
     },
     "output_type": "display_data"
    }
   ],
   "source": [
    "register_matplotlib_converters()\n",
    "ax = plt.gca()\n",
    "logs_exp['datetime'].hist(ax=ax, grid=False)\n",
    "ax.set_title(\"Гистрограмма распределения событий по дате и времени\")\n",
    "plt.xticks(rotation=-30, ha=\"left\")\n",
    "ax.set_ylabel(\"Число событий\")\n",
    "plt.show()"
   ]
  },
  {
   "cell_type": "markdown",
   "metadata": {},
   "source": [
    "<div class=\"alert alert-success\">\n",
    "<h2> Комментарий ревьюера </h2>\n",
    "    \n",
    "Обрати внимание на предупреждение, которое появилось при построение графика. Чтобы его избежать нужно добавить следующие строчки перед построением:\n",
    "    \n",
    "- from pandas.plotting import register_matplotlib_converters\n",
    "- register_matplotlib_converters()\n",
    "    \n",
    "На данный момент, это не обязательно, код отработает и без них. Но в будущих версиях, когда будет необходимость вызвать конвертер типов данных, эти строчки будут обязательны.\n",
    "</div>"
   ]
  },
  {
   "cell_type": "markdown",
   "metadata": {},
   "source": [
    "<div class=\"alert alert-info\">\n",
    "<h2> Комментарий студента </h2>\n",
    "    \n",
    "Спасибо! Добавила.\n",
    "    \n",
    "</div>"
   ]
  },
  {
   "cell_type": "markdown",
   "metadata": {},
   "source": [
    "<div class=\"alert alert-success\">\n",
    "<h2> Комментарий ревьюера v2</h2>\n",
    "    \n",
    "Супер, что учла этот комментарий. Теперь нет отвлекающего предупреждения :)\n",
    "    \n",
    "</div>"
   ]
  },
  {
   "cell_type": "markdown",
   "metadata": {},
   "source": [
    "Судя по гистограмме, до 2019-08-01 наш датасет был неполным. Соответственно, более адекватно взять данные, начиная с этого дня:"
   ]
  },
  {
   "cell_type": "code",
   "execution_count": 16,
   "metadata": {},
   "outputs": [
    {
     "data": {
      "image/png": "[encoded data removed]",
      "text/plain": [
       "<Figure size 432x288 with 1 Axes>"
      ]
     },
     "metadata": {
      "needs_background": "light"
     },
     "output_type": "display_data"
    }
   ],
   "source": [
    "ax = plt.gca()\n",
    "logs_exp['date'].hist(ax=ax, grid=False)\n",
    "ax.set_title(\"Гистрограмма распределения событий по дате и времени\")\n",
    "plt.xticks(rotation=-30, ha=\"left\")\n",
    "ax.set_ylabel(\"Число событий\")\n",
    "plt.show()"
   ]
  },
  {
   "cell_type": "markdown",
   "metadata": {},
   "source": [
    "Для уверенности в таком решении, проверим, ещё раз численные значения количества событий, сгруппировав их по дням:"
   ]
  },
  {
   "cell_type": "code",
   "execution_count": 17,
   "metadata": {},
   "outputs": [
    {
     "data": {
      "text/html": [
       "<div>\n",
       "<style scoped>\n",
       "    .dataframe tbody tr th:only-of-type {\n",
       "        vertical-align: middle;\n",
       "    }\n",
       "\n",
       "    .dataframe tbody tr th {\n",
       "        vertical-align: top;\n",
       "    }\n",
       "\n",
       "    .dataframe thead th {\n",
       "        text-align: right;\n",
       "    }\n",
       "</style>\n",
       "<table border=\"1\" class=\"dataframe\">\n",
       "  <thead>\n",
       "    <tr style=\"text-align: right;\">\n",
       "      <th></th>\n",
       "      <th>date</th>\n",
       "      <th>event_name</th>\n",
       "    </tr>\n",
       "  </thead>\n",
       "  <tbody>\n",
       "    <tr>\n",
       "      <td>0</td>\n",
       "      <td>2019-07-25</td>\n",
       "      <td>9</td>\n",
       "    </tr>\n",
       "    <tr>\n",
       "      <td>1</td>\n",
       "      <td>2019-07-26</td>\n",
       "      <td>31</td>\n",
       "    </tr>\n",
       "    <tr>\n",
       "      <td>2</td>\n",
       "      <td>2019-07-27</td>\n",
       "      <td>55</td>\n",
       "    </tr>\n",
       "    <tr>\n",
       "      <td>3</td>\n",
       "      <td>2019-07-28</td>\n",
       "      <td>105</td>\n",
       "    </tr>\n",
       "    <tr>\n",
       "      <td>4</td>\n",
       "      <td>2019-07-29</td>\n",
       "      <td>184</td>\n",
       "    </tr>\n",
       "    <tr>\n",
       "      <td>5</td>\n",
       "      <td>2019-07-30</td>\n",
       "      <td>412</td>\n",
       "    </tr>\n",
       "    <tr>\n",
       "      <td>6</td>\n",
       "      <td>2019-07-31</td>\n",
       "      <td>2030</td>\n",
       "    </tr>\n",
       "    <tr>\n",
       "      <td>7</td>\n",
       "      <td>2019-08-01</td>\n",
       "      <td>36141</td>\n",
       "    </tr>\n",
       "    <tr>\n",
       "      <td>8</td>\n",
       "      <td>2019-08-02</td>\n",
       "      <td>35554</td>\n",
       "    </tr>\n",
       "    <tr>\n",
       "      <td>9</td>\n",
       "      <td>2019-08-03</td>\n",
       "      <td>33282</td>\n",
       "    </tr>\n",
       "    <tr>\n",
       "      <td>10</td>\n",
       "      <td>2019-08-04</td>\n",
       "      <td>32968</td>\n",
       "    </tr>\n",
       "    <tr>\n",
       "      <td>11</td>\n",
       "      <td>2019-08-05</td>\n",
       "      <td>36058</td>\n",
       "    </tr>\n",
       "    <tr>\n",
       "      <td>12</td>\n",
       "      <td>2019-08-06</td>\n",
       "      <td>35788</td>\n",
       "    </tr>\n",
       "    <tr>\n",
       "      <td>13</td>\n",
       "      <td>2019-08-07</td>\n",
       "      <td>31096</td>\n",
       "    </tr>\n",
       "  </tbody>\n",
       "</table>\n",
       "</div>"
      ],
      "text/plain": [
       "          date  event_name\n",
       "0   2019-07-25           9\n",
       "1   2019-07-26          31\n",
       "2   2019-07-27          55\n",
       "3   2019-07-28         105\n",
       "4   2019-07-29         184\n",
       "5   2019-07-30         412\n",
       "6   2019-07-31        2030\n",
       "7   2019-08-01       36141\n",
       "8   2019-08-02       35554\n",
       "9   2019-08-03       33282\n",
       "10  2019-08-04       32968\n",
       "11  2019-08-05       36058\n",
       "12  2019-08-06       35788\n",
       "13  2019-08-07       31096"
      ]
     },
     "execution_count": 17,
     "metadata": {},
     "output_type": "execute_result"
    }
   ],
   "source": [
    "logs_exp.groupby('date').agg({'event_name': 'count'}).reset_index()"
   ]
  },
  {
   "cell_type": "code",
   "execution_count": 18,
   "metadata": {},
   "outputs": [
    {
     "name": "stdout",
     "output_type": "stream",
     "text": [
      "<class 'pandas.core.frame.DataFrame'>\n",
      "RangeIndex: 243713 entries, 0 to 243712\n",
      "Data columns (total 6 columns):\n",
      "event_name         243713 non-null object\n",
      "user_id            243713 non-null int64\n",
      "event_timestamp    243713 non-null int64\n",
      "group              243713 non-null object\n",
      "datetime           243713 non-null datetime64[ns]\n",
      "date               243713 non-null object\n",
      "dtypes: datetime64[ns](1), int64(2), object(3)\n",
      "memory usage: 11.2+ MB\n"
     ]
    }
   ],
   "source": [
    "logs_exp.info()"
   ]
  },
  {
   "cell_type": "markdown",
   "metadata": {},
   "source": [
    "Действительно, до 2019-08-01 число событий имеет другой порядок, логично анализировать данные, начиная с этой даты. Уберём лишние события из датасета:"
   ]
  },
  {
   "cell_type": "code",
   "execution_count": 19,
   "metadata": {},
   "outputs": [
    {
     "name": "stdout",
     "output_type": "stream",
     "text": [
      "В датасете останется 240887 строк, т.е. мы удалили 2826 событий, или 1.2% данных.\n",
      "Таким образом мы удалили 17 уникальных пользователей.\n"
     ]
    }
   ],
   "source": [
    "data = logs_exp[logs_exp['date'] >= dt.date(2019,8,1)]\n",
    "print(f\"\"\"В датасете останется {len(data.event_name)} строк, т.е. мы удалили {len(logs_exp.event_name) - len(data.event_name)} событий, или {round((100 * (len(logs_exp.event_name) - len(data.event_name)))/len(logs_exp.event_name), 1)}% данных.\n",
    "Таким образом мы удалили {len(logs_exp.user_id.unique()) - len(data.user_id.unique())} уникальных пользователей.\"\"\")\n"
   ]
  },
  {
   "cell_type": "markdown",
   "metadata": {},
   "source": [
    "<div class=\"alert alert-success\">\n",
    "<h2> Комментарий ревьюера </h2>\n",
    "    \n",
    "Ты выбрала корректный промежуток времени для анализа и правильно отфильровала данные согласно выбранному критерию. Супер!\n",
    "    \n",
    "А ещё здесь можно было посмотреть более детальную гистограмму и выбрать промежуток времени на несколько часов раньше, чем 1 августа. Сейчас  менять ничего не нужно, твой вариант тоже допустим. Но на будущее имей в виду, что имеет смысл более детально смотреть на данные :)\n",
    "</div>"
   ]
  },
  {
   "cell_type": "markdown",
   "metadata": {},
   "source": [
    "Проверим, что у нас есть пользователи из всех трёх экспериментальных групп:"
   ]
  },
  {
   "cell_type": "code",
   "execution_count": 20,
   "metadata": {},
   "outputs": [
    {
     "data": {
      "text/plain": [
       "array(['A1', 'A2', 'B'], dtype=object)"
      ]
     },
     "execution_count": 20,
     "metadata": {},
     "output_type": "execute_result"
    }
   ],
   "source": [
    "data.group.unique()"
   ]
  },
  {
   "cell_type": "markdown",
   "metadata": {},
   "source": [
    "В датасете фигурируют все три экспериментальные группы. В следующих шагах необходимо посмотреть, насколько равномерно уникальные пользователи распределены по ним.\n",
    "\n",
    "~~В каждой из трёх групп разное количество событий, причём максимальная разница достигает почти 10%. Нужно будет уделить особое внимание корректности разбивки данных на группы.~~"
   ]
  },
  {
   "cell_type": "markdown",
   "metadata": {},
   "source": [
    "<div class=\"alert alert-warning\">\n",
    "<h2> Комментарий ревьюера </h2>\n",
    "    \n",
    "В выводе ты анализируешь количество событий по группам, но есть только расчёты, что акие названия групп есть в наборе данных. Может я что-то упустила? Поправь, если это так.\n",
    "    \n",
    "Если же всё-таки нигде не показано, сколько пользователей / событий есть по группам, что стоит добавить это здесь.\n",
    "</div>"
   ]
  },
  {
   "cell_type": "markdown",
   "metadata": {},
   "source": [
    "<div class=\"alert alert-info\">\n",
    "<h2> Комментарий студента </h2>\n",
    "    \n",
    "Это есть в начале шага пять, где уже идёт разбор результатов эксперимента. Мне показалось, что подробности нужны именно в том разделе, а здесь достаточно показать, что все три группы присутствуют в датасете. Поправь, если нужно продублировать.\n",
    "    \n",
    "</div>"
   ]
  },
  {
   "cell_type": "markdown",
   "metadata": {},
   "source": [
    "<div class=\"alert alert-success\">\n",
    "<h2> Комментарий ревьюера v2</h2>\n",
    "    \n",
    "Ты можешь и такую проверку здесь сделать. Условие задачи не предполагает каких-то конкретных расчётов. Просто если ты приводишь какие-то цифры, то данные по ним должны быть представлены здесь. Так что правильно, что ты убрала предложение из вывода. Данных для него ещё не представлено.\n",
    "    \n",
    "</div>"
   ]
  },
  {
   "cell_type": "markdown",
   "metadata": {},
   "source": [
    "## Шаг 3. Вывод  <a id=\"step10\"></a> "
   ]
  },
  {
   "cell_type": "markdown",
   "metadata": {},
   "source": [
    "Всего в датасете фигурирует 243713 событий и 7551 уникальных пользователей. Таким образом на одного уникального пользователя приходится примерно 32 события. Мы располагаем данными с 25 июля по 7 августа 2019 года, на за счёт перекоса данных было принято решение перенести дату начала исследования на 1 августа. Именно с этой даты мы располагаем полными данными. При отбросе данных до 1 августа 2019 года произошла потеря 1.2% данных. В оставшемся датасете фигурируют пользователи из всех трёх экспериментальных групп."
   ]
  },
  {
   "cell_type": "markdown",
   "metadata": {},
   "source": [
    "<div class=\"alert alert-success\">\n",
    "<h2> Комментарий ревьюера </h2>\n",
    "    \n",
    "Очень подробный вывод по разделу. В нём есть вся необходимая информация, и при этом он хорошо читается. Отлично :)\n",
    "</div>"
   ]
  },
  {
   "cell_type": "markdown",
   "metadata": {},
   "source": [
    "## Шаг 4. Изучение воронки событий  <a id=\"step11\"></a> "
   ]
  },
  {
   "cell_type": "markdown",
   "metadata": {},
   "source": [
    "Посмотрим, какие события есть в логах, как часто они встречаются, отсортируем события по частоте:"
   ]
  },
  {
   "cell_type": "code",
   "execution_count": 21,
   "metadata": {},
   "outputs": [
    {
     "data": {
      "text/plain": [
       "MainScreenAppear           117328\n",
       "OffersScreenAppear          46333\n",
       "CartScreenAppear            42303\n",
       "PaymentScreenSuccessful     33918\n",
       "Tutorial                     1005\n",
       "Name: event_name, dtype: int64"
      ]
     },
     "execution_count": 21,
     "metadata": {},
     "output_type": "execute_result"
    }
   ],
   "source": [
    "data.event_name.value_counts()"
   ]
  },
  {
   "cell_type": "markdown",
   "metadata": {},
   "source": [
    "Наиболее часто происходит событие \"открытие главного экрана\", затем \"открытие карточки предложения\", \"открытие корзины\", \"оплата\" и \"обучение\". Обычно воронку делают по количеству уникальных пользователей, поскольку на каждом шаге пользователи могут делать несколько событий. Посчитаем, сколько уникальных пользователей совершали каждое из этих действий, отсортируем события по числу пользователей. Посчитаем долю пользователей, которые хоть раз совершали событие:"
   ]
  },
  {
   "cell_type": "markdown",
   "metadata": {},
   "source": [
    "<div class=\"alert alert-info\">\n",
    "<h2> Комментарий студента </h2>\n",
    "    \n",
    "В связи с использованием функции в дальнейшем убрала округление из тела функции ниже.\n",
    "    \n",
    "</div>"
   ]
  },
  {
   "cell_type": "markdown",
   "metadata": {},
   "source": [
    "<div class=\"alert alert-success\">\n",
    "<h2> Комментарий ревьюера v2</h2>\n",
    "    \n",
    "Верное решение!\n",
    "    \n",
    "</div>"
   ]
  },
  {
   "cell_type": "code",
   "execution_count": 22,
   "metadata": {},
   "outputs": [],
   "source": [
    "def event_frequency(data):\n",
    "    \"\"\"\n",
    "    Функция берёт датасет, делает группировку по типу события.\n",
    "    Для каждого события считает, сколько уникальных пользователей совершили каждое из этих действий.\n",
    "    Далее функция сортирует таблицу по популярности событий, считает долю пользователей,\n",
    "    которые хоть раз совершали это действие.\n",
    "    \n",
    "    \"\"\"\n",
    "    event_frequency = (data.groupby('event_name')\n",
    "                   .agg({'user_id' : 'nunique'})\n",
    "                   .reset_index()\n",
    "                   .sort_values(by = 'user_id', ascending = False)\n",
    "                   .reset_index(drop=True))\n",
    "    event_frequency.rename(columns={'user_id': 'unique_users_total'}, inplace=True)\n",
    "    event_frequency['users_rate'] = event_frequency['unique_users_total'] / len(data.user_id.unique())\n",
    "    return event_frequency"
   ]
  },
  {
   "cell_type": "code",
   "execution_count": 23,
   "metadata": {},
   "outputs": [
    {
     "data": {
      "text/html": [
       "<div>\n",
       "<style scoped>\n",
       "    .dataframe tbody tr th:only-of-type {\n",
       "        vertical-align: middle;\n",
       "    }\n",
       "\n",
       "    .dataframe tbody tr th {\n",
       "        vertical-align: top;\n",
       "    }\n",
       "\n",
       "    .dataframe thead th {\n",
       "        text-align: right;\n",
       "    }\n",
       "</style>\n",
       "<table border=\"1\" class=\"dataframe\">\n",
       "  <thead>\n",
       "    <tr style=\"text-align: right;\">\n",
       "      <th></th>\n",
       "      <th>event_name</th>\n",
       "      <th>unique_users_total</th>\n",
       "      <th>users_rate</th>\n",
       "    </tr>\n",
       "  </thead>\n",
       "  <tbody>\n",
       "    <tr>\n",
       "      <td>0</td>\n",
       "      <td>MainScreenAppear</td>\n",
       "      <td>7419</td>\n",
       "      <td>0.98</td>\n",
       "    </tr>\n",
       "    <tr>\n",
       "      <td>1</td>\n",
       "      <td>OffersScreenAppear</td>\n",
       "      <td>4593</td>\n",
       "      <td>0.61</td>\n",
       "    </tr>\n",
       "    <tr>\n",
       "      <td>2</td>\n",
       "      <td>CartScreenAppear</td>\n",
       "      <td>3734</td>\n",
       "      <td>0.50</td>\n",
       "    </tr>\n",
       "    <tr>\n",
       "      <td>3</td>\n",
       "      <td>PaymentScreenSuccessful</td>\n",
       "      <td>3539</td>\n",
       "      <td>0.47</td>\n",
       "    </tr>\n",
       "    <tr>\n",
       "      <td>4</td>\n",
       "      <td>Tutorial</td>\n",
       "      <td>840</td>\n",
       "      <td>0.11</td>\n",
       "    </tr>\n",
       "  </tbody>\n",
       "</table>\n",
       "</div>"
      ],
      "text/plain": [
       "                event_name  unique_users_total  users_rate\n",
       "0         MainScreenAppear                7419        0.98\n",
       "1       OffersScreenAppear                4593        0.61\n",
       "2         CartScreenAppear                3734        0.50\n",
       "3  PaymentScreenSuccessful                3539        0.47\n",
       "4                 Tutorial                 840        0.11"
      ]
     },
     "execution_count": 23,
     "metadata": {},
     "output_type": "execute_result"
    }
   ],
   "source": [
    "events_frequency_total = event_frequency(data)\n",
    "events_frequency_total['users_rate'] = round(events_frequency_total['users_rate'], 2)\n",
    "events_frequency_total"
   ]
  },
  {
   "cell_type": "markdown",
   "metadata": {},
   "source": [
    "<div class=\"alert alert-success\">\n",
    "<h2> Комментарий ревьюера </h2>\n",
    "    \n",
    "Очень классно, что ты написала специальную функцию. Твою работу приятно смотреть: всё чётко и понятно. Вывод по цепочке событий абсолютно логичный. Молодец, продолжай в том же духе :)\n",
    "</div>"
   ]
  },
  {
   "cell_type": "markdown",
   "metadata": {},
   "source": [
    "<div class=\"alert alert-warning\">\n",
    "<h2> Комментарий ревьюера </h2>\n",
    "    \n",
    "А вот воронку дл группы A1 нужно или как-то прокомментировать (почему именно для этой группы смотрим и тп) или удалить, если ты просто для себя смотрела и никак не анализируешь далее :)\n",
    "</div>"
   ]
  },
  {
   "cell_type": "markdown",
   "metadata": {},
   "source": [
    "<div class=\"alert alert-info\">\n",
    "<h2> Комментарий студента </h2>\n",
    "    \n",
    "Убрала воронку, действительно, для себя смотрела.\n",
    "    \n",
    "</div>"
   ]
  },
  {
   "cell_type": "markdown",
   "metadata": {},
   "source": [
    "<div class=\"alert alert-success\">\n",
    "<h2> Комментарий ревьюера v2</h2>\n",
    "    \n",
    "Отлично :)\n",
    "    \n",
    "</div>"
   ]
  },
  {
   "cell_type": "markdown",
   "metadata": {},
   "source": [
    "Практически все пользователи заходили на главную страницу приложения и только 11% пользователей интерисовались обучающей частью приложения. Логично предположить, что переход в тьюториал не выстраивается в логическую цепочку событий (пользователю не нужно пройти обучение, чтобы сдеалать заказ, а вот перейти в корзину нужно. Далее в качестве цепочки событий будем рассматривать следующую последовательность: **MainScreenAppear - OffersScreenAppear - CartScreenAppear - PaymentScreenSuccessful**. Т.е. пользователь открывает карточку с предложением, переходит в корзину и совершает оплату. Также далее мы не будем учитывать путь пользователя, т.е. мы считаем, что все пользователи совершают действия именно в такой последовательности, как указано выше.\n",
    "\n",
    "По воронке событий посчитаем, какая доля пользователей проходит на следующий шаг воронки (от числа пользователей на предыдущем). То есть для последовательности событий A → B → C посчитаем отношение числа пользователей с событием B к количеству пользователей с событием A, а также отношение числа пользователей с событием C к количеству пользователей с событием B. Определим таким образом на каком шаге теряется больше всего пользователей."
   ]
  },
  {
   "cell_type": "code",
   "execution_count": 24,
   "metadata": {},
   "outputs": [
    {
     "data": {
      "text/html": [
       "<div>\n",
       "<style scoped>\n",
       "    .dataframe tbody tr th:only-of-type {\n",
       "        vertical-align: middle;\n",
       "    }\n",
       "\n",
       "    .dataframe tbody tr th {\n",
       "        vertical-align: top;\n",
       "    }\n",
       "\n",
       "    .dataframe thead th {\n",
       "        text-align: right;\n",
       "    }\n",
       "</style>\n",
       "<table border=\"1\" class=\"dataframe\">\n",
       "  <thead>\n",
       "    <tr style=\"text-align: right;\">\n",
       "      <th></th>\n",
       "      <th>event_name</th>\n",
       "      <th>unique_users_total</th>\n",
       "      <th>next_event_ratio</th>\n",
       "    </tr>\n",
       "  </thead>\n",
       "  <tbody>\n",
       "    <tr>\n",
       "      <td>0</td>\n",
       "      <td>MainScreenAppear</td>\n",
       "      <td>7419</td>\n",
       "      <td>1.00</td>\n",
       "    </tr>\n",
       "    <tr>\n",
       "      <td>1</td>\n",
       "      <td>OffersScreenAppear</td>\n",
       "      <td>4593</td>\n",
       "      <td>0.62</td>\n",
       "    </tr>\n",
       "    <tr>\n",
       "      <td>2</td>\n",
       "      <td>CartScreenAppear</td>\n",
       "      <td>3734</td>\n",
       "      <td>0.81</td>\n",
       "    </tr>\n",
       "    <tr>\n",
       "      <td>3</td>\n",
       "      <td>PaymentScreenSuccessful</td>\n",
       "      <td>3539</td>\n",
       "      <td>0.95</td>\n",
       "    </tr>\n",
       "  </tbody>\n",
       "</table>\n",
       "</div>"
      ],
      "text/plain": [
       "                event_name  unique_users_total  next_event_ratio\n",
       "0         MainScreenAppear                7419              1.00\n",
       "1       OffersScreenAppear                4593              0.62\n",
       "2         CartScreenAppear                3734              0.81\n",
       "3  PaymentScreenSuccessful                3539              0.95"
      ]
     },
     "execution_count": 24,
     "metadata": {},
     "output_type": "execute_result"
    }
   ],
   "source": [
    "#выделим события A → B → C в список:\n",
    "events_funnel = ['MainScreenAppear', 'OffersScreenAppear', 'CartScreenAppear', 'PaymentScreenSuccessful']\n",
    "events_funnel_frequency = (events_frequency_total[events_frequency_total['event_name']\n",
    "                            .isin(events_funnel)].loc[:,['event_name', 'unique_users_total']]\n",
    "                            .reset_index(drop=True))\n",
    "events_funnel_frequency['next_event_ratio'] = 1\n",
    "\n",
    "for i in range(1, len(events_funnel)):\n",
    "    events_funnel_frequency.loc[i, 'next_event_ratio'] = (round(events_funnel_frequency\n",
    "                    .loc[i, 'unique_users_total'] / events_funnel_frequency.loc[i-1, 'unique_users_total'], 2)) \n",
    "events_funnel_frequency                                                                                                           "
   ]
  },
  {
   "cell_type": "markdown",
   "metadata": {},
   "source": [
    "Получили, что при переходе от карточки предложения до корзины мы теряем больше пользователей, чем при переходе от корзины до покупки. Но **больше всего пользователей теряется при переходе от главного экрана к карточке приложения.**"
   ]
  },
  {
   "cell_type": "markdown",
   "metadata": {},
   "source": [
    "\n",
    "Какая доля пользователей доходит от первого события до оплаты?"
   ]
  },
  {
   "cell_type": "code",
   "execution_count": 25,
   "metadata": {},
   "outputs": [
    {
     "name": "stdout",
     "output_type": "stream",
     "text": [
      "От первого события до оплаты приходит доля пользователей, равная 0.48.\n"
     ]
    }
   ],
   "source": [
    "ratio = round(events_funnel_frequency.loc[3, 'unique_users_total']/events_funnel_frequency.loc[0, 'unique_users_total'], 2)\n",
    "print(f'От первого события до оплаты приходит доля пользователей, равная {ratio}.')"
   ]
  },
  {
   "cell_type": "markdown",
   "metadata": {},
   "source": [
    "<div class=\"alert alert-success\">\n",
    "<h2> Комментарий ревьюера </h2>\n",
    "    \n",
    "Доли пользователей, которые перешли на следующее событие, посчитаны верно. Доля пользователей, которые прошли от начала до конца, тоже :)\n",
    "    \n",
    "Ещё здесь можно было использовать диаграмму Funnel из пакета plotly для отображения и расчёта долей.\n",
    "</div>"
   ]
  },
  {
   "cell_type": "markdown",
   "metadata": {},
   "source": [
    "## Шаг 4. Вывод  <a id=\"step12\"></a> "
   ]
  },
  {
   "cell_type": "markdown",
   "metadata": {},
   "source": [
    "В логах есть пять видов событий: наиболее часто происходит событие \"открытие главного экрана\", затем \"открытие карточки предложения\", \"открытие корзины\", \"оплата\" и \"обучение\". В качестве цепочки событий выделена следующая последовательность действий пользователя: пользователь переходит с главного экрана на карточку с предложением, затем переходит в корзину и совершает оплату. Самые большие потери происходят при переходе с главного экрана на карточку с предложением, здесь теряется 38% пользователей. В итоге до оплаты доходит 48% пользователей, зашедших на главную страницу приложения."
   ]
  },
  {
   "cell_type": "markdown",
   "metadata": {},
   "source": [
    "<div class=\"alert alert-success\">\n",
    "<h2> Комментарий ревьюера </h2>\n",
    "    \n",
    "Вывод содержит всю необходимую информацию, и отлично подводит итоги раздела. Супер :)\n",
    "</div>"
   ]
  },
  {
   "cell_type": "markdown",
   "metadata": {},
   "source": [
    "## Шаг 5. Изучение результатов эксперимента  <a id=\"step13\"></a> "
   ]
  },
  {
   "cell_type": "markdown",
   "metadata": {},
   "source": [
    "Перейдём к изучению результатов A/A/B эксперимента по смене шрифта, подсчитав для начала, сколько пользователей в каждой экспериментальной группе:"
   ]
  },
  {
   "cell_type": "code",
   "execution_count": 26,
   "metadata": {},
   "outputs": [
    {
     "data": {
      "text/plain": [
       "B     84563\n",
       "A1    79302\n",
       "A2    77022\n",
       "Name: group, dtype: int64"
      ]
     },
     "execution_count": 26,
     "metadata": {},
     "output_type": "execute_result"
    }
   ],
   "source": [
    "#сначала посмотрим, сколько событий произошло в каждой группе:\n",
    "data.group.value_counts()"
   ]
  },
  {
   "cell_type": "code",
   "execution_count": 27,
   "metadata": {},
   "outputs": [
    {
     "data": {
      "text/html": [
       "<div>\n",
       "<style scoped>\n",
       "    .dataframe tbody tr th:only-of-type {\n",
       "        vertical-align: middle;\n",
       "    }\n",
       "\n",
       "    .dataframe tbody tr th {\n",
       "        vertical-align: top;\n",
       "    }\n",
       "\n",
       "    .dataframe thead th {\n",
       "        text-align: right;\n",
       "    }\n",
       "</style>\n",
       "<table border=\"1\" class=\"dataframe\">\n",
       "  <thead>\n",
       "    <tr style=\"text-align: right;\">\n",
       "      <th></th>\n",
       "      <th>group</th>\n",
       "      <th>users_in_group</th>\n",
       "    </tr>\n",
       "  </thead>\n",
       "  <tbody>\n",
       "    <tr>\n",
       "      <td>0</td>\n",
       "      <td>A1</td>\n",
       "      <td>2484</td>\n",
       "    </tr>\n",
       "    <tr>\n",
       "      <td>1</td>\n",
       "      <td>A2</td>\n",
       "      <td>2513</td>\n",
       "    </tr>\n",
       "    <tr>\n",
       "      <td>2</td>\n",
       "      <td>B</td>\n",
       "      <td>2537</td>\n",
       "    </tr>\n",
       "  </tbody>\n",
       "</table>\n",
       "</div>"
      ],
      "text/plain": [
       "  group  users_in_group\n",
       "0    A1            2484\n",
       "1    A2            2513\n",
       "2     B            2537"
      ]
     },
     "execution_count": 27,
     "metadata": {},
     "output_type": "execute_result"
    }
   ],
   "source": [
    "pivot_AAB = data.groupby('group').agg({'user_id': 'nunique'}).reset_index()\n",
    "pivot_AAB.rename(columns={'user_id': 'users_in_group'}, inplace=True)\n",
    "pivot_AAB"
   ]
  },
  {
   "cell_type": "markdown",
   "metadata": {},
   "source": [
    "<div class=\"alert alert-success\">\n",
    "<h2> Комментарий ревьюера </h2>\n",
    "    \n",
    "Количество пользователей по группам посчитано верно и очень удачным способом.\n",
    "</div>"
   ]
  },
  {
   "cell_type": "markdown",
   "metadata": {},
   "source": [
    "Чтобы проверить корректность всех механизмов и расчётов, проверим, находят ли статистические критерии разницу между двумя А группами. Является ли отличие между группами статистически достоверным будем проверять по долям пользователей, совершивших конкретное действие, выборочные доли будут нормально распределены вокруг настоящей. Нужно проверять именно доли, поскольку абсолютные величины могут статистически различаться из-за отличающегося размера групп. Напишем функцию для проверки гипотез о равенстве долей пользователей, совершающих конкретное действие. Разница между пропорциями, наблюдаемыми на выборках, будет нашей статистикой. Задача функции - узнать, как далеко статистика уехала от нуля."
   ]
  },
  {
   "cell_type": "markdown",
   "metadata": {},
   "source": [
    "<div class=\"alert alert-danger\">\n",
    "<h2> Комментарий ревьюера </h2>\n",
    "    \n",
    "Давай перед проверкой гипотез добавим формулировки нулевой и альтернативно гипотез. Так будет однозначно понятно, что и для чего мы делаем :)\n",
    "</div>"
   ]
  },
  {
   "cell_type": "markdown",
   "metadata": {},
   "source": [
    "<div class=\"alert alert-info\">\n",
    "<h2> Комментарий студента </h2>\n",
    "    \n",
    "Добавила везде ниже.\n",
    "    \n",
    "</div>"
   ]
  },
  {
   "cell_type": "markdown",
   "metadata": {},
   "source": [
    "<div class=\"alert alert-success\">\n",
    "<h2> Комментарий ревьюера v2</h2>\n",
    "    \n",
    "Супер, гипотезы верны!\n",
    "    \n",
    "</div>"
   ]
  },
  {
   "cell_type": "code",
   "execution_count": 28,
   "metadata": {},
   "outputs": [],
   "source": [
    "def hypothesis_testing(data_1, data_2, event, alpha):\n",
    "    \"\"\"\n",
    "    Функция берёт две выборки и событие, для которого будет проверять гипотезу о равенстве долей пользователей,\n",
    "    перешедших к событию event. С помощью функции event_frequency создаёт таблицу с числом уникальных пользователей\n",
    "    для каждого события и долями пользователей, дошедших до этого этапа (от их суммарного количества в группе).\n",
    "    Для нужного события считает долю уникальных пользователей, которые совершили это действие в комбинированном датасете.\n",
    "    Считает статистику в стандартных отклонениях стандартного нормального распределения:\n",
    "    .\n",
    "    \n",
    "    \"\"\"\n",
    "    events_frequency_1 = event_frequency(data_1)\n",
    "    events_frequency_2 = event_frequency(data_2)\n",
    "    \n",
    "\n",
    "# доля пользователей, дошедших до события event в первой группе:\n",
    "    p1 = events_frequency_1[events_frequency_1['event_name'] == event].loc[:, 'users_rate']\n",
    "\n",
    "# доля пользователей, дошедших до события event в первой группе:\n",
    "    p2 = events_frequency_2[events_frequency_2['event_name'] == event].loc[:, 'users_rate']\n",
    "\n",
    "# доля пользователей, дошедших до события event в комбинированном датасете:\n",
    "    p_combined = ((events_frequency_1[events_frequency_1['event_name'] == event].loc[:, 'unique_users_total'] \n",
    "                   + events_frequency_2[events_frequency_2['event_name'] == event].loc[:, 'unique_users_total']) \n",
    "                  / (len(data_1.user_id.unique()) + len(data_2.user_id.unique())))\n",
    "\n",
    "# разница долей в датасетах\n",
    "    difference = p1 - p2\n",
    "# считаем статистику в ст.отклонениях стандартного нормального распределения\n",
    "    z_value = difference / mth.sqrt(p_combined * (1 - p_combined) * (1/len(data_1.user_id.unique()) + 1/len(data_2.user_id.unique())))\n",
    "\n",
    "# задаем стандартное нормальное распределение (среднее 0, ст.отклонение 1)\n",
    "    distr = st.norm(0, 1) \n",
    "\n",
    "    p_value = ((1 - distr.cdf(abs(z_value))) * 2)[0]\n",
    "\n",
    "    print('    p-значение: {:.2f}'.format(p_value))\n",
    "    \n",
    "    if (p_value < alpha):\n",
    "        print(\"    Отвергаем нулевую гипотезу: между долями есть значимая разница.\")\n",
    "    else:\n",
    "        print(\"    Не получилось отвергнуть нулевую гипотезу, нет оснований считать доли разными.\")"
   ]
  },
  {
   "cell_type": "markdown",
   "metadata": {},
   "source": [
    "<div class=\"alert alert-danger\">\n",
    "<h2> Комментарий ревьюера </h2>\n",
    "    \n",
    "Здорово, что ты оформила всё в одну функцию, но, к сожалению, она не дает верный результат. На это есть несколько причин, опишу их ниже:\n",
    "    \n",
    "- Ты используешь для расчёта долей функцию events_frequency(), но из-за того, что результаты округляются, мы получаем слишком грубые и неверные подсчёты. Доли стоит брать без округления в процессе. Иначе мы получаем лишнюю ошибку.\n",
    "- При расчёете p_combined есть опечатка, котора не должна влиять на результат на текущих данных, но лучше исправить (связана со срезом данных из датафрейма).\n",
    "- При расчёте z_value есть опечатка, которая на текущих данных не сильно влияет на результат, а на других может сыграть злую шутку.\n",
    "    \n",
    "Опечатки не стала описывать детально, так как это первая итерация ревью. Во время первой итерации мы стараемся дать возможность студентам догадаться и самим решить проблемы. Если возникнут трудности, в следующей итерации обязательно объясню более явно.\n",
    "    \n",
    "Далее я не стала сильно комментировать выводы, так как они будут другими.\n",
    "</div>"
   ]
  },
  {
   "cell_type": "markdown",
   "metadata": {},
   "source": [
    "<div class=\"alert alert-info\">\n",
    "<h2> Комментарий студента </h2>\n",
    "    \n",
    "Поправила все опечатки. Добавила параметр alpha в качестве входного.\n",
    "</div>"
   ]
  },
  {
   "cell_type": "markdown",
   "metadata": {},
   "source": [
    "<div class=\"alert alert-success\">\n",
    "<h2> Комментарий ревьюера v2</h2>\n",
    "    \n",
    "Супер, теперь всё верно!\n",
    "    \n",
    "</div>"
   ]
  },
  {
   "cell_type": "markdown",
   "metadata": {},
   "source": [
    "<div class=\"alert alert-success\">\n",
    "<h2> Комментарий ревьюера </h2>\n",
    "    \n",
    "Немного о том, как бы я улучшила функцию и сделала её более универсальной. Возможно, мои советы пригодятся тебе в будущем.\n",
    "    \n",
    "Я бы сделала пять входных параметров: success1, success2, trial1, trial2, alpha. Так, доли я бы рассчитывала внутри функции, а данные по количеству пользователей подготавливала вне функции. За счёт того, что alpha - входной параметр, функция становится более гибкой. А ещё так как данные по пользователям рассчитываются вне функции, она не привязана к структуре датафрейма и может быть использована для других проектов. \n",
    "    \n",
    "А уже эту функцию я бы обернула в цикл (аналогично тому, что у тебя сейчас, только внутри цикла ещё идёт расчёт пользователей по событиям). Цикл тоже можно оформить в виде функции, так как мы проверяем несколько пар групп.\n",
    "    \n",
    "Сейчас не обязательно учитывать этот комментарий. Но в целом он говорит вот о чем: ядро функции стоит писать более универсально, а уже оболочку сверху можно придумать под конкретные данные.\n",
    "</div>"
   ]
  },
  {
   "cell_type": "code",
   "execution_count": 29,
   "metadata": {},
   "outputs": [],
   "source": [
    "alpha = .05 # критический уровень статистической значимости"
   ]
  },
  {
   "cell_type": "markdown",
   "metadata": {},
   "source": [
    "Проверим для начала гипотезу о том, что доли пользователей, дошедших до главного экрана (событие MainScreenAppear) в группах А1 и А2 одинаковы:\n",
    "\n",
    "* Нулевая гипотеза – доли пользователей, дошедших до главного экрана (событие MainScreenAppear) в группах А1 и А2 равны.\n",
    "* Альтернативная гипотеза – доли пользователей, дошедших до главного экрана (событие MainScreenAppear) в группах А1 и А2 статистически различаются."
   ]
  },
  {
   "cell_type": "code",
   "execution_count": 30,
   "metadata": {},
   "outputs": [
    {
     "name": "stdout",
     "output_type": "stream",
     "text": [
      "    p-значение: 0.76\n",
      "    Не получилось отвергнуть нулевую гипотезу, нет оснований считать доли разными.\n"
     ]
    }
   ],
   "source": [
    "hypothesis_testing(data[data['group'] == 'A1'], data[data['group'] == 'A2'], 'MainScreenAppear', alpha)\n"
   ]
  },
  {
   "cell_type": "markdown",
   "metadata": {},
   "source": [
    "Проверим по аналогии в цикле все события для групп А1 и А2:"
   ]
  },
  {
   "cell_type": "code",
   "execution_count": 31,
   "metadata": {},
   "outputs": [
    {
     "name": "stdout",
     "output_type": "stream",
     "text": [
      "Проверка нулевой гипотезы о равенстве долей пользователей в выборках А1 и А2:\n",
      "        Нулевая гипотеза – доли пользователей, дошедших до шага MainScreenAppear в группах А1 и А2 равны.\n",
      "        Альтернативная гипотеза – доли пользователей, дошедших до шага MainScreenAppear в группах А1 и А2 статистически различаются.\n",
      "        **Результаты проверки:**\n",
      "    p-значение: 0.76\n",
      "    Не получилось отвергнуть нулевую гипотезу, нет оснований считать доли разными.\n",
      "\n",
      "\n",
      "Проверка нулевой гипотезы о равенстве долей пользователей в выборках А1 и А2:\n",
      "        Нулевая гипотеза – доли пользователей, дошедших до шага OffersScreenAppear в группах А1 и А2 равны.\n",
      "        Альтернативная гипотеза – доли пользователей, дошедших до шага OffersScreenAppear в группах А1 и А2 статистически различаются.\n",
      "        **Результаты проверки:**\n",
      "    p-значение: 0.25\n",
      "    Не получилось отвергнуть нулевую гипотезу, нет оснований считать доли разными.\n",
      "\n",
      "\n",
      "Проверка нулевой гипотезы о равенстве долей пользователей в выборках А1 и А2:\n",
      "        Нулевая гипотеза – доли пользователей, дошедших до шага CartScreenAppear в группах А1 и А2 равны.\n",
      "        Альтернативная гипотеза – доли пользователей, дошедших до шага CartScreenAppear в группах А1 и А2 статистически различаются.\n",
      "        **Результаты проверки:**\n",
      "    p-значение: 0.23\n",
      "    Не получилось отвергнуть нулевую гипотезу, нет оснований считать доли разными.\n",
      "\n",
      "\n",
      "Проверка нулевой гипотезы о равенстве долей пользователей в выборках А1 и А2:\n",
      "        Нулевая гипотеза – доли пользователей, дошедших до шага PaymentScreenSuccessful в группах А1 и А2 равны.\n",
      "        Альтернативная гипотеза – доли пользователей, дошедших до шага PaymentScreenSuccessful в группах А1 и А2 статистически различаются.\n",
      "        **Результаты проверки:**\n",
      "    p-значение: 0.11\n",
      "    Не получилось отвергнуть нулевую гипотезу, нет оснований считать доли разными.\n",
      "\n",
      "\n",
      "Проверка нулевой гипотезы о равенстве долей пользователей в выборках А1 и А2:\n",
      "        Нулевая гипотеза – доли пользователей, дошедших до шага Tutorial в группах А1 и А2 равны.\n",
      "        Альтернативная гипотеза – доли пользователей, дошедших до шага Tutorial в группах А1 и А2 статистически различаются.\n",
      "        **Результаты проверки:**\n",
      "    p-значение: 0.94\n",
      "    Не получилось отвергнуть нулевую гипотезу, нет оснований считать доли разными.\n",
      "\n",
      "\n"
     ]
    }
   ],
   "source": [
    "events = events_frequency_total.event_name.tolist()\n",
    "for event in events:\n",
    "    print(f'''Проверка нулевой гипотезы о равенстве долей пользователей в выборках А1 и А2:\n",
    "        Нулевая гипотеза – доли пользователей, дошедших до шага {event} в группах А1 и А2 равны.\n",
    "        Альтернативная гипотеза – доли пользователей, дошедших до шага {event} в группах А1 и А2 статистически различаются.\n",
    "        **Результаты проверки:**''')\n",
    "    hypothesis_testing(data[data['group'] == 'A1'], data[data['group'] == 'A2'], event, alpha)\n",
    "    print('\\n')"
   ]
  },
  {
   "cell_type": "markdown",
   "metadata": {},
   "source": [
    "Таким образом для всех событий между долями пользователей в группах А1 и А2 нет статистически значимой разница, т.е. **разбиение на группы работает корректно**.\n",
    "\n",
    "Теперь сравним результаты эксперимента с каждой из контрольных групп в отдельности по каждому событию, т.е. проведём сравнения соответствующих долей для групп А1 и В и для групп А2 и В:"
   ]
  },
  {
   "cell_type": "code",
   "execution_count": 32,
   "metadata": {},
   "outputs": [
    {
     "name": "stdout",
     "output_type": "stream",
     "text": [
      "Проверка нулевой гипотезы о равенстве долей пользователей в выборках А1 и B:\n",
      "        Нулевая гипотеза – доли пользователей, дошедших до шага MainScreenAppear в группах А1 и B равны.\n",
      "        Альтернативная гипотеза – доли пользователей, дошедших до шага MainScreenAppear в группах А1 и B статистически различаются.\n",
      "        **Результаты проверки:**\n",
      "    p-значение: 0.29\n",
      "    Не получилось отвергнуть нулевую гипотезу, нет оснований считать доли разными.\n",
      "\n",
      "\n",
      "Проверка нулевой гипотезы о равенстве долей пользователей в выборках А1 и B:\n",
      "        Нулевая гипотеза – доли пользователей, дошедших до шага OffersScreenAppear в группах А1 и B равны.\n",
      "        Альтернативная гипотеза – доли пользователей, дошедших до шага OffersScreenAppear в группах А1 и B статистически различаются.\n",
      "        **Результаты проверки:**\n",
      "    p-значение: 0.21\n",
      "    Не получилось отвергнуть нулевую гипотезу, нет оснований считать доли разными.\n",
      "\n",
      "\n",
      "Проверка нулевой гипотезы о равенстве долей пользователей в выборках А1 и B:\n",
      "        Нулевая гипотеза – доли пользователей, дошедших до шага CartScreenAppear в группах А1 и B равны.\n",
      "        Альтернативная гипотеза – доли пользователей, дошедших до шага CartScreenAppear в группах А1 и B статистически различаются.\n",
      "        **Результаты проверки:**\n",
      "    p-значение: 0.08\n",
      "    Не получилось отвергнуть нулевую гипотезу, нет оснований считать доли разными.\n",
      "\n",
      "\n",
      "Проверка нулевой гипотезы о равенстве долей пользователей в выборках А1 и B:\n",
      "        Нулевая гипотеза – доли пользователей, дошедших до шага PaymentScreenSuccessful в группах А1 и B равны.\n",
      "        Альтернативная гипотеза – доли пользователей, дошедших до шага PaymentScreenSuccessful в группах А1 и B статистически различаются.\n",
      "        **Результаты проверки:**\n",
      "    p-значение: 0.21\n",
      "    Не получилось отвергнуть нулевую гипотезу, нет оснований считать доли разными.\n",
      "\n",
      "\n",
      "Проверка нулевой гипотезы о равенстве долей пользователей в выборках А1 и B:\n",
      "        Нулевая гипотеза – доли пользователей, дошедших до шага Tutorial в группах А1 и B равны.\n",
      "        Альтернативная гипотеза – доли пользователей, дошедших до шага Tutorial в группах А1 и B статистически различаются.\n",
      "        **Результаты проверки:**\n",
      "    p-значение: 0.83\n",
      "    Не получилось отвергнуть нулевую гипотезу, нет оснований считать доли разными.\n",
      "\n",
      "\n"
     ]
    }
   ],
   "source": [
    "##print(f'**Проверка гипотез о равенстве долей для групп А1 и В:**', '\\n')\n",
    "for event in events:\n",
    "    print(f'''Проверка нулевой гипотезы о равенстве долей пользователей в выборках А1 и B:\n",
    "        Нулевая гипотеза – доли пользователей, дошедших до шага {event} в группах А1 и B равны.\n",
    "        Альтернативная гипотеза – доли пользователей, дошедших до шага {event} в группах А1 и B статистически различаются.\n",
    "        **Результаты проверки:**''')\n",
    "    hypothesis_testing(data[data['group'] == 'A1'], data[data['group'] == 'B'], event, alpha)\n",
    "    print('\\n')"
   ]
  },
  {
   "cell_type": "code",
   "execution_count": 33,
   "metadata": {},
   "outputs": [
    {
     "name": "stdout",
     "output_type": "stream",
     "text": [
      "Проверка нулевой гипотезы о равенстве долей пользователей в выборках А2 и B:\n",
      "        Нулевая гипотеза – доли пользователей, дошедших до шага MainScreenAppear в группах А2 и B равны.\n",
      "        Альтернативная гипотеза – доли пользователей, дошедших до шага MainScreenAppear в группах А2 и B статистически различаются.\n",
      "        **Результаты проверки:**\n",
      "    p-значение: 0.46\n",
      "    Не получилось отвергнуть нулевую гипотезу, нет оснований считать доли разными.\n",
      "\n",
      "\n",
      "Проверка нулевой гипотезы о равенстве долей пользователей в выборках А2 и B:\n",
      "        Нулевая гипотеза – доли пользователей, дошедших до шага OffersScreenAppear в группах А2 и B равны.\n",
      "        Альтернативная гипотеза – доли пользователей, дошедших до шага OffersScreenAppear в группах А2 и B статистически различаются.\n",
      "        **Результаты проверки:**\n",
      "    p-значение: 0.92\n",
      "    Не получилось отвергнуть нулевую гипотезу, нет оснований считать доли разными.\n",
      "\n",
      "\n",
      "Проверка нулевой гипотезы о равенстве долей пользователей в выборках А2 и B:\n",
      "        Нулевая гипотеза – доли пользователей, дошедших до шага CartScreenAppear в группах А2 и B равны.\n",
      "        Альтернативная гипотеза – доли пользователей, дошедших до шага CartScreenAppear в группах А2 и B статистически различаются.\n",
      "        **Результаты проверки:**\n",
      "    p-значение: 0.58\n",
      "    Не получилось отвергнуть нулевую гипотезу, нет оснований считать доли разными.\n",
      "\n",
      "\n",
      "Проверка нулевой гипотезы о равенстве долей пользователей в выборках А2 и B:\n",
      "        Нулевая гипотеза – доли пользователей, дошедших до шага PaymentScreenSuccessful в группах А2 и B равны.\n",
      "        Альтернативная гипотеза – доли пользователей, дошедших до шага PaymentScreenSuccessful в группах А2 и B статистически различаются.\n",
      "        **Результаты проверки:**\n",
      "    p-значение: 0.74\n",
      "    Не получилось отвергнуть нулевую гипотезу, нет оснований считать доли разными.\n",
      "\n",
      "\n",
      "Проверка нулевой гипотезы о равенстве долей пользователей в выборках А2 и B:\n",
      "        Нулевая гипотеза – доли пользователей, дошедших до шага Tutorial в группах А2 и B равны.\n",
      "        Альтернативная гипотеза – доли пользователей, дошедших до шага Tutorial в группах А2 и B статистически различаются.\n",
      "        **Результаты проверки:**\n",
      "    p-значение: 0.77\n",
      "    Не получилось отвергнуть нулевую гипотезу, нет оснований считать доли разными.\n",
      "\n",
      "\n"
     ]
    }
   ],
   "source": [
    "#print(f'**Проверка гипотез о равенстве долей для групп А2 и В:**', '\\n')\n",
    "for event in events:\n",
    "    print(f'''Проверка нулевой гипотезы о равенстве долей пользователей в выборках А2 и B:\n",
    "        Нулевая гипотеза – доли пользователей, дошедших до шага {event} в группах А2 и B равны.\n",
    "        Альтернативная гипотеза – доли пользователей, дошедших до шага {event} в группах А2 и B статистически различаются.\n",
    "        **Результаты проверки:**''')\n",
    "    hypothesis_testing(data[data['group'] == 'A2'], data[data['group'] == 'B'], event, alpha)\n",
    "    print('\\n')"
   ]
  },
  {
   "cell_type": "markdown",
   "metadata": {},
   "source": [
    "<div class=\"alert alert-info\">\n",
    "<h2> Комментарий студента </h2>\n",
    "    \n",
    "Поскольку результаты получены другие после исправления функции, выводы ниже изменены.\n",
    "    \n",
    "</div>"
   ]
  },
  {
   "cell_type": "markdown",
   "metadata": {},
   "source": [
    "Итак, при проверке гипотез о равенстве долей для групп А1 и В во всех пяти случаях нет оснований отвергать нулевую гипотезу. Для групп А2 и В ситуация аналогична. Таким образом, **в десяти проверках не выявлено изменений поведения пользователей в результате изменения шрифта.** Для уточнения результатов эксперимента, сравним доли пользователей группы B с долями пользователей объединённой контрольной группы (А1 + А2):"
   ]
  },
  {
   "cell_type": "code",
   "execution_count": 34,
   "metadata": {},
   "outputs": [
    {
     "name": "stdout",
     "output_type": "stream",
     "text": [
      "**Проверка гипотез о равенстве долей для группы В и объединённой контрольной группы:** \n",
      "\n",
      "Проверка нулевой гипотезы о равенстве долей пользователей в выборках B и объединённой контрольной группе:\n",
      "        Нулевая гипотеза – доли пользователей, дошедших до шага MainScreenAppear в группе B и объединённой контрольной группе равны.\n",
      "        Альтернативная гипотеза – доли пользователей, дошедших до шага MainScreenAppear в группе B и объединённой контрольной группе статистически различаются.\n",
      "        **Результаты проверки:**\n",
      "    p-значение: 0.46\n",
      "    Не получилось отвергнуть нулевую гипотезу, нет оснований считать доли разными.\n",
      "\n",
      "\n",
      "Проверка нулевой гипотезы о равенстве долей пользователей в выборках B и объединённой контрольной группе:\n",
      "        Нулевая гипотеза – доли пользователей, дошедших до шага OffersScreenAppear в группе B и объединённой контрольной группе равны.\n",
      "        Альтернативная гипотеза – доли пользователей, дошедших до шага OffersScreenAppear в группе B и объединённой контрольной группе статистически различаются.\n",
      "        **Результаты проверки:**\n",
      "    p-значение: 0.92\n",
      "    Не получилось отвергнуть нулевую гипотезу, нет оснований считать доли разными.\n",
      "\n",
      "\n",
      "Проверка нулевой гипотезы о равенстве долей пользователей в выборках B и объединённой контрольной группе:\n",
      "        Нулевая гипотеза – доли пользователей, дошедших до шага CartScreenAppear в группе B и объединённой контрольной группе равны.\n",
      "        Альтернативная гипотеза – доли пользователей, дошедших до шага CartScreenAppear в группе B и объединённой контрольной группе статистически различаются.\n",
      "        **Результаты проверки:**\n",
      "    p-значение: 0.58\n",
      "    Не получилось отвергнуть нулевую гипотезу, нет оснований считать доли разными.\n",
      "\n",
      "\n",
      "Проверка нулевой гипотезы о равенстве долей пользователей в выборках B и объединённой контрольной группе:\n",
      "        Нулевая гипотеза – доли пользователей, дошедших до шага PaymentScreenSuccessful в группе B и объединённой контрольной группе равны.\n",
      "        Альтернативная гипотеза – доли пользователей, дошедших до шага PaymentScreenSuccessful в группе B и объединённой контрольной группе статистически различаются.\n",
      "        **Результаты проверки:**\n",
      "    p-значение: 0.74\n",
      "    Не получилось отвергнуть нулевую гипотезу, нет оснований считать доли разными.\n",
      "\n",
      "\n",
      "Проверка нулевой гипотезы о равенстве долей пользователей в выборках B и объединённой контрольной группе:\n",
      "        Нулевая гипотеза – доли пользователей, дошедших до шага Tutorial в группе B и объединённой контрольной группе равны.\n",
      "        Альтернативная гипотеза – доли пользователей, дошедших до шага Tutorial в группе B и объединённой контрольной группе статистически различаются.\n",
      "        **Результаты проверки:**\n",
      "    p-значение: 0.77\n",
      "    Не получилось отвергнуть нулевую гипотезу, нет оснований считать доли разными.\n",
      "\n",
      "\n"
     ]
    }
   ],
   "source": [
    "print(f'**Проверка гипотез о равенстве долей для группы В и объединённой контрольной группы:**', '\\n')\n",
    "for event in events:\n",
    "    #print(f'Проверка нулевой гипотезы о том, что доли пользователей, дошедших до шага {event} в группе В и объединённой контрольной группе равны:')\n",
    "    print(f'''Проверка нулевой гипотезы о равенстве долей пользователей в выборках B и объединённой контрольной группе:\n",
    "        Нулевая гипотеза – доли пользователей, дошедших до шага {event} в группе B и объединённой контрольной группе равны.\n",
    "        Альтернативная гипотеза – доли пользователей, дошедших до шага {event} в группе B и объединённой контрольной группе статистически различаются.\n",
    "        **Результаты проверки:**''')\n",
    "    hypothesis_testing(data[data['group'].isin(['А1', 'A2'])], data[data['group'] == 'B'], event, alpha)\n",
    "    print('\\n')"
   ]
  },
  {
   "cell_type": "markdown",
   "metadata": {},
   "source": [
    "При сравнении группы В с объединённой контрольной группой также во всех пяти случаях было установлено, что нет оснований считать доли разными. Итого, после проведения пятнадцати попарных сравнений долей, ни в одной из них не былы замечено статистически значимой разницы. Таким образом, **в результате А-А-В тестирования установлено, что изменение шрифта не влияет на поведение пользователей.**.\n",
    "\n",
    "~~Мы получили негативный результат, нужно уточнить, какова вероятность получения ложнонегативного результата при выбранном критическом уровне статистической значимости alpha = 0.05, т.е. оценить вероятность получения ошибки второго рода. Обычно в А-В тестах используют уровни значимости 0.01, или 0.05. Если мы понизим уровень значимости с 0.05 до 0.01, то вероятность ошибки второго рода увеличится. Поэтому оставим статистическую значимость на выбранном уровне.~~"
   ]
  },
  {
   "cell_type": "markdown",
   "metadata": {},
   "source": [
    "<div class=\"alert alert-info\">\n",
    "<h2> Комментарий студента </h2>\n",
    "    \n",
    "Ниже чуть более развёрнутая часть про вероятность получения ложнонегативного результата:\n",
    "    \n",
    "</div>"
   ]
  },
  {
   "cell_type": "markdown",
   "metadata": {},
   "source": [
    "Необходимо затронуть тему корректности выбора уровня значимости при множественных сравнениях. Как правило в А-В тестах используют уровни значимости 0.01, или 0.05. При проведении статистических тестов при уровне значимости 0.05 каждый двадцатый раз можно получать ложный результат. Таким образом, проведя 15 проверок гипотез, вероятность не ошибиться ни разу за 15 сравнений равна: (1 - 0.05)^15, что составляет 0.46, т.е. с вероятностью 0.54 мы ошиблись хотя бы один раз. Чтобы уменьшить эту групповая вероятность ошибки первого рода обычно вводят поправки, уменьшающие уровень значимости.\n",
    "\n",
    "Мы получили все пятнадцать раз негативный результат, т.е. нас на самом деле интересует вероятность получения ошибки второго рода. Вероятности ошибки первого и второго рода связаня таким образом, что при уменьшении одной из них, другая увеличится. А именно, если мы понизим уровень значимости с 0.05 до 0.01, то вероятность ошибки второго рода увеличится. Поэтому оставим статистическую значимость на выбранном уровне."
   ]
  },
  {
   "cell_type": "markdown",
   "metadata": {},
   "source": [
    "## Шаг 5. Вывод  <a id=\"step14\"></a> "
   ]
  },
  {
   "cell_type": "markdown",
   "metadata": {},
   "source": [
    "На данном этапе были изучены результаты А-А-В эксперимента по смене шрифта. Поскольку размер групп по количеству уникальных пользователей не точно одинаков, то для проверки корректности разбиения на группы между А1 и А2 выборками была проведена проверка пяти гипотез о равенстве долей уникальных пользователей, дошедших до каждого события (доля от общего количества уникальных пользователей в выборке). Статистически значимой разницы при попарном сравнении долей не обнаружено, поэтому можно сделать вывод о том, что разбиение на группы работает корректно. \n",
    "\n",
    "При сравнении группы В попарно с группами А1 и А2, а затем с объединённой контрольной группой, ~~только в четырёх проверках из пятнадцати была замечена статистическая значимая разница.~~ во всех пятнадцати проверках статистических гипотез не было установлено статистически значимой разницы между выборками. Таким образом, в результате А-А-В тестирования установлено, что изменение шрифта не влияет на поведение пользователей."
   ]
  },
  {
   "cell_type": "markdown",
   "metadata": {},
   "source": [
    "<div class=\"alert alert-warning\">\n",
    "<h2> Комментарий ревьюера </h2>\n",
    "    \n",
    "В прицнипе, ты верно рассуждаешь в выводах, но их обязательно нужно будет пересмотреть после внесения правок в функцию теста.\n",
    "</div>"
   ]
  },
  {
   "cell_type": "markdown",
   "metadata": {},
   "source": [
    "<div class=\"alert alert-info\">\n",
    "<h2> Комментарий студента </h2>\n",
    "    \n",
    "Done\n",
    "    \n",
    "</div>"
   ]
  },
  {
   "cell_type": "markdown",
   "metadata": {},
   "source": [
    "<div class=\"alert alert-success\">\n",
    "<h2> Комментарий ревьюера v2</h2>\n",
    "    \n",
    "Выводы по всем тестам верные и полные. По уровню стат значимости ты верно рассуждаешь. Важно ещё то, что если мы введем поправку, то уменьшим вероятность отклонения нулевой гипотезы. А она у нас и так нигде не отклоняется, так что смсла в этом нет ещё и по этой причине. А так всё хорошо, молодец :) Здорово, что разобралась в этом!\n",
    "    \n",
    "</div>"
   ]
  },
  {
   "cell_type": "markdown",
   "metadata": {},
   "source": [
    "## Общие выводы  <a id=\"step15\"></a> "
   ]
  },
  {
   "cell_type": "markdown",
   "metadata": {},
   "source": [
    "В результате исследования было изучено, как ведут себя пользователи мобильного приложения. При изучении воронки продаж выяснилось, что самые большие потери пользователей происходят при переходе от главного экрана к карточке предложения (здесь мы теряем примерно 38% пользователей). Всего до оплаты доходит 48% пользователей, зашедших на главную страницу приложения. Вторым в рейтинге \"застревания\" является переход от карточки предложения к корзине, сюда приходит на 19% пользователей меньше, чем было на предыдущем шаге. В тьюториал заходит всего 11% пользователей, этот этап не входит в воронку продаж.\n",
    "\n",
    "В результате анализа результатов A/A/B-эксперимента до и после смены шрифта в приложении выяснилось, что поведение пользователей до и после смены шрифта не поменялось. Предварительно было проведено сравнение контрольных групп, в результате которого установлено, что разделение на группы проведено корректно."
   ]
  },
  {
   "cell_type": "markdown",
   "metadata": {},
   "source": [
    "<div class=\"alert alert-success\">\n",
    "<h2> Комментарий ревьюера </h2>\n",
    "    \n",
    "Очень хороший вывод. Из него понятно, что именно ты анализируешь, какие заключения делаешь в процессе. Ты описала все важные находки, привела рассчитанные значени, где нужно. При этом твой вывод не является простым копированием того, что ты делала в работе. Очень хорошо, так держать :)\n",
    "</div>"
   ]
  },
  {
   "cell_type": "markdown",
   "metadata": {},
   "source": [
    "<div class=\"alert alert-success\">\n",
    "<h2> Комментарий ревьюера - резюме</h2>\n",
    "    \n",
    "У тебя получилась действительно неплохая работа. Всё очень структурировано, логично, последовательно. Работа хорошо оформлена и прокомментирована. Было легко понимать что ты делаешь и для чего. Ты справилась со многими задачами, но к сожалению, некие опечатки и ошибки округления оказали негативный эффект на результаты тестов. Внимательно нужно пересмотреть проверку стат гипотез. В остальных разделах есть несколько не критичных моментов, которые тоже нужно учесть. Обрати внимание на все жёлтые и красные комментарии в работе, чтобы я смогла её принять.\n",
    "    \n",
    "Буду ждать твою работу с исправлениями :)\n",
    "</div>"
   ]
  },
  {
   "cell_type": "markdown",
   "metadata": {},
   "source": [
    "<div class=\"alert alert-info\">\n",
    "<h2> Комментарий студента </h2>\n",
    "    \n",
    "Спасибо! Буду ждать результатов повторной проверки :)\n",
    "    \n",
    "</div>"
   ]
  },
  {
   "cell_type": "markdown",
   "metadata": {},
   "source": [
    "<div class=\"alert alert-success\">\n",
    "<h2> Комментарий ревьюера v2 - резюме</h2>\n",
    "    \n",
    "Ты внимательно подошла к исправлениям, и всё сделала верно. Я принимаю работу :)\n",
    "    \n",
    "Ты хорошо постаралась, а впереди тебя ждут новые темы. Успехов в их освоении!\n",
    "    \n",
    "</div>"
   ]
  },
  {
   "cell_type": "code",
   "execution_count": null,
   "metadata": {},
   "outputs": [],
   "source": []
  }
 ],
 "metadata": {
  "kernelspec": {
   "display_name": "Python 3",
   "language": "python",
   "name": "python3"
  },
  "language_info": {
   "codemirror_mode": {
    "name": "ipython",
    "version": 3
   },
   "file_extension": ".py",
   "mimetype": "text/x-python",
   "name": "python",
   "nbconvert_exporter": "python",
   "pygments_lexer": "ipython3",
   "version": "3.7.8"
  },
  "toc": {
   "base_numbering": 1,
   "nav_menu": {},
   "number_sections": true,
   "sideBar": true,
   "skip_h1_title": true,
   "title_cell": "Table of Contents",
   "title_sidebar": "Contents",
   "toc_cell": false,
   "toc_position": {},
   "toc_section_display": true,
   "toc_window_display": false
  }
 },
 "nbformat": 4,
 "nbformat_minor": 4
}
