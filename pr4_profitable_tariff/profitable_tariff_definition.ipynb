{
 "cells": [
  {
   "cell_type": "markdown",
   "metadata": {},
   "source": [
    "<h1 id=\"tocheading\">Содержание</h1>\n",
    "\n",
    "\n",
    "<div id=\"toc\"></div>"
   ]
  },
  {
   "cell_type": "markdown",
   "metadata": {},
   "source": [
    "# ЦЕЛЬ: Корректировка рекламного бюджета для телеком компании\n",
    "\n",
    "В настоящий момент клиентам компании «Мегалайн» — федерального оператора сотовой связи — предлагается два тарифных плана: «Смарт» и «Ультра». Чтобы скорректировать рекламный бюджет, необходимо проанализировать, какой тариф более прибыльный для компании.\n",
    "\n",
    "Предстоит сделать предварительный анализ тарифов на небольшой выборке клиентов: в распоряжении есть данные 500 пользователей «Мегалайна»: кто они, откуда, каким тарифом пользуются, сколько звонков и сообщений каждый отправил за 2018 год. Нужно проанализировать поведение клиентов и сделать вывод — какой тариф выгоднее, а значит, на какой тариф потратить большую часть рекламного бюджета."
   ]
  },
  {
   "cell_type": "markdown",
   "metadata": {},
   "source": [
    "# План исследования"
   ]
  },
  {
   "cell_type": "markdown",
   "metadata": {},
   "source": [
    "1. Шаг - изучение общей информации:\n",
    "\n",
    "Обзор данных, первичное исследование.\n",
    "2. Шаг - подготовка данных:\n",
    "\n",
    "Приведение данных к нужным типам, поиск и заполнение пропусков.\n",
    "3. Шаг - анализ данных:\n",
    "\n",
    "Описание поведения клиентов оператора, исходя из выборки. \n",
    "4. Шаг - проверка гипотез \n",
    "                      - средняя выручка пользователей тарифов «Ультра» и «Смарт» различается/не различается;\n",
    "                      - средняя выручка пользователей из Москвы отличается/не отличается от выручки пользователей из других регионов.\n",
    "                                            \n",
    "                                            \n",
    "5. Шаг - общие выводы."
   ]
  },
  {
   "cell_type": "markdown",
   "metadata": {},
   "source": [
    "# Исходные данные"
   ]
  },
  {
   "cell_type": "markdown",
   "metadata": {},
   "source": [
    "## Описание тарифов\n",
    "### Тариф «Смарт»\n",
    "- Ежемесячная плата: 550 рублей\n",
    "- Включено 500 минут разговора, 50 сообщений и 15 Гб интернет-трафика\n",
    "- Стоимость услуг сверх тарифного пакета:\n",
    " - минута разговора: 3 рубля\n",
    " - сообщение: 3 рубля\n",
    " - 1 Гб интернет-трафика: 200 рублей\n",
    "\n",
    "### Тариф «Ультра»\n",
    "- Ежемесячная плата: 1950 рублей\n",
    "- Включено 3000 минут разговора, 1000 сообщений и 30 Гб интернет-трафика\n",
    "- Стоимость услуг сверх тарифного пакета:\n",
    " - минута разговора: 1 рубль\n",
    " - сообщение: 1 рубль\n",
    " - 1 Гб интернет-трафика: 150 рублей\n",
    "\n",
    "Обратите внимание: «Мегалайн» всегда округляет вверх значения минут и мегабайтов. Если пользователь проговорил всего 1 секунду, в тарифе засчитывается целая минута."
   ]
  },
  {
   "cell_type": "markdown",
   "metadata": {},
   "source": [
    "## Описание данных\n",
    "\n",
    "У нас в распоряжении пять таблиц: users, calls, messages, internet и tariffs:\n",
    "\n",
    "Таблица users (информация о пользователях):\n",
    "- user_id — уникальный идентификатор пользователя\n",
    "- first_name — имя пользователя\n",
    "- last_name — фамилия пользователя\n",
    "- age — возраст пользователя (годы)\n",
    "- reg_date — дата подключения тарифа (день, месяц, год)\n",
    "- churn_date — дата прекращения пользования тарифом (если значение пропущено, то тариф ещё действовал на момент выгрузки данных)\n",
    "- city — город проживания пользователя\n",
    "- tariff — название тарифного плана\n",
    "\n",
    "Таблица calls (информация о звонках):\n",
    "- id — уникальный номер звонка\n",
    "- call_date — дата звонка\n",
    "- duration — длительность звонка в минутах\n",
    "- user_id — идентификатор пользователя, сделавшего звонок\n",
    "\n",
    "Таблица messages (информация о сообщениях):\n",
    "- id — уникальный номер сообщения\n",
    "- message_date — дата сообщения\n",
    "- user_id — идентификатор пользователя, отправившего сообщение\n",
    "\n",
    "Таблица internet (информация об интернет-сессиях):\n",
    "- id — уникальный номер сессии\n",
    "- mb_used — объём потраченного за сессию интернет-трафика (в мегабайтах)\n",
    "- session_date — дата интернет-сессии\n",
    "- user_id — идентификатор пользователя\n",
    "\n",
    "Таблица tariffs (информация о тарифах):\n",
    "- tariff_name — название тарифа\n",
    "- rub_monthly_fee — ежемесячная абонентская плата в рублях\n",
    "- minutes_included — количество минут разговора в месяц, включённых в абонентскую плату\n",
    "- messages_included — количество сообщений в месяц, включённых в абонентскую плату\n",
    "- mb_per_month_included — объём интернет-трафика, включённого в абонентскую плату (в мегабайтах)\n",
    "- rub_per_minute — стоимость минуты разговора сверх тарифного пакета (например, если в тарифе 100 минут разговора в месяц, то со 101 минуты будет взиматься плата)\n",
    "- rub_per_message — стоимость отправки сообщения сверх тарифного пакета\n",
    "- rub_per_gb — стоимость дополнительного гигабайта интернет-трафика сверх тарифного пакета (1 гигабайт = 1024 мегабайта)"
   ]
  },
  {
   "cell_type": "markdown",
   "metadata": {},
   "source": [
    "# Исследование"
   ]
  },
  {
   "cell_type": "markdown",
   "metadata": {},
   "source": [
    "## Шаг 1. Изучение общей информации"
   ]
  },
  {
   "cell_type": "markdown",
   "metadata": {},
   "source": [
    "Наша задача - изучить имеющиеся данные, понять их взаимосвязи. Имеется пять таблиц, для начала посмотрим на них, возможно, имеет смысл какие-то из таблиц объединить."
   ]
  },
  {
   "cell_type": "code",
   "execution_count": 2,
   "metadata": {},
   "outputs": [],
   "source": [
    "import pandas as pd \n",
    "import numpy as np\n",
    "from IPython.display import display\n",
    "import seaborn as sns\n",
    "import matplotlib.pyplot as plt\n",
    "pd.set_option('display.max_columns', None) "
   ]
  },
  {
   "cell_type": "code",
   "execution_count": 3,
   "metadata": {},
   "outputs": [
    {
     "name": "stdout",
     "output_type": "stream",
     "text": [
      "users\n",
      "\n",
      "(500, 8)\n"
     ]
    },
    {
     "data": {
      "text/html": [
       "<div>\n",
       "<style scoped>\n",
       "    .dataframe tbody tr th:only-of-type {\n",
       "        vertical-align: middle;\n",
       "    }\n",
       "\n",
       "    .dataframe tbody tr th {\n",
       "        vertical-align: top;\n",
       "    }\n",
       "\n",
       "    .dataframe thead th {\n",
       "        text-align: right;\n",
       "    }\n",
       "</style>\n",
       "<table border=\"1\" class=\"dataframe\">\n",
       "  <thead>\n",
       "    <tr style=\"text-align: right;\">\n",
       "      <th></th>\n",
       "      <th>user_id</th>\n",
       "      <th>age</th>\n",
       "      <th>churn_date</th>\n",
       "      <th>city</th>\n",
       "      <th>first_name</th>\n",
       "      <th>last_name</th>\n",
       "      <th>reg_date</th>\n",
       "      <th>tariff</th>\n",
       "    </tr>\n",
       "  </thead>\n",
       "  <tbody>\n",
       "    <tr>\n",
       "      <th>0</th>\n",
       "      <td>1000</td>\n",
       "      <td>52</td>\n",
       "      <td>NaN</td>\n",
       "      <td>Краснодар</td>\n",
       "      <td>Рафаил</td>\n",
       "      <td>Верещагин</td>\n",
       "      <td>2018-05-25</td>\n",
       "      <td>ultra</td>\n",
       "    </tr>\n",
       "    <tr>\n",
       "      <th>1</th>\n",
       "      <td>1001</td>\n",
       "      <td>41</td>\n",
       "      <td>NaN</td>\n",
       "      <td>Москва</td>\n",
       "      <td>Иван</td>\n",
       "      <td>Ежов</td>\n",
       "      <td>2018-11-01</td>\n",
       "      <td>smart</td>\n",
       "    </tr>\n",
       "    <tr>\n",
       "      <th>2</th>\n",
       "      <td>1002</td>\n",
       "      <td>59</td>\n",
       "      <td>NaN</td>\n",
       "      <td>Стерлитамак</td>\n",
       "      <td>Евгений</td>\n",
       "      <td>Абрамович</td>\n",
       "      <td>2018-06-17</td>\n",
       "      <td>smart</td>\n",
       "    </tr>\n",
       "    <tr>\n",
       "      <th>3</th>\n",
       "      <td>1003</td>\n",
       "      <td>23</td>\n",
       "      <td>NaN</td>\n",
       "      <td>Москва</td>\n",
       "      <td>Белла</td>\n",
       "      <td>Белякова</td>\n",
       "      <td>2018-08-17</td>\n",
       "      <td>ultra</td>\n",
       "    </tr>\n",
       "    <tr>\n",
       "      <th>4</th>\n",
       "      <td>1004</td>\n",
       "      <td>68</td>\n",
       "      <td>NaN</td>\n",
       "      <td>Новокузнецк</td>\n",
       "      <td>Татьяна</td>\n",
       "      <td>Авдеенко</td>\n",
       "      <td>2018-05-14</td>\n",
       "      <td>ultra</td>\n",
       "    </tr>\n",
       "  </tbody>\n",
       "</table>\n",
       "</div>"
      ],
      "text/plain": [
       "   user_id  age churn_date         city first_name  last_name    reg_date  \\\n",
       "0     1000   52        NaN    Краснодар     Рафаил  Верещагин  2018-05-25   \n",
       "1     1001   41        NaN       Москва       Иван       Ежов  2018-11-01   \n",
       "2     1002   59        NaN  Стерлитамак    Евгений  Абрамович  2018-06-17   \n",
       "3     1003   23        NaN       Москва      Белла   Белякова  2018-08-17   \n",
       "4     1004   68        NaN  Новокузнецк    Татьяна   Авдеенко  2018-05-14   \n",
       "\n",
       "  tariff  \n",
       "0  ultra  \n",
       "1  smart  \n",
       "2  smart  \n",
       "3  ultra  \n",
       "4  ultra  "
      ]
     },
     "metadata": {},
     "output_type": "display_data"
    },
    {
     "name": "stdout",
     "output_type": "stream",
     "text": [
      "calls\n",
      "\n",
      "(202607, 4)\n"
     ]
    },
    {
     "data": {
      "text/html": [
       "<div>\n",
       "<style scoped>\n",
       "    .dataframe tbody tr th:only-of-type {\n",
       "        vertical-align: middle;\n",
       "    }\n",
       "\n",
       "    .dataframe tbody tr th {\n",
       "        vertical-align: top;\n",
       "    }\n",
       "\n",
       "    .dataframe thead th {\n",
       "        text-align: right;\n",
       "    }\n",
       "</style>\n",
       "<table border=\"1\" class=\"dataframe\">\n",
       "  <thead>\n",
       "    <tr style=\"text-align: right;\">\n",
       "      <th></th>\n",
       "      <th>id</th>\n",
       "      <th>call_date</th>\n",
       "      <th>duration</th>\n",
       "      <th>user_id</th>\n",
       "    </tr>\n",
       "  </thead>\n",
       "  <tbody>\n",
       "    <tr>\n",
       "      <th>0</th>\n",
       "      <td>1000_0</td>\n",
       "      <td>2018-07-25</td>\n",
       "      <td>0.00</td>\n",
       "      <td>1000</td>\n",
       "    </tr>\n",
       "    <tr>\n",
       "      <th>1</th>\n",
       "      <td>1000_1</td>\n",
       "      <td>2018-08-17</td>\n",
       "      <td>0.00</td>\n",
       "      <td>1000</td>\n",
       "    </tr>\n",
       "    <tr>\n",
       "      <th>2</th>\n",
       "      <td>1000_2</td>\n",
       "      <td>2018-06-11</td>\n",
       "      <td>2.85</td>\n",
       "      <td>1000</td>\n",
       "    </tr>\n",
       "    <tr>\n",
       "      <th>3</th>\n",
       "      <td>1000_3</td>\n",
       "      <td>2018-09-21</td>\n",
       "      <td>13.80</td>\n",
       "      <td>1000</td>\n",
       "    </tr>\n",
       "    <tr>\n",
       "      <th>4</th>\n",
       "      <td>1000_4</td>\n",
       "      <td>2018-12-15</td>\n",
       "      <td>5.18</td>\n",
       "      <td>1000</td>\n",
       "    </tr>\n",
       "  </tbody>\n",
       "</table>\n",
       "</div>"
      ],
      "text/plain": [
       "       id   call_date  duration  user_id\n",
       "0  1000_0  2018-07-25      0.00     1000\n",
       "1  1000_1  2018-08-17      0.00     1000\n",
       "2  1000_2  2018-06-11      2.85     1000\n",
       "3  1000_3  2018-09-21     13.80     1000\n",
       "4  1000_4  2018-12-15      5.18     1000"
      ]
     },
     "metadata": {},
     "output_type": "display_data"
    },
    {
     "name": "stdout",
     "output_type": "stream",
     "text": [
      "messages\n",
      "\n",
      "(123036, 3)\n"
     ]
    },
    {
     "data": {
      "text/html": [
       "<div>\n",
       "<style scoped>\n",
       "    .dataframe tbody tr th:only-of-type {\n",
       "        vertical-align: middle;\n",
       "    }\n",
       "\n",
       "    .dataframe tbody tr th {\n",
       "        vertical-align: top;\n",
       "    }\n",
       "\n",
       "    .dataframe thead th {\n",
       "        text-align: right;\n",
       "    }\n",
       "</style>\n",
       "<table border=\"1\" class=\"dataframe\">\n",
       "  <thead>\n",
       "    <tr style=\"text-align: right;\">\n",
       "      <th></th>\n",
       "      <th>id</th>\n",
       "      <th>message_date</th>\n",
       "      <th>user_id</th>\n",
       "    </tr>\n",
       "  </thead>\n",
       "  <tbody>\n",
       "    <tr>\n",
       "      <th>0</th>\n",
       "      <td>1000_0</td>\n",
       "      <td>2018-06-27</td>\n",
       "      <td>1000</td>\n",
       "    </tr>\n",
       "    <tr>\n",
       "      <th>1</th>\n",
       "      <td>1000_1</td>\n",
       "      <td>2018-10-08</td>\n",
       "      <td>1000</td>\n",
       "    </tr>\n",
       "    <tr>\n",
       "      <th>2</th>\n",
       "      <td>1000_2</td>\n",
       "      <td>2018-08-04</td>\n",
       "      <td>1000</td>\n",
       "    </tr>\n",
       "    <tr>\n",
       "      <th>3</th>\n",
       "      <td>1000_3</td>\n",
       "      <td>2018-06-16</td>\n",
       "      <td>1000</td>\n",
       "    </tr>\n",
       "    <tr>\n",
       "      <th>4</th>\n",
       "      <td>1000_4</td>\n",
       "      <td>2018-12-05</td>\n",
       "      <td>1000</td>\n",
       "    </tr>\n",
       "  </tbody>\n",
       "</table>\n",
       "</div>"
      ],
      "text/plain": [
       "       id message_date  user_id\n",
       "0  1000_0   2018-06-27     1000\n",
       "1  1000_1   2018-10-08     1000\n",
       "2  1000_2   2018-08-04     1000\n",
       "3  1000_3   2018-06-16     1000\n",
       "4  1000_4   2018-12-05     1000"
      ]
     },
     "metadata": {},
     "output_type": "display_data"
    },
    {
     "name": "stdout",
     "output_type": "stream",
     "text": [
      "internet\n",
      "\n",
      "(149396, 5)\n"
     ]
    },
    {
     "data": {
      "text/html": [
       "<div>\n",
       "<style scoped>\n",
       "    .dataframe tbody tr th:only-of-type {\n",
       "        vertical-align: middle;\n",
       "    }\n",
       "\n",
       "    .dataframe tbody tr th {\n",
       "        vertical-align: top;\n",
       "    }\n",
       "\n",
       "    .dataframe thead th {\n",
       "        text-align: right;\n",
       "    }\n",
       "</style>\n",
       "<table border=\"1\" class=\"dataframe\">\n",
       "  <thead>\n",
       "    <tr style=\"text-align: right;\">\n",
       "      <th></th>\n",
       "      <th>Unnamed: 0</th>\n",
       "      <th>id</th>\n",
       "      <th>mb_used</th>\n",
       "      <th>session_date</th>\n",
       "      <th>user_id</th>\n",
       "    </tr>\n",
       "  </thead>\n",
       "  <tbody>\n",
       "    <tr>\n",
       "      <th>0</th>\n",
       "      <td>0</td>\n",
       "      <td>1000_0</td>\n",
       "      <td>112.95</td>\n",
       "      <td>2018-11-25</td>\n",
       "      <td>1000</td>\n",
       "    </tr>\n",
       "    <tr>\n",
       "      <th>1</th>\n",
       "      <td>1</td>\n",
       "      <td>1000_1</td>\n",
       "      <td>1052.81</td>\n",
       "      <td>2018-09-07</td>\n",
       "      <td>1000</td>\n",
       "    </tr>\n",
       "    <tr>\n",
       "      <th>2</th>\n",
       "      <td>2</td>\n",
       "      <td>1000_2</td>\n",
       "      <td>1197.26</td>\n",
       "      <td>2018-06-25</td>\n",
       "      <td>1000</td>\n",
       "    </tr>\n",
       "    <tr>\n",
       "      <th>3</th>\n",
       "      <td>3</td>\n",
       "      <td>1000_3</td>\n",
       "      <td>550.27</td>\n",
       "      <td>2018-08-22</td>\n",
       "      <td>1000</td>\n",
       "    </tr>\n",
       "    <tr>\n",
       "      <th>4</th>\n",
       "      <td>4</td>\n",
       "      <td>1000_4</td>\n",
       "      <td>302.56</td>\n",
       "      <td>2018-09-24</td>\n",
       "      <td>1000</td>\n",
       "    </tr>\n",
       "  </tbody>\n",
       "</table>\n",
       "</div>"
      ],
      "text/plain": [
       "   Unnamed: 0      id  mb_used session_date  user_id\n",
       "0           0  1000_0   112.95   2018-11-25     1000\n",
       "1           1  1000_1  1052.81   2018-09-07     1000\n",
       "2           2  1000_2  1197.26   2018-06-25     1000\n",
       "3           3  1000_3   550.27   2018-08-22     1000\n",
       "4           4  1000_4   302.56   2018-09-24     1000"
      ]
     },
     "metadata": {},
     "output_type": "display_data"
    },
    {
     "name": "stdout",
     "output_type": "stream",
     "text": [
      "tariffs\n",
      "\n",
      "(2, 8)\n"
     ]
    },
    {
     "data": {
      "text/html": [
       "<div>\n",
       "<style scoped>\n",
       "    .dataframe tbody tr th:only-of-type {\n",
       "        vertical-align: middle;\n",
       "    }\n",
       "\n",
       "    .dataframe tbody tr th {\n",
       "        vertical-align: top;\n",
       "    }\n",
       "\n",
       "    .dataframe thead th {\n",
       "        text-align: right;\n",
       "    }\n",
       "</style>\n",
       "<table border=\"1\" class=\"dataframe\">\n",
       "  <thead>\n",
       "    <tr style=\"text-align: right;\">\n",
       "      <th></th>\n",
       "      <th>messages_included</th>\n",
       "      <th>mb_per_month_included</th>\n",
       "      <th>minutes_included</th>\n",
       "      <th>rub_monthly_fee</th>\n",
       "      <th>rub_per_gb</th>\n",
       "      <th>rub_per_message</th>\n",
       "      <th>rub_per_minute</th>\n",
       "      <th>tariff_name</th>\n",
       "    </tr>\n",
       "  </thead>\n",
       "  <tbody>\n",
       "    <tr>\n",
       "      <th>0</th>\n",
       "      <td>50</td>\n",
       "      <td>15360</td>\n",
       "      <td>500</td>\n",
       "      <td>550</td>\n",
       "      <td>200</td>\n",
       "      <td>3</td>\n",
       "      <td>3</td>\n",
       "      <td>smart</td>\n",
       "    </tr>\n",
       "    <tr>\n",
       "      <th>1</th>\n",
       "      <td>1000</td>\n",
       "      <td>30720</td>\n",
       "      <td>3000</td>\n",
       "      <td>1950</td>\n",
       "      <td>150</td>\n",
       "      <td>1</td>\n",
       "      <td>1</td>\n",
       "      <td>ultra</td>\n",
       "    </tr>\n",
       "  </tbody>\n",
       "</table>\n",
       "</div>"
      ],
      "text/plain": [
       "   messages_included  mb_per_month_included  minutes_included  \\\n",
       "0                 50                  15360               500   \n",
       "1               1000                  30720              3000   \n",
       "\n",
       "   rub_monthly_fee  rub_per_gb  rub_per_message  rub_per_minute tariff_name  \n",
       "0              550         200                3               3       smart  \n",
       "1             1950         150                1               1       ultra  "
      ]
     },
     "metadata": {},
     "output_type": "display_data"
    }
   ],
   "source": [
    "users = pd.read_csv('/datasets/users.csv')\n",
    "calls = pd.read_csv('/datasets/calls.csv')\n",
    "messages = pd.read_csv('/datasets/messages.csv')\n",
    "internet = pd.read_csv('/datasets/internet.csv')\n",
    "tariffs = pd.read_csv('/datasets/tariffs.csv')\n",
    "\n",
    "data_list = [users, calls, messages, internet, tariffs]\n",
    "data_names = ['users', 'calls', 'messages', 'internet', 'tariffs']\n",
    "for i in range(len(data_list)): \n",
    "    print(data_names[i], end='\\n\\n')\n",
    "    print(data_list[i].shape)\n",
    "    #print(data_list[i].head(10), end='\\n\\n')\n",
    "    display(data_list[i].head())"
   ]
  },
  {
   "cell_type": "markdown",
   "metadata": {},
   "source": [
    "Итак, мы видим, что во-первых, все таблицы разной размерности. Все таблицы, кроме tariffs, объединяет наличие информации о user_id. В дальнейшем удобно сделать сводную таблицу, где будет информация по всем расходам каждого абонента (за рамками абонентской платы). Видим, что в таблице users есть пропуски в столбце churn_date. Эти пропуски означают, что абонент продолжает пользоваться тарифом."
   ]
  },
  {
   "cell_type": "markdown",
   "metadata": {},
   "source": [
    "Посмотрим, есть ли пропущенные данные в таблицах:"
   ]
  },
  {
   "cell_type": "code",
   "execution_count": 4,
   "metadata": {},
   "outputs": [
    {
     "name": "stdout",
     "output_type": "stream",
     "text": [
      "users\n",
      "\n",
      "user_id         0\n",
      "age             0\n",
      "churn_date    462\n",
      "city            0\n",
      "first_name      0\n",
      "last_name       0\n",
      "reg_date        0\n",
      "tariff          0\n",
      "dtype: int64\n",
      "\n",
      "calls\n",
      "\n",
      "id           0\n",
      "call_date    0\n",
      "duration     0\n",
      "user_id      0\n",
      "dtype: int64\n",
      "\n",
      "messages\n",
      "\n",
      "id              0\n",
      "message_date    0\n",
      "user_id         0\n",
      "dtype: int64\n",
      "\n",
      "internet\n",
      "\n",
      "Unnamed: 0      0\n",
      "id              0\n",
      "mb_used         0\n",
      "session_date    0\n",
      "user_id         0\n",
      "dtype: int64\n",
      "\n",
      "tariffs\n",
      "\n",
      "messages_included        0\n",
      "mb_per_month_included    0\n",
      "minutes_included         0\n",
      "rub_monthly_fee          0\n",
      "rub_per_gb               0\n",
      "rub_per_message          0\n",
      "rub_per_minute           0\n",
      "tariff_name              0\n",
      "dtype: int64\n",
      "\n"
     ]
    }
   ],
   "source": [
    "for i in range(len(data_list)): \n",
    "    print(data_names[i], end='\\n\\n')\n",
    "    print(data_list[i].isna().sum(), end='\\n\\n')"
   ]
  },
  {
   "cell_type": "markdown",
   "metadata": {},
   "source": [
    "Видим, что пропущенные данные есть только в таблице users в столбце churn_date. Это пользователи, которые на момент окончания 2018 года оставались пользователями своих тарифов. Данные собраны очень тщательно и не содержат других пропусков!"
   ]
  },
  {
   "cell_type": "markdown",
   "metadata": {},
   "source": [
    "Посмотрим теперь на типы данных в таблицах:"
   ]
  },
  {
   "cell_type": "code",
   "execution_count": 5,
   "metadata": {},
   "outputs": [
    {
     "name": "stdout",
     "output_type": "stream",
     "text": [
      "users\n",
      "\n",
      "<class 'pandas.core.frame.DataFrame'>\n",
      "RangeIndex: 500 entries, 0 to 499\n",
      "Data columns (total 8 columns):\n",
      " #   Column      Non-Null Count  Dtype \n",
      "---  ------      --------------  ----- \n",
      " 0   user_id     500 non-null    int64 \n",
      " 1   age         500 non-null    int64 \n",
      " 2   churn_date  38 non-null     object\n",
      " 3   city        500 non-null    object\n",
      " 4   first_name  500 non-null    object\n",
      " 5   last_name   500 non-null    object\n",
      " 6   reg_date    500 non-null    object\n",
      " 7   tariff      500 non-null    object\n",
      "dtypes: int64(2), object(6)\n",
      "memory usage: 31.4+ KB\n",
      "None\n",
      "\n",
      "calls\n",
      "\n",
      "<class 'pandas.core.frame.DataFrame'>\n",
      "RangeIndex: 202607 entries, 0 to 202606\n",
      "Data columns (total 4 columns):\n",
      " #   Column     Non-Null Count   Dtype  \n",
      "---  ------     --------------   -----  \n",
      " 0   id         202607 non-null  object \n",
      " 1   call_date  202607 non-null  object \n",
      " 2   duration   202607 non-null  float64\n",
      " 3   user_id    202607 non-null  int64  \n",
      "dtypes: float64(1), int64(1), object(2)\n",
      "memory usage: 6.2+ MB\n",
      "None\n",
      "\n",
      "messages\n",
      "\n",
      "<class 'pandas.core.frame.DataFrame'>\n",
      "RangeIndex: 123036 entries, 0 to 123035\n",
      "Data columns (total 3 columns):\n",
      " #   Column        Non-Null Count   Dtype \n",
      "---  ------        --------------   ----- \n",
      " 0   id            123036 non-null  object\n",
      " 1   message_date  123036 non-null  object\n",
      " 2   user_id       123036 non-null  int64 \n",
      "dtypes: int64(1), object(2)\n",
      "memory usage: 2.8+ MB\n",
      "None\n",
      "\n",
      "internet\n",
      "\n",
      "<class 'pandas.core.frame.DataFrame'>\n",
      "RangeIndex: 149396 entries, 0 to 149395\n",
      "Data columns (total 5 columns):\n",
      " #   Column        Non-Null Count   Dtype  \n",
      "---  ------        --------------   -----  \n",
      " 0   Unnamed: 0    149396 non-null  int64  \n",
      " 1   id            149396 non-null  object \n",
      " 2   mb_used       149396 non-null  float64\n",
      " 3   session_date  149396 non-null  object \n",
      " 4   user_id       149396 non-null  int64  \n",
      "dtypes: float64(1), int64(2), object(2)\n",
      "memory usage: 5.7+ MB\n",
      "None\n",
      "\n",
      "tariffs\n",
      "\n",
      "<class 'pandas.core.frame.DataFrame'>\n",
      "RangeIndex: 2 entries, 0 to 1\n",
      "Data columns (total 8 columns):\n",
      " #   Column                 Non-Null Count  Dtype \n",
      "---  ------                 --------------  ----- \n",
      " 0   messages_included      2 non-null      int64 \n",
      " 1   mb_per_month_included  2 non-null      int64 \n",
      " 2   minutes_included       2 non-null      int64 \n",
      " 3   rub_monthly_fee        2 non-null      int64 \n",
      " 4   rub_per_gb             2 non-null      int64 \n",
      " 5   rub_per_message        2 non-null      int64 \n",
      " 6   rub_per_minute         2 non-null      int64 \n",
      " 7   tariff_name            2 non-null      object\n",
      "dtypes: int64(7), object(1)\n",
      "memory usage: 256.0+ bytes\n",
      "None\n",
      "\n"
     ]
    }
   ],
   "source": [
    "for i in range(len(data_list)): \n",
    "    print(data_names[i], end='\\n\\n')\n",
    "    print(data_list[i].info(), end='\\n\\n')"
   ]
  },
  {
   "cell_type": "markdown",
   "metadata": {},
   "source": [
    "В таблице calls столбец duration имеет тип float, хотя мы знаем, что пользователи платят за минуты, т.е. длительность любого разговора будет округлена до минут. В следующем этапе можно произвести округление вверх (данные в столбце указаны в минутах)."
   ]
  },
  {
   "cell_type": "markdown",
   "metadata": {},
   "source": [
    "Проверим, нет ли в таблицах дубликатов:"
   ]
  },
  {
   "cell_type": "code",
   "execution_count": 6,
   "metadata": {},
   "outputs": [
    {
     "name": "stdout",
     "output_type": "stream",
     "text": [
      "users\n",
      "\n",
      "0\n",
      "\n",
      "calls\n",
      "\n",
      "0\n",
      "\n",
      "messages\n",
      "\n",
      "0\n",
      "\n",
      "internet\n",
      "\n",
      "0\n",
      "\n",
      "tariffs\n",
      "\n",
      "0\n",
      "\n"
     ]
    }
   ],
   "source": [
    "for i in range(len(data_list)): \n",
    "    print(data_names[i], end='\\n\\n')\n",
    "    print(data_list[i].duplicated().sum(), end='\\n\\n')"
   ]
  },
  {
   "cell_type": "markdown",
   "metadata": {},
   "source": [
    "Посмотрим, нет ли у нас в таблице users одних и тех же пользователей, которые поменяли тариф (тогда для нас важны данные в столбцах reg_date и reg_date, т.е. момент перехода с одного тарифа на другой):"
   ]
  },
  {
   "cell_type": "code",
   "execution_count": 7,
   "metadata": {},
   "outputs": [
    {
     "data": {
      "text/plain": [
       "Андреенко       5\n",
       "Анищенко        3\n",
       "Соловьев        3\n",
       "Абашкина        3\n",
       "Алексеенко      3\n",
       "               ..\n",
       "Семёнов         1\n",
       "Одинцов         1\n",
       "Горбачева       1\n",
       "Пантелеева      1\n",
       "Красильников    1\n",
       "Name: last_name, Length: 419, dtype: int64"
      ]
     },
     "execution_count": 7,
     "metadata": {},
     "output_type": "execute_result"
    }
   ],
   "source": [
    "users['last_name'].value_counts()"
   ]
  },
  {
   "cell_type": "markdown",
   "metadata": {},
   "source": [
    "Посмотрим на строки для самой популярной фамилии в нашем датасете:"
   ]
  },
  {
   "cell_type": "code",
   "execution_count": 8,
   "metadata": {},
   "outputs": [
    {
     "data": {
      "text/html": [
       "<div>\n",
       "<style scoped>\n",
       "    .dataframe tbody tr th:only-of-type {\n",
       "        vertical-align: middle;\n",
       "    }\n",
       "\n",
       "    .dataframe tbody tr th {\n",
       "        vertical-align: top;\n",
       "    }\n",
       "\n",
       "    .dataframe thead th {\n",
       "        text-align: right;\n",
       "    }\n",
       "</style>\n",
       "<table border=\"1\" class=\"dataframe\">\n",
       "  <thead>\n",
       "    <tr style=\"text-align: right;\">\n",
       "      <th></th>\n",
       "      <th>user_id</th>\n",
       "      <th>age</th>\n",
       "      <th>churn_date</th>\n",
       "      <th>city</th>\n",
       "      <th>first_name</th>\n",
       "      <th>last_name</th>\n",
       "      <th>reg_date</th>\n",
       "      <th>tariff</th>\n",
       "    </tr>\n",
       "  </thead>\n",
       "  <tbody>\n",
       "    <tr>\n",
       "      <th>13</th>\n",
       "      <td>1013</td>\n",
       "      <td>36</td>\n",
       "      <td>NaN</td>\n",
       "      <td>Иваново</td>\n",
       "      <td>Борис</td>\n",
       "      <td>Андреенко</td>\n",
       "      <td>2018-11-14</td>\n",
       "      <td>ultra</td>\n",
       "    </tr>\n",
       "    <tr>\n",
       "      <th>39</th>\n",
       "      <td>1039</td>\n",
       "      <td>40</td>\n",
       "      <td>NaN</td>\n",
       "      <td>Ярославль</td>\n",
       "      <td>Агнесса</td>\n",
       "      <td>Андреенко</td>\n",
       "      <td>2018-06-21</td>\n",
       "      <td>ultra</td>\n",
       "    </tr>\n",
       "    <tr>\n",
       "      <th>88</th>\n",
       "      <td>1088</td>\n",
       "      <td>58</td>\n",
       "      <td>NaN</td>\n",
       "      <td>Казань</td>\n",
       "      <td>Веселина</td>\n",
       "      <td>Андреенко</td>\n",
       "      <td>2018-06-04</td>\n",
       "      <td>smart</td>\n",
       "    </tr>\n",
       "    <tr>\n",
       "      <th>241</th>\n",
       "      <td>1241</td>\n",
       "      <td>71</td>\n",
       "      <td>NaN</td>\n",
       "      <td>Новосибирск</td>\n",
       "      <td>Инна</td>\n",
       "      <td>Андреенко</td>\n",
       "      <td>2018-05-02</td>\n",
       "      <td>smart</td>\n",
       "    </tr>\n",
       "    <tr>\n",
       "      <th>277</th>\n",
       "      <td>1277</td>\n",
       "      <td>30</td>\n",
       "      <td>NaN</td>\n",
       "      <td>Новосибирск</td>\n",
       "      <td>Валерия</td>\n",
       "      <td>Андреенко</td>\n",
       "      <td>2018-02-19</td>\n",
       "      <td>ultra</td>\n",
       "    </tr>\n",
       "  </tbody>\n",
       "</table>\n",
       "</div>"
      ],
      "text/plain": [
       "     user_id  age churn_date         city first_name  last_name    reg_date  \\\n",
       "13      1013   36        NaN      Иваново      Борис  Андреенко  2018-11-14   \n",
       "39      1039   40        NaN    Ярославль    Агнесса  Андреенко  2018-06-21   \n",
       "88      1088   58        NaN       Казань   Веселина  Андреенко  2018-06-04   \n",
       "241     1241   71        NaN  Новосибирск       Инна  Андреенко  2018-05-02   \n",
       "277     1277   30        NaN  Новосибирск    Валерия  Андреенко  2018-02-19   \n",
       "\n",
       "    tariff  \n",
       "13   ultra  \n",
       "39   ultra  \n",
       "88   smart  \n",
       "241  smart  \n",
       "277  ultra  "
      ]
     },
     "execution_count": 8,
     "metadata": {},
     "output_type": "execute_result"
    }
   ],
   "source": [
    "users.query('last_name == \"Андреенко\"')"
   ]
  },
  {
   "cell_type": "markdown",
   "metadata": {},
   "source": [
    "Видим, что это разные люди, из разных городов. Т.е. маловероятно, что среди наших пользователей есть те, кто сменил свой тариф. "
   ]
  },
  {
   "cell_type": "markdown",
   "metadata": {},
   "source": [
    "## Шаг 1. Выводы"
   ]
  },
  {
   "cell_type": "markdown",
   "metadata": {},
   "source": [
    "Данные представляют собой пять таблиц:\n",
    "\n",
    "- таблица users содержит информацию о пользователях (ФИО, город проживания, каким тарифом пользуется и как долго)\n",
    "- таблица calls с информацией о звонках (длительность, дата) каждого пользователя\n",
    "- таблица messages с информацией об отправленных сообщениях каждым пользователем\n",
    "- таблица internet с трафиком пользователей\n",
    "- таблица tariffs состоит из двух строк с описанием деталей тарифа\n",
    "\n",
    "Из таблиц calls, messages и internet мы можем узнать, сколько сообщений отправляют абоненты, сколько звонков совершают, какой объём тарфика используют. Эти данные помогут нам узнать, какой бюджет приносит каждый тариф для компании. В каждый тариф уже входит фиксированное кол-во минут, sms и мб трфика. Значит, наша задача - узнать, сколько денег потратили абоненты, оплачивая абонентскую плату и сколько за дополнительные услуги, сверх своего тарифного плана. \n",
    "\n",
    "В таблице users в столбце churn_date имеем 462 пропущенных значения (из пятисот). Заполнить эти пропуски - задача следующего шага.\n",
    "Мы знаем, что по правилам компании абоненты оплачивают длительность звонков и потраченные мб интернета, округлённые вверх. Т.е. даже поговорив 1 секунду, абонент заплатит как за 1 минуту разговора. В связи с этим, в таблице calls нужно округлить вверх заначения в столбце с продолжительностью разговора (столбец duration), а в таблице internet значения в столбце с трафиком mb_used. В таблицах users, calls, messages и internet есть столбцы с данными о датах, формат которых нужно перевести из object в datetime64."
   ]
  },
  {
   "cell_type": "markdown",
   "metadata": {},
   "source": [
    "## Шаг 2. Подготовка данных"
   ]
  },
  {
   "cell_type": "markdown",
   "metadata": {},
   "source": [
    "В предыдущем шаге были замечены пропуски в таблице users в столбце churn_date. Чтобы пропуски не мешали построению диаграмм и проведению оценок, заменим все пропущенные данные на 2018-12-31. В самом деле, все пользователи с пропусками на момент 2018-12-31 оставались клиентами своего тарифа. Исследование проводится в рамках 2018 года и не исследются причины/момент смены тарифа, поэтому такая замена не окажет никаких последствий в проводимый анализ."
   ]
  },
  {
   "cell_type": "code",
   "execution_count": 9,
   "metadata": {},
   "outputs": [],
   "source": [
    "users['churn_date'] = users['churn_date'].fillna('2018-12-31')"
   ]
  },
  {
   "cell_type": "code",
   "execution_count": 10,
   "metadata": {},
   "outputs": [
    {
     "data": {
      "text/html": [
       "<div>\n",
       "<style scoped>\n",
       "    .dataframe tbody tr th:only-of-type {\n",
       "        vertical-align: middle;\n",
       "    }\n",
       "\n",
       "    .dataframe tbody tr th {\n",
       "        vertical-align: top;\n",
       "    }\n",
       "\n",
       "    .dataframe thead th {\n",
       "        text-align: right;\n",
       "    }\n",
       "</style>\n",
       "<table border=\"1\" class=\"dataframe\">\n",
       "  <thead>\n",
       "    <tr style=\"text-align: right;\">\n",
       "      <th></th>\n",
       "      <th>user_id</th>\n",
       "      <th>age</th>\n",
       "      <th>churn_date</th>\n",
       "      <th>city</th>\n",
       "      <th>first_name</th>\n",
       "      <th>last_name</th>\n",
       "      <th>reg_date</th>\n",
       "      <th>tariff</th>\n",
       "    </tr>\n",
       "  </thead>\n",
       "  <tbody>\n",
       "    <tr>\n",
       "      <th>0</th>\n",
       "      <td>1000</td>\n",
       "      <td>52</td>\n",
       "      <td>2018-12-31</td>\n",
       "      <td>Краснодар</td>\n",
       "      <td>Рафаил</td>\n",
       "      <td>Верещагин</td>\n",
       "      <td>2018-05-25</td>\n",
       "      <td>ultra</td>\n",
       "    </tr>\n",
       "    <tr>\n",
       "      <th>1</th>\n",
       "      <td>1001</td>\n",
       "      <td>41</td>\n",
       "      <td>2018-12-31</td>\n",
       "      <td>Москва</td>\n",
       "      <td>Иван</td>\n",
       "      <td>Ежов</td>\n",
       "      <td>2018-11-01</td>\n",
       "      <td>smart</td>\n",
       "    </tr>\n",
       "    <tr>\n",
       "      <th>2</th>\n",
       "      <td>1002</td>\n",
       "      <td>59</td>\n",
       "      <td>2018-12-31</td>\n",
       "      <td>Стерлитамак</td>\n",
       "      <td>Евгений</td>\n",
       "      <td>Абрамович</td>\n",
       "      <td>2018-06-17</td>\n",
       "      <td>smart</td>\n",
       "    </tr>\n",
       "    <tr>\n",
       "      <th>3</th>\n",
       "      <td>1003</td>\n",
       "      <td>23</td>\n",
       "      <td>2018-12-31</td>\n",
       "      <td>Москва</td>\n",
       "      <td>Белла</td>\n",
       "      <td>Белякова</td>\n",
       "      <td>2018-08-17</td>\n",
       "      <td>ultra</td>\n",
       "    </tr>\n",
       "    <tr>\n",
       "      <th>4</th>\n",
       "      <td>1004</td>\n",
       "      <td>68</td>\n",
       "      <td>2018-12-31</td>\n",
       "      <td>Новокузнецк</td>\n",
       "      <td>Татьяна</td>\n",
       "      <td>Авдеенко</td>\n",
       "      <td>2018-05-14</td>\n",
       "      <td>ultra</td>\n",
       "    </tr>\n",
       "  </tbody>\n",
       "</table>\n",
       "</div>"
      ],
      "text/plain": [
       "   user_id  age  churn_date         city first_name  last_name    reg_date  \\\n",
       "0     1000   52  2018-12-31    Краснодар     Рафаил  Верещагин  2018-05-25   \n",
       "1     1001   41  2018-12-31       Москва       Иван       Ежов  2018-11-01   \n",
       "2     1002   59  2018-12-31  Стерлитамак    Евгений  Абрамович  2018-06-17   \n",
       "3     1003   23  2018-12-31       Москва      Белла   Белякова  2018-08-17   \n",
       "4     1004   68  2018-12-31  Новокузнецк    Татьяна   Авдеенко  2018-05-14   \n",
       "\n",
       "  tariff  \n",
       "0  ultra  \n",
       "1  smart  \n",
       "2  smart  \n",
       "3  ultra  \n",
       "4  ultra  "
      ]
     },
     "execution_count": 10,
     "metadata": {},
     "output_type": "execute_result"
    }
   ],
   "source": [
    "users.head()"
   ]
  },
  {
   "cell_type": "markdown",
   "metadata": {},
   "source": [
    "Видим, что замена произошла успешно."
   ]
  },
  {
   "cell_type": "markdown",
   "metadata": {},
   "source": [
    "Теперь произведём округление длительностей разгоровов пользователей в таблице calls (столбец duration):"
   ]
  },
  {
   "cell_type": "code",
   "execution_count": 11,
   "metadata": {},
   "outputs": [],
   "source": [
    "calls['duration'] = np.ceil(calls['duration']) # округляю вверх\n",
    "calls['duration'] = calls['duration'].astype(int) #перевожу в int"
   ]
  },
  {
   "cell_type": "code",
   "execution_count": 12,
   "metadata": {},
   "outputs": [
    {
     "data": {
      "text/html": [
       "<div>\n",
       "<style scoped>\n",
       "    .dataframe tbody tr th:only-of-type {\n",
       "        vertical-align: middle;\n",
       "    }\n",
       "\n",
       "    .dataframe tbody tr th {\n",
       "        vertical-align: top;\n",
       "    }\n",
       "\n",
       "    .dataframe thead th {\n",
       "        text-align: right;\n",
       "    }\n",
       "</style>\n",
       "<table border=\"1\" class=\"dataframe\">\n",
       "  <thead>\n",
       "    <tr style=\"text-align: right;\">\n",
       "      <th></th>\n",
       "      <th>id</th>\n",
       "      <th>call_date</th>\n",
       "      <th>duration</th>\n",
       "      <th>user_id</th>\n",
       "    </tr>\n",
       "  </thead>\n",
       "  <tbody>\n",
       "    <tr>\n",
       "      <th>0</th>\n",
       "      <td>1000_0</td>\n",
       "      <td>2018-07-25</td>\n",
       "      <td>0</td>\n",
       "      <td>1000</td>\n",
       "    </tr>\n",
       "    <tr>\n",
       "      <th>1</th>\n",
       "      <td>1000_1</td>\n",
       "      <td>2018-08-17</td>\n",
       "      <td>0</td>\n",
       "      <td>1000</td>\n",
       "    </tr>\n",
       "    <tr>\n",
       "      <th>2</th>\n",
       "      <td>1000_2</td>\n",
       "      <td>2018-06-11</td>\n",
       "      <td>3</td>\n",
       "      <td>1000</td>\n",
       "    </tr>\n",
       "    <tr>\n",
       "      <th>3</th>\n",
       "      <td>1000_3</td>\n",
       "      <td>2018-09-21</td>\n",
       "      <td>14</td>\n",
       "      <td>1000</td>\n",
       "    </tr>\n",
       "    <tr>\n",
       "      <th>4</th>\n",
       "      <td>1000_4</td>\n",
       "      <td>2018-12-15</td>\n",
       "      <td>6</td>\n",
       "      <td>1000</td>\n",
       "    </tr>\n",
       "  </tbody>\n",
       "</table>\n",
       "</div>"
      ],
      "text/plain": [
       "       id   call_date  duration  user_id\n",
       "0  1000_0  2018-07-25         0     1000\n",
       "1  1000_1  2018-08-17         0     1000\n",
       "2  1000_2  2018-06-11         3     1000\n",
       "3  1000_3  2018-09-21        14     1000\n",
       "4  1000_4  2018-12-15         6     1000"
      ]
     },
     "execution_count": 12,
     "metadata": {},
     "output_type": "execute_result"
    }
   ],
   "source": [
    "calls.head()"
   ]
  },
  {
   "cell_type": "markdown",
   "metadata": {},
   "source": [
    "Замена прошла успешно, теперь посмотрим, сколько нулевых значений в этом столбце:"
   ]
  },
  {
   "cell_type": "code",
   "execution_count": 13,
   "metadata": {},
   "outputs": [
    {
     "data": {
      "text/plain": [
       "39613"
      ]
     },
     "execution_count": 13,
     "metadata": {},
     "output_type": "execute_result"
    }
   ],
   "source": [
    "calls.query('duration == 0')['id'].count()"
   ]
  },
  {
   "cell_type": "markdown",
   "metadata": {},
   "source": [
    "Мы уже знаем, что в таблице calls 202607 строк, т.е. нулевые значения составляют примерно 24%. Поскольку эти звонки зафиксированы (есть id и дата звонка), то скорее всего, звонок был совершён, но его длительность была столь коротка, что система не смогла её измерить. Тем не менее, с пользователя возьмут оплату как за минуту разговора. Поэтому имеет смысл заменить нули в этом столбце на единицы. Таким образом мы не потеряем 202607 оплаченных минут:"
   ]
  },
  {
   "cell_type": "code",
   "execution_count": 14,
   "metadata": {},
   "outputs": [],
   "source": [
    "calls['duration'] = calls['duration'].replace(0, 1)"
   ]
  },
  {
   "cell_type": "code",
   "execution_count": 15,
   "metadata": {},
   "outputs": [
    {
     "data": {
      "text/html": [
       "<div>\n",
       "<style scoped>\n",
       "    .dataframe tbody tr th:only-of-type {\n",
       "        vertical-align: middle;\n",
       "    }\n",
       "\n",
       "    .dataframe tbody tr th {\n",
       "        vertical-align: top;\n",
       "    }\n",
       "\n",
       "    .dataframe thead th {\n",
       "        text-align: right;\n",
       "    }\n",
       "</style>\n",
       "<table border=\"1\" class=\"dataframe\">\n",
       "  <thead>\n",
       "    <tr style=\"text-align: right;\">\n",
       "      <th></th>\n",
       "      <th>id</th>\n",
       "      <th>call_date</th>\n",
       "      <th>duration</th>\n",
       "      <th>user_id</th>\n",
       "    </tr>\n",
       "  </thead>\n",
       "  <tbody>\n",
       "    <tr>\n",
       "      <th>0</th>\n",
       "      <td>1000_0</td>\n",
       "      <td>2018-07-25</td>\n",
       "      <td>1</td>\n",
       "      <td>1000</td>\n",
       "    </tr>\n",
       "    <tr>\n",
       "      <th>1</th>\n",
       "      <td>1000_1</td>\n",
       "      <td>2018-08-17</td>\n",
       "      <td>1</td>\n",
       "      <td>1000</td>\n",
       "    </tr>\n",
       "    <tr>\n",
       "      <th>2</th>\n",
       "      <td>1000_2</td>\n",
       "      <td>2018-06-11</td>\n",
       "      <td>3</td>\n",
       "      <td>1000</td>\n",
       "    </tr>\n",
       "    <tr>\n",
       "      <th>3</th>\n",
       "      <td>1000_3</td>\n",
       "      <td>2018-09-21</td>\n",
       "      <td>14</td>\n",
       "      <td>1000</td>\n",
       "    </tr>\n",
       "    <tr>\n",
       "      <th>4</th>\n",
       "      <td>1000_4</td>\n",
       "      <td>2018-12-15</td>\n",
       "      <td>6</td>\n",
       "      <td>1000</td>\n",
       "    </tr>\n",
       "  </tbody>\n",
       "</table>\n",
       "</div>"
      ],
      "text/plain": [
       "       id   call_date  duration  user_id\n",
       "0  1000_0  2018-07-25         1     1000\n",
       "1  1000_1  2018-08-17         1     1000\n",
       "2  1000_2  2018-06-11         3     1000\n",
       "3  1000_3  2018-09-21        14     1000\n",
       "4  1000_4  2018-12-15         6     1000"
      ]
     },
     "execution_count": 15,
     "metadata": {},
     "output_type": "execute_result"
    }
   ],
   "source": [
    "calls.head()"
   ]
  },
  {
   "cell_type": "markdown",
   "metadata": {},
   "source": [
    "Повторим то же самое в таблице internet со значениями в столбце с трафиком mb_used:"
   ]
  },
  {
   "cell_type": "code",
   "execution_count": 16,
   "metadata": {},
   "outputs": [],
   "source": [
    "internet['mb_used'] = np.ceil(internet['mb_used']) \n",
    "internet['mb_used'] = internet['mb_used'].astype(int) "
   ]
  },
  {
   "cell_type": "code",
   "execution_count": 17,
   "metadata": {},
   "outputs": [
    {
     "data": {
      "text/html": [
       "<div>\n",
       "<style scoped>\n",
       "    .dataframe tbody tr th:only-of-type {\n",
       "        vertical-align: middle;\n",
       "    }\n",
       "\n",
       "    .dataframe tbody tr th {\n",
       "        vertical-align: top;\n",
       "    }\n",
       "\n",
       "    .dataframe thead th {\n",
       "        text-align: right;\n",
       "    }\n",
       "</style>\n",
       "<table border=\"1\" class=\"dataframe\">\n",
       "  <thead>\n",
       "    <tr style=\"text-align: right;\">\n",
       "      <th></th>\n",
       "      <th>Unnamed: 0</th>\n",
       "      <th>id</th>\n",
       "      <th>mb_used</th>\n",
       "      <th>session_date</th>\n",
       "      <th>user_id</th>\n",
       "    </tr>\n",
       "  </thead>\n",
       "  <tbody>\n",
       "    <tr>\n",
       "      <th>0</th>\n",
       "      <td>0</td>\n",
       "      <td>1000_0</td>\n",
       "      <td>113</td>\n",
       "      <td>2018-11-25</td>\n",
       "      <td>1000</td>\n",
       "    </tr>\n",
       "    <tr>\n",
       "      <th>1</th>\n",
       "      <td>1</td>\n",
       "      <td>1000_1</td>\n",
       "      <td>1053</td>\n",
       "      <td>2018-09-07</td>\n",
       "      <td>1000</td>\n",
       "    </tr>\n",
       "    <tr>\n",
       "      <th>2</th>\n",
       "      <td>2</td>\n",
       "      <td>1000_2</td>\n",
       "      <td>1198</td>\n",
       "      <td>2018-06-25</td>\n",
       "      <td>1000</td>\n",
       "    </tr>\n",
       "    <tr>\n",
       "      <th>3</th>\n",
       "      <td>3</td>\n",
       "      <td>1000_3</td>\n",
       "      <td>551</td>\n",
       "      <td>2018-08-22</td>\n",
       "      <td>1000</td>\n",
       "    </tr>\n",
       "    <tr>\n",
       "      <th>4</th>\n",
       "      <td>4</td>\n",
       "      <td>1000_4</td>\n",
       "      <td>303</td>\n",
       "      <td>2018-09-24</td>\n",
       "      <td>1000</td>\n",
       "    </tr>\n",
       "  </tbody>\n",
       "</table>\n",
       "</div>"
      ],
      "text/plain": [
       "   Unnamed: 0      id  mb_used session_date  user_id\n",
       "0           0  1000_0      113   2018-11-25     1000\n",
       "1           1  1000_1     1053   2018-09-07     1000\n",
       "2           2  1000_2     1198   2018-06-25     1000\n",
       "3           3  1000_3      551   2018-08-22     1000\n",
       "4           4  1000_4      303   2018-09-24     1000"
      ]
     },
     "execution_count": 17,
     "metadata": {},
     "output_type": "execute_result"
    }
   ],
   "source": [
    "internet.head()"
   ]
  },
  {
   "cell_type": "code",
   "execution_count": 18,
   "metadata": {},
   "outputs": [
    {
     "data": {
      "text/plain": [
       "19598"
      ]
     },
     "execution_count": 18,
     "metadata": {},
     "output_type": "execute_result"
    }
   ],
   "source": [
    "internet.query('mb_used == 0')['id'].count()"
   ]
  },
  {
   "cell_type": "markdown",
   "metadata": {},
   "source": [
    "Здесь тоже есть сессии с нулевым трафиком. Поступим с ними по аналогии со звонками (заменим ноль на 1, поскольку абонент вынужден заплатить в любом случае):"
   ]
  },
  {
   "cell_type": "code",
   "execution_count": 19,
   "metadata": {},
   "outputs": [],
   "source": [
    "internet['mb_used'] = internet['mb_used'].replace(0, 1)"
   ]
  },
  {
   "cell_type": "code",
   "execution_count": 20,
   "metadata": {},
   "outputs": [
    {
     "data": {
      "text/plain": [
       "0"
      ]
     },
     "execution_count": 20,
     "metadata": {},
     "output_type": "execute_result"
    }
   ],
   "source": [
    "internet.query('mb_used == 0')['id'].count()"
   ]
  },
  {
   "cell_type": "markdown",
   "metadata": {},
   "source": [
    "Замена произошла успешно. Теперь поработаем со столбцами с датами. Сейчас во всех таблицах столбцы с датами имеют тип object. В принципе, их нужно переделать в формат datetime64, но для дальнейшего анализа нам не нужна сама дата, нужен только месяц, поскольку анализ будет производиться по месяцам. Поэтому добавим к каждой таблице столбец с номером месяца, когда оказывалась услуга:"
   ]
  },
  {
   "cell_type": "code",
   "execution_count": 21,
   "metadata": {},
   "outputs": [],
   "source": [
    "def data_to_month(df, column):\n",
    "    \"\"\"\n",
    "    Функция берёт датафрейм, столбец с датой в формате \"2018-11-25\" и название датафрейма. Переводит столбец в формат datetime64,\n",
    "    добавляет к датафрейму столбец с названием вида \"month_name\", где фигурирует только номер месяца, когда \n",
    "    была оказана услуга. Функция возвращает обновлённый датафрейм.\n",
    "    \"\"\"\n",
    "    df[column] = pd.to_datetime(df[column], format='%Y-%m-%d')\n",
    "    df['month'] = df[column].dt.month\n",
    "    return df"
   ]
  },
  {
   "cell_type": "code",
   "execution_count": 22,
   "metadata": {},
   "outputs": [],
   "source": [
    "calls = data_to_month(calls, 'call_date')"
   ]
  },
  {
   "cell_type": "code",
   "execution_count": 23,
   "metadata": {},
   "outputs": [
    {
     "data": {
      "text/html": [
       "<div>\n",
       "<style scoped>\n",
       "    .dataframe tbody tr th:only-of-type {\n",
       "        vertical-align: middle;\n",
       "    }\n",
       "\n",
       "    .dataframe tbody tr th {\n",
       "        vertical-align: top;\n",
       "    }\n",
       "\n",
       "    .dataframe thead th {\n",
       "        text-align: right;\n",
       "    }\n",
       "</style>\n",
       "<table border=\"1\" class=\"dataframe\">\n",
       "  <thead>\n",
       "    <tr style=\"text-align: right;\">\n",
       "      <th></th>\n",
       "      <th>id</th>\n",
       "      <th>call_date</th>\n",
       "      <th>duration</th>\n",
       "      <th>user_id</th>\n",
       "      <th>month</th>\n",
       "    </tr>\n",
       "  </thead>\n",
       "  <tbody>\n",
       "    <tr>\n",
       "      <th>0</th>\n",
       "      <td>1000_0</td>\n",
       "      <td>2018-07-25</td>\n",
       "      <td>1</td>\n",
       "      <td>1000</td>\n",
       "      <td>7</td>\n",
       "    </tr>\n",
       "    <tr>\n",
       "      <th>1</th>\n",
       "      <td>1000_1</td>\n",
       "      <td>2018-08-17</td>\n",
       "      <td>1</td>\n",
       "      <td>1000</td>\n",
       "      <td>8</td>\n",
       "    </tr>\n",
       "    <tr>\n",
       "      <th>2</th>\n",
       "      <td>1000_2</td>\n",
       "      <td>2018-06-11</td>\n",
       "      <td>3</td>\n",
       "      <td>1000</td>\n",
       "      <td>6</td>\n",
       "    </tr>\n",
       "    <tr>\n",
       "      <th>3</th>\n",
       "      <td>1000_3</td>\n",
       "      <td>2018-09-21</td>\n",
       "      <td>14</td>\n",
       "      <td>1000</td>\n",
       "      <td>9</td>\n",
       "    </tr>\n",
       "    <tr>\n",
       "      <th>4</th>\n",
       "      <td>1000_4</td>\n",
       "      <td>2018-12-15</td>\n",
       "      <td>6</td>\n",
       "      <td>1000</td>\n",
       "      <td>12</td>\n",
       "    </tr>\n",
       "  </tbody>\n",
       "</table>\n",
       "</div>"
      ],
      "text/plain": [
       "       id  call_date  duration  user_id  month\n",
       "0  1000_0 2018-07-25         1     1000      7\n",
       "1  1000_1 2018-08-17         1     1000      8\n",
       "2  1000_2 2018-06-11         3     1000      6\n",
       "3  1000_3 2018-09-21        14     1000      9\n",
       "4  1000_4 2018-12-15         6     1000     12"
      ]
     },
     "execution_count": 23,
     "metadata": {},
     "output_type": "execute_result"
    }
   ],
   "source": [
    "calls.head()"
   ]
  },
  {
   "cell_type": "code",
   "execution_count": 24,
   "metadata": {},
   "outputs": [],
   "source": [
    "internet = data_to_month(internet, 'session_date')"
   ]
  },
  {
   "cell_type": "code",
   "execution_count": 25,
   "metadata": {},
   "outputs": [],
   "source": [
    "messages = data_to_month(messages, 'message_date')"
   ]
  },
  {
   "cell_type": "code",
   "execution_count": 26,
   "metadata": {},
   "outputs": [
    {
     "data": {
      "text/html": [
       "<div>\n",
       "<style scoped>\n",
       "    .dataframe tbody tr th:only-of-type {\n",
       "        vertical-align: middle;\n",
       "    }\n",
       "\n",
       "    .dataframe tbody tr th {\n",
       "        vertical-align: top;\n",
       "    }\n",
       "\n",
       "    .dataframe thead th {\n",
       "        text-align: right;\n",
       "    }\n",
       "</style>\n",
       "<table border=\"1\" class=\"dataframe\">\n",
       "  <thead>\n",
       "    <tr style=\"text-align: right;\">\n",
       "      <th></th>\n",
       "      <th>Unnamed: 0</th>\n",
       "      <th>id</th>\n",
       "      <th>mb_used</th>\n",
       "      <th>session_date</th>\n",
       "      <th>user_id</th>\n",
       "      <th>month</th>\n",
       "    </tr>\n",
       "  </thead>\n",
       "  <tbody>\n",
       "    <tr>\n",
       "      <th>0</th>\n",
       "      <td>0</td>\n",
       "      <td>1000_0</td>\n",
       "      <td>113</td>\n",
       "      <td>2018-11-25</td>\n",
       "      <td>1000</td>\n",
       "      <td>11</td>\n",
       "    </tr>\n",
       "    <tr>\n",
       "      <th>1</th>\n",
       "      <td>1</td>\n",
       "      <td>1000_1</td>\n",
       "      <td>1053</td>\n",
       "      <td>2018-09-07</td>\n",
       "      <td>1000</td>\n",
       "      <td>9</td>\n",
       "    </tr>\n",
       "    <tr>\n",
       "      <th>2</th>\n",
       "      <td>2</td>\n",
       "      <td>1000_2</td>\n",
       "      <td>1198</td>\n",
       "      <td>2018-06-25</td>\n",
       "      <td>1000</td>\n",
       "      <td>6</td>\n",
       "    </tr>\n",
       "    <tr>\n",
       "      <th>3</th>\n",
       "      <td>3</td>\n",
       "      <td>1000_3</td>\n",
       "      <td>551</td>\n",
       "      <td>2018-08-22</td>\n",
       "      <td>1000</td>\n",
       "      <td>8</td>\n",
       "    </tr>\n",
       "    <tr>\n",
       "      <th>4</th>\n",
       "      <td>4</td>\n",
       "      <td>1000_4</td>\n",
       "      <td>303</td>\n",
       "      <td>2018-09-24</td>\n",
       "      <td>1000</td>\n",
       "      <td>9</td>\n",
       "    </tr>\n",
       "  </tbody>\n",
       "</table>\n",
       "</div>"
      ],
      "text/plain": [
       "   Unnamed: 0      id  mb_used session_date  user_id  month\n",
       "0           0  1000_0      113   2018-11-25     1000     11\n",
       "1           1  1000_1     1053   2018-09-07     1000      9\n",
       "2           2  1000_2     1198   2018-06-25     1000      6\n",
       "3           3  1000_3      551   2018-08-22     1000      8\n",
       "4           4  1000_4      303   2018-09-24     1000      9"
      ]
     },
     "execution_count": 26,
     "metadata": {},
     "output_type": "execute_result"
    }
   ],
   "source": [
    "internet.head()"
   ]
  },
  {
   "cell_type": "markdown",
   "metadata": {},
   "source": [
    "Основной задачей этого шага является создание сводной таблицы для предстоящего анализа, а именно нужно посчитать для каждого пользователя:\n",
    "\n",
    "\n",
    "- количество сделанных звонков и израсходованных минут разговора по месяцам;\n",
    "- количество отправленных сообщений по месяцам;\n",
    "- объем израсходованного интернет-трафика по месяцам;\n",
    "- помесячную выручку с каждого пользователя.\n",
    "\n",
    "Начнём с подготвки таблиц для объединения: созадим таблицы, в которых просуммируем расходные единицы (минуты, мб и число смс) по месяцам. Затем объединим эти таблицы по user_id и месяцам."
   ]
  },
  {
   "cell_type": "code",
   "execution_count": 27,
   "metadata": {},
   "outputs": [],
   "source": [
    "calls_grouped = (calls.pivot_table(index=['user_id','month'],\n",
    "                             aggfunc = {'duration': ['sum', 'count']}).reset_index()\n",
    ")"
   ]
  },
  {
   "cell_type": "code",
   "execution_count": 28,
   "metadata": {},
   "outputs": [
    {
     "data": {
      "text/html": [
       "<div>\n",
       "<style scoped>\n",
       "    .dataframe tbody tr th:only-of-type {\n",
       "        vertical-align: middle;\n",
       "    }\n",
       "\n",
       "    .dataframe tbody tr th {\n",
       "        vertical-align: top;\n",
       "    }\n",
       "\n",
       "    .dataframe thead tr th {\n",
       "        text-align: left;\n",
       "    }\n",
       "</style>\n",
       "<table border=\"1\" class=\"dataframe\">\n",
       "  <thead>\n",
       "    <tr>\n",
       "      <th></th>\n",
       "      <th>user_id</th>\n",
       "      <th>month</th>\n",
       "      <th colspan=\"2\" halign=\"left\">duration</th>\n",
       "    </tr>\n",
       "    <tr>\n",
       "      <th></th>\n",
       "      <th></th>\n",
       "      <th></th>\n",
       "      <th>count</th>\n",
       "      <th>sum</th>\n",
       "    </tr>\n",
       "  </thead>\n",
       "  <tbody>\n",
       "    <tr>\n",
       "      <th>0</th>\n",
       "      <td>1000</td>\n",
       "      <td>5</td>\n",
       "      <td>22</td>\n",
       "      <td>164</td>\n",
       "    </tr>\n",
       "    <tr>\n",
       "      <th>1</th>\n",
       "      <td>1000</td>\n",
       "      <td>6</td>\n",
       "      <td>43</td>\n",
       "      <td>187</td>\n",
       "    </tr>\n",
       "    <tr>\n",
       "      <th>2</th>\n",
       "      <td>1000</td>\n",
       "      <td>7</td>\n",
       "      <td>47</td>\n",
       "      <td>346</td>\n",
       "    </tr>\n",
       "    <tr>\n",
       "      <th>3</th>\n",
       "      <td>1000</td>\n",
       "      <td>8</td>\n",
       "      <td>52</td>\n",
       "      <td>418</td>\n",
       "    </tr>\n",
       "    <tr>\n",
       "      <th>4</th>\n",
       "      <td>1000</td>\n",
       "      <td>9</td>\n",
       "      <td>58</td>\n",
       "      <td>478</td>\n",
       "    </tr>\n",
       "    <tr>\n",
       "      <th>5</th>\n",
       "      <td>1000</td>\n",
       "      <td>10</td>\n",
       "      <td>57</td>\n",
       "      <td>363</td>\n",
       "    </tr>\n",
       "    <tr>\n",
       "      <th>6</th>\n",
       "      <td>1000</td>\n",
       "      <td>11</td>\n",
       "      <td>43</td>\n",
       "      <td>344</td>\n",
       "    </tr>\n",
       "    <tr>\n",
       "      <th>7</th>\n",
       "      <td>1000</td>\n",
       "      <td>12</td>\n",
       "      <td>46</td>\n",
       "      <td>341</td>\n",
       "    </tr>\n",
       "    <tr>\n",
       "      <th>8</th>\n",
       "      <td>1001</td>\n",
       "      <td>11</td>\n",
       "      <td>59</td>\n",
       "      <td>444</td>\n",
       "    </tr>\n",
       "    <tr>\n",
       "      <th>9</th>\n",
       "      <td>1001</td>\n",
       "      <td>12</td>\n",
       "      <td>63</td>\n",
       "      <td>430</td>\n",
       "    </tr>\n",
       "    <tr>\n",
       "      <th>10</th>\n",
       "      <td>1002</td>\n",
       "      <td>6</td>\n",
       "      <td>15</td>\n",
       "      <td>118</td>\n",
       "    </tr>\n",
       "    <tr>\n",
       "      <th>11</th>\n",
       "      <td>1002</td>\n",
       "      <td>7</td>\n",
       "      <td>26</td>\n",
       "      <td>219</td>\n",
       "    </tr>\n",
       "    <tr>\n",
       "      <th>12</th>\n",
       "      <td>1002</td>\n",
       "      <td>8</td>\n",
       "      <td>42</td>\n",
       "      <td>294</td>\n",
       "    </tr>\n",
       "    <tr>\n",
       "      <th>13</th>\n",
       "      <td>1002</td>\n",
       "      <td>9</td>\n",
       "      <td>36</td>\n",
       "      <td>217</td>\n",
       "    </tr>\n",
       "    <tr>\n",
       "      <th>14</th>\n",
       "      <td>1002</td>\n",
       "      <td>10</td>\n",
       "      <td>33</td>\n",
       "      <td>221</td>\n",
       "    </tr>\n",
       "  </tbody>\n",
       "</table>\n",
       "</div>"
      ],
      "text/plain": [
       "   user_id month duration     \n",
       "                    count  sum\n",
       "0     1000     5       22  164\n",
       "1     1000     6       43  187\n",
       "2     1000     7       47  346\n",
       "3     1000     8       52  418\n",
       "4     1000     9       58  478\n",
       "5     1000    10       57  363\n",
       "6     1000    11       43  344\n",
       "7     1000    12       46  341\n",
       "8     1001    11       59  444\n",
       "9     1001    12       63  430\n",
       "10    1002     6       15  118\n",
       "11    1002     7       26  219\n",
       "12    1002     8       42  294\n",
       "13    1002     9       36  217\n",
       "14    1002    10       33  221"
      ]
     },
     "execution_count": 28,
     "metadata": {},
     "output_type": "execute_result"
    }
   ],
   "source": [
    "calls_grouped.head(15)"
   ]
  },
  {
   "cell_type": "code",
   "execution_count": 29,
   "metadata": {},
   "outputs": [],
   "source": [
    "internet_grouped = (internet.pivot_table(index=['user_id','month'],\n",
    "                             aggfunc = {'mb_used': ['sum']}).reset_index()\n",
    ")"
   ]
  },
  {
   "cell_type": "code",
   "execution_count": 30,
   "metadata": {},
   "outputs": [
    {
     "data": {
      "text/html": [
       "<div>\n",
       "<style scoped>\n",
       "    .dataframe tbody tr th:only-of-type {\n",
       "        vertical-align: middle;\n",
       "    }\n",
       "\n",
       "    .dataframe tbody tr th {\n",
       "        vertical-align: top;\n",
       "    }\n",
       "\n",
       "    .dataframe thead tr th {\n",
       "        text-align: left;\n",
       "    }\n",
       "</style>\n",
       "<table border=\"1\" class=\"dataframe\">\n",
       "  <thead>\n",
       "    <tr>\n",
       "      <th></th>\n",
       "      <th>user_id</th>\n",
       "      <th>month</th>\n",
       "      <th>mb_used</th>\n",
       "    </tr>\n",
       "    <tr>\n",
       "      <th></th>\n",
       "      <th></th>\n",
       "      <th></th>\n",
       "      <th>sum</th>\n",
       "    </tr>\n",
       "  </thead>\n",
       "  <tbody>\n",
       "    <tr>\n",
       "      <th>0</th>\n",
       "      <td>1000</td>\n",
       "      <td>5</td>\n",
       "      <td>2257</td>\n",
       "    </tr>\n",
       "    <tr>\n",
       "      <th>1</th>\n",
       "      <td>1000</td>\n",
       "      <td>6</td>\n",
       "      <td>23262</td>\n",
       "    </tr>\n",
       "    <tr>\n",
       "      <th>2</th>\n",
       "      <td>1000</td>\n",
       "      <td>7</td>\n",
       "      <td>14017</td>\n",
       "    </tr>\n",
       "    <tr>\n",
       "      <th>3</th>\n",
       "      <td>1000</td>\n",
       "      <td>8</td>\n",
       "      <td>14072</td>\n",
       "    </tr>\n",
       "    <tr>\n",
       "      <th>4</th>\n",
       "      <td>1000</td>\n",
       "      <td>9</td>\n",
       "      <td>14583</td>\n",
       "    </tr>\n",
       "  </tbody>\n",
       "</table>\n",
       "</div>"
      ],
      "text/plain": [
       "  user_id month mb_used\n",
       "                    sum\n",
       "0    1000     5    2257\n",
       "1    1000     6   23262\n",
       "2    1000     7   14017\n",
       "3    1000     8   14072\n",
       "4    1000     9   14583"
      ]
     },
     "execution_count": 30,
     "metadata": {},
     "output_type": "execute_result"
    }
   ],
   "source": [
    "internet_grouped.head()"
   ]
  },
  {
   "cell_type": "code",
   "execution_count": 31,
   "metadata": {},
   "outputs": [],
   "source": [
    "messages_grouped = (messages.pivot_table(index=['user_id','month'],\n",
    "                             aggfunc = {'id': ['count']}).reset_index()\n",
    ")"
   ]
  },
  {
   "cell_type": "code",
   "execution_count": 32,
   "metadata": {},
   "outputs": [
    {
     "data": {
      "text/html": [
       "<div>\n",
       "<style scoped>\n",
       "    .dataframe tbody tr th:only-of-type {\n",
       "        vertical-align: middle;\n",
       "    }\n",
       "\n",
       "    .dataframe tbody tr th {\n",
       "        vertical-align: top;\n",
       "    }\n",
       "\n",
       "    .dataframe thead tr th {\n",
       "        text-align: left;\n",
       "    }\n",
       "</style>\n",
       "<table border=\"1\" class=\"dataframe\">\n",
       "  <thead>\n",
       "    <tr>\n",
       "      <th></th>\n",
       "      <th>user_id</th>\n",
       "      <th>month</th>\n",
       "      <th>id</th>\n",
       "    </tr>\n",
       "    <tr>\n",
       "      <th></th>\n",
       "      <th></th>\n",
       "      <th></th>\n",
       "      <th>count</th>\n",
       "    </tr>\n",
       "  </thead>\n",
       "  <tbody>\n",
       "    <tr>\n",
       "      <th>0</th>\n",
       "      <td>1000</td>\n",
       "      <td>5</td>\n",
       "      <td>22</td>\n",
       "    </tr>\n",
       "    <tr>\n",
       "      <th>1</th>\n",
       "      <td>1000</td>\n",
       "      <td>6</td>\n",
       "      <td>60</td>\n",
       "    </tr>\n",
       "    <tr>\n",
       "      <th>2</th>\n",
       "      <td>1000</td>\n",
       "      <td>7</td>\n",
       "      <td>75</td>\n",
       "    </tr>\n",
       "    <tr>\n",
       "      <th>3</th>\n",
       "      <td>1000</td>\n",
       "      <td>8</td>\n",
       "      <td>81</td>\n",
       "    </tr>\n",
       "    <tr>\n",
       "      <th>4</th>\n",
       "      <td>1000</td>\n",
       "      <td>9</td>\n",
       "      <td>57</td>\n",
       "    </tr>\n",
       "  </tbody>\n",
       "</table>\n",
       "</div>"
      ],
      "text/plain": [
       "  user_id month    id\n",
       "                count\n",
       "0    1000     5    22\n",
       "1    1000     6    60\n",
       "2    1000     7    75\n",
       "3    1000     8    81\n",
       "4    1000     9    57"
      ]
     },
     "execution_count": 32,
     "metadata": {},
     "output_type": "execute_result"
    }
   ],
   "source": [
    "messages_grouped.head()"
   ]
  },
  {
   "cell_type": "code",
   "execution_count": 33,
   "metadata": {},
   "outputs": [
    {
     "name": "stderr",
     "output_type": "stream",
     "text": [
      "/usr/local/lib/python3.7/site-packages/pandas/core/generic.py:3936: PerformanceWarning: dropping on a non-lexsorted multi-index without a level parameter may impact performance.\n",
      "  obj = obj._drop_axis(labels, axis, level=level, errors=errors)\n"
     ]
    }
   ],
   "source": [
    "users_income = pd.merge(calls_grouped, internet_grouped, on = ['user_id', 'month'])\n",
    "users_income = pd.merge(users_income, messages_grouped, on = ['user_id', 'month'])"
   ]
  },
  {
   "cell_type": "code",
   "execution_count": 34,
   "metadata": {},
   "outputs": [
    {
     "data": {
      "text/html": [
       "<div>\n",
       "<style scoped>\n",
       "    .dataframe tbody tr th:only-of-type {\n",
       "        vertical-align: middle;\n",
       "    }\n",
       "\n",
       "    .dataframe tbody tr th {\n",
       "        vertical-align: top;\n",
       "    }\n",
       "\n",
       "    .dataframe thead tr th {\n",
       "        text-align: left;\n",
       "    }\n",
       "</style>\n",
       "<table border=\"1\" class=\"dataframe\">\n",
       "  <thead>\n",
       "    <tr>\n",
       "      <th></th>\n",
       "      <th>user_id</th>\n",
       "      <th>month</th>\n",
       "      <th colspan=\"2\" halign=\"left\">duration</th>\n",
       "      <th>mb_used</th>\n",
       "      <th>id</th>\n",
       "    </tr>\n",
       "    <tr>\n",
       "      <th></th>\n",
       "      <th></th>\n",
       "      <th></th>\n",
       "      <th>count</th>\n",
       "      <th>sum</th>\n",
       "      <th>sum</th>\n",
       "      <th>count</th>\n",
       "    </tr>\n",
       "  </thead>\n",
       "  <tbody>\n",
       "    <tr>\n",
       "      <th>0</th>\n",
       "      <td>1000</td>\n",
       "      <td>5</td>\n",
       "      <td>22</td>\n",
       "      <td>164</td>\n",
       "      <td>2257</td>\n",
       "      <td>22</td>\n",
       "    </tr>\n",
       "    <tr>\n",
       "      <th>1</th>\n",
       "      <td>1000</td>\n",
       "      <td>6</td>\n",
       "      <td>43</td>\n",
       "      <td>187</td>\n",
       "      <td>23262</td>\n",
       "      <td>60</td>\n",
       "    </tr>\n",
       "    <tr>\n",
       "      <th>2</th>\n",
       "      <td>1000</td>\n",
       "      <td>7</td>\n",
       "      <td>47</td>\n",
       "      <td>346</td>\n",
       "      <td>14017</td>\n",
       "      <td>75</td>\n",
       "    </tr>\n",
       "    <tr>\n",
       "      <th>3</th>\n",
       "      <td>1000</td>\n",
       "      <td>8</td>\n",
       "      <td>52</td>\n",
       "      <td>418</td>\n",
       "      <td>14072</td>\n",
       "      <td>81</td>\n",
       "    </tr>\n",
       "    <tr>\n",
       "      <th>4</th>\n",
       "      <td>1000</td>\n",
       "      <td>9</td>\n",
       "      <td>58</td>\n",
       "      <td>478</td>\n",
       "      <td>14583</td>\n",
       "      <td>57</td>\n",
       "    </tr>\n",
       "  </tbody>\n",
       "</table>\n",
       "</div>"
      ],
      "text/plain": [
       "  user_id month duration      mb_used    id\n",
       "                   count  sum     sum count\n",
       "0    1000     5       22  164    2257    22\n",
       "1    1000     6       43  187   23262    60\n",
       "2    1000     7       47  346   14017    75\n",
       "3    1000     8       52  418   14072    81\n",
       "4    1000     9       58  478   14583    57"
      ]
     },
     "execution_count": 34,
     "metadata": {},
     "output_type": "execute_result"
    }
   ],
   "source": [
    "users_income.head()"
   ]
  },
  {
   "cell_type": "markdown",
   "metadata": {},
   "source": [
    "Переименую столбцы таблицы для удобства: количество звонков в течении месяца в \"calls\", их суммарную продолжительность в \"duration\", количество отправленных смс в \"sms\"."
   ]
  },
  {
   "cell_type": "code",
   "execution_count": 35,
   "metadata": {},
   "outputs": [
    {
     "data": {
      "text/html": [
       "<div>\n",
       "<style scoped>\n",
       "    .dataframe tbody tr th:only-of-type {\n",
       "        vertical-align: middle;\n",
       "    }\n",
       "\n",
       "    .dataframe tbody tr th {\n",
       "        vertical-align: top;\n",
       "    }\n",
       "\n",
       "    .dataframe thead th {\n",
       "        text-align: right;\n",
       "    }\n",
       "</style>\n",
       "<table border=\"1\" class=\"dataframe\">\n",
       "  <thead>\n",
       "    <tr style=\"text-align: right;\">\n",
       "      <th></th>\n",
       "      <th>user_id</th>\n",
       "      <th>month</th>\n",
       "      <th>calls</th>\n",
       "      <th>duration</th>\n",
       "      <th>mb_used</th>\n",
       "      <th>sms</th>\n",
       "    </tr>\n",
       "  </thead>\n",
       "  <tbody>\n",
       "    <tr>\n",
       "      <th>0</th>\n",
       "      <td>1000</td>\n",
       "      <td>5</td>\n",
       "      <td>22</td>\n",
       "      <td>164</td>\n",
       "      <td>2257</td>\n",
       "      <td>22</td>\n",
       "    </tr>\n",
       "    <tr>\n",
       "      <th>1</th>\n",
       "      <td>1000</td>\n",
       "      <td>6</td>\n",
       "      <td>43</td>\n",
       "      <td>187</td>\n",
       "      <td>23262</td>\n",
       "      <td>60</td>\n",
       "    </tr>\n",
       "    <tr>\n",
       "      <th>2</th>\n",
       "      <td>1000</td>\n",
       "      <td>7</td>\n",
       "      <td>47</td>\n",
       "      <td>346</td>\n",
       "      <td>14017</td>\n",
       "      <td>75</td>\n",
       "    </tr>\n",
       "    <tr>\n",
       "      <th>3</th>\n",
       "      <td>1000</td>\n",
       "      <td>8</td>\n",
       "      <td>52</td>\n",
       "      <td>418</td>\n",
       "      <td>14072</td>\n",
       "      <td>81</td>\n",
       "    </tr>\n",
       "    <tr>\n",
       "      <th>4</th>\n",
       "      <td>1000</td>\n",
       "      <td>9</td>\n",
       "      <td>58</td>\n",
       "      <td>478</td>\n",
       "      <td>14583</td>\n",
       "      <td>57</td>\n",
       "    </tr>\n",
       "  </tbody>\n",
       "</table>\n",
       "</div>"
      ],
      "text/plain": [
       "   user_id  month  calls  duration  mb_used  sms\n",
       "0     1000      5     22       164     2257   22\n",
       "1     1000      6     43       187    23262   60\n",
       "2     1000      7     47       346    14017   75\n",
       "3     1000      8     52       418    14072   81\n",
       "4     1000      9     58       478    14583   57"
      ]
     },
     "execution_count": 35,
     "metadata": {},
     "output_type": "execute_result"
    }
   ],
   "source": [
    "users_income.set_axis(['user_id','month', 'calls', 'duration', 'mb_used', 'sms'],axis='columns',inplace=True)\n",
    "users_income.head()"
   ]
  },
  {
   "cell_type": "markdown",
   "metadata": {},
   "source": [
    "Осталось подсчитать помясячную выручку с каждого пользователя. Для этого добавим в сводную таблицу users_costs информацию о тарифе каждого пользователя:"
   ]
  },
  {
   "cell_type": "code",
   "execution_count": 36,
   "metadata": {},
   "outputs": [
    {
     "data": {
      "text/html": [
       "<div>\n",
       "<style scoped>\n",
       "    .dataframe tbody tr th:only-of-type {\n",
       "        vertical-align: middle;\n",
       "    }\n",
       "\n",
       "    .dataframe tbody tr th {\n",
       "        vertical-align: top;\n",
       "    }\n",
       "\n",
       "    .dataframe thead th {\n",
       "        text-align: right;\n",
       "    }\n",
       "</style>\n",
       "<table border=\"1\" class=\"dataframe\">\n",
       "  <thead>\n",
       "    <tr style=\"text-align: right;\">\n",
       "      <th></th>\n",
       "      <th>user_id</th>\n",
       "      <th>month</th>\n",
       "      <th>calls</th>\n",
       "      <th>duration</th>\n",
       "      <th>mb_used</th>\n",
       "      <th>sms</th>\n",
       "      <th>tariff</th>\n",
       "    </tr>\n",
       "  </thead>\n",
       "  <tbody>\n",
       "    <tr>\n",
       "      <th>0</th>\n",
       "      <td>1000</td>\n",
       "      <td>5</td>\n",
       "      <td>22</td>\n",
       "      <td>164</td>\n",
       "      <td>2257</td>\n",
       "      <td>22</td>\n",
       "      <td>ultra</td>\n",
       "    </tr>\n",
       "    <tr>\n",
       "      <th>1</th>\n",
       "      <td>1000</td>\n",
       "      <td>6</td>\n",
       "      <td>43</td>\n",
       "      <td>187</td>\n",
       "      <td>23262</td>\n",
       "      <td>60</td>\n",
       "      <td>ultra</td>\n",
       "    </tr>\n",
       "    <tr>\n",
       "      <th>2</th>\n",
       "      <td>1000</td>\n",
       "      <td>7</td>\n",
       "      <td>47</td>\n",
       "      <td>346</td>\n",
       "      <td>14017</td>\n",
       "      <td>75</td>\n",
       "      <td>ultra</td>\n",
       "    </tr>\n",
       "    <tr>\n",
       "      <th>3</th>\n",
       "      <td>1000</td>\n",
       "      <td>8</td>\n",
       "      <td>52</td>\n",
       "      <td>418</td>\n",
       "      <td>14072</td>\n",
       "      <td>81</td>\n",
       "      <td>ultra</td>\n",
       "    </tr>\n",
       "    <tr>\n",
       "      <th>4</th>\n",
       "      <td>1000</td>\n",
       "      <td>9</td>\n",
       "      <td>58</td>\n",
       "      <td>478</td>\n",
       "      <td>14583</td>\n",
       "      <td>57</td>\n",
       "      <td>ultra</td>\n",
       "    </tr>\n",
       "    <tr>\n",
       "      <th>5</th>\n",
       "      <td>1000</td>\n",
       "      <td>10</td>\n",
       "      <td>57</td>\n",
       "      <td>363</td>\n",
       "      <td>14717</td>\n",
       "      <td>73</td>\n",
       "      <td>ultra</td>\n",
       "    </tr>\n",
       "    <tr>\n",
       "      <th>6</th>\n",
       "      <td>1000</td>\n",
       "      <td>11</td>\n",
       "      <td>43</td>\n",
       "      <td>344</td>\n",
       "      <td>14769</td>\n",
       "      <td>58</td>\n",
       "      <td>ultra</td>\n",
       "    </tr>\n",
       "    <tr>\n",
       "      <th>7</th>\n",
       "      <td>1000</td>\n",
       "      <td>12</td>\n",
       "      <td>46</td>\n",
       "      <td>341</td>\n",
       "      <td>9829</td>\n",
       "      <td>70</td>\n",
       "      <td>ultra</td>\n",
       "    </tr>\n",
       "    <tr>\n",
       "      <th>8</th>\n",
       "      <td>1002</td>\n",
       "      <td>6</td>\n",
       "      <td>15</td>\n",
       "      <td>118</td>\n",
       "      <td>10878</td>\n",
       "      <td>4</td>\n",
       "      <td>smart</td>\n",
       "    </tr>\n",
       "    <tr>\n",
       "      <th>9</th>\n",
       "      <td>1002</td>\n",
       "      <td>7</td>\n",
       "      <td>26</td>\n",
       "      <td>219</td>\n",
       "      <td>17615</td>\n",
       "      <td>11</td>\n",
       "      <td>smart</td>\n",
       "    </tr>\n",
       "    <tr>\n",
       "      <th>10</th>\n",
       "      <td>1002</td>\n",
       "      <td>8</td>\n",
       "      <td>42</td>\n",
       "      <td>294</td>\n",
       "      <td>20357</td>\n",
       "      <td>13</td>\n",
       "      <td>smart</td>\n",
       "    </tr>\n",
       "    <tr>\n",
       "      <th>11</th>\n",
       "      <td>1002</td>\n",
       "      <td>9</td>\n",
       "      <td>36</td>\n",
       "      <td>217</td>\n",
       "      <td>16724</td>\n",
       "      <td>4</td>\n",
       "      <td>smart</td>\n",
       "    </tr>\n",
       "  </tbody>\n",
       "</table>\n",
       "</div>"
      ],
      "text/plain": [
       "    user_id  month  calls  duration  mb_used  sms tariff\n",
       "0      1000      5     22       164     2257   22  ultra\n",
       "1      1000      6     43       187    23262   60  ultra\n",
       "2      1000      7     47       346    14017   75  ultra\n",
       "3      1000      8     52       418    14072   81  ultra\n",
       "4      1000      9     58       478    14583   57  ultra\n",
       "5      1000     10     57       363    14717   73  ultra\n",
       "6      1000     11     43       344    14769   58  ultra\n",
       "7      1000     12     46       341     9829   70  ultra\n",
       "8      1002      6     15       118    10878    4  smart\n",
       "9      1002      7     26       219    17615   11  smart\n",
       "10     1002      8     42       294    20357   13  smart\n",
       "11     1002      9     36       217    16724    4  smart"
      ]
     },
     "execution_count": 36,
     "metadata": {},
     "output_type": "execute_result"
    }
   ],
   "source": [
    "users_cut = users[['user_id', 'tariff']]\n",
    "users_income = pd.merge(users_income, users_cut, on = ['user_id'])\n",
    "users_income.head(12)"
   ]
  },
  {
   "cell_type": "markdown",
   "metadata": {},
   "source": [
    "Теперь нужно подсчитать, какую выручку принёс компании каждый клиент, напишем для этого функцию:"
   ]
  },
  {
   "cell_type": "code",
   "execution_count": 37,
   "metadata": {},
   "outputs": [],
   "source": [
    "def users_costs_calculation(row):\n",
    "    \"\"\"\n",
    "    Функция принимает строку датафрейма и считает расходы абонента в месяц \"costs\", для этого:\n",
    "    вычитается бесплатный лимит из суммарного количества звонков, сообщений и интернет-трафика; \n",
    "    остаток умножается на значение из тарифного плана; \n",
    "    прибавляется абонентская плата, соответствующую тарифному плану.\n",
    "    Для сравнения перерасходов с нулём берём максимум из нуля и разницы потраченных минут, например, минус их кол-во, входящее в \n",
    "    абонентскую плату. Если разница отрицательная, то ноль, соответственно, больше.\n",
    "    В тарифе указана стоимость трафика за 1 Гб, значит, надо поделить её на 1024 (в таблице users_income подсчитан трафик в мб).\n",
    "    Финальные расходы округляются до рублей, округление вверх.\n",
    "    \"\"\"\n",
    "    #tariff = row['tariff']\n",
    "    \n",
    "    row_tariff = tariffs[tariffs['tariff_name'] == row['tariff']].iloc[0]\n",
    "    #row_tariff = tariffs.query('tariff_name == tariff')\n",
    "    minutes_additional = max(row['duration'] - row_tariff['minutes_included'], 0)\n",
    "    sms_additional = max(row['sms'] - row_tariff['messages_included'], 0)\n",
    "    gb_additional = max(row['mb_used'] - row_tariff['mb_per_month_included'], 0) / 1024\n",
    "    \n",
    "    costs = (row_tariff['rub_monthly_fee'] + \n",
    "                    row_tariff['rub_per_minute'] * minutes_additional +\n",
    "                    row_tariff['rub_per_message'] * sms_additional +\n",
    "                    row_tariff['rub_per_gb'] * gb_additional\n",
    "                   )\n",
    "    income = int(np.ceil(costs))\n",
    "    return income"
   ]
  },
  {
   "cell_type": "code",
   "execution_count": 38,
   "metadata": {},
   "outputs": [
    {
     "data": {
      "text/html": [
       "<div>\n",
       "<style scoped>\n",
       "    .dataframe tbody tr th:only-of-type {\n",
       "        vertical-align: middle;\n",
       "    }\n",
       "\n",
       "    .dataframe tbody tr th {\n",
       "        vertical-align: top;\n",
       "    }\n",
       "\n",
       "    .dataframe thead th {\n",
       "        text-align: right;\n",
       "    }\n",
       "</style>\n",
       "<table border=\"1\" class=\"dataframe\">\n",
       "  <thead>\n",
       "    <tr style=\"text-align: right;\">\n",
       "      <th></th>\n",
       "      <th>user_id</th>\n",
       "      <th>month</th>\n",
       "      <th>calls</th>\n",
       "      <th>duration</th>\n",
       "      <th>mb_used</th>\n",
       "      <th>sms</th>\n",
       "      <th>tariff</th>\n",
       "      <th>income</th>\n",
       "    </tr>\n",
       "  </thead>\n",
       "  <tbody>\n",
       "    <tr>\n",
       "      <th>0</th>\n",
       "      <td>1000</td>\n",
       "      <td>5</td>\n",
       "      <td>22</td>\n",
       "      <td>164</td>\n",
       "      <td>2257</td>\n",
       "      <td>22</td>\n",
       "      <td>ultra</td>\n",
       "      <td>1950</td>\n",
       "    </tr>\n",
       "    <tr>\n",
       "      <th>1</th>\n",
       "      <td>1000</td>\n",
       "      <td>6</td>\n",
       "      <td>43</td>\n",
       "      <td>187</td>\n",
       "      <td>23262</td>\n",
       "      <td>60</td>\n",
       "      <td>ultra</td>\n",
       "      <td>1950</td>\n",
       "    </tr>\n",
       "    <tr>\n",
       "      <th>2</th>\n",
       "      <td>1000</td>\n",
       "      <td>7</td>\n",
       "      <td>47</td>\n",
       "      <td>346</td>\n",
       "      <td>14017</td>\n",
       "      <td>75</td>\n",
       "      <td>ultra</td>\n",
       "      <td>1950</td>\n",
       "    </tr>\n",
       "    <tr>\n",
       "      <th>3</th>\n",
       "      <td>1000</td>\n",
       "      <td>8</td>\n",
       "      <td>52</td>\n",
       "      <td>418</td>\n",
       "      <td>14072</td>\n",
       "      <td>81</td>\n",
       "      <td>ultra</td>\n",
       "      <td>1950</td>\n",
       "    </tr>\n",
       "    <tr>\n",
       "      <th>4</th>\n",
       "      <td>1000</td>\n",
       "      <td>9</td>\n",
       "      <td>58</td>\n",
       "      <td>478</td>\n",
       "      <td>14583</td>\n",
       "      <td>57</td>\n",
       "      <td>ultra</td>\n",
       "      <td>1950</td>\n",
       "    </tr>\n",
       "    <tr>\n",
       "      <th>...</th>\n",
       "      <td>...</td>\n",
       "      <td>...</td>\n",
       "      <td>...</td>\n",
       "      <td>...</td>\n",
       "      <td>...</td>\n",
       "      <td>...</td>\n",
       "      <td>...</td>\n",
       "      <td>...</td>\n",
       "    </tr>\n",
       "    <tr>\n",
       "      <th>2662</th>\n",
       "      <td>1498</td>\n",
       "      <td>10</td>\n",
       "      <td>41</td>\n",
       "      <td>258</td>\n",
       "      <td>20614</td>\n",
       "      <td>42</td>\n",
       "      <td>smart</td>\n",
       "      <td>1577</td>\n",
       "    </tr>\n",
       "    <tr>\n",
       "      <th>2663</th>\n",
       "      <td>1499</td>\n",
       "      <td>9</td>\n",
       "      <td>9</td>\n",
       "      <td>71</td>\n",
       "      <td>1849</td>\n",
       "      <td>11</td>\n",
       "      <td>smart</td>\n",
       "      <td>550</td>\n",
       "    </tr>\n",
       "    <tr>\n",
       "      <th>2664</th>\n",
       "      <td>1499</td>\n",
       "      <td>10</td>\n",
       "      <td>68</td>\n",
       "      <td>473</td>\n",
       "      <td>17824</td>\n",
       "      <td>48</td>\n",
       "      <td>smart</td>\n",
       "      <td>1032</td>\n",
       "    </tr>\n",
       "    <tr>\n",
       "      <th>2665</th>\n",
       "      <td>1499</td>\n",
       "      <td>11</td>\n",
       "      <td>74</td>\n",
       "      <td>624</td>\n",
       "      <td>17994</td>\n",
       "      <td>59</td>\n",
       "      <td>smart</td>\n",
       "      <td>1464</td>\n",
       "    </tr>\n",
       "    <tr>\n",
       "      <th>2666</th>\n",
       "      <td>1499</td>\n",
       "      <td>12</td>\n",
       "      <td>69</td>\n",
       "      <td>505</td>\n",
       "      <td>13082</td>\n",
       "      <td>66</td>\n",
       "      <td>smart</td>\n",
       "      <td>613</td>\n",
       "    </tr>\n",
       "  </tbody>\n",
       "</table>\n",
       "<p>2667 rows × 8 columns</p>\n",
       "</div>"
      ],
      "text/plain": [
       "      user_id  month  calls  duration  mb_used  sms tariff  income\n",
       "0        1000      5     22       164     2257   22  ultra    1950\n",
       "1        1000      6     43       187    23262   60  ultra    1950\n",
       "2        1000      7     47       346    14017   75  ultra    1950\n",
       "3        1000      8     52       418    14072   81  ultra    1950\n",
       "4        1000      9     58       478    14583   57  ultra    1950\n",
       "...       ...    ...    ...       ...      ...  ...    ...     ...\n",
       "2662     1498     10     41       258    20614   42  smart    1577\n",
       "2663     1499      9      9        71     1849   11  smart     550\n",
       "2664     1499     10     68       473    17824   48  smart    1032\n",
       "2665     1499     11     74       624    17994   59  smart    1464\n",
       "2666     1499     12     69       505    13082   66  smart     613\n",
       "\n",
       "[2667 rows x 8 columns]"
      ]
     },
     "execution_count": 38,
     "metadata": {},
     "output_type": "execute_result"
    }
   ],
   "source": [
    "users_income['income'] = users_income.apply(users_costs_calculation, axis=1)\n",
    "users_income"
   ]
  },
  {
   "cell_type": "code",
   "execution_count": 70,
   "metadata": {},
   "outputs": [
    {
     "data": {
      "text/html": [
       "<div>\n",
       "<style scoped>\n",
       "    .dataframe tbody tr th:only-of-type {\n",
       "        vertical-align: middle;\n",
       "    }\n",
       "\n",
       "    .dataframe tbody tr th {\n",
       "        vertical-align: top;\n",
       "    }\n",
       "\n",
       "    .dataframe thead tr th {\n",
       "        text-align: left;\n",
       "    }\n",
       "\n",
       "    .dataframe thead tr:last-of-type th {\n",
       "        text-align: right;\n",
       "    }\n",
       "</style>\n",
       "<table border=\"1\" class=\"dataframe\">\n",
       "  <thead>\n",
       "    <tr>\n",
       "      <th></th>\n",
       "      <th colspan=\"8\" halign=\"left\">user_id</th>\n",
       "      <th colspan=\"8\" halign=\"left\">month</th>\n",
       "      <th colspan=\"8\" halign=\"left\">calls</th>\n",
       "      <th colspan=\"8\" halign=\"left\">duration</th>\n",
       "      <th colspan=\"8\" halign=\"left\">mb_used</th>\n",
       "      <th colspan=\"8\" halign=\"left\">sms</th>\n",
       "      <th colspan=\"8\" halign=\"left\">income</th>\n",
       "    </tr>\n",
       "    <tr>\n",
       "      <th></th>\n",
       "      <th>count</th>\n",
       "      <th>mean</th>\n",
       "      <th>std</th>\n",
       "      <th>min</th>\n",
       "      <th>25%</th>\n",
       "      <th>50%</th>\n",
       "      <th>75%</th>\n",
       "      <th>max</th>\n",
       "      <th>count</th>\n",
       "      <th>mean</th>\n",
       "      <th>std</th>\n",
       "      <th>min</th>\n",
       "      <th>25%</th>\n",
       "      <th>50%</th>\n",
       "      <th>75%</th>\n",
       "      <th>max</th>\n",
       "      <th>count</th>\n",
       "      <th>mean</th>\n",
       "      <th>std</th>\n",
       "      <th>min</th>\n",
       "      <th>25%</th>\n",
       "      <th>50%</th>\n",
       "      <th>75%</th>\n",
       "      <th>max</th>\n",
       "      <th>count</th>\n",
       "      <th>mean</th>\n",
       "      <th>std</th>\n",
       "      <th>min</th>\n",
       "      <th>25%</th>\n",
       "      <th>50%</th>\n",
       "      <th>75%</th>\n",
       "      <th>max</th>\n",
       "      <th>count</th>\n",
       "      <th>mean</th>\n",
       "      <th>std</th>\n",
       "      <th>min</th>\n",
       "      <th>25%</th>\n",
       "      <th>50%</th>\n",
       "      <th>75%</th>\n",
       "      <th>max</th>\n",
       "      <th>count</th>\n",
       "      <th>mean</th>\n",
       "      <th>std</th>\n",
       "      <th>min</th>\n",
       "      <th>25%</th>\n",
       "      <th>50%</th>\n",
       "      <th>75%</th>\n",
       "      <th>max</th>\n",
       "      <th>count</th>\n",
       "      <th>mean</th>\n",
       "      <th>std</th>\n",
       "      <th>min</th>\n",
       "      <th>25%</th>\n",
       "      <th>50%</th>\n",
       "      <th>75%</th>\n",
       "      <th>max</th>\n",
       "    </tr>\n",
       "    <tr>\n",
       "      <th>tariff</th>\n",
       "      <th></th>\n",
       "      <th></th>\n",
       "      <th></th>\n",
       "      <th></th>\n",
       "      <th></th>\n",
       "      <th></th>\n",
       "      <th></th>\n",
       "      <th></th>\n",
       "      <th></th>\n",
       "      <th></th>\n",
       "      <th></th>\n",
       "      <th></th>\n",
       "      <th></th>\n",
       "      <th></th>\n",
       "      <th></th>\n",
       "      <th></th>\n",
       "      <th></th>\n",
       "      <th></th>\n",
       "      <th></th>\n",
       "      <th></th>\n",
       "      <th></th>\n",
       "      <th></th>\n",
       "      <th></th>\n",
       "      <th></th>\n",
       "      <th></th>\n",
       "      <th></th>\n",
       "      <th></th>\n",
       "      <th></th>\n",
       "      <th></th>\n",
       "      <th></th>\n",
       "      <th></th>\n",
       "      <th></th>\n",
       "      <th></th>\n",
       "      <th></th>\n",
       "      <th></th>\n",
       "      <th></th>\n",
       "      <th></th>\n",
       "      <th></th>\n",
       "      <th></th>\n",
       "      <th></th>\n",
       "      <th></th>\n",
       "      <th></th>\n",
       "      <th></th>\n",
       "      <th></th>\n",
       "      <th></th>\n",
       "      <th></th>\n",
       "      <th></th>\n",
       "      <th></th>\n",
       "      <th></th>\n",
       "      <th></th>\n",
       "      <th></th>\n",
       "      <th></th>\n",
       "      <th></th>\n",
       "      <th></th>\n",
       "      <th></th>\n",
       "      <th></th>\n",
       "    </tr>\n",
       "  </thead>\n",
       "  <tbody>\n",
       "    <tr>\n",
       "      <th>smart</th>\n",
       "      <td>1915.0</td>\n",
       "      <td>1247.916449</td>\n",
       "      <td>147.151477</td>\n",
       "      <td>1002.0</td>\n",
       "      <td>1123.0</td>\n",
       "      <td>1244.0</td>\n",
       "      <td>1383.0</td>\n",
       "      <td>1499.0</td>\n",
       "      <td>1915.0</td>\n",
       "      <td>8.319060</td>\n",
       "      <td>2.931832</td>\n",
       "      <td>1.0</td>\n",
       "      <td>6.0</td>\n",
       "      <td>9.0</td>\n",
       "      <td>11.0</td>\n",
       "      <td>12.0</td>\n",
       "      <td>1915.0</td>\n",
       "      <td>58.871540</td>\n",
       "      <td>25.555688</td>\n",
       "      <td>1.0</td>\n",
       "      <td>40.0</td>\n",
       "      <td>60.0</td>\n",
       "      <td>76.0</td>\n",
       "      <td>198.0</td>\n",
       "      <td>1915.0</td>\n",
       "      <td>432.637598</td>\n",
       "      <td>192.218259</td>\n",
       "      <td>1.0</td>\n",
       "      <td>295.0</td>\n",
       "      <td>440.0</td>\n",
       "      <td>561.5</td>\n",
       "      <td>1471.0</td>\n",
       "      <td>1915.0</td>\n",
       "      <td>16274.106527</td>\n",
       "      <td>5802.252195</td>\n",
       "      <td>1.0</td>\n",
       "      <td>12646.5</td>\n",
       "      <td>16495.0</td>\n",
       "      <td>20079.5</td>\n",
       "      <td>38627.0</td>\n",
       "      <td>1915.0</td>\n",
       "      <td>38.767102</td>\n",
       "      <td>26.810513</td>\n",
       "      <td>1.0</td>\n",
       "      <td>17.0</td>\n",
       "      <td>34.0</td>\n",
       "      <td>55.0</td>\n",
       "      <td>143.0</td>\n",
       "      <td>1915.0</td>\n",
       "      <td>1252.962924</td>\n",
       "      <td>802.549630</td>\n",
       "      <td>550.0</td>\n",
       "      <td>563.5</td>\n",
       "      <td>982.0</td>\n",
       "      <td>1706.5</td>\n",
       "      <td>6769.0</td>\n",
       "    </tr>\n",
       "    <tr>\n",
       "      <th>ultra</th>\n",
       "      <td>752.0</td>\n",
       "      <td>1274.873670</td>\n",
       "      <td>142.286226</td>\n",
       "      <td>1000.0</td>\n",
       "      <td>1151.0</td>\n",
       "      <td>1310.0</td>\n",
       "      <td>1385.0</td>\n",
       "      <td>1495.0</td>\n",
       "      <td>752.0</td>\n",
       "      <td>8.398936</td>\n",
       "      <td>2.810082</td>\n",
       "      <td>1.0</td>\n",
       "      <td>6.0</td>\n",
       "      <td>9.0</td>\n",
       "      <td>11.0</td>\n",
       "      <td>12.0</td>\n",
       "      <td>752.0</td>\n",
       "      <td>77.674202</td>\n",
       "      <td>43.116712</td>\n",
       "      <td>1.0</td>\n",
       "      <td>46.0</td>\n",
       "      <td>77.0</td>\n",
       "      <td>106.0</td>\n",
       "      <td>244.0</td>\n",
       "      <td>752.0</td>\n",
       "      <td>571.845745</td>\n",
       "      <td>319.835552</td>\n",
       "      <td>1.0</td>\n",
       "      <td>341.0</td>\n",
       "      <td>551.5</td>\n",
       "      <td>779.0</td>\n",
       "      <td>1727.0</td>\n",
       "      <td>752.0</td>\n",
       "      <td>19616.398936</td>\n",
       "      <td>9638.915882</td>\n",
       "      <td>1.0</td>\n",
       "      <td>11917.5</td>\n",
       "      <td>19465.0</td>\n",
       "      <td>26857.0</td>\n",
       "      <td>49793.0</td>\n",
       "      <td>752.0</td>\n",
       "      <td>61.640957</td>\n",
       "      <td>44.816850</td>\n",
       "      <td>1.0</td>\n",
       "      <td>25.0</td>\n",
       "      <td>53.0</td>\n",
       "      <td>89.0</td>\n",
       "      <td>224.0</td>\n",
       "      <td>752.0</td>\n",
       "      <td>2040.910904</td>\n",
       "      <td>315.525189</td>\n",
       "      <td>1950.0</td>\n",
       "      <td>1950.0</td>\n",
       "      <td>1950.0</td>\n",
       "      <td>1950.0</td>\n",
       "      <td>4744.0</td>\n",
       "    </tr>\n",
       "  </tbody>\n",
       "</table>\n",
       "</div>"
      ],
      "text/plain": [
       "       user_id                                                           \\\n",
       "         count         mean         std     min     25%     50%     75%   \n",
       "tariff                                                                    \n",
       "smart   1915.0  1247.916449  147.151477  1002.0  1123.0  1244.0  1383.0   \n",
       "ultra    752.0  1274.873670  142.286226  1000.0  1151.0  1310.0  1385.0   \n",
       "\n",
       "                 month                                                  calls  \\\n",
       "           max   count      mean       std  min  25%  50%   75%   max   count   \n",
       "tariff                                                                          \n",
       "smart   1499.0  1915.0  8.319060  2.931832  1.0  6.0  9.0  11.0  12.0  1915.0   \n",
       "ultra   1495.0   752.0  8.398936  2.810082  1.0  6.0  9.0  11.0  12.0   752.0   \n",
       "\n",
       "                                                            duration  \\\n",
       "             mean        std  min   25%   50%    75%    max    count   \n",
       "tariff                                                                 \n",
       "smart   58.871540  25.555688  1.0  40.0  60.0   76.0  198.0   1915.0   \n",
       "ultra   77.674202  43.116712  1.0  46.0  77.0  106.0  244.0    752.0   \n",
       "\n",
       "                                                                 mb_used  \\\n",
       "              mean         std  min    25%    50%    75%     max   count   \n",
       "tariff                                                                     \n",
       "smart   432.637598  192.218259  1.0  295.0  440.0  561.5  1471.0  1915.0   \n",
       "ultra   571.845745  319.835552  1.0  341.0  551.5  779.0  1727.0   752.0   \n",
       "\n",
       "                                                                            \\\n",
       "                mean          std  min      25%      50%      75%      max   \n",
       "tariff                                                                       \n",
       "smart   16274.106527  5802.252195  1.0  12646.5  16495.0  20079.5  38627.0   \n",
       "ultra   19616.398936  9638.915882  1.0  11917.5  19465.0  26857.0  49793.0   \n",
       "\n",
       "           sms                                                      income  \\\n",
       "         count       mean        std  min   25%   50%   75%    max   count   \n",
       "tariff                                                                       \n",
       "smart   1915.0  38.767102  26.810513  1.0  17.0  34.0  55.0  143.0  1915.0   \n",
       "ultra    752.0  61.640957  44.816850  1.0  25.0  53.0  89.0  224.0   752.0   \n",
       "\n",
       "                                                                         \n",
       "               mean         std     min     25%     50%     75%     max  \n",
       "tariff                                                                   \n",
       "smart   1252.962924  802.549630   550.0   563.5   982.0  1706.5  6769.0  \n",
       "ultra   2040.910904  315.525189  1950.0  1950.0  1950.0  1950.0  4744.0  "
      ]
     },
     "execution_count": 70,
     "metadata": {},
     "output_type": "execute_result"
    }
   ],
   "source": [
    "users_income.groupby('tariff').describe()"
   ]
  },
  {
   "cell_type": "markdown",
   "metadata": {},
   "source": [
    "Предварительно можно сказать, что пользователи тарифа smart в целом более экономны: они используют меньше услуг и приносят компании в среднем меньше денег."
   ]
  },
  {
   "cell_type": "markdown",
   "metadata": {},
   "source": [
    "## Шаг 2. Выводы"
   ]
  },
  {
   "cell_type": "markdown",
   "metadata": {},
   "source": [
    "В ходе подготовки данных были заменены пропущенные значения в таблице users. В таблице calls были ошибочные нулевые значения. Скорее всего, длительность разговоров была ниже порога системы измерения продолжительности звонка. Тем не менее, плата за них так же взимается, как за одноминутный разговор. Была произведена соответствующая замена. Такая же замена была сделана для слишком коротких (нулевых) сессий использования интернета (нулево трафик заменёна на 1 мб). Кроме исправлений неверных данных в этих столбцах произведена замена их типа на целочисленный, поскольку компания всегда производит округление вверх. В исходных таблицах calls, messages и internet в столбцах с датами была произведена замена типов данных object на datetime64.\n",
    "\n",
    "Была собрана сводная таблица users_income, где подсчитано количество звонков абонента, число отправленных sms и его трафик по месяцам. Предварительно можно сказать, что тариф smart менее выгоден для компании, чем тариф ultra."
   ]
  },
  {
   "cell_type": "markdown",
   "metadata": {},
   "source": [
    "## Шаг 3. Анализ данных"
   ]
  },
  {
   "cell_type": "markdown",
   "metadata": {},
   "source": [
    "Целью данного шага является описание поведения клиентов оператора, исходя из выборки. Нужно ответить на вопросы о том, сколько минут разговора, сколько сообщений и какой объём интернет-трафика требуется пользователям каждого тарифа в месяц. Посчитать среднее количество, дисперсию и стандартное отклонение. Построить гистограммы и описать распределения."
   ]
  },
  {
   "cell_type": "markdown",
   "metadata": {},
   "source": [
    "К исследованию может быть два подхода:\n",
    "1. Каждый пользователь в один месяц рассматривается как отдельное измерение.\n",
    "2. Одним измерением считаем затраты пользователя в месяц, т.е. усредняем его звонки/смс/трафик по месяцам и выводим гистограммы по 500 измерениям.\n",
    "\n",
    "Первый подход обладает тем преимуществом, что у нас не 500 измерений по кол-ву пользователей, а 2667, как строк в таблице users_income. Будем придерживаться этого подхода."
   ]
  },
  {
   "cell_type": "markdown",
   "metadata": {},
   "source": [
    "Постром гистограммы распределений длительности звонков, смс и трафика интернета за месяц для каждого пользователя, разделиф данные по типу тарифа пользователя:"
   ]
  },
  {
   "cell_type": "code",
   "execution_count": 71,
   "metadata": {},
   "outputs": [],
   "source": [
    "def grouped_datas_hist(data, parametrs):\n",
    "    \"\"\"\n",
    "    Функция принимает датафрейм и название столбца, по которому будет производиться группировка. \n",
    "    Cчитает среднее количество минут, смс и трафика, а также их дисперсию и стандартное отклонение. Строит гистограммы.\n",
    "    \n",
    "    \"\"\"\n",
    "    important_parameters = ['duration', 'mb_used', 'sms']\n",
    "    fig, axs = plt.subplots(1,3,figsize=(14,4))\n",
    "    fig.suptitle(\"Гистограммы распределения суммарных значений длительности звонков, смс и трафика интернета за месяц для каждого из 500 пользователей\")\n",
    "        \n",
    "    for column_value, column_slice in data.groupby(parametrs):\n",
    "        for i, important_parameter in enumerate(important_parameters):\n",
    "           \n",
    "            sns.distplot(column_slice[important_parameter], ax = axs[i], norm_hist=True, kde=True, label=column_value)\n",
    "    for ax in axs:\n",
    "        ax.legend()\n",
    "    plt.show()\n",
    "            "
   ]
  },
  {
   "cell_type": "code",
   "execution_count": 40,
   "metadata": {},
   "outputs": [
    {
     "data": {
      "image/png": "[encoded data removed]",
      "text/plain": [
       "<Figure size 1008x288 with 3 Axes>"
      ]
     },
     "metadata": {
      "needs_background": "light"
     },
     "output_type": "display_data"
    }
   ],
   "source": [
    "grouped_datas_hist(users_income, 'tariff')"
   ]
  },
  {
   "cell_type": "markdown",
   "metadata": {},
   "source": [
    "Посмотрим на основные меры центральной тенденции методом describe:"
   ]
  },
  {
   "cell_type": "code",
   "execution_count": 41,
   "metadata": {},
   "outputs": [
    {
     "name": "stderr",
     "output_type": "stream",
     "text": [
      "/usr/local/lib/python3.7/site-packages/ipykernel_launcher.py:1: FutureWarning: Indexing with multiple keys (implicitly converted to a tuple of keys) will be deprecated, use a list instead.\n",
      "  \"\"\"Entry point for launching an IPython kernel.\n"
     ]
    },
    {
     "data": {
      "text/html": [
       "<div>\n",
       "<style scoped>\n",
       "    .dataframe tbody tr th:only-of-type {\n",
       "        vertical-align: middle;\n",
       "    }\n",
       "\n",
       "    .dataframe tbody tr th {\n",
       "        vertical-align: top;\n",
       "    }\n",
       "\n",
       "    .dataframe thead tr th {\n",
       "        text-align: left;\n",
       "    }\n",
       "\n",
       "    .dataframe thead tr:last-of-type th {\n",
       "        text-align: right;\n",
       "    }\n",
       "</style>\n",
       "<table border=\"1\" class=\"dataframe\">\n",
       "  <thead>\n",
       "    <tr>\n",
       "      <th></th>\n",
       "      <th colspan=\"8\" halign=\"left\">duration</th>\n",
       "      <th colspan=\"8\" halign=\"left\">sms</th>\n",
       "      <th colspan=\"8\" halign=\"left\">mb_used</th>\n",
       "    </tr>\n",
       "    <tr>\n",
       "      <th></th>\n",
       "      <th>count</th>\n",
       "      <th>mean</th>\n",
       "      <th>std</th>\n",
       "      <th>min</th>\n",
       "      <th>25%</th>\n",
       "      <th>50%</th>\n",
       "      <th>75%</th>\n",
       "      <th>max</th>\n",
       "      <th>count</th>\n",
       "      <th>mean</th>\n",
       "      <th>std</th>\n",
       "      <th>min</th>\n",
       "      <th>25%</th>\n",
       "      <th>50%</th>\n",
       "      <th>75%</th>\n",
       "      <th>max</th>\n",
       "      <th>count</th>\n",
       "      <th>mean</th>\n",
       "      <th>std</th>\n",
       "      <th>min</th>\n",
       "      <th>25%</th>\n",
       "      <th>50%</th>\n",
       "      <th>75%</th>\n",
       "      <th>max</th>\n",
       "    </tr>\n",
       "    <tr>\n",
       "      <th>tariff</th>\n",
       "      <th></th>\n",
       "      <th></th>\n",
       "      <th></th>\n",
       "      <th></th>\n",
       "      <th></th>\n",
       "      <th></th>\n",
       "      <th></th>\n",
       "      <th></th>\n",
       "      <th></th>\n",
       "      <th></th>\n",
       "      <th></th>\n",
       "      <th></th>\n",
       "      <th></th>\n",
       "      <th></th>\n",
       "      <th></th>\n",
       "      <th></th>\n",
       "      <th></th>\n",
       "      <th></th>\n",
       "      <th></th>\n",
       "      <th></th>\n",
       "      <th></th>\n",
       "      <th></th>\n",
       "      <th></th>\n",
       "      <th></th>\n",
       "    </tr>\n",
       "  </thead>\n",
       "  <tbody>\n",
       "    <tr>\n",
       "      <th>smart</th>\n",
       "      <td>1915.0</td>\n",
       "      <td>432.637598</td>\n",
       "      <td>192.218259</td>\n",
       "      <td>1.0</td>\n",
       "      <td>295.0</td>\n",
       "      <td>440.0</td>\n",
       "      <td>561.5</td>\n",
       "      <td>1471.0</td>\n",
       "      <td>1915.0</td>\n",
       "      <td>38.767102</td>\n",
       "      <td>26.810513</td>\n",
       "      <td>1.0</td>\n",
       "      <td>17.0</td>\n",
       "      <td>34.0</td>\n",
       "      <td>55.0</td>\n",
       "      <td>143.0</td>\n",
       "      <td>1915.0</td>\n",
       "      <td>16274.106527</td>\n",
       "      <td>5802.252195</td>\n",
       "      <td>1.0</td>\n",
       "      <td>12646.5</td>\n",
       "      <td>16495.0</td>\n",
       "      <td>20079.5</td>\n",
       "      <td>38627.0</td>\n",
       "    </tr>\n",
       "    <tr>\n",
       "      <th>ultra</th>\n",
       "      <td>752.0</td>\n",
       "      <td>571.845745</td>\n",
       "      <td>319.835552</td>\n",
       "      <td>1.0</td>\n",
       "      <td>341.0</td>\n",
       "      <td>551.5</td>\n",
       "      <td>779.0</td>\n",
       "      <td>1727.0</td>\n",
       "      <td>752.0</td>\n",
       "      <td>61.640957</td>\n",
       "      <td>44.816850</td>\n",
       "      <td>1.0</td>\n",
       "      <td>25.0</td>\n",
       "      <td>53.0</td>\n",
       "      <td>89.0</td>\n",
       "      <td>224.0</td>\n",
       "      <td>752.0</td>\n",
       "      <td>19616.398936</td>\n",
       "      <td>9638.915882</td>\n",
       "      <td>1.0</td>\n",
       "      <td>11917.5</td>\n",
       "      <td>19465.0</td>\n",
       "      <td>26857.0</td>\n",
       "      <td>49793.0</td>\n",
       "    </tr>\n",
       "  </tbody>\n",
       "</table>\n",
       "</div>"
      ],
      "text/plain": [
       "       duration                                                            \\\n",
       "          count        mean         std  min    25%    50%    75%     max   \n",
       "tariff                                                                      \n",
       "smart    1915.0  432.637598  192.218259  1.0  295.0  440.0  561.5  1471.0   \n",
       "ultra     752.0  571.845745  319.835552  1.0  341.0  551.5  779.0  1727.0   \n",
       "\n",
       "           sms                                                     mb_used  \\\n",
       "         count       mean        std  min   25%   50%   75%    max   count   \n",
       "tariff                                                                       \n",
       "smart   1915.0  38.767102  26.810513  1.0  17.0  34.0  55.0  143.0  1915.0   \n",
       "ultra    752.0  61.640957  44.816850  1.0  25.0  53.0  89.0  224.0   752.0   \n",
       "\n",
       "                                                                            \n",
       "                mean          std  min      25%      50%      75%      max  \n",
       "tariff                                                                      \n",
       "smart   16274.106527  5802.252195  1.0  12646.5  16495.0  20079.5  38627.0  \n",
       "ultra   19616.398936  9638.915882  1.0  11917.5  19465.0  26857.0  49793.0  "
      ]
     },
     "execution_count": 41,
     "metadata": {},
     "output_type": "execute_result"
    }
   ],
   "source": [
    "users_income.groupby('tariff')['duration', 'sms', 'mb_used'].describe()"
   ]
  },
  {
   "cell_type": "markdown",
   "metadata": {},
   "source": [
    "Стоит отметить, что в нашей выборке в 2,5 раза больше данных по тарифу \"smart\", чем по тарифу \"ultra\". Из таблицы видно, что для длительности разговоров в месяц среднее и медиана близки по значениям и приблизительно в 2 раза превышают стандартное отклонение, данное распределение характеризуется не большим разбросом данных. Та же ситуация наблюдается для потраченного трафика. Отличную ситуацию мы наблюдаем для количества отправленных в месяц смс. Здесь стандартное отклонение составляет приблизительно 70% для тарифа \"smart\" и 73% от среднего для тарифа 73% для тарифа \"ultra\". \n",
    "\n",
    "Если проводить сравнительный анализ двух тарифов, то получим следующее:\n",
    "\n",
    "- пользователи тарифа ultra разговаривают в среднем в 1.32 раза дольше, чем пользователи тарифа smart\n",
    "- в среднем они отправляют в 1.6 раз больше смс\n",
    "- их трафик в среднем превышает трафик пользователей тарифа smart в 1.2 раза\n",
    "\n",
    "Таким образом можно сделать вывод, что пользователи более дорогого тарифа ultra гораздо активнее пользуются всеми услугами мобильного оператора."
   ]
  },
  {
   "cell_type": "markdown",
   "metadata": {},
   "source": [
    "Проанализируем данные на наличие нестандартной активности пользователей с помошью метода <a name=\"cell\">box plot</a>:"
   ]
  },
  {
   "cell_type": "code",
   "execution_count": 42,
   "metadata": {},
   "outputs": [
    {
     "data": {
      "image/png": "[encoded data removed]",
      "text/plain": [
       "<Figure size 1224x360 with 3 Axes>"
      ]
     },
     "metadata": {
      "needs_background": "light"
     },
     "output_type": "display_data"
    }
   ],
   "source": [
    "important_parameters = ['duration', 'mb_used', 'sms']\n",
    "fig, axs = plt.subplots(1,3,figsize=(17,5))\n",
    "fig.suptitle(\"Диаграммы размаха суммарных значений длительности звонков, смс и трафика интернета за месяц для каждого из 500 пользователей\")\n",
    "        \n",
    "for i, important_parameter in enumerate(important_parameters):\n",
    "    sns.boxplot(data=users_income,y=important_parameter,x=\"tariff\", ax=axs[i])\n",
    "plt.show()"
   ]
  },
  {
   "cell_type": "markdown",
   "metadata": {},
   "source": [
    "По диаграммам размаха мы видим графически, что максимальные значения и медианы всех параметров для обоих тарифов отличаются, причём всегда в меньшую сторону для тарифа smart. \n",
    "\n",
    "Мы видим небольшое количество точек за пределами усов. Поскольку выбросы могут повлиять на проверку гипотез, нужно очистить от них наши данные. Напишем для этого функцию:"
   ]
  },
  {
   "cell_type": "code",
   "execution_count": 43,
   "metadata": {},
   "outputs": [],
   "source": [
    "def data_cleaning(data, parametrs):\n",
    "    \"\"\"\n",
    "    Функция принимает датафрейм и название столбца, по которому делается группировка. \n",
    "    Нужно устранить выбросы в столбцах из списка important_parameters.\n",
    "    Для каждого такого столбца функция строит box plot и получает список \n",
    "    вида (q1, left_whisker), (q3, right_whisker), \n",
    "    где q1 и q3 - первая и третья квартиль,\n",
    "    right_whisker - внешняя граница правого (на нашей диаграмме верхнего) уса,\n",
    "    left_whisker - внешняя граница левого (на нашей диаграмме нижнего) уса.\n",
    "    Далее создаётся новый датафрейм, в который входят только те строки, \n",
    "    значения которых в нашем контрольном столбце лежат внутри усов.\n",
    "    \n",
    "    \"\"\"\n",
    "    \n",
    "    datas = []\n",
    "    important_parameters = ['duration', 'mb_used', 'sms']\n",
    "    \n",
    "    for column_value, column_slice in data.groupby(parametrs):\n",
    "        for important_parameter in important_parameters:\n",
    "            B = plt.boxplot(column_slice[important_parameter])\n",
    "            wiskers_scope = [item.get_ydata() for item in B['whiskers']] # получаем список вида \n",
    "        # (q1, left_whisker), (q3, right_whisker), где q1 и q3 - первая и третья квартиль\n",
    "            right_whisker = wiskers_scope[1][1]\n",
    "            left_whisker = wiskers_scope[0][1]\n",
    "            column_slice = (column_slice[(column_slice[important_parameter] >= left_whisker) & \n",
    "                             (column_slice[important_parameter] <= right_whisker)]\n",
    "                   )\n",
    "            column_slice[parametrs] = column_value\n",
    "        datas.append(column_slice)\n",
    "    return pd.concat(datas)"
   ]
  },
  {
   "cell_type": "code",
   "execution_count": 44,
   "metadata": {},
   "outputs": [
    {
     "name": "stderr",
     "output_type": "stream",
     "text": [
      "/usr/local/lib/python3.7/site-packages/ipykernel_launcher.py:28: SettingWithCopyWarning: \n",
      "A value is trying to be set on a copy of a slice from a DataFrame.\n",
      "Try using .loc[row_indexer,col_indexer] = value instead\n",
      "\n",
      "See the caveats in the documentation: https://pandas.pydata.org/pandas-docs/stable/user_guide/indexing.html#returning-a-view-versus-a-copy\n",
      "/usr/local/lib/python3.7/site-packages/ipykernel_launcher.py:28: SettingWithCopyWarning: \n",
      "A value is trying to be set on a copy of a slice from a DataFrame.\n",
      "Try using .loc[row_indexer,col_indexer] = value instead\n",
      "\n",
      "See the caveats in the documentation: https://pandas.pydata.org/pandas-docs/stable/user_guide/indexing.html#returning-a-view-versus-a-copy\n"
     ]
    },
    {
     "data": {
      "text/html": [
       "<div>\n",
       "<style scoped>\n",
       "    .dataframe tbody tr th:only-of-type {\n",
       "        vertical-align: middle;\n",
       "    }\n",
       "\n",
       "    .dataframe tbody tr th {\n",
       "        vertical-align: top;\n",
       "    }\n",
       "\n",
       "    .dataframe thead th {\n",
       "        text-align: right;\n",
       "    }\n",
       "</style>\n",
       "<table border=\"1\" class=\"dataframe\">\n",
       "  <thead>\n",
       "    <tr style=\"text-align: right;\">\n",
       "      <th></th>\n",
       "      <th>user_id</th>\n",
       "      <th>month</th>\n",
       "      <th>calls</th>\n",
       "      <th>duration</th>\n",
       "      <th>mb_used</th>\n",
       "      <th>sms</th>\n",
       "      <th>tariff</th>\n",
       "      <th>income</th>\n",
       "    </tr>\n",
       "  </thead>\n",
       "  <tbody>\n",
       "    <tr>\n",
       "      <th>8</th>\n",
       "      <td>1002</td>\n",
       "      <td>6</td>\n",
       "      <td>15</td>\n",
       "      <td>118</td>\n",
       "      <td>10878</td>\n",
       "      <td>4</td>\n",
       "      <td>smart</td>\n",
       "      <td>550</td>\n",
       "    </tr>\n",
       "    <tr>\n",
       "      <th>9</th>\n",
       "      <td>1002</td>\n",
       "      <td>7</td>\n",
       "      <td>26</td>\n",
       "      <td>219</td>\n",
       "      <td>17615</td>\n",
       "      <td>11</td>\n",
       "      <td>smart</td>\n",
       "      <td>991</td>\n",
       "    </tr>\n",
       "    <tr>\n",
       "      <th>10</th>\n",
       "      <td>1002</td>\n",
       "      <td>8</td>\n",
       "      <td>42</td>\n",
       "      <td>294</td>\n",
       "      <td>20357</td>\n",
       "      <td>13</td>\n",
       "      <td>smart</td>\n",
       "      <td>1526</td>\n",
       "    </tr>\n",
       "    <tr>\n",
       "      <th>11</th>\n",
       "      <td>1002</td>\n",
       "      <td>9</td>\n",
       "      <td>36</td>\n",
       "      <td>217</td>\n",
       "      <td>16724</td>\n",
       "      <td>4</td>\n",
       "      <td>smart</td>\n",
       "      <td>817</td>\n",
       "    </tr>\n",
       "    <tr>\n",
       "      <th>12</th>\n",
       "      <td>1002</td>\n",
       "      <td>10</td>\n",
       "      <td>33</td>\n",
       "      <td>221</td>\n",
       "      <td>13913</td>\n",
       "      <td>10</td>\n",
       "      <td>smart</td>\n",
       "      <td>550</td>\n",
       "    </tr>\n",
       "    <tr>\n",
       "      <th>...</th>\n",
       "      <td>...</td>\n",
       "      <td>...</td>\n",
       "      <td>...</td>\n",
       "      <td>...</td>\n",
       "      <td>...</td>\n",
       "      <td>...</td>\n",
       "      <td>...</td>\n",
       "      <td>...</td>\n",
       "    </tr>\n",
       "    <tr>\n",
       "      <th>2639</th>\n",
       "      <td>1495</td>\n",
       "      <td>8</td>\n",
       "      <td>17</td>\n",
       "      <td>96</td>\n",
       "      <td>2616</td>\n",
       "      <td>13</td>\n",
       "      <td>ultra</td>\n",
       "      <td>1950</td>\n",
       "    </tr>\n",
       "    <tr>\n",
       "      <th>2640</th>\n",
       "      <td>1495</td>\n",
       "      <td>9</td>\n",
       "      <td>112</td>\n",
       "      <td>830</td>\n",
       "      <td>33107</td>\n",
       "      <td>82</td>\n",
       "      <td>ultra</td>\n",
       "      <td>2300</td>\n",
       "    </tr>\n",
       "    <tr>\n",
       "      <th>2641</th>\n",
       "      <td>1495</td>\n",
       "      <td>10</td>\n",
       "      <td>152</td>\n",
       "      <td>1056</td>\n",
       "      <td>29399</td>\n",
       "      <td>82</td>\n",
       "      <td>ultra</td>\n",
       "      <td>1950</td>\n",
       "    </tr>\n",
       "    <tr>\n",
       "      <th>2642</th>\n",
       "      <td>1495</td>\n",
       "      <td>11</td>\n",
       "      <td>129</td>\n",
       "      <td>971</td>\n",
       "      <td>38973</td>\n",
       "      <td>79</td>\n",
       "      <td>ultra</td>\n",
       "      <td>3159</td>\n",
       "    </tr>\n",
       "    <tr>\n",
       "      <th>2643</th>\n",
       "      <td>1495</td>\n",
       "      <td>12</td>\n",
       "      <td>155</td>\n",
       "      <td>1066</td>\n",
       "      <td>23451</td>\n",
       "      <td>84</td>\n",
       "      <td>ultra</td>\n",
       "      <td>1950</td>\n",
       "    </tr>\n",
       "  </tbody>\n",
       "</table>\n",
       "<p>2603 rows × 8 columns</p>\n",
       "</div>"
      ],
      "text/plain": [
       "      user_id  month  calls  duration  mb_used  sms tariff  income\n",
       "8        1002      6     15       118    10878    4  smart     550\n",
       "9        1002      7     26       219    17615   11  smart     991\n",
       "10       1002      8     42       294    20357   13  smart    1526\n",
       "11       1002      9     36       217    16724    4  smart     817\n",
       "12       1002     10     33       221    13913   10  smart     550\n",
       "...       ...    ...    ...       ...      ...  ...    ...     ...\n",
       "2639     1495      8     17        96     2616   13  ultra    1950\n",
       "2640     1495      9    112       830    33107   82  ultra    2300\n",
       "2641     1495     10    152      1056    29399   82  ultra    1950\n",
       "2642     1495     11    129       971    38973   79  ultra    3159\n",
       "2643     1495     12    155      1066    23451   84  ultra    1950\n",
       "\n",
       "[2603 rows x 8 columns]"
      ]
     },
     "execution_count": 44,
     "metadata": {},
     "output_type": "execute_result"
    },
    {
     "data": {
      "image/png": "[encoded data removed]",
      "text/plain": [
       "<Figure size 432x288 with 1 Axes>"
      ]
     },
     "metadata": {
      "needs_background": "light"
     },
     "output_type": "display_data"
    }
   ],
   "source": [
    "users_income_clean = data_cleaning(users_income, 'tariff')\n",
    "users_income_clean"
   ]
  },
  {
   "cell_type": "code",
   "execution_count": 45,
   "metadata": {},
   "outputs": [
    {
     "data": {
      "image/png": "[encoded data removed]",
      "text/plain": [
       "<Figure size 1008x288 with 3 Axes>"
      ]
     },
     "metadata": {
      "needs_background": "light"
     },
     "output_type": "display_data"
    }
   ],
   "source": [
    "grouped_datas_hist(users_income_clean, 'tariff')"
   ]
  },
  {
   "cell_type": "markdown",
   "metadata": {},
   "source": [
    "Действительно, \"хвосты\" гистограмм стали более короткими. Проверим при помощи критерия <a name=\"shapiro\">Шапиро-Уилка</a>, являются ли данные распределения нормальными, уровень статистической значимости выберем 0.05:"
   ]
  },
  {
   "cell_type": "code",
   "execution_count": 46,
   "metadata": {},
   "outputs": [],
   "source": [
    "def is_distribution_normal(data, parametrs, tests):\n",
    "    \"\"\"\n",
    "    Функция берёт в качестве аргумента датасет, столбец, по которому нужно произвести группировку parametrs\n",
    "    и столбец с измерениями tests. После проведения группировки, функция проверяет, распределены ли измерения нормально.\n",
    "    Нулевая гипотеза: измерения распределены нормально.\n",
    "    Альтернативная гипотеза: распределение измерений в столбце отлично от нормального.\n",
    "    Опровержение гипотезы происходит на основании теста Шапиро-Уилка с уровнем статистической значимости \n",
    "    alpha = 0.05.\n",
    "    \"\"\"\n",
    "    alpha = 0.05\n",
    "    from scipy.stats import shapiro\n",
    "    for column_value, column_slice in data.groupby(parametrs):\n",
    "        print('Проверка на нормальность распределения значений', tests, 'для тарифа', column_value)\n",
    "        results = shapiro(column_slice[tests])[1]\n",
    "        print('    p-value =', results)\n",
    "        if (results < alpha):\n",
    "            print(\"    отвергаем нулевую гипотезу, распределение не соответствует нормальному.\", end='\\n')\n",
    "        else:\n",
    "            print(\"Не получилось отвергнуть нулевую гипотезу о соответствии распределения нормальному.\", end='\\n')\n",
    "        print()\n",
    "        "
   ]
  },
  {
   "cell_type": "code",
   "execution_count": 47,
   "metadata": {},
   "outputs": [
    {
     "name": "stdout",
     "output_type": "stream",
     "text": [
      "Проверка на нормальность распределения значений duration для тарифа smart\n",
      "    p-value = 1.7749482140061446e-05\n",
      "    отвергаем нулевую гипотезу, распределение не соответствует нормальному.\n",
      "\n",
      "Проверка на нормальность распределения значений duration для тарифа ultra\n",
      "    p-value = 1.0013866358349333e-07\n",
      "    отвергаем нулевую гипотезу, распределение не соответствует нормальному.\n",
      "\n"
     ]
    }
   ],
   "source": [
    "is_distribution_normal(users_income_clean, 'tariff', 'duration')"
   ]
  },
  {
   "cell_type": "code",
   "execution_count": 48,
   "metadata": {},
   "outputs": [
    {
     "name": "stdout",
     "output_type": "stream",
     "text": [
      "Проверка на нормальность распределения значений mb_used для тарифа smart\n",
      "    p-value = 0.00015122705372050405\n",
      "    отвергаем нулевую гипотезу, распределение не соответствует нормальному.\n",
      "\n",
      "Проверка на нормальность распределения значений mb_used для тарифа ultra\n",
      "    p-value = 1.390586476190947e-05\n",
      "    отвергаем нулевую гипотезу, распределение не соответствует нормальному.\n",
      "\n"
     ]
    }
   ],
   "source": [
    "is_distribution_normal(users_income_clean, 'tariff', 'mb_used')"
   ]
  },
  {
   "cell_type": "code",
   "execution_count": 49,
   "metadata": {},
   "outputs": [
    {
     "name": "stdout",
     "output_type": "stream",
     "text": [
      "Проверка на нормальность распределения значений sms для тарифа smart\n",
      "    p-value = 7.494428569898954e-25\n",
      "    отвергаем нулевую гипотезу, распределение не соответствует нормальному.\n",
      "\n",
      "Проверка на нормальность распределения значений sms для тарифа ultra\n",
      "    p-value = 1.5866611903544693e-16\n",
      "    отвергаем нулевую гипотезу, распределение не соответствует нормальному.\n",
      "\n"
     ]
    }
   ],
   "source": [
    "is_distribution_normal(users_income_clean, 'tariff', 'sms')"
   ]
  },
  {
   "cell_type": "markdown",
   "metadata": {},
   "source": [
    "Подсчитаем для обоих тарифов среднее значание, дисперсию и стандартное отклонение, и запишем их в датафрейм tarifs_statistics:"
   ]
  },
  {
   "cell_type": "code",
   "execution_count": 50,
   "metadata": {},
   "outputs": [
    {
     "data": {
      "text/html": [
       "<div>\n",
       "<style scoped>\n",
       "    .dataframe tbody tr th:only-of-type {\n",
       "        vertical-align: middle;\n",
       "    }\n",
       "\n",
       "    .dataframe tbody tr th {\n",
       "        vertical-align: top;\n",
       "    }\n",
       "\n",
       "    .dataframe thead th {\n",
       "        text-align: right;\n",
       "    }\n",
       "</style>\n",
       "<table border=\"1\" class=\"dataframe\">\n",
       "  <thead>\n",
       "    <tr style=\"text-align: right;\">\n",
       "      <th></th>\n",
       "      <th>tariff</th>\n",
       "      <th>duration_var</th>\n",
       "      <th>duration_std</th>\n",
       "      <th>duration_mean</th>\n",
       "      <th>mb_var</th>\n",
       "      <th>mb_std</th>\n",
       "      <th>mb_mean</th>\n",
       "      <th>sms_var</th>\n",
       "      <th>sms_std</th>\n",
       "      <th>sms_mean</th>\n",
       "      <th>income_var</th>\n",
       "      <th>income_std</th>\n",
       "      <th>income_mean</th>\n",
       "    </tr>\n",
       "  </thead>\n",
       "  <tbody>\n",
       "    <tr>\n",
       "      <th>0</th>\n",
       "      <td>smart</td>\n",
       "      <td>33567.821067</td>\n",
       "      <td>183.264503</td>\n",
       "      <td>429.910753</td>\n",
       "      <td>525708.398304</td>\n",
       "      <td>725.25250</td>\n",
       "      <td>1218.609140</td>\n",
       "      <td>2.973799e+07</td>\n",
       "      <td>5454.721814</td>\n",
       "      <td>16252.762903</td>\n",
       "      <td>647.526039</td>\n",
       "      <td>25.453376</td>\n",
       "      <td>38.229032</td>\n",
       "    </tr>\n",
       "    <tr>\n",
       "      <th>1</th>\n",
       "      <td>ultra</td>\n",
       "      <td>97816.125282</td>\n",
       "      <td>312.966377</td>\n",
       "      <td>566.559892</td>\n",
       "      <td>85872.113584</td>\n",
       "      <td>293.23684</td>\n",
       "      <td>2034.242261</td>\n",
       "      <td>9.077189e+07</td>\n",
       "      <td>9533.846438</td>\n",
       "      <td>19536.234186</td>\n",
       "      <td>1870.130666</td>\n",
       "      <td>43.274138</td>\n",
       "      <td>60.559892</td>\n",
       "    </tr>\n",
       "  </tbody>\n",
       "</table>\n",
       "</div>"
      ],
      "text/plain": [
       "  tariff  duration_var  duration_std  duration_mean         mb_var     mb_std  \\\n",
       "0  smart  33567.821067    183.264503     429.910753  525708.398304  725.25250   \n",
       "1  ultra  97816.125282    312.966377     566.559892   85872.113584  293.23684   \n",
       "\n",
       "       mb_mean       sms_var      sms_std      sms_mean   income_var  \\\n",
       "0  1218.609140  2.973799e+07  5454.721814  16252.762903   647.526039   \n",
       "1  2034.242261  9.077189e+07  9533.846438  19536.234186  1870.130666   \n",
       "\n",
       "   income_std  income_mean  \n",
       "0   25.453376    38.229032  \n",
       "1   43.274138    60.559892  "
      ]
     },
     "execution_count": 50,
     "metadata": {},
     "output_type": "execute_result"
    }
   ],
   "source": [
    "tarifs_statistics = (users_income_clean.pivot_table(index=['tariff'], \n",
    "                            aggfunc={'duration': ['mean', lambda x: np.var(x), lambda x: np.std(x, ddof=1)], \n",
    "                                     'mb_used': ['mean', lambda x: np.var(x), lambda x: np.std(x, ddof=1)],\n",
    "                                     'sms': ['mean', lambda x: np.var(x), lambda x: np.std(x, ddof=1)], \n",
    "                                     'income': ['mean', lambda x: np.var(x), lambda x: np.std(x, ddof=1)]}).\n",
    "                     reset_index()\n",
    ")\n",
    "tarifs_statistics.columns = (['tariff', 'duration_var', 'duration_std', 'duration_mean', \n",
    "                              'mb_var', 'mb_std', 'mb_mean', \n",
    "                              'sms_var', 'sms_std', 'sms_mean',\n",
    "                              'income_var', 'income_std', 'income_mean']\n",
    "                            )\n",
    "tarifs_statistics"
   ]
  },
  {
   "cell_type": "markdown",
   "metadata": {},
   "source": [
    "Для наглядности все значения в таблице <a name=\"tarifs_statistics\">tarifs_statistics</a> можно округлить до целых:"
   ]
  },
  {
   "cell_type": "code",
   "execution_count": 51,
   "metadata": {},
   "outputs": [
    {
     "data": {
      "text/html": [
       "<div>\n",
       "<style scoped>\n",
       "    .dataframe tbody tr th:only-of-type {\n",
       "        vertical-align: middle;\n",
       "    }\n",
       "\n",
       "    .dataframe tbody tr th {\n",
       "        vertical-align: top;\n",
       "    }\n",
       "\n",
       "    .dataframe thead th {\n",
       "        text-align: right;\n",
       "    }\n",
       "</style>\n",
       "<table border=\"1\" class=\"dataframe\">\n",
       "  <thead>\n",
       "    <tr style=\"text-align: right;\">\n",
       "      <th></th>\n",
       "      <th>tariff</th>\n",
       "      <th>duration_var</th>\n",
       "      <th>duration_std</th>\n",
       "      <th>duration_mean</th>\n",
       "      <th>mb_var</th>\n",
       "      <th>mb_std</th>\n",
       "      <th>mb_mean</th>\n",
       "      <th>sms_var</th>\n",
       "      <th>sms_std</th>\n",
       "      <th>sms_mean</th>\n",
       "      <th>income_var</th>\n",
       "      <th>income_std</th>\n",
       "      <th>income_mean</th>\n",
       "    </tr>\n",
       "  </thead>\n",
       "  <tbody>\n",
       "    <tr>\n",
       "      <th>0</th>\n",
       "      <td>smart</td>\n",
       "      <td>33568.0</td>\n",
       "      <td>183.0</td>\n",
       "      <td>430.0</td>\n",
       "      <td>525708.0</td>\n",
       "      <td>725.0</td>\n",
       "      <td>1219.0</td>\n",
       "      <td>29737993.0</td>\n",
       "      <td>5455.0</td>\n",
       "      <td>16253.0</td>\n",
       "      <td>648.0</td>\n",
       "      <td>25.0</td>\n",
       "      <td>38.0</td>\n",
       "    </tr>\n",
       "    <tr>\n",
       "      <th>1</th>\n",
       "      <td>ultra</td>\n",
       "      <td>97816.0</td>\n",
       "      <td>313.0</td>\n",
       "      <td>567.0</td>\n",
       "      <td>85872.0</td>\n",
       "      <td>293.0</td>\n",
       "      <td>2034.0</td>\n",
       "      <td>90771894.0</td>\n",
       "      <td>9534.0</td>\n",
       "      <td>19536.0</td>\n",
       "      <td>1870.0</td>\n",
       "      <td>43.0</td>\n",
       "      <td>61.0</td>\n",
       "    </tr>\n",
       "  </tbody>\n",
       "</table>\n",
       "</div>"
      ],
      "text/plain": [
       "  tariff  duration_var  duration_std  duration_mean    mb_var  mb_std  \\\n",
       "0  smart       33568.0         183.0          430.0  525708.0   725.0   \n",
       "1  ultra       97816.0         313.0          567.0   85872.0   293.0   \n",
       "\n",
       "   mb_mean     sms_var  sms_std  sms_mean  income_var  income_std  income_mean  \n",
       "0   1219.0  29737993.0   5455.0   16253.0       648.0        25.0         38.0  \n",
       "1   2034.0  90771894.0   9534.0   19536.0      1870.0        43.0         61.0  "
      ]
     },
     "execution_count": 51,
     "metadata": {},
     "output_type": "execute_result"
    }
   ],
   "source": [
    "tarifs_statistics = tarifs_statistics.round(0)\n",
    "tarifs_statistics"
   ]
  },
  {
   "cell_type": "markdown",
   "metadata": {},
   "source": [
    "## Шаг 3. Выводы"
   ]
  },
  {
   "cell_type": "markdown",
   "metadata": {},
   "source": [
    "Был проведён анализ поведения клиентов тарифов smart и ultra. По построенным гистограммам для месячной активности абонентов (продолжительности звонков, отправленных смс и потраченного трафика) можно сказать, что все распределения унимодальные, распределения трафика для обоих тарифов симметричные. Распределения отправленных смс и звонков можно характеризовать как ассиметричные: у распределения длительности звонков больше левое плечо, а отправленных смс - правое. Была произведена проверка гипотезы, что длительность звонков, число смс и трафик для каждого тарифа распределены нормально. Для всех шести случаев данная гипотеза была отклонена.\n",
    "\n",
    "В среднем в месяц клиенты тарифа smart разговаривают по телефону 430 минут (стандартное отклонение составляет 183 минуты), отправляют 38 смс (стандартное отклонение 25 смс) и используют 16253 мб трафика (стандартное отклонение 5455 мб). Для тарифа ultra эти значения составляют 567 минут (стандартное отклонение 313), 61 смс (стандартное отклонение 43 смс) и 19536 мб (стандартное отклонение 9534 мб). Таким образом, пользователи разных тарифов используют услуги в разном объёме, а именно, абоненты тарифа ultra являются более активными пользователями услуг сотового оператора. Исходя также из заметных различий диаграмм разброса <a href=\"#cell\">box plot</a> для услуг по двум тарифам, можно выдвинуть гипотезу о том, что и средняя выручка пользователей тарифов «Ультра» и «Смарт» различается. Проверке этой гипотезы посвещён следующий шаг."
   ]
  },
  {
   "cell_type": "markdown",
   "metadata": {},
   "source": [
    "## Шаг 4. Проверка гипотез"
   ]
  },
  {
   "cell_type": "markdown",
   "metadata": {},
   "source": [
    "### Шаг 4.1 Проверка гипотезы об отличии/равенстве выручки пользователей тарифов smart и ultra."
   ]
  },
  {
   "cell_type": "markdown",
   "metadata": {},
   "source": [
    "В данном шаге наша первая задача является - установить для генеральной совокупности всех пользователей компании «Мегалайн», одинакова ли выручка для разных тарифов, имея данные по выборке из 500 пользователей. Возьмём в качестве **нулевой гипотезы** следующее утверждение: **\"выручка пользователей тарифов smart и ultra одинакова\". Альтернативная гипотеза: \"выручки пользователей тарифов smart и ultra различаются\".** Мы берём утвердительную формулировку для нулевой гипотезы, как это и принято в статистическом анализе. Для проверки гипотезы будем использовать тест Т-Стьюдента. Предварительная гипотеза отвергается, если значение p-value < alpha, где alpha - критический уровень статистической значимости. Зададим для нашего эксперимента alpha = 0.05.\n",
    "\n",
    "Основные требования для проведения теста Стьюдента: \n",
    "1. Дисперсия двух групп приблизительно одинакова.\n",
    "2. Распределения являются нормальными.\n",
    "\n",
    "Даже если распределение не нормальное, но в нашей выборке больше 30 измерений, то можно использовать тест Стьюдента.\n",
    "Для проверки первого требования возьмём критерий Левене. Математический аппарат для проверки критерия есть в пакете scipy.stats."
   ]
  },
  {
   "cell_type": "code",
   "execution_count": 52,
   "metadata": {},
   "outputs": [],
   "source": [
    "from scipy.stats import levene"
   ]
  },
  {
   "cell_type": "code",
   "execution_count": 53,
   "metadata": {},
   "outputs": [],
   "source": [
    "x1 = users_income_clean.query('tariff == \"smart\"')['income'] # месячная выручка пользователей тарифа smart\n",
    "x2 = users_income_clean.query('tariff == \"ultra\"')['income'] # месячная выручка пользователей тарифа ultra"
   ]
  },
  {
   "cell_type": "code",
   "execution_count": 54,
   "metadata": {},
   "outputs": [
    {
     "data": {
      "text/plain": [
       "LeveneResult(statistic=590.5673025696954, pvalue=9.835139006486476e-118)"
      ]
     },
     "execution_count": 54,
     "metadata": {},
     "output_type": "execute_result"
    }
   ],
   "source": [
    "levene(x1, x2)"
   ]
  },
  {
   "cell_type": "markdown",
   "metadata": {},
   "source": [
    "Получили pvalue < alpha (задаём такой же уровень значимости = 0.05). Исходя из теста Левене, мы отвергаем гипотезу о том, что дисперсии двух групп пользователей приблизительно одинаковы. Т.е. **дисперсии двух групп пользователей тарифов smart и ultra различны.**"
   ]
  },
  {
   "cell_type": "markdown",
   "metadata": {},
   "source": [
    "Теперь проверим, являются ли распределения месячной выручки клиентов нормальными. Для этого используем снова тест <a href=\"#shapiro\">Шапиро-Уилка</a>:"
   ]
  },
  {
   "cell_type": "code",
   "execution_count": 55,
   "metadata": {},
   "outputs": [
    {
     "name": "stdout",
     "output_type": "stream",
     "text": [
      "Проверка на нормальность распределения значений income для тарифа smart\n",
      "    p-value = 2.9042942028801577e-38\n",
      "    отвергаем нулевую гипотезу, распределение не соответствует нормальному.\n",
      "\n",
      "Проверка на нормальность распределения значений income для тарифа ultra\n",
      "    p-value = 1.401298464324817e-45\n",
      "    отвергаем нулевую гипотезу, распределение не соответствует нормальному.\n",
      "\n"
     ]
    }
   ],
   "source": [
    "is_distribution_normal(users_income_clean, 'tariff', 'income')"
   ]
  },
  {
   "cell_type": "markdown",
   "metadata": {},
   "source": [
    "Таким образом, **значения доходов, полученных от клиентов в месяц, не принадлежат нормальному распределению**. В таком случае, для проверки нашей гипотезы, о том, что выручка пользователей тарифов smart и ultra одинакова, корректнее использовать непераметрический критерий Манна Уити:"
   ]
  },
  {
   "cell_type": "code",
   "execution_count": 56,
   "metadata": {},
   "outputs": [],
   "source": [
    "from scipy.stats import mannwhitneyu"
   ]
  },
  {
   "cell_type": "code",
   "execution_count": 57,
   "metadata": {},
   "outputs": [
    {
     "data": {
      "text/plain": [
       "MannwhitneyuResult(statistic=218381.5, pvalue=8.967212039352124e-168)"
      ]
     },
     "execution_count": 57,
     "metadata": {},
     "output_type": "execute_result"
    }
   ],
   "source": [
    "mannwhitneyu(x1, x2)"
   ]
  },
  {
   "cell_type": "markdown",
   "metadata": {},
   "source": [
    "Поскольку мы получили, что pvalue < alpha (задаём такой же уровень значимости = 0.05), то **мы отвергаем гипотезу о том, что выручка пользователей тарифов smart и ultra одинакова**. \n",
    "\n",
    "Из таблицы <a href=\"#tarifs_statistics\">tarifs_statistics</a> мы знаем, что среднее значение дохода от пользователей тарифа ultra превышает тот же показатель пользователей smart приблизительно в 1.6 раза."
   ]
  },
  {
   "cell_type": "code",
   "execution_count": 72,
   "metadata": {},
   "outputs": [
    {
     "data": {
      "text/html": [
       "<div>\n",
       "<style scoped>\n",
       "    .dataframe tbody tr th:only-of-type {\n",
       "        vertical-align: middle;\n",
       "    }\n",
       "\n",
       "    .dataframe tbody tr th {\n",
       "        vertical-align: top;\n",
       "    }\n",
       "\n",
       "    .dataframe thead th {\n",
       "        text-align: right;\n",
       "    }\n",
       "</style>\n",
       "<table border=\"1\" class=\"dataframe\">\n",
       "  <thead>\n",
       "    <tr style=\"text-align: right;\">\n",
       "      <th></th>\n",
       "      <th>count</th>\n",
       "      <th>mean</th>\n",
       "      <th>std</th>\n",
       "      <th>min</th>\n",
       "      <th>25%</th>\n",
       "      <th>50%</th>\n",
       "      <th>75%</th>\n",
       "      <th>max</th>\n",
       "    </tr>\n",
       "    <tr>\n",
       "      <th>tariff</th>\n",
       "      <th></th>\n",
       "      <th></th>\n",
       "      <th></th>\n",
       "      <th></th>\n",
       "      <th></th>\n",
       "      <th></th>\n",
       "      <th></th>\n",
       "      <th></th>\n",
       "    </tr>\n",
       "  </thead>\n",
       "  <tbody>\n",
       "    <tr>\n",
       "      <th>smart</th>\n",
       "      <td>1860.0</td>\n",
       "      <td>1218.609140</td>\n",
       "      <td>725.25250</td>\n",
       "      <td>550.0</td>\n",
       "      <td>566.5</td>\n",
       "      <td>977.0</td>\n",
       "      <td>1659.0</td>\n",
       "      <td>4355.0</td>\n",
       "    </tr>\n",
       "    <tr>\n",
       "      <th>ultra</th>\n",
       "      <td>743.0</td>\n",
       "      <td>2034.242261</td>\n",
       "      <td>293.23684</td>\n",
       "      <td>1950.0</td>\n",
       "      <td>1950.0</td>\n",
       "      <td>1950.0</td>\n",
       "      <td>1950.0</td>\n",
       "      <td>3946.0</td>\n",
       "    </tr>\n",
       "  </tbody>\n",
       "</table>\n",
       "</div>"
      ],
      "text/plain": [
       "         count         mean        std     min     25%     50%     75%     max\n",
       "tariff                                                                        \n",
       "smart   1860.0  1218.609140  725.25250   550.0   566.5   977.0  1659.0  4355.0\n",
       "ultra    743.0  2034.242261  293.23684  1950.0  1950.0  1950.0  1950.0  3946.0"
      ]
     },
     "execution_count": 72,
     "metadata": {},
     "output_type": "execute_result"
    }
   ],
   "source": [
    "users_income_clean.groupby('tariff')['income'].describe()"
   ]
  },
  {
   "cell_type": "markdown",
   "metadata": {},
   "source": [
    "### Шаг 4.2 Проверка гипотезы об отличии/равенстве выручки пользователей из Москвы и из других регионов."
   ]
  },
  {
   "cell_type": "markdown",
   "metadata": {},
   "source": [
    "Сформулируем для начала нулевую и альтернативную гипотезы:\n",
    "- Нулевая гипотеза: **\"доход от пользователей, проживающих в Москве, и пользователей из регионов равны\"**.\n",
    "- Альтернативная гипотеза: **\"доход от пользователей, проживающих в Москве, и пользователей из регионов различаются\"**."
   ]
  },
  {
   "cell_type": "markdown",
   "metadata": {},
   "source": [
    "На данном этапе разумным представляется оценивать распределения, в которых каждое измерение - это средний доход компании от каждого конкретного пользователя в месяц. Для этого нужно сформировать таблицу, в которой каждому user_id будет соответствовать его средний месячный счёт за услуги. Кроме того, нам нужны данные о городе проживания пользователя из таблицы users. Затем мы сформируем две выборки по городу проживания."
   ]
  },
  {
   "cell_type": "code",
   "execution_count": 58,
   "metadata": {},
   "outputs": [
    {
     "data": {
      "text/html": [
       "<div>\n",
       "<style scoped>\n",
       "    .dataframe tbody tr th:only-of-type {\n",
       "        vertical-align: middle;\n",
       "    }\n",
       "\n",
       "    .dataframe tbody tr th {\n",
       "        vertical-align: top;\n",
       "    }\n",
       "\n",
       "    .dataframe thead th {\n",
       "        text-align: right;\n",
       "    }\n",
       "</style>\n",
       "<table border=\"1\" class=\"dataframe\">\n",
       "  <thead>\n",
       "    <tr style=\"text-align: right;\">\n",
       "      <th></th>\n",
       "      <th>user_id</th>\n",
       "      <th>income_per_month</th>\n",
       "    </tr>\n",
       "  </thead>\n",
       "  <tbody>\n",
       "    <tr>\n",
       "      <th>0</th>\n",
       "      <td>1000</td>\n",
       "      <td>1950.000000</td>\n",
       "    </tr>\n",
       "    <tr>\n",
       "      <th>1</th>\n",
       "      <td>1002</td>\n",
       "      <td>959.428571</td>\n",
       "    </tr>\n",
       "    <tr>\n",
       "      <th>2</th>\n",
       "      <td>1003</td>\n",
       "      <td>1950.000000</td>\n",
       "    </tr>\n",
       "    <tr>\n",
       "      <th>3</th>\n",
       "      <td>1004</td>\n",
       "      <td>1950.000000</td>\n",
       "    </tr>\n",
       "    <tr>\n",
       "      <th>4</th>\n",
       "      <td>1005</td>\n",
       "      <td>862.000000</td>\n",
       "    </tr>\n",
       "    <tr>\n",
       "      <th>...</th>\n",
       "      <td>...</td>\n",
       "      <td>...</td>\n",
       "    </tr>\n",
       "    <tr>\n",
       "      <th>412</th>\n",
       "      <td>1495</td>\n",
       "      <td>2261.800000</td>\n",
       "    </tr>\n",
       "    <tr>\n",
       "      <th>413</th>\n",
       "      <td>1496</td>\n",
       "      <td>2316.000000</td>\n",
       "    </tr>\n",
       "    <tr>\n",
       "      <th>414</th>\n",
       "      <td>1497</td>\n",
       "      <td>912.666667</td>\n",
       "    </tr>\n",
       "    <tr>\n",
       "      <th>415</th>\n",
       "      <td>1498</td>\n",
       "      <td>1584.750000</td>\n",
       "    </tr>\n",
       "    <tr>\n",
       "      <th>416</th>\n",
       "      <td>1499</td>\n",
       "      <td>914.750000</td>\n",
       "    </tr>\n",
       "  </tbody>\n",
       "</table>\n",
       "<p>417 rows × 2 columns</p>\n",
       "</div>"
      ],
      "text/plain": [
       "     user_id  income_per_month\n",
       "0       1000       1950.000000\n",
       "1       1002        959.428571\n",
       "2       1003       1950.000000\n",
       "3       1004       1950.000000\n",
       "4       1005        862.000000\n",
       "..       ...               ...\n",
       "412     1495       2261.800000\n",
       "413     1496       2316.000000\n",
       "414     1497        912.666667\n",
       "415     1498       1584.750000\n",
       "416     1499        914.750000\n",
       "\n",
       "[417 rows x 2 columns]"
      ]
     },
     "execution_count": 58,
     "metadata": {},
     "output_type": "execute_result"
    }
   ],
   "source": [
    "users_costs_per_month = users_income_clean.groupby('user_id').agg({'income': ['mean']}).reset_index()\n",
    "users_costs_per_month.columns = ['user_id', 'income_per_month']\n",
    "users_costs_per_month"
   ]
  },
  {
   "cell_type": "markdown",
   "metadata": {},
   "source": [
    "В нашей таблице 417 пользователей. Теперь добавим город из таблицы users и произведём группировку по признаку, является ли городом проживания Москва."
   ]
  },
  {
   "cell_type": "code",
   "execution_count": 59,
   "metadata": {},
   "outputs": [
    {
     "data": {
      "text/html": [
       "<div>\n",
       "<style scoped>\n",
       "    .dataframe tbody tr th:only-of-type {\n",
       "        vertical-align: middle;\n",
       "    }\n",
       "\n",
       "    .dataframe tbody tr th {\n",
       "        vertical-align: top;\n",
       "    }\n",
       "\n",
       "    .dataframe thead th {\n",
       "        text-align: right;\n",
       "    }\n",
       "</style>\n",
       "<table border=\"1\" class=\"dataframe\">\n",
       "  <thead>\n",
       "    <tr style=\"text-align: right;\">\n",
       "      <th></th>\n",
       "      <th>user_id</th>\n",
       "      <th>income_per_month</th>\n",
       "      <th>city</th>\n",
       "    </tr>\n",
       "  </thead>\n",
       "  <tbody>\n",
       "    <tr>\n",
       "      <th>0</th>\n",
       "      <td>1000</td>\n",
       "      <td>1950.000000</td>\n",
       "      <td>Краснодар</td>\n",
       "    </tr>\n",
       "    <tr>\n",
       "      <th>1</th>\n",
       "      <td>1002</td>\n",
       "      <td>959.428571</td>\n",
       "      <td>Стерлитамак</td>\n",
       "    </tr>\n",
       "    <tr>\n",
       "      <th>2</th>\n",
       "      <td>1003</td>\n",
       "      <td>1950.000000</td>\n",
       "      <td>Москва</td>\n",
       "    </tr>\n",
       "    <tr>\n",
       "      <th>3</th>\n",
       "      <td>1004</td>\n",
       "      <td>1950.000000</td>\n",
       "      <td>Новокузнецк</td>\n",
       "    </tr>\n",
       "    <tr>\n",
       "      <th>4</th>\n",
       "      <td>1005</td>\n",
       "      <td>862.000000</td>\n",
       "      <td>Набережные Челны</td>\n",
       "    </tr>\n",
       "  </tbody>\n",
       "</table>\n",
       "</div>"
      ],
      "text/plain": [
       "   user_id  income_per_month              city\n",
       "0     1000       1950.000000         Краснодар\n",
       "1     1002        959.428571       Стерлитамак\n",
       "2     1003       1950.000000            Москва\n",
       "3     1004       1950.000000       Новокузнецк\n",
       "4     1005        862.000000  Набережные Челны"
      ]
     },
     "execution_count": 59,
     "metadata": {},
     "output_type": "execute_result"
    }
   ],
   "source": [
    "users_cut_2 = users[['user_id', 'city']]\n",
    "users_costs_per_month = pd.merge(users_costs_per_month, users_cut_2, on = ['user_id'])\n",
    "users_costs_per_month.head()"
   ]
  },
  {
   "cell_type": "code",
   "execution_count": 60,
   "metadata": {},
   "outputs": [],
   "source": [
    "y1 = users_costs_per_month.query('city == \"Москва\"')['income_per_month'] # месячная выручка пользователей тарифа smart\n",
    "y2 = users_costs_per_month.query('city != \"Москва\"')['income_per_month'] # месячная выручка пользователей тарифа ultra"
   ]
  },
  {
   "cell_type": "markdown",
   "metadata": {},
   "source": [
    "После того, как сформированы выборки, проверим, равны ли дисперсии двух выборок у1 и у2:"
   ]
  },
  {
   "cell_type": "code",
   "execution_count": 61,
   "metadata": {},
   "outputs": [
    {
     "data": {
      "text/plain": [
       "LeveneResult(statistic=0.8479355315862115, pvalue=0.35767198926903976)"
      ]
     },
     "execution_count": 61,
     "metadata": {},
     "output_type": "execute_result"
    }
   ],
   "source": [
    "levene(y1, y2)"
   ]
  },
  {
   "cell_type": "markdown",
   "metadata": {},
   "source": [
    "Исходя из теста Левене, у нас не получилось отвергнуть нулевую гипотезу о том, что дисперсия доходов от пользователей из Москвы и дисперсия доходов от всех остальных пользователей приблизительно одинаковы. Проверим, сколько пользователей проживает в Москве:"
   ]
  },
  {
   "cell_type": "code",
   "execution_count": 62,
   "metadata": {},
   "outputs": [
    {
     "data": {
      "text/plain": [
       "82"
      ]
     },
     "execution_count": 62,
     "metadata": {},
     "output_type": "execute_result"
    }
   ],
   "source": [
    "len(y1)"
   ]
  },
  {
   "cell_type": "code",
   "execution_count": 63,
   "metadata": {},
   "outputs": [
    {
     "data": {
      "text/plain": [
       "335"
      ]
     },
     "execution_count": 63,
     "metadata": {},
     "output_type": "execute_result"
    }
   ],
   "source": [
    "len(y2)"
   ]
  },
  {
   "cell_type": "markdown",
   "metadata": {},
   "source": [
    "Таким образом, у нас не получилось отвергнуть гипотезу о равенстве дисперсий двух выборок, и число измерений в каждой выборке больше 30. Это означает, что мы можем применить критерий Стьюдента."
   ]
  },
  {
   "cell_type": "code",
   "execution_count": 64,
   "metadata": {},
   "outputs": [],
   "source": [
    "from scipy.stats import ttest_ind"
   ]
  },
  {
   "cell_type": "code",
   "execution_count": 65,
   "metadata": {},
   "outputs": [
    {
     "data": {
      "text/plain": [
       "Ttest_indResult(statistic=-0.01140960574417514, pvalue=0.9909021320084023)"
      ]
     },
     "execution_count": 65,
     "metadata": {},
     "output_type": "execute_result"
    }
   ],
   "source": [
    "ttest_ind(y1, y2, equal_var=True)"
   ]
  },
  {
   "cell_type": "markdown",
   "metadata": {},
   "source": [
    "## Шаг 4. Выводы"
   ]
  },
  {
   "cell_type": "markdown",
   "metadata": {},
   "source": [
    "Нами был проведён статистический анализ с целью проверки двух нулевых гипотез: \n",
    "1. **Выручка пользователей тарифов smart и ultra одинакова**\n",
    "1. **Доход от пользователей, проживающих в Москве, и пользователей из регионов равны**\n",
    "\n",
    "На первом шага анализа проводилась проверка приблизительного равенства дисперсий двух выборок с помощью теста Левене.\n",
    "\n",
    "Две выборки прользователей тарифов smart и ultra характеризуются различными дисперсиями и не соответствуют нормальному распределению, что подтвердил тест Шапиро Вилка. Поэтому для подтверждения/опровержения первой гипотезы был использован непераметрический критерий Манна Уити. В результате теста нулевая гипотеза была опровергнута, т.е. **выручки пользователей тарифов smart и ultra различаются**.\n",
    "\n",
    "В случае двух выборок пользователей из Москвы и других регионов, их дисперсии, по всей видимости, близки по значениям, поскольку на основании тесте Левене не удалось опровергнуть гипотезу о равенстве дисперсий. Исходя из того, что число измерений в обоих выборках превышает 30, можно использовать для проверки гипотез тест Стьюдента, что и было сделано. В результате нам не удалось отвергнуть нулевую гипотезу о том, что **доход от пользователей, проживающих в Москве, и пользователей из регионов равны**. \n",
    "\n",
    "Во всех тестах уровень статистической значимости alpha был выбран равным 0.05."
   ]
  },
  {
   "cell_type": "markdown",
   "metadata": {},
   "source": [
    "# Общие выводы"
   ]
  },
  {
   "cell_type": "markdown",
   "metadata": {},
   "source": [
    "Целью данного анализа было сравнение двух тарифов на предмет большей прибыльности. Два тарифных плана «Смарт» и «Ультра» сравнивались на небольшой выборке из 500 абонентов компании «Мегалайн» — федерального оператора сотовой связи, все данные предоставлены за 2018 год. Благодаря помесячной компановке данных для каждого пользователся, удалось расширить выборку до 2667 измерений. Данные были проанализированы на предмет наличия выбросов и очищенны от них. В итоговом анализе фигурирует 2603 измерения, причём данных по тарифу \"smart\" в 2,5 раза больше, чем по тарифу ultra. \n",
    "\n",
    "Для каждого пользователя были произведены следующие количественные оценки: количество сделанных звонков и израсходованных минут разговора по месяцам; количество отправленных сообщений по месяцам; объем израсходованного интернет-трафика по месяцам; помесячная выручка компании с каждого пользователя. \n",
    "\n",
    "В среднем в месяц клиенты тарифа smart разговаривают по телефону 430 минут (стандартное отклонение составляет 183 минуты), отправляют 38 смс (стандартное отклонение 25 смс) и используют 16253 мб трафика (стандартное отклонение 5455 мб). Для тарифа ultra эти значения составляют 567 минут (стандартное отклонение 313), 61 смс (стандартное отклонение 43 смс) и 19536 мб (стандартное отклонение 9534 мб).\n",
    "\n",
    "Если проводить сравнительный анализ двух тарифов, то получим следующее:\n",
    "\n",
    "- пользователи тарифа ultra разговаривают в среднем в 1.32 раза дольше, чем пользователи тарифа smart\n",
    "- в среднем они отправляют в 1.6 раз больше смс\n",
    "- их трафик в среднем превышает трафик пользователей тарифа smart в 1.2 раза.\n",
    "\n",
    "Таким образом, пользователи разных тарифов используют услуги в разном объёме, а именно, абоненты тарифа ultra являются более активными пользователями услуг сотового оператора. Исходя из этого нужно было уточнить, приносят ли пользователи тарифов ultra и smart одинаковый доход компании. Мы сформулировали нулевую и альтернативную гипотезу следующим образом: \n",
    "1. Нулевая гипотеза: \"выручка пользователей тарифов smart и ultra одинакова\". \n",
    "1. Альтернативная гипотеза: \"выручки пользователей тарифов smart и ultra различаются\"\n",
    "\n",
    "Уровень статистической значимости всех тестов alpha был задан на уровне = 0.05.\n",
    "\n",
    "Последующий статистический анализ основывался на непераметрическом критерии Манна Уити (поскольку в среднем дисперсии двух выборок различны, а сами выборки не отвечают нормальному распределению). В результате теста нулевая гипотеза была опровергнута, т.е. **выручки пользователей тарифов smart и ultra различаются**. Более выгодным тарифом для компании «Мегалайн» является тариф ultra, поскольку один абонент тарифа ultra в средням приносят в 1.7 раз больший месячный доход, чем абонент тарифа smart.  **Таким образом, для \"Мегалайн\" выгоднее увеличить бюджет рекламной компании тарифа ultra**.\n",
    "\n",
    "Второй задачей статистического анализа было выявление более прибыльной целевой аудитории для рекламного бюджета. Для этого были выдвинуты следующие гипотезы:\n",
    "\n",
    "Нулевая гипотеза: \"доход от пользователей, проживающих в Москве, и пользователей из регионов равны\".\n",
    "Альтернативная гипотеза: \"доход от пользователей, проживающих в Москве, и пользователей из регионов различаются\".\n",
    "\n",
    "По результатам теста Стьюдента с уровнем статистической значимости alpha = 0.05 нам не удалось опровергнуть нулевую гипотезу, т.е. **доход от пользователей, проживающих в Москве, и пользователей из регионов равны. Таким образом реклама должна быть нацелена в равной степени на жителей Москвы и других регионов**.\n"
   ]
  }
 ],
 "metadata": {
  "kernelspec": {
   "display_name": "Python 3",
   "language": "python",
   "name": "python3"
  },
  "language_info": {
   "codemirror_mode": {
    "name": "ipython",
    "version": 3
   },
   "file_extension": ".py",
   "mimetype": "text/x-python",
   "name": "python",
   "nbconvert_exporter": "python",
   "pygments_lexer": "ipython3",
   "version": "3.8.3"
  },
  "toc": {
   "base_numbering": 1,
   "nav_menu": {},
   "number_sections": true,
   "sideBar": true,
   "skip_h1_title": true,
   "title_cell": "Table of Contents",
   "title_sidebar": "Contents",
   "toc_cell": false,
   "toc_position": {},
   "toc_section_display": true,
   "toc_window_display": false
  }
 },
 "nbformat": 4,
 "nbformat_minor": 2
}
