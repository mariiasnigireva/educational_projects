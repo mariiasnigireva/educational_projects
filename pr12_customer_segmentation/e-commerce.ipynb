{
 "cells": [
  {
   "cell_type": "markdown",
   "metadata": {},
   "source": [
    "# E-commerce — Выявление профилей потребления"
   ]
  },
  {
   "cell_type": "markdown",
   "metadata": {},
   "source": [
    "## Материалы\n",
    "Презентация: https://yadi.sk/i/mMmd8VPg3f2I9g"
   ]
  },
  {
   "cell_type": "markdown",
   "metadata": {},
   "source": [
    "## Оглавление\n",
    "* [ЦЕЛЬ: сегментирование покупателей по профилю потребления](#step1)\n",
    "\n",
    "* [План исследования](#step2)\n",
    "\n",
    "* [Описание данных](#step3)\n",
    "\n",
    "* [Исследование](#step4)\n",
    "    * [Шаг 1. Изучение общей информации](#step5)\n",
    "    * [Шаг 1. Вывод](#step6)\n",
    "    * [Шаг 2. Исследовательский анализ](#step7)\n",
    "    * [Шаг 2. Вывод](#step8)\n",
    "    * [Шаг 3. Сегментация покупателей по профилю потребления](#step9)\n",
    "    * [Шаг 3. Вывод](#step10)\n",
    "    * [Шаг 4. Проверка статистических гипотез](#step11)\n",
    "    * [Шаг 4. Вывод](#step12)\n",
    "               \n",
    "* [Общие выводы](#step13)\n",
    "\n",
    "\n",
    "## ЦЕЛЬ: Сегментирование покупателей по профилю потребления  <a id=\"step1\"></a> \n",
    "\n",
    "Цель исследования - сегментировать покупателей по профилю потребления, чтобы в дальнейшем построить рекомендательную систему на основе их предыдущей покупательской активности:\n",
    "\n",
    "* сформировать типичные портреты пользователей: выделить несколько наиболее характерных потребительских корзин;\n",
    "* проанализировать основные свойства пользователей (средний доход от одного пользователя, как часто совершают покупки, есть ли сезонность и т.д.);\n",
    "* сформулировать и проверить основные гипотезы:\n",
    " \n",
    "                      - выручка магазина от пользователей из разных сегментов одинакова;\n",
    "                      - среднии выручки от одного пользователя из каждого сегмента одинаковы.\n",
    "\n",
    "\n",
    "## План исследования:  <a id=\"step2\"></a> \n",
    "\n",
    "**1. Шаг - Изучение общей информации:** \n",
    "\n",
    "Обзор данных, первичное исследование.\n",
    "\n",
    "**2. Шаг - исследовательский анализ данных:** \n",
    "\n",
    "Для достоверности и удобства дальнейшего анализа необходимо:\n",
    "\n",
    "1. Привести данные к нужным типам, найти и заполнить пропуски при необходимости;\n",
    "1. Построить диаграмму, отображающую сумму покупок по дням;\n",
    "1. Построить гистограмму, отображающую распределение заказов по сумме.\n",
    "\n",
    "**3. Шаг - сегментация покупателей по профилю потребления:**  \n",
    "\n",
    "1. Построить модель классификации покупателей (примерная разбивка: дачники, цветоводы и т.д.);\n",
    "1. Разбить данные по классам покупателей;\n",
    "\n",
    "\n",
    "**4. Шаг - проверка статистических гипотез:**  \n",
    "\n",
    "Необходимо сформулировать и проверить следующие гипотезы:\n",
    "\n",
    "                      - выручка магазина от пользователей из разных сегментов одинакова;\n",
    "                      - среднии выручки от одного пользователя из каждого сегмента одинаковы.\n",
    "\n",
    "**5. Шаг - общие выводы:** \n",
    "\n",
    "По результатам исследования необходимо сделать основные выводы.\n",
    "\n",
    "## Описание данных:  <a id=\"step3\"></a> \n",
    "\n",
    "Датасет описывает транзакции интернет-магазина товаров для дома и быта «Пока все ещё тут».\n",
    "\n",
    "Колонки в  *ecommerce_dataset.csv* :\n",
    "\n",
    "- `date` — дата заказа;\n",
    "- `customer_id` — идентификатор покупателя;\n",
    "- `order_id` — идентификатор заказа;\n",
    "- `product` — наименование товара;\n",
    "- `quantity` — количество товара в заказе;\n",
    "- `price` — цена товара.\n",
    "\n",
    "## Исследование <a id=\"step4\"></a> \n",
    "\n",
    "\n",
    "## Шаг 1. Изучение общей информации  <a id=\"step5\"></a> "
   ]
  },
  {
   "cell_type": "code",
   "execution_count": 1,
   "metadata": {},
   "outputs": [],
   "source": [
    "import pandas as pd\n",
    "import numpy as np\n",
    "import seaborn as sns\n",
    "import matplotlib.pyplot as plt\n",
    "import scipy.stats as stats\n",
    "from scipy.stats import shapiro\n",
    "import datetime as dt\n",
    "import math as mth\n",
    "from scipy import stats as st\n",
    "from scipy.stats import mannwhitneyu\n",
    "import plotly.express as px\n",
    "from plotly import graph_objects as go\n",
    "from IPython.display import display\n",
    "pd.set_option('display.max_columns', None) \n",
    "pd.options.display.max_colwidth = 110\n",
    "from pandas.plotting import register_matplotlib_converters\n",
    "register_matplotlib_converters()\n",
    "from pymystem3 import Mystem\n",
    "from collections import Counter\n",
    "import functools, operator"
   ]
  },
  {
   "cell_type": "code",
   "execution_count": 2,
   "metadata": {},
   "outputs": [],
   "source": [
    "df = pd.read_csv('/datasets/ecommerce_dataset.csv')"
   ]
  },
  {
   "cell_type": "markdown",
   "metadata": {},
   "source": [
    "Перед тем, как перейти к самому анализу, проделаем предобработку: выведем данные, проверим типы данных, наличие дубликатов и пропусков:"
   ]
  },
  {
   "cell_type": "code",
   "execution_count": 3,
   "metadata": {},
   "outputs": [
    {
     "data": {
      "text/html": [
       "<div>\n",
       "<style scoped>\n",
       "    .dataframe tbody tr th:only-of-type {\n",
       "        vertical-align: middle;\n",
       "    }\n",
       "\n",
       "    .dataframe tbody tr th {\n",
       "        vertical-align: top;\n",
       "    }\n",
       "\n",
       "    .dataframe thead th {\n",
       "        text-align: right;\n",
       "    }\n",
       "</style>\n",
       "<table border=\"1\" class=\"dataframe\">\n",
       "  <thead>\n",
       "    <tr style=\"text-align: right;\">\n",
       "      <th></th>\n",
       "      <th>date</th>\n",
       "      <th>customer_id</th>\n",
       "      <th>order_id</th>\n",
       "      <th>product</th>\n",
       "      <th>quantity</th>\n",
       "      <th>price</th>\n",
       "    </tr>\n",
       "  </thead>\n",
       "  <tbody>\n",
       "    <tr>\n",
       "      <td>0</td>\n",
       "      <td>2018100100</td>\n",
       "      <td>ee47d746-6d2f-4d3c-9622-c31412542920</td>\n",
       "      <td>68477</td>\n",
       "      <td>Комнатное растение в горшке Алое Вера, d12, h30</td>\n",
       "      <td>1</td>\n",
       "      <td>142.0</td>\n",
       "    </tr>\n",
       "    <tr>\n",
       "      <td>1</td>\n",
       "      <td>2018100100</td>\n",
       "      <td>ee47d746-6d2f-4d3c-9622-c31412542920</td>\n",
       "      <td>68477</td>\n",
       "      <td>Комнатное растение в горшке Кофе Арабика, d12, h25</td>\n",
       "      <td>1</td>\n",
       "      <td>194.0</td>\n",
       "    </tr>\n",
       "    <tr>\n",
       "      <td>2</td>\n",
       "      <td>2018100100</td>\n",
       "      <td>ee47d746-6d2f-4d3c-9622-c31412542920</td>\n",
       "      <td>68477</td>\n",
       "      <td>Радермахера d-12 см h-20 см</td>\n",
       "      <td>1</td>\n",
       "      <td>112.0</td>\n",
       "    </tr>\n",
       "    <tr>\n",
       "      <td>3</td>\n",
       "      <td>2018100100</td>\n",
       "      <td>ee47d746-6d2f-4d3c-9622-c31412542920</td>\n",
       "      <td>68477</td>\n",
       "      <td>Хризолидокарпус Лутесценс d-9 см</td>\n",
       "      <td>1</td>\n",
       "      <td>179.0</td>\n",
       "    </tr>\n",
       "    <tr>\n",
       "      <td>4</td>\n",
       "      <td>2018100100</td>\n",
       "      <td>ee47d746-6d2f-4d3c-9622-c31412542920</td>\n",
       "      <td>68477</td>\n",
       "      <td>Циперус Зумула d-12 см h-25 см</td>\n",
       "      <td>1</td>\n",
       "      <td>112.0</td>\n",
       "    </tr>\n",
       "  </tbody>\n",
       "</table>\n",
       "</div>"
      ],
      "text/plain": [
       "         date                           customer_id  order_id  \\\n",
       "0  2018100100  ee47d746-6d2f-4d3c-9622-c31412542920     68477   \n",
       "1  2018100100  ee47d746-6d2f-4d3c-9622-c31412542920     68477   \n",
       "2  2018100100  ee47d746-6d2f-4d3c-9622-c31412542920     68477   \n",
       "3  2018100100  ee47d746-6d2f-4d3c-9622-c31412542920     68477   \n",
       "4  2018100100  ee47d746-6d2f-4d3c-9622-c31412542920     68477   \n",
       "\n",
       "                                              product  quantity  price  \n",
       "0     Комнатное растение в горшке Алое Вера, d12, h30         1  142.0  \n",
       "1  Комнатное растение в горшке Кофе Арабика, d12, h25         1  194.0  \n",
       "2                         Радермахера d-12 см h-20 см         1  112.0  \n",
       "3                    Хризолидокарпус Лутесценс d-9 см         1  179.0  \n",
       "4                      Циперус Зумула d-12 см h-25 см         1  112.0  "
      ]
     },
     "execution_count": 3,
     "metadata": {},
     "output_type": "execute_result"
    }
   ],
   "source": [
    "#df = pd.read_csv('/Users/mariia/Documents/python/выпускной проект/ecommerce_dataset.csv')\n",
    "df.head()"
   ]
  },
  {
   "cell_type": "markdown",
   "metadata": {},
   "source": [
    "Первый столбец с датой выглядит непривычно. Посмотрим на все типы данных в таблице:"
   ]
  },
  {
   "cell_type": "code",
   "execution_count": 4,
   "metadata": {},
   "outputs": [
    {
     "name": "stdout",
     "output_type": "stream",
     "text": [
      "<class 'pandas.core.frame.DataFrame'>\n",
      "RangeIndex: 6737 entries, 0 to 6736\n",
      "Data columns (total 6 columns):\n",
      "date           6737 non-null int64\n",
      "customer_id    6737 non-null object\n",
      "order_id       6737 non-null int64\n",
      "product        6737 non-null object\n",
      "quantity       6737 non-null int64\n",
      "price          6737 non-null float64\n",
      "dtypes: float64(1), int64(3), object(2)\n",
      "memory usage: 315.9+ KB\n"
     ]
    }
   ],
   "source": [
    "df.info()"
   ]
  },
  {
   "cell_type": "markdown",
   "metadata": {},
   "source": [
    "В датафрейме нет пропущенных данных, но нужно переделать тип данных для столбца date из целочисленного в формат даты и времени. В начале указан год, затем скорее всего месяц и день. Пока не ясно, что означают две последние цифры. Посмотрим на диапазон значений даты:"
   ]
  },
  {
   "cell_type": "code",
   "execution_count": 5,
   "metadata": {},
   "outputs": [
    {
     "name": "stdout",
     "output_type": "stream",
     "text": [
      "2019103116\n",
      "2018100100\n"
     ]
    }
   ],
   "source": [
    "print(df.date.max())\n",
    "print(df.date.min())"
   ]
  },
  {
   "cell_type": "markdown",
   "metadata": {},
   "source": [
    "В нашем распоряжении данные с 01.10.2018 по 31.10.2019, т.е. за триннадцать месяцев. \n",
    "\n",
    "Можно предположить, что последние две цифры означают час. Посмотрим для уточнения, какие значения принимают две последние цифры в столбце даты:"
   ]
  },
  {
   "cell_type": "code",
   "execution_count": 6,
   "metadata": {},
   "outputs": [
    {
     "data": {
      "text/plain": [
       "13    569\n",
       "9     517\n",
       "10    487\n",
       "11    475\n",
       "14    457\n",
       "16    455\n",
       "8     416\n",
       "17    396\n",
       "12    394\n",
       "15    378\n",
       "22    376\n",
       "19    374\n",
       "20    305\n",
       "21    287\n",
       "18    276\n",
       "7     162\n",
       "23    115\n",
       "0      82\n",
       "6      73\n",
       "1      44\n",
       "5      40\n",
       "4      28\n",
       "2      21\n",
       "3      10\n",
       "Name: date, dtype: int64"
      ]
     },
     "execution_count": 6,
     "metadata": {},
     "output_type": "execute_result"
    }
   ],
   "source": [
    "(df.date % 100).value_counts()"
   ]
  },
  {
   "cell_type": "markdown",
   "metadata": {},
   "source": [
    "Действительно, последние две цифры в столбце даты - это значение часа, в который совершена покупка. Более того, выше мы получили распределение покупок по времени дня. Можно сделать вывод о том, что покупатели наиболее активны в дневное время, а пик активности приходится на час дня. Преобразуем данные в столбце в форматы даты и времени:"
   ]
  },
  {
   "cell_type": "code",
   "execution_count": 7,
   "metadata": {},
   "outputs": [
    {
     "data": {
      "text/html": [
       "<div>\n",
       "<style scoped>\n",
       "    .dataframe tbody tr th:only-of-type {\n",
       "        vertical-align: middle;\n",
       "    }\n",
       "\n",
       "    .dataframe tbody tr th {\n",
       "        vertical-align: top;\n",
       "    }\n",
       "\n",
       "    .dataframe thead th {\n",
       "        text-align: right;\n",
       "    }\n",
       "</style>\n",
       "<table border=\"1\" class=\"dataframe\">\n",
       "  <thead>\n",
       "    <tr style=\"text-align: right;\">\n",
       "      <th></th>\n",
       "      <th>date</th>\n",
       "      <th>customer_id</th>\n",
       "      <th>order_id</th>\n",
       "      <th>product</th>\n",
       "      <th>quantity</th>\n",
       "      <th>price</th>\n",
       "    </tr>\n",
       "  </thead>\n",
       "  <tbody>\n",
       "    <tr>\n",
       "      <td>0</td>\n",
       "      <td>2018-10-01</td>\n",
       "      <td>ee47d746-6d2f-4d3c-9622-c31412542920</td>\n",
       "      <td>68477</td>\n",
       "      <td>Комнатное растение в горшке Алое Вера, d12, h30</td>\n",
       "      <td>1</td>\n",
       "      <td>142.0</td>\n",
       "    </tr>\n",
       "    <tr>\n",
       "      <td>1</td>\n",
       "      <td>2018-10-01</td>\n",
       "      <td>ee47d746-6d2f-4d3c-9622-c31412542920</td>\n",
       "      <td>68477</td>\n",
       "      <td>Комнатное растение в горшке Кофе Арабика, d12, h25</td>\n",
       "      <td>1</td>\n",
       "      <td>194.0</td>\n",
       "    </tr>\n",
       "    <tr>\n",
       "      <td>2</td>\n",
       "      <td>2018-10-01</td>\n",
       "      <td>ee47d746-6d2f-4d3c-9622-c31412542920</td>\n",
       "      <td>68477</td>\n",
       "      <td>Радермахера d-12 см h-20 см</td>\n",
       "      <td>1</td>\n",
       "      <td>112.0</td>\n",
       "    </tr>\n",
       "    <tr>\n",
       "      <td>3</td>\n",
       "      <td>2018-10-01</td>\n",
       "      <td>ee47d746-6d2f-4d3c-9622-c31412542920</td>\n",
       "      <td>68477</td>\n",
       "      <td>Хризолидокарпус Лутесценс d-9 см</td>\n",
       "      <td>1</td>\n",
       "      <td>179.0</td>\n",
       "    </tr>\n",
       "    <tr>\n",
       "      <td>4</td>\n",
       "      <td>2018-10-01</td>\n",
       "      <td>ee47d746-6d2f-4d3c-9622-c31412542920</td>\n",
       "      <td>68477</td>\n",
       "      <td>Циперус Зумула d-12 см h-25 см</td>\n",
       "      <td>1</td>\n",
       "      <td>112.0</td>\n",
       "    </tr>\n",
       "  </tbody>\n",
       "</table>\n",
       "</div>"
      ],
      "text/plain": [
       "        date                           customer_id  order_id  \\\n",
       "0 2018-10-01  ee47d746-6d2f-4d3c-9622-c31412542920     68477   \n",
       "1 2018-10-01  ee47d746-6d2f-4d3c-9622-c31412542920     68477   \n",
       "2 2018-10-01  ee47d746-6d2f-4d3c-9622-c31412542920     68477   \n",
       "3 2018-10-01  ee47d746-6d2f-4d3c-9622-c31412542920     68477   \n",
       "4 2018-10-01  ee47d746-6d2f-4d3c-9622-c31412542920     68477   \n",
       "\n",
       "                                              product  quantity  price  \n",
       "0     Комнатное растение в горшке Алое Вера, d12, h30         1  142.0  \n",
       "1  Комнатное растение в горшке Кофе Арабика, d12, h25         1  194.0  \n",
       "2                         Радермахера d-12 см h-20 см         1  112.0  \n",
       "3                    Хризолидокарпус Лутесценс d-9 см         1  179.0  \n",
       "4                      Циперус Зумула d-12 см h-25 см         1  112.0  "
      ]
     },
     "execution_count": 7,
     "metadata": {},
     "output_type": "execute_result"
    }
   ],
   "source": [
    "df['date'] = pd.to_datetime(df['date'],format='%Y%m%d%H')\n",
    "df.head()"
   ]
  },
  {
   "cell_type": "markdown",
   "metadata": {},
   "source": [
    "Проверим, что данные о часе не потерялись:"
   ]
  },
  {
   "cell_type": "code",
   "execution_count": 8,
   "metadata": {},
   "outputs": [
    {
     "data": {
      "text/plain": [
       "Int64Index([ 0,  0,  0,  0,  0,  0,  0,  8,  8,  9,\n",
       "            ...\n",
       "            21,  0,  2,  9, 11, 11, 12, 13, 14, 16],\n",
       "           dtype='int64', name='date', length=6737)"
      ]
     },
     "execution_count": 8,
     "metadata": {},
     "output_type": "execute_result"
    }
   ],
   "source": [
    "pd.DatetimeIndex(df['date']).hour"
   ]
  },
  {
   "cell_type": "markdown",
   "metadata": {},
   "source": [
    "Проверим данные на наличие дубликатов:"
   ]
  },
  {
   "cell_type": "code",
   "execution_count": 9,
   "metadata": {},
   "outputs": [
    {
     "data": {
      "text/plain": [
       "0"
      ]
     },
     "execution_count": 9,
     "metadata": {},
     "output_type": "execute_result"
    }
   ],
   "source": [
    "df.duplicated().sum()"
   ]
  },
  {
   "cell_type": "markdown",
   "metadata": {},
   "source": [
    "Дубликатов нет. Мы уже знаем, что в датасете 6737 строк. Посмотрим, сколько у нас уникальных товаров, заказов и юзеров:"
   ]
  },
  {
   "cell_type": "code",
   "execution_count": 10,
   "metadata": {},
   "outputs": [
    {
     "name": "stdout",
     "output_type": "stream",
     "text": [
      "Всего в датасете фигурирует 2343 уникальных товара. В датасете 2451 уникальный пользователь. Они совершили суммарно 2784 заказа. Таким образом на каждого пользователя приходится в среднем 1.14 заказов.\n"
     ]
    }
   ],
   "source": [
    "print(f\"Всего в датасете фигурирует {df['product'].nunique()} уникальных товара.\"\n",
    "      f\" В датасете {df.customer_id.nunique()} уникальный пользователь.\"\n",
    "      f\" Они совершили суммарно {df.order_id.nunique()} заказа.\"\n",
    "      f\" Таким образом на каждого пользователя приходится в среднем \"\n",
    "      f\"{round(df.order_id.nunique()/df.customer_id.nunique(),2)} заказов.\")\n"
   ]
  },
  {
   "cell_type": "markdown",
   "metadata": {},
   "source": [
    "## Шаг 1. Выводы  <a id=\"step6\"></a> "
   ]
  },
  {
   "cell_type": "markdown",
   "metadata": {},
   "source": [
    "На первом этапе был изучен датафрейм с информацией о дате заказа, id заказа и пользователя, совершившего этот заказ, а также названием, количеством и стоимостью продукта. Пропущенных значений и дубликатов нет, столбец с данными о дате и времени заказа переведён в соответствующий тип. В ходе изучения данных было установлено следующее:\n",
    "\n",
    "1. в нашем распоряжении данные с 01.10.2018 по 31.10.2019, таким образом мы можем проверить гипотезу о том, что некоторые товары обладают свойством сезонности;\n",
    "1. покупатели наиболее активны в дневное время, а пик активности приходится на час дня;\n",
    "1. в датасете фигурирует 2343 уникальных товара;\n",
    "1. численность уникальных пользователей составляет 2451 человек;\n",
    "1. суммарно совершено 2784 заказа, т.е. примерно по 1.14 заказа на уникального пользователя."
   ]
  },
  {
   "cell_type": "markdown",
   "metadata": {},
   "source": [
    "## Шаг 2. Исследовательский анализ  <a id=\"step7\"></a> "
   ]
  },
  {
   "cell_type": "markdown",
   "metadata": {},
   "source": [
    "Исследуем наш датасет на различного рода выбросы. Посмотрим для начала, в каком диапазоне лежит стоимость товара и число проданных единиц:"
   ]
  },
  {
   "cell_type": "code",
   "execution_count": 11,
   "metadata": {},
   "outputs": [
    {
     "data": {
      "text/html": [
       "<div>\n",
       "<style scoped>\n",
       "    .dataframe tbody tr th:only-of-type {\n",
       "        vertical-align: middle;\n",
       "    }\n",
       "\n",
       "    .dataframe tbody tr th {\n",
       "        vertical-align: top;\n",
       "    }\n",
       "\n",
       "    .dataframe thead th {\n",
       "        text-align: right;\n",
       "    }\n",
       "</style>\n",
       "<table border=\"1\" class=\"dataframe\">\n",
       "  <thead>\n",
       "    <tr style=\"text-align: right;\">\n",
       "      <th></th>\n",
       "      <th>order_id</th>\n",
       "      <th>quantity</th>\n",
       "      <th>price</th>\n",
       "    </tr>\n",
       "  </thead>\n",
       "  <tbody>\n",
       "    <tr>\n",
       "      <td>count</td>\n",
       "      <td>6737.000000</td>\n",
       "      <td>6737.000000</td>\n",
       "      <td>6737.000000</td>\n",
       "    </tr>\n",
       "    <tr>\n",
       "      <td>mean</td>\n",
       "      <td>43128.948345</td>\n",
       "      <td>2.501559</td>\n",
       "      <td>462.028499</td>\n",
       "    </tr>\n",
       "    <tr>\n",
       "      <td>std</td>\n",
       "      <td>27899.414662</td>\n",
       "      <td>15.266478</td>\n",
       "      <td>871.296064</td>\n",
       "    </tr>\n",
       "    <tr>\n",
       "      <td>min</td>\n",
       "      <td>12624.000000</td>\n",
       "      <td>1.000000</td>\n",
       "      <td>9.000000</td>\n",
       "    </tr>\n",
       "    <tr>\n",
       "      <td>25%</td>\n",
       "      <td>14827.000000</td>\n",
       "      <td>1.000000</td>\n",
       "      <td>101.000000</td>\n",
       "    </tr>\n",
       "    <tr>\n",
       "      <td>50%</td>\n",
       "      <td>68503.000000</td>\n",
       "      <td>1.000000</td>\n",
       "      <td>135.000000</td>\n",
       "    </tr>\n",
       "    <tr>\n",
       "      <td>75%</td>\n",
       "      <td>70504.000000</td>\n",
       "      <td>1.000000</td>\n",
       "      <td>398.000000</td>\n",
       "    </tr>\n",
       "    <tr>\n",
       "      <td>max</td>\n",
       "      <td>73164.000000</td>\n",
       "      <td>1000.000000</td>\n",
       "      <td>14917.000000</td>\n",
       "    </tr>\n",
       "  </tbody>\n",
       "</table>\n",
       "</div>"
      ],
      "text/plain": [
       "           order_id     quantity         price\n",
       "count   6737.000000  6737.000000   6737.000000\n",
       "mean   43128.948345     2.501559    462.028499\n",
       "std    27899.414662    15.266478    871.296064\n",
       "min    12624.000000     1.000000      9.000000\n",
       "25%    14827.000000     1.000000    101.000000\n",
       "50%    68503.000000     1.000000    135.000000\n",
       "75%    70504.000000     1.000000    398.000000\n",
       "max    73164.000000  1000.000000  14917.000000"
      ]
     },
     "execution_count": 11,
     "metadata": {},
     "output_type": "execute_result"
    }
   ],
   "source": [
    "df.describe()"
   ]
  },
  {
   "cell_type": "markdown",
   "metadata": {},
   "source": [
    "Видим, что в осноном товары продаются по одной штуке, но величина стандартного отклонения и максимальное значение в 1000 говорит о наличии выбросов. Построим ящик с усами:"
   ]
  },
  {
   "cell_type": "code",
   "execution_count": 12,
   "metadata": {},
   "outputs": [
    {
     "name": "stdout",
     "output_type": "stream",
     "text": [
      "В 81.7% случаев товары продаются по 1 штуке.\n"
     ]
    }
   ],
   "source": [
    "a = len(df[df['quantity'] == 1])/len(df)\n",
    "print(f'В {round(100*a, 1)}% случаев товары продаются по 1 штуке.')"
   ]
  },
  {
   "cell_type": "markdown",
   "metadata": {},
   "source": [
    "В основном товары продавались по 1 штуке, но есть и товар, купленный в количестве 1000 штук. Посмотрим на ящик с усами:"
   ]
  },
  {
   "cell_type": "code",
   "execution_count": 13,
   "metadata": {},
   "outputs": [
    {
     "data": {
      "text/plain": [
       "[array([1., 1.]), array([1., 1.])]"
      ]
     },
     "execution_count": 13,
     "metadata": {},
     "output_type": "execute_result"
    },
    {
     "data": {
      "image/png": "[encoded data removed]",
      "text/plain": [
       "<Figure size 432x288 with 1 Axes>"
      ]
     },
     "metadata": {
      "needs_background": "light"
     },
     "output_type": "display_data"
    }
   ],
   "source": [
    "B = plt.boxplot(df['quantity'])\n",
    "[item.get_ydata() for item in B['whiskers']]"
   ]
  },
  {
   "cell_type": "markdown",
   "metadata": {},
   "source": [
    "Ящик с усами превратился в линию, поскольку значения первого и третьего квартиля совпадают. Т.е. 75% всех товаров куплено в количестве 1 штука за раз. Тем не менее мы видим довольно много точек за пределами \"ящика\". Посмотрим на него в другом масштабе:"
   ]
  },
  {
   "cell_type": "code",
   "execution_count": 14,
   "metadata": {},
   "outputs": [
    {
     "data": {
      "image/png": "[encoded data removed]",
      "text/plain": [
       "<Figure size 432x288 with 1 Axes>"
      ]
     },
     "metadata": {
      "needs_background": "light"
     },
     "output_type": "display_data"
    }
   ],
   "source": [
    "B = plt.boxplot(df['quantity'])\n",
    "[item.get_ydata() for item in B['whiskers']]\n",
    "plt.ylim(0, 200)\n",
    "plt.show()"
   ]
  },
  {
   "cell_type": "markdown",
   "metadata": {},
   "source": [
    "Примерно до отметки 75 товаров точки лежат довольно плотно. В целом клиентов, покупающих более 10 товаров можно отнести в отдельную категории \"оптовики\", делать для них спец предложения по цене и другие акции. Посмотрим, сколько данных в нашем датафрейме с quantity > 10:"
   ]
  },
  {
   "cell_type": "code",
   "execution_count": 15,
   "metadata": {},
   "outputs": [
    {
     "data": {
      "text/plain": [
       "2.64"
      ]
     },
     "execution_count": 15,
     "metadata": {},
     "output_type": "execute_result"
    }
   ],
   "source": [
    "round(100*len(df[df['quantity'] > 10])/len(df), 2)"
   ]
  },
  {
   "cell_type": "markdown",
   "metadata": {},
   "source": [
    "Менее трёх процентов строк в датасете относятся к оптовикам. Изучение поведения оптовиков можно выделить в отдельную задачу. В текущем исследовании будем ориентироваться на поведение розничных покупателей, т.е. уберём эти строки из дальнейшего рассмотрения:"
   ]
  },
  {
   "cell_type": "code",
   "execution_count": 16,
   "metadata": {},
   "outputs": [
    {
     "data": {
      "text/plain": [
       "[array([1., 1.]), array([1., 1.])]"
      ]
     },
     "execution_count": 16,
     "metadata": {},
     "output_type": "execute_result"
    },
    {
     "data": {
      "image/png": "[encoded data removed]",
      "text/plain": [
       "<Figure size 432x288 with 1 Axes>"
      ]
     },
     "metadata": {
      "needs_background": "light"
     },
     "output_type": "display_data"
    }
   ],
   "source": [
    "df = df[df['quantity'] <= 10]\n",
    "B = plt.boxplot(df['quantity'])\n",
    "[item.get_ydata() for item in B['whiskers']]"
   ]
  },
  {
   "cell_type": "markdown",
   "metadata": {},
   "source": [
    "Усы ящика не сдвинулись, но мы можем оставить разброс значений в таком диапазоне. Посмотрим теперь на стоимость товаров: цена одного товара лежит в диапазоне от 9 до 14917 рублей, 75% товаров стоят менее 400 рублей. Т.е. в целом в магазине продаются в основном дешёвые товары. Посмотрим также на ящик с усами:"
   ]
  },
  {
   "cell_type": "code",
   "execution_count": 17,
   "metadata": {},
   "outputs": [
    {
     "data": {
      "text/plain": [
       "[array([106.,   9.]), array([415.5, 869. ])]"
      ]
     },
     "execution_count": 17,
     "metadata": {},
     "output_type": "execute_result"
    },
    {
     "data": {
      "image/png": "[encoded data removed]",
      "text/plain": [
       "<Figure size 432x288 with 1 Axes>"
      ]
     },
     "metadata": {
      "needs_background": "light"
     },
     "output_type": "display_data"
    }
   ],
   "source": [
    "B = plt.boxplot(df['price'])\n",
    "[item.get_ydata() for item in B['whiskers']]"
   ]
  },
  {
   "cell_type": "markdown",
   "metadata": {},
   "source": [
    "Большая часть цен находится в диапазоне от 106 до 415.5 рублей. При этом есть товары, которые на порядок дороже основных. Нижний ус упирается в минимальную цену товара, а верхний находится на отметке 869 рублей. Как вариант эти товары можно выделить в отдельную категорию, а дальше сегментировать товарные группы внутри \"дешёвых\" и \"дорогих\" товаров. Т.е. сделать сегментацию товаров многоуровневой. Это следующий шаг исследования, в текущем будем изучать и сегментировать товары всех цен вместе."
   ]
  },
  {
   "cell_type": "code",
   "execution_count": 20,
   "metadata": {},
   "outputs": [
    {
     "data": {
      "text/plain": [
       "2338"
      ]
     },
     "execution_count": 20,
     "metadata": {},
     "output_type": "execute_result"
    }
   ],
   "source": [
    "df.customer_id.nunique()"
   ]
  },
  {
   "cell_type": "markdown",
   "metadata": {},
   "source": [
    "Проверим, не встречается ли один и тот же заказ в разные даты:"
   ]
  },
  {
   "cell_type": "code",
   "execution_count": 21,
   "metadata": {
    "scrolled": true
   },
   "outputs": [
    {
     "data": {
      "text/html": [
       "<div>\n",
       "<style scoped>\n",
       "    .dataframe tbody tr th:only-of-type {\n",
       "        vertical-align: middle;\n",
       "    }\n",
       "\n",
       "    .dataframe tbody tr th {\n",
       "        vertical-align: top;\n",
       "    }\n",
       "\n",
       "    .dataframe thead th {\n",
       "        text-align: right;\n",
       "    }\n",
       "</style>\n",
       "<table border=\"1\" class=\"dataframe\">\n",
       "  <thead>\n",
       "    <tr style=\"text-align: right;\">\n",
       "      <th></th>\n",
       "      <th></th>\n",
       "      <th></th>\n",
       "      <th>date</th>\n",
       "      <th>quantity</th>\n",
       "      <th>price</th>\n",
       "    </tr>\n",
       "    <tr>\n",
       "      <th>customer_id</th>\n",
       "      <th>order_id</th>\n",
       "      <th>product</th>\n",
       "      <th></th>\n",
       "      <th></th>\n",
       "      <th></th>\n",
       "    </tr>\n",
       "  </thead>\n",
       "  <tbody>\n",
       "    <tr>\n",
       "      <td rowspan=\"12\" valign=\"top\">1d6c8c1f-a799-4418-9af2-1ded47d7a85c</td>\n",
       "      <td rowspan=\"12\" valign=\"top\">14833</td>\n",
       "      <td>Рассада Огурец Фараон ячейки по 6 шт Е6</td>\n",
       "      <td>74</td>\n",
       "      <td>74</td>\n",
       "      <td>74</td>\n",
       "    </tr>\n",
       "    <tr>\n",
       "      <td>Тагетис крупноцветковый рассада однолетних цветов в кассете по 10 шт</td>\n",
       "      <td>74</td>\n",
       "      <td>74</td>\n",
       "      <td>74</td>\n",
       "    </tr>\n",
       "    <tr>\n",
       "      <td>Рассада Патиссона сорт Диск, кассета по 6шт</td>\n",
       "      <td>74</td>\n",
       "      <td>74</td>\n",
       "      <td>74</td>\n",
       "    </tr>\n",
       "    <tr>\n",
       "      <td>Рассада Огурца сорт Каролина кассета 6 шт E6</td>\n",
       "      <td>74</td>\n",
       "      <td>74</td>\n",
       "      <td>74</td>\n",
       "    </tr>\n",
       "    <tr>\n",
       "      <td>Рассада Огурец Кристина ячейки по 6 шт Е6</td>\n",
       "      <td>74</td>\n",
       "      <td>74</td>\n",
       "      <td>74</td>\n",
       "    </tr>\n",
       "    <tr>\n",
       "      <td>Рассада Кабачка сорт Сосновский, кассета по 6шт</td>\n",
       "      <td>74</td>\n",
       "      <td>74</td>\n",
       "      <td>74</td>\n",
       "    </tr>\n",
       "    <tr>\n",
       "      <td>Рассада Кабачка сорт Золотинка кассета 6 шт E6</td>\n",
       "      <td>74</td>\n",
       "      <td>74</td>\n",
       "      <td>74</td>\n",
       "    </tr>\n",
       "    <tr>\n",
       "      <td>Рассада Кабачка сорт Зебра кассета 6 шт E6</td>\n",
       "      <td>74</td>\n",
       "      <td>74</td>\n",
       "      <td>74</td>\n",
       "    </tr>\n",
       "    <tr>\n",
       "      <td>Рассада Кабачка сорт Горный, кассета по 6шт</td>\n",
       "      <td>74</td>\n",
       "      <td>74</td>\n",
       "      <td>74</td>\n",
       "    </tr>\n",
       "    <tr>\n",
       "      <td>Рассада Кабачка сорт Белогор кассета 6 шт E6</td>\n",
       "      <td>74</td>\n",
       "      <td>74</td>\n",
       "      <td>74</td>\n",
       "    </tr>\n",
       "    <tr>\n",
       "      <td>Рассада Кабачка сорт Аэронавт, кассета по 6шт</td>\n",
       "      <td>74</td>\n",
       "      <td>74</td>\n",
       "      <td>74</td>\n",
       "    </tr>\n",
       "    <tr>\n",
       "      <td>Рассада Патиссона сорт НЛО Белый, кассета по 6шт</td>\n",
       "      <td>74</td>\n",
       "      <td>74</td>\n",
       "      <td>74</td>\n",
       "    </tr>\n",
       "    <tr>\n",
       "      <td>57cc80a2-2610-4eef-9457-e7c3bf0c72f0</td>\n",
       "      <td>70960</td>\n",
       "      <td>Сумка-тележка 2-х колесная Gimi Argo красная</td>\n",
       "      <td>60</td>\n",
       "      <td>60</td>\n",
       "      <td>60</td>\n",
       "    </tr>\n",
       "    <tr>\n",
       "      <td>8c290149-ad54-4d7a-87a7-9386b36390ee</td>\n",
       "      <td>69162</td>\n",
       "      <td>Термометр на окно уличный на липучках Т-5 h-20 см 1210035</td>\n",
       "      <td>23</td>\n",
       "      <td>23</td>\n",
       "      <td>23</td>\n",
       "    </tr>\n",
       "    <tr>\n",
       "      <td>ae6940d3-a1c7-4997-8853-a5b8afc60d51</td>\n",
       "      <td>71148</td>\n",
       "      <td>Гладильная доска НИКА Гранд 122х42 см НГ</td>\n",
       "      <td>16</td>\n",
       "      <td>16</td>\n",
       "      <td>16</td>\n",
       "    </tr>\n",
       "  </tbody>\n",
       "</table>\n",
       "</div>"
      ],
      "text/plain": [
       "                                                                                                                    date  \\\n",
       "customer_id                          order_id product                                                                      \n",
       "1d6c8c1f-a799-4418-9af2-1ded47d7a85c 14833    Рассада Огурец Фараон ячейки по 6 шт Е6                                 74   \n",
       "                                              Тагетис крупноцветковый рассада однолетних цветов в кассете по 10 шт    74   \n",
       "                                              Рассада Патиссона сорт Диск, кассета по 6шт                             74   \n",
       "                                              Рассада Огурца сорт Каролина кассета 6 шт E6                            74   \n",
       "                                              Рассада Огурец Кристина ячейки по 6 шт Е6                               74   \n",
       "                                              Рассада Кабачка сорт Сосновский, кассета по 6шт                         74   \n",
       "                                              Рассада Кабачка сорт Золотинка кассета 6 шт E6                          74   \n",
       "                                              Рассада Кабачка сорт Зебра кассета 6 шт E6                              74   \n",
       "                                              Рассада Кабачка сорт Горный, кассета по 6шт                             74   \n",
       "                                              Рассада Кабачка сорт Белогор кассета 6 шт E6                            74   \n",
       "                                              Рассада Кабачка сорт Аэронавт, кассета по 6шт                           74   \n",
       "                                              Рассада Патиссона сорт НЛО Белый, кассета по 6шт                        74   \n",
       "57cc80a2-2610-4eef-9457-e7c3bf0c72f0 70960    Сумка-тележка 2-х колесная Gimi Argo красная                            60   \n",
       "8c290149-ad54-4d7a-87a7-9386b36390ee 69162    Термометр на окно уличный на липучках Т-5 h-20 см 1210035               23   \n",
       "ae6940d3-a1c7-4997-8853-a5b8afc60d51 71148    Гладильная доска НИКА Гранд 122х42 см НГ                                16   \n",
       "\n",
       "                                                                                                                    quantity  \\\n",
       "customer_id                          order_id product                                                                          \n",
       "1d6c8c1f-a799-4418-9af2-1ded47d7a85c 14833    Рассада Огурец Фараон ячейки по 6 шт Е6                                     74   \n",
       "                                              Тагетис крупноцветковый рассада однолетних цветов в кассете по 10 шт        74   \n",
       "                                              Рассада Патиссона сорт Диск, кассета по 6шт                                 74   \n",
       "                                              Рассада Огурца сорт Каролина кассета 6 шт E6                                74   \n",
       "                                              Рассада Огурец Кристина ячейки по 6 шт Е6                                   74   \n",
       "                                              Рассада Кабачка сорт Сосновский, кассета по 6шт                             74   \n",
       "                                              Рассада Кабачка сорт Золотинка кассета 6 шт E6                              74   \n",
       "                                              Рассада Кабачка сорт Зебра кассета 6 шт E6                                  74   \n",
       "                                              Рассада Кабачка сорт Горный, кассета по 6шт                                 74   \n",
       "                                              Рассада Кабачка сорт Белогор кассета 6 шт E6                                74   \n",
       "                                              Рассада Кабачка сорт Аэронавт, кассета по 6шт                               74   \n",
       "                                              Рассада Патиссона сорт НЛО Белый, кассета по 6шт                            74   \n",
       "57cc80a2-2610-4eef-9457-e7c3bf0c72f0 70960    Сумка-тележка 2-х колесная Gimi Argo красная                                60   \n",
       "8c290149-ad54-4d7a-87a7-9386b36390ee 69162    Термометр на окно уличный на липучках Т-5 h-20 см 1210035                   23   \n",
       "ae6940d3-a1c7-4997-8853-a5b8afc60d51 71148    Гладильная доска НИКА Гранд 122х42 см НГ                                    16   \n",
       "\n",
       "                                                                                                                    price  \n",
       "customer_id                          order_id product                                                                      \n",
       "1d6c8c1f-a799-4418-9af2-1ded47d7a85c 14833    Рассада Огурец Фараон ячейки по 6 шт Е6                                  74  \n",
       "                                              Тагетис крупноцветковый рассада однолетних цветов в кассете по 10 шт     74  \n",
       "                                              Рассада Патиссона сорт Диск, кассета по 6шт                              74  \n",
       "                                              Рассада Огурца сорт Каролина кассета 6 шт E6                             74  \n",
       "                                              Рассада Огурец Кристина ячейки по 6 шт Е6                                74  \n",
       "                                              Рассада Кабачка сорт Сосновский, кассета по 6шт                          74  \n",
       "                                              Рассада Кабачка сорт Золотинка кассета 6 шт E6                           74  \n",
       "                                              Рассада Кабачка сорт Зебра кассета 6 шт E6                               74  \n",
       "                                              Рассада Кабачка сорт Горный, кассета по 6шт                              74  \n",
       "                                              Рассада Кабачка сорт Белогор кассета 6 шт E6                             74  \n",
       "                                              Рассада Кабачка сорт Аэронавт, кассета по 6шт                            74  \n",
       "                                              Рассада Патиссона сорт НЛО Белый, кассета по 6шт                         74  \n",
       "57cc80a2-2610-4eef-9457-e7c3bf0c72f0 70960    Сумка-тележка 2-х колесная Gimi Argo красная                             60  \n",
       "8c290149-ad54-4d7a-87a7-9386b36390ee 69162    Термометр на окно уличный на липучках Т-5 h-20 см 1210035                23  \n",
       "ae6940d3-a1c7-4997-8853-a5b8afc60d51 71148    Гладильная доска НИКА Гранд 122х42 см НГ                                 16  "
      ]
     },
     "execution_count": 21,
     "metadata": {},
     "output_type": "execute_result"
    }
   ],
   "source": [
    "df.groupby(['customer_id', 'order_id', 'product']).count().sort_values('quantity', ascending = False).head(15)"
   ]
  },
  {
   "cell_type": "markdown",
   "metadata": {},
   "source": [
    "Да, один и тот же заказ фигурирует за разные даты, это может сильно искажать реальную картину. Нужно оставить в датасете только уникальные пары дата-номер заказа:"
   ]
  },
  {
   "cell_type": "code",
   "execution_count": 22,
   "metadata": {},
   "outputs": [
    {
     "data": {
      "text/plain": [
       "order_id\n",
       "12624   2019-06-02 20:00:00\n",
       "13547   2018-10-05 00:00:00\n",
       "14480   2018-10-02 11:00:00\n",
       "14481   2018-10-02 17:00:00\n",
       "14482   2018-10-07 12:00:00\n",
       "                ...        \n",
       "73155   2019-10-31 11:00:00\n",
       "73156   2019-10-31 11:00:00\n",
       "73158   2019-10-31 12:00:00\n",
       "73162   2019-10-31 13:00:00\n",
       "73164   2019-10-31 14:00:00\n",
       "Name: order_first_date, Length: 2651, dtype: datetime64[ns]"
      ]
     },
     "execution_count": 22,
     "metadata": {},
     "output_type": "execute_result"
    }
   ],
   "source": [
    "order_first_date = df.groupby('order_id')['date'].min() \n",
    "order_first_date.name = 'order_first_date'\n",
    "order_first_date"
   ]
  },
  {
   "cell_type": "code",
   "execution_count": 23,
   "metadata": {},
   "outputs": [
    {
     "data": {
      "text/plain": [
       "6559"
      ]
     },
     "execution_count": 23,
     "metadata": {},
     "output_type": "execute_result"
    }
   ],
   "source": [
    "df = df.merge(order_first_date, how='right', on=['order_id'])\n",
    "len(df)"
   ]
  },
  {
   "cell_type": "code",
   "execution_count": 24,
   "metadata": {},
   "outputs": [
    {
     "data": {
      "text/plain": [
       "4700"
      ]
     },
     "execution_count": 24,
     "metadata": {},
     "output_type": "execute_result"
    }
   ],
   "source": [
    "df.drop_duplicates(subset=['customer_id', 'order_id', 'product'], inplace=True)\n",
    "df = df.reset_index(drop=True)\n",
    "len(df)"
   ]
  },
  {
   "cell_type": "markdown",
   "metadata": {},
   "source": [
    "Датасет очищен, таким образом примерно 28% данных были дубликатами. Посмотрим, сколько уникальных товаров и пользователей осталось:"
   ]
  },
  {
   "cell_type": "code",
   "execution_count": 25,
   "metadata": {},
   "outputs": [
    {
     "name": "stdout",
     "output_type": "stream",
     "text": [
      "Всего в датасете фигурирует 2276 уникальных товара. В датасете 2338 уникальный пользователь. Они совершили суммарно 2651 заказа. Таким образом на каждого пользователя приходится в среднем 1.13 заказов.\n"
     ]
    }
   ],
   "source": [
    "print(f\"Всего в датасете фигурирует {df['product'].nunique()} уникальных товара.\"\n",
    "      f\" В датасете {df.customer_id.nunique()} уникальный пользователь.\"\n",
    "      f\" Они совершили суммарно {df.order_id.nunique()} заказа.\"\n",
    "      f\" Таким образом на каждого пользователя приходится в среднем \"\n",
    "      f\"{round(df.order_id.nunique()/df.customer_id.nunique(),2)} заказов.\")\n"
   ]
  },
  {
   "cell_type": "markdown",
   "metadata": {},
   "source": [
    "После того, как датасет очищен, можно посмотреть на поведение пользователей. Для начала посмотрим, меняется ли выручка магазина в зависимости от сезона. Выделим день в отдельную колонку (будем агрегировать выручку магазина за день), затем постром зависимость дневной выручки магазина от времени:"
   ]
  },
  {
   "cell_type": "code",
   "execution_count": 26,
   "metadata": {},
   "outputs": [
    {
     "name": "stdout",
     "output_type": "stream",
     "text": [
      "В среднем в день в магазине 6.49 уникальных покупателей. Они совершают в среднем 6.87 покупок. Средняя выручка магазина за день составляет 7507.0 рублей.\n"
     ]
    }
   ],
   "source": [
    "df['day'] = df['date'].astype('datetime64[D]')\n",
    "df['income'] = df['price'] * df['quantity'] # столбец с выручкой от продажи продуктов одного наименования\n",
    "dau_total = df.groupby('day').agg({'customer_id': 'nunique'}).mean()\n",
    "daily_n_orders = df.groupby('day').agg({'order_id': 'nunique'}).mean()\n",
    "daily_income_mean = df.groupby('day').agg({'income': 'sum'}).mean()\n",
    "print(f'В среднем в день в магазине {round(dau_total[0],2)} уникальных покупателей.'\n",
    "      f' Они совершают в среднем {round(daily_n_orders[0],2)} покупок.'\n",
    "      f' Средняя выручка магазина за день составляет {round(daily_income_mean[0])} рублей.')"
   ]
  },
  {
   "cell_type": "markdown",
   "metadata": {},
   "source": [
    "Посмотрим теперь, как дневная выручка магазина меняется по времени. Таким образом мы сделаем первую поппытку для выявления сезонности (первую, поскольку одни товары могут продаваться лучше в один сезон, вторые - в другой, а в сумме выручка примерно оставаться на том же уровне):"
   ]
  },
  {
   "cell_type": "code",
   "execution_count": 27,
   "metadata": {},
   "outputs": [
    {
     "data": {
      "text/html": [
       "<div>\n",
       "<style scoped>\n",
       "    .dataframe tbody tr th:only-of-type {\n",
       "        vertical-align: middle;\n",
       "    }\n",
       "\n",
       "    .dataframe tbody tr th {\n",
       "        vertical-align: top;\n",
       "    }\n",
       "\n",
       "    .dataframe thead th {\n",
       "        text-align: right;\n",
       "    }\n",
       "</style>\n",
       "<table border=\"1\" class=\"dataframe\">\n",
       "  <thead>\n",
       "    <tr style=\"text-align: right;\">\n",
       "      <th></th>\n",
       "      <th>day</th>\n",
       "      <th>nunique_users</th>\n",
       "      <th>daily_income</th>\n",
       "      <th>income_per_user</th>\n",
       "    </tr>\n",
       "  </thead>\n",
       "  <tbody>\n",
       "    <tr>\n",
       "      <td>0</td>\n",
       "      <td>2018-10-01</td>\n",
       "      <td>10</td>\n",
       "      <td>10286.0</td>\n",
       "      <td>1028.60</td>\n",
       "    </tr>\n",
       "    <tr>\n",
       "      <td>1</td>\n",
       "      <td>2018-10-02</td>\n",
       "      <td>11</td>\n",
       "      <td>13399.0</td>\n",
       "      <td>1218.09</td>\n",
       "    </tr>\n",
       "    <tr>\n",
       "      <td>2</td>\n",
       "      <td>2018-10-03</td>\n",
       "      <td>6</td>\n",
       "      <td>7275.0</td>\n",
       "      <td>1212.50</td>\n",
       "    </tr>\n",
       "    <tr>\n",
       "      <td>3</td>\n",
       "      <td>2018-10-04</td>\n",
       "      <td>10</td>\n",
       "      <td>24330.0</td>\n",
       "      <td>2433.00</td>\n",
       "    </tr>\n",
       "    <tr>\n",
       "      <td>4</td>\n",
       "      <td>2018-10-05</td>\n",
       "      <td>7</td>\n",
       "      <td>4720.0</td>\n",
       "      <td>674.29</td>\n",
       "    </tr>\n",
       "    <tr>\n",
       "      <td>...</td>\n",
       "      <td>...</td>\n",
       "      <td>...</td>\n",
       "      <td>...</td>\n",
       "      <td>...</td>\n",
       "    </tr>\n",
       "    <tr>\n",
       "      <td>386</td>\n",
       "      <td>2019-10-27</td>\n",
       "      <td>3</td>\n",
       "      <td>626.0</td>\n",
       "      <td>208.67</td>\n",
       "    </tr>\n",
       "    <tr>\n",
       "      <td>387</td>\n",
       "      <td>2019-10-28</td>\n",
       "      <td>5</td>\n",
       "      <td>2140.0</td>\n",
       "      <td>428.00</td>\n",
       "    </tr>\n",
       "    <tr>\n",
       "      <td>388</td>\n",
       "      <td>2019-10-29</td>\n",
       "      <td>2</td>\n",
       "      <td>642.0</td>\n",
       "      <td>321.00</td>\n",
       "    </tr>\n",
       "    <tr>\n",
       "      <td>389</td>\n",
       "      <td>2019-10-30</td>\n",
       "      <td>11</td>\n",
       "      <td>7809.0</td>\n",
       "      <td>709.91</td>\n",
       "    </tr>\n",
       "    <tr>\n",
       "      <td>390</td>\n",
       "      <td>2019-10-31</td>\n",
       "      <td>5</td>\n",
       "      <td>2486.0</td>\n",
       "      <td>497.20</td>\n",
       "    </tr>\n",
       "  </tbody>\n",
       "</table>\n",
       "<p>391 rows × 4 columns</p>\n",
       "</div>"
      ],
      "text/plain": [
       "           day  nunique_users  daily_income  income_per_user\n",
       "0   2018-10-01             10       10286.0          1028.60\n",
       "1   2018-10-02             11       13399.0          1218.09\n",
       "2   2018-10-03              6        7275.0          1212.50\n",
       "3   2018-10-04             10       24330.0          2433.00\n",
       "4   2018-10-05              7        4720.0           674.29\n",
       "..         ...            ...           ...              ...\n",
       "386 2019-10-27              3         626.0           208.67\n",
       "387 2019-10-28              5        2140.0           428.00\n",
       "388 2019-10-29              2         642.0           321.00\n",
       "389 2019-10-30             11        7809.0           709.91\n",
       "390 2019-10-31              5        2486.0           497.20\n",
       "\n",
       "[391 rows x 4 columns]"
      ]
     },
     "execution_count": 27,
     "metadata": {},
     "output_type": "execute_result"
    }
   ],
   "source": [
    "purchases_per_user = (df.groupby(['day'])\n",
    "                      .agg({'customer_id': ['nunique'], 'income': ['sum']})\n",
    "                     )\n",
    "purchases_per_user.columns = ['nunique_users', 'daily_income']\n",
    "purchases_per_user.reset_index(inplace = True)\n",
    "purchases_per_user['income_per_user'] = round(purchases_per_user['daily_income'] \n",
    "                                              / purchases_per_user['nunique_users'], 2\n",
    "                                             )\n",
    "purchases_per_user"
   ]
  },
  {
   "cell_type": "code",
   "execution_count": 28,
   "metadata": {},
   "outputs": [
    {
     "data": {
      "image/png": "[encoded data removed]",
      "text/plain": [
       "<Figure size 648x360 with 1 Axes>"
      ]
     },
     "metadata": {
      "needs_background": "light"
     },
     "output_type": "display_data"
    }
   ],
   "source": [
    "purchases_per_user.plot(x='day', y='daily_income', kind='line', alpha=0.7, grid=True, figsize=(9,5), title= 'Изменение дневной выручки магазина во времени')\n",
    "plt.show()\n"
   ]
  },
  {
   "cell_type": "markdown",
   "metadata": {},
   "source": [
    "График очень шумный. Выручка за день - не самый удобный масштаб для отслеживания тренда, добавим колонку с неделей, посмотрим, как меняется еженедельная выручка магазина:"
   ]
  },
  {
   "cell_type": "code",
   "execution_count": 29,
   "metadata": {},
   "outputs": [
    {
     "data": {
      "image/png": "[encoded data removed]",
      "text/plain": [
       "<Figure size 648x360 with 1 Axes>"
      ]
     },
     "metadata": {
      "needs_background": "light"
     },
     "output_type": "display_data"
    }
   ],
   "source": [
    "purchases_per_user['week'] = purchases_per_user['day'].astype('datetime64[W]')\n",
    "purchases_per_user['month'] = purchases_per_user['day'].astype('datetime64[M]')\n",
    "purchases_per_user.groupby('week').agg({'daily_income': 'sum'}).plot(grid=False, figsize=(9,5), title= 'Изменение еженедельной выручки магазина во времени', legend=False)\n",
    "plt.show()"
   ]
  },
  {
   "cell_type": "code",
   "execution_count": 30,
   "metadata": {},
   "outputs": [
    {
     "data": {
      "image/png": "[encoded data removed]",
      "text/plain": [
       "<Figure size 648x360 with 1 Axes>"
      ]
     },
     "metadata": {
      "needs_background": "light"
     },
     "output_type": "display_data"
    }
   ],
   "source": [
    "purchases_per_user.groupby('month').agg({'daily_income': 'sum'}).plot(grid=False, figsize=(9,5), title= 'Изменение ежемесячной выручки магазина во времени', legend=False)\n",
    "#plt.savefig(\"Изменение ежемесячной выручки магазина во времени.png\", dpi=300)\n",
    "plt.show()"
   ]
  },
  {
   "cell_type": "markdown",
   "metadata": {},
   "source": [
    "По последнему графику отчётливо видно, что ежемесячная выручка интернет-магазина падает. Самая низкая выручка была за январь, июнь, август и сентябрь. Т.е. более прибыльними оказались месяцы с основными праздниками (НГ, 23 февраля, 8 марта) и месяц основных садово-дачных работ - апрель. При этом октябрь 2018 и октябрь 2019 года сильно отличаются по выручке. Возможно в 2018 году магазин только открылся и проводились какие-то акции в связи с этим."
   ]
  },
  {
   "cell_type": "markdown",
   "metadata": {},
   "source": [
    "Посмотрим, как меняется во времени удельный доход, т.е. средняя выручка от одного пользователя:"
   ]
  },
  {
   "cell_type": "code",
   "execution_count": 31,
   "metadata": {},
   "outputs": [
    {
     "data": {
      "image/png": "[encoded data removed]",
      "text/plain": [
       "<Figure size 648x360 with 1 Axes>"
      ]
     },
     "metadata": {
      "needs_background": "light"
     },
     "output_type": "display_data"
    }
   ],
   "source": [
    "purchases_per_user.plot(x='day', y='income_per_user', kind='line', alpha=0.7, grid=True, figsize=(9,5), title= 'Изменение дохода от одного пользователя во времени')\n",
    "plt.show()"
   ]
  },
  {
   "cell_type": "markdown",
   "metadata": {},
   "source": [
    "Опять же по такому масштабу тренд не совсем понятен, посмотрим значения за неделю:"
   ]
  },
  {
   "cell_type": "code",
   "execution_count": 32,
   "metadata": {},
   "outputs": [
    {
     "data": {
      "image/png": "[encoded data removed]",
      "text/plain": [
       "<Figure size 648x360 with 1 Axes>"
      ]
     },
     "metadata": {
      "needs_background": "light"
     },
     "output_type": "display_data"
    }
   ],
   "source": [
    "\n",
    "purchases_per_user['week'] = purchases_per_user['day'].astype('datetime64[W]')\n",
    "purchases_per_user.groupby('week').agg({'income_per_user': 'sum'}).plot(grid=False, figsize=(9,5), title= 'Изменение дохода от одного пользователя за неделю во времени', legend=False)\n",
    "#plt.savefig(\"Изменение дохода от одного пользователя за неделю во времени.png\", dpi=300)\n",
    "plt.show()"
   ]
  },
  {
   "cell_type": "markdown",
   "metadata": {},
   "source": [
    "Видим тот же тренд, что и в выручке: тренд демонстрирует отдельные пики, но сделать одназначный вывод о сезонном изменении выручки нельзя.\n",
    "\n",
    "Изучим также количество покупок, совершённых клиентами магазина за неделю, посмотрим, как оно меняется во времени:"
   ]
  },
  {
   "cell_type": "code",
   "execution_count": 33,
   "metadata": {},
   "outputs": [
    {
     "data": {
      "image/png": "[encoded data removed]",
      "text/plain": [
       "<Figure size 648x360 with 1 Axes>"
      ]
     },
     "metadata": {
      "needs_background": "light"
     },
     "output_type": "display_data"
    }
   ],
   "source": [
    "df['week'] = df['day'].astype('datetime64[W]')\n",
    "df.groupby('week').agg({'order_id': 'nunique'}).plot(grid=False, figsize=(9,5), title= 'Изменение количества покупок в неделю во времени', legend=False)\n",
    "\n",
    "#plt.savefig(\"Изменение количества покупок в неделю во времени.png\", dpi=300)\n",
    "plt.show()"
   ]
  },
  {
   "cell_type": "markdown",
   "metadata": {},
   "source": [
    "Больше всего покупок совершается в декабре и феврале (конец февраля), что не сильно отражается на выручке магазина. Это месяцы с основными праздниками: НГ, 23 февраля, 8 марта, соответственно рост числа покупок может быть связан с покупкой подарков. В связи с этим можно рекомендовать магазину **ввести в ассортимент более дорогие варианты подарков**, чтобы повысить выручку в эти месяцы. С середины марта по середину апреля также наблюдается пик, который может быть обусловлен подготовкой к дачному сезону."
   ]
  },
  {
   "cell_type": "markdown",
   "metadata": {},
   "source": [
    "Посмотрим, теперь, как распределено число покупок одного пользователя:"
   ]
  },
  {
   "cell_type": "code",
   "execution_count": 34,
   "metadata": {},
   "outputs": [
    {
     "data": {
      "image/png": "[encoded data removed]",
      "text/plain": [
       "<Figure size 432x288 with 1 Axes>"
      ]
     },
     "metadata": {
      "needs_background": "light"
     },
     "output_type": "display_data"
    }
   ],
   "source": [
    "ax = plt.gca()\n",
    "df.groupby(['customer_id']).agg({'order_id': 'nunique'}).hist(ax=ax, grid=False, bins=5, range=(0, 5))\n",
    "ax.set_title(\"Распределения количества покупок на пользователя\")\n",
    "ax.set_xlabel(\"Число пользователей\")\n",
    "ax.set_ylabel(\"Число покупок\")\n",
    "#plt.savefig(\"Распределения количества покупок на пользователя.png\", dpi=300)\n",
    "plt.show()"
   ]
  },
  {
   "cell_type": "markdown",
   "metadata": {},
   "source": [
    "Преимущественно клиенты совершали покупки в хозяйственном магазине единожды."
   ]
  },
  {
   "cell_type": "markdown",
   "metadata": {},
   "source": [
    "В заключении исследовательского анализа посмотрим на распределение размера корзины (сколько единиц товара в одном чеке):"
   ]
  },
  {
   "cell_type": "code",
   "execution_count": 35,
   "metadata": {},
   "outputs": [
    {
     "data": {
      "image/png": "[encoded data removed]",
      "text/plain": [
       "<Figure size 432x288 with 1 Axes>"
      ]
     },
     "metadata": {
      "needs_background": "light"
     },
     "output_type": "display_data"
    }
   ],
   "source": [
    "ax = plt.gca()\n",
    "df.groupby(['order_id']).agg({'quantity': 'sum'}).hist(ax=ax, grid=False, bins=5, range=(0, 5))\n",
    "ax.set_title(\"Распределение количества товаров в чеке\")\n",
    "ax.set_xlabel(\"Число товаров\")\n",
    "ax.set_ylabel(\"Число покупок\")\n",
    "plt.show()"
   ]
  },
  {
   "cell_type": "code",
   "execution_count": 36,
   "metadata": {},
   "outputs": [
    {
     "data": {
      "text/plain": [
       "1     1771\n",
       "2      275\n",
       "3      131\n",
       "4      100\n",
       "10      71\n",
       "Name: quantity, dtype: int64"
      ]
     },
     "execution_count": 36,
     "metadata": {},
     "output_type": "execute_result"
    }
   ],
   "source": [
    "df.groupby(['order_id']).agg({'quantity': 'sum'})['quantity'].value_counts()[:5]"
   ]
  },
  {
   "cell_type": "code",
   "execution_count": 37,
   "metadata": {},
   "outputs": [
    {
     "data": {
      "image/png": "[encoded data removed]",
      "text/plain": [
       "<Figure size 504x504 with 1 Axes>"
      ]
     },
     "metadata": {},
     "output_type": "display_data"
    }
   ],
   "source": [
    "fig = plt.figure(figsize=(7,7))\n",
    "pie_data = df.groupby(['order_id']).agg({'quantity': 'sum'})['quantity'].value_counts()\n",
    "combined = sum(pie_data[4:])\n",
    "first = pie_data[:4]\n",
    "x = [str(x) for x in list(first.index)]+[\"other\"]\n",
    "y = list(first)+[combined]\n",
    "plt.pie(y, labels=x,\n",
    "        autopct='%1.1f%%', startangle=90, textprops={'fontsize': 14})\n",
    "plt.title(\"Распределение покупок по числу товаров в чеке\", fontsize=16)\n",
    "#plt.savefig(\"Распределение покупок по числу товаров в чеке.png\", dpi=300)\n",
    "plt.show()"
   ]
  },
  {
   "cell_type": "markdown",
   "metadata": {},
   "source": [
    "В шестидесяти семи процентах покупок, клиент приобрёл только один товар. Два товара приобретено примерно в десяти процентах покупок."
   ]
  },
  {
   "cell_type": "markdown",
   "metadata": {},
   "source": [
    "## Шаг 2. Выводы  <a id=\"step8\"></a> "
   ]
  },
  {
   "cell_type": "markdown",
   "metadata": {},
   "source": [
    "Для анализа поведения пользователей датасет был очищен от выбросов: были убраны данные, где один и тот же товар куплен больше 10 раз за одну покупку (это покупатели-оптовики, поведение которых нужно изучать в отдельном исследовании). При этом мы потеряли примерно 3% данных. Были обнаружены ошибки в записи данных: один и тот же заказ от одного и того же юзера (с тем же набором товаров) может фигурировать в датасете несколько раз. Скорее всего это связано с какими-то этапами обработки заказа. Если не удалить эти данные, то один и тот же заказ повысит выручку магазина и создаст другие искажения. Во избежание негативных последствий, такие данные были удалены, что привело к сокращению размера датасета примерно на 30%.\n",
    "\n",
    "При анализе поведения покупателей выявлено следующее:\n",
    "- в среднем в день в магазине 6.49 уникальных покупателей;\n",
    "- они совершают в среднем 6.87 покупок;\n",
    "- средняя выручка магазина за день составляет 7507 рублей.\n",
    "\n",
    "Было изучено изменение выручки магазина во времени. В январе, июне и августе наблюдается серьёзное падение выручки.\n",
    "\n",
    "Для изучения частотности совершения покупок в хозяйственном магазине была построена гистограмма распределения числа покупок уникального пользователя. Абсолютное большинство покупателей совершили только одну покупку за исследуемый отрезок времени, также у 67% покупателей был только один товар в чеке. Эти факты накладывают ряд весомых ограничений на сегментацию покупателей, поскольку нет данных для анализа поведенческих особенностей при совершении покупки. Например, нельзя сказать, что пользователь всегда совершает покупки по выходным, если это произошло единожды. Аналогично нельзя проводить сегментацию по стоимости заказа, поскольку и эта величина может быть случайной. Представляется наиболее логичным опираться на то, что покупали пользователи. Т.е. фактически нам нужно создать товарные категории. Это и есть задача следующего шага."
   ]
  },
  {
   "cell_type": "markdown",
   "metadata": {},
   "source": [
    "## Шаг 3. Сегментация покупателей по профилю потребления  <a id=\"step9\"></a> "
   ]
  },
  {
   "cell_type": "markdown",
   "metadata": {},
   "source": [
    "В предыдущем пункте мы пришли к выводу, что с имеющимися данными наиболее логично ориентироваться не на поведенческие характеристики пользователей, а на их покупки. Посмотрим, что покупают наиболее часто в хозяйственном магазине:"
   ]
  },
  {
   "cell_type": "code",
   "execution_count": 38,
   "metadata": {},
   "outputs": [
    {
     "data": {
      "text/plain": [
       "Пеларгония розебудная Red Pandora укорененный черенок                 66\n",
       "Пеларгония розебудная Prins Nikolai укорененный черенок               57\n",
       "Пеларгония зональная диам. 12 см сиреневый полумахровый               52\n",
       "Сумка-тележка 2-х колесная Gimi Argo синяя                            47\n",
       "Пеларгония розебудная Mary укорененный черенок                        39\n",
       "Пеларгония розебудная Queen Ingrid укорененный черенок                30\n",
       "Пеларгония розебудная Margaretha укорененный черенок                  29\n",
       "Пеларгония зональная диам. 12 см коралловая полумахровая              24\n",
       "Пеларгония зональная махровая лососевая                               24\n",
       "Пеларгония зональная Ринго Вайт d-7 см h-10 см укорененный черенок    24\n",
       "Name: product, dtype: int64"
      ]
     },
     "execution_count": 38,
     "metadata": {},
     "output_type": "execute_result"
    }
   ],
   "source": [
    "df['product'].value_counts().head(10)"
   ]
  },
  {
   "cell_type": "markdown",
   "metadata": {},
   "source": [
    "Видим, что наиболее часто покупают рассаду и различные растения, также часто встречаются сумки-тележки. Попробуем выделить сначала следующие товарные категории: рассада, растения, сумки-тележки. Посмотрим, сколько товаров останутся не рассортироваными (отправим их в категорию \"другое\"):"
   ]
  },
  {
   "cell_type": "code",
   "execution_count": 39,
   "metadata": {},
   "outputs": [],
   "source": [
    "m = Mystem()\n",
    "def lemmas_clean(text):\n",
    "    \"\"\"\n",
    "    Функция берёт текст, лемматизирует слова в нём, если встречаются определённые слова, \n",
    "    функция возвращает название категории.\n",
    "    \n",
    "    \"\"\"\n",
    "    lemmas = m.lemmatize(text)\n",
    "    if 'рассада' in lemmas:\n",
    "        return 'дача'\n",
    "    elif len([plant for plant in plants if plant in lemmas]) > 0:\n",
    "        return 'растения'\n",
    "    elif len([bag for bag in bags if bag in lemmas]) > 0:\n",
    "        return 'сумки и тележки'\n",
    "    elif len([household_need for household_need in household_needs if household_need in lemmas]) > 0:\n",
    "        return 'бытовые нужды'\n",
    "    else:\n",
    "        return 'другое'\n"
   ]
  },
  {
   "cell_type": "code",
   "execution_count": 40,
   "metadata": {},
   "outputs": [
    {
     "data": {
      "text/plain": [
       "другое             2204\n",
       "растения           1047\n",
       "дача                596\n",
       "бытовые нужды       503\n",
       "сумки и тележки     350\n",
       "Name: product_category, dtype: int64"
      ]
     },
     "execution_count": 40,
     "metadata": {},
     "output_type": "execute_result"
    }
   ],
   "source": [
    "bags = ['сумка', 'тележка']\n",
    "plants = ['петуния', 'растение', 'пеларгония', 'калибрахоа', 'герань']\n",
    "household_needs = ['доска', 'сушилка', 'термометр']\n",
    "df['product_category'] = df['product'].apply(lemmas_clean)\n",
    "df['product_category'].value_counts()"
   ]
  },
  {
   "cell_type": "markdown",
   "metadata": {},
   "source": [
    "Пока категория \"другое\" слишком большая. Посмотрим, какие товары в ней наиболее популярны:"
   ]
  },
  {
   "cell_type": "code",
   "execution_count": 41,
   "metadata": {},
   "outputs": [
    {
     "data": {
      "text/plain": [
       "Муляж Баклажан 18 см                                                     10\n",
       "Циперус Зумула d-12 см h-25 см                                           10\n",
       "Мята перечная Шоколадная Chocolate d-7 см h-10 см укорененный черенок     9\n",
       "Муляж Зеленое яблоко полиуретан d-6 см                                    8\n",
       "Муляж Персики мини полиуретан d-6 см                                      8\n",
       "Новогоднее дерево Ель сербская d-21 см h-60 см                            8\n",
       "Подкладка под чехол Zalger 520114 135х50 см войлок                        7\n",
       "Сиденье в ванну раздвижное, белый, СВ5, НИКА                              7\n",
       "Бакопа ампельная махровая сиреневая махровая объем 0,5 л                  7\n",
       "Бакопа ампельная мега-крупная белая объем 0,5 л                           7\n",
       "Name: product, dtype: int64"
      ]
     },
     "execution_count": 41,
     "metadata": {},
     "output_type": "execute_result"
    }
   ],
   "source": [
    "df[df['product_category'] == 'другое']['product'].value_counts().head(10)"
   ]
  },
  {
   "cell_type": "markdown",
   "metadata": {},
   "source": [
    "Нужно рассширить словарь с растениями (добавить бакопу, эвкалипт, лобелию, вербену и вербейник) и бытовые нужды (добавить корыто, карниз и сиденье). Скорее всего затем нужно будет добавить категорию \"декор\" с мулляжами."
   ]
  },
  {
   "cell_type": "code",
   "execution_count": 42,
   "metadata": {},
   "outputs": [
    {
     "data": {
      "text/plain": [
       "другое             2143\n",
       "растения           1088\n",
       "дача                596\n",
       "бытовые нужды       523\n",
       "сумки и тележки     350\n",
       "Name: product_category, dtype: int64"
      ]
     },
     "execution_count": 42,
     "metadata": {},
     "output_type": "execute_result"
    }
   ],
   "source": [
    "plants = ['петуния', 'растение', 'пеларгония', 'калибрахоа', 'герань', 'бакопа', 'эвкалипт', 'лобелия', 'вербейник', 'вербена']\n",
    "household_needs = ['доска', 'сушилка', 'термометр', 'корыто', 'карниз', 'сиденье']\n",
    "df['product_category'] = df['product'].apply(lemmas_clean)\n",
    "df['product_category'].value_counts()"
   ]
  },
  {
   "cell_type": "markdown",
   "metadata": {},
   "source": [
    "Значительно лучше не стало. Попробуем другой подход: выделим в отдельный датафрейм уникальные названия товаров и их категории. Посмотрим, сколько уникальных товаров осталось без категории:"
   ]
  },
  {
   "cell_type": "code",
   "execution_count": 43,
   "metadata": {},
   "outputs": [
    {
     "data": {
      "text/plain": [
       "1508"
      ]
     },
     "execution_count": 43,
     "metadata": {},
     "output_type": "execute_result"
    }
   ],
   "source": [
    "product_category = df.groupby(['product']).agg({'product_category': 'unique'}).reset_index()\n",
    "len(product_category[product_category['product_category'] == 'другое'])"
   ]
  },
  {
   "cell_type": "markdown",
   "metadata": {},
   "source": [
    "Значит, 1468 товаров остались без категоризации. Попробуем сначала лемматизировать названия товаров, а затем взять слова, которые встречаются наиболее часто, это поможет выделить ещё какие-то категории, или расширить имеющиеся:"
   ]
  },
  {
   "cell_type": "code",
   "execution_count": 44,
   "metadata": {},
   "outputs": [],
   "source": [
    "def lemmas_generation(text):\n",
    "    \"\"\"\n",
    "    Функция берёт текст, возвращает лемматизированные слова из текста.\n",
    "    \n",
    "    \"\"\"\n",
    "    lemmas = m.lemmatize(text)\n",
    "    return lemmas"
   ]
  },
  {
   "cell_type": "code",
   "execution_count": 45,
   "metadata": {},
   "outputs": [],
   "source": [
    "product_category['lemmas'] = product_category['product'].apply(lemmas_generation)"
   ]
  },
  {
   "cell_type": "code",
   "execution_count": 46,
   "metadata": {},
   "outputs": [
    {
     "data": {
      "text/plain": [
       "[('для', 282),\n",
       " ('белый', 122),\n",
       " ('красный', 89),\n",
       " ('сорт', 85),\n",
       " ('томат', 79),\n",
       " ('горшок', 74),\n",
       " ('Luminarc', 73),\n",
       " ('коврик', 72),\n",
       " ('помидор', 72),\n",
       " ('среднеспелый', 69),\n",
       " ('муляж', 68),\n",
       " ('ванный', 65),\n",
       " ('роза', 63),\n",
       " ('цветок', 61),\n",
       " ('пластмассовый', 56),\n",
       " ('объем', 54),\n",
       " ('штора', 53),\n",
       " ('искусственный', 51),\n",
       " ('розовый', 49),\n",
       " ('штука', 49),\n",
       " ('пластиковый', 48),\n",
       " ('100', 47),\n",
       " ('ручка', 46),\n",
       " ('комната', 46),\n",
       " ('индетерминантный', 46),\n",
       " ('черный', 45),\n",
       " ('набор', 42),\n",
       " ('полиуретан', 41),\n",
       " ('желтый', 40),\n",
       " ('крышка', 40),\n",
       " ('Attribute', 40),\n",
       " ('оранжевый', 40),\n",
       " ('вешалка', 40),\n",
       " ('кассета', 39),\n",
       " ('придверный', 39),\n",
       " ('раннеспелый', 37),\n",
       " ('садовый', 36),\n",
       " ('стремянка', 36),\n",
       " ('сталь', 34),\n",
       " ('цвет', 34),\n",
       " ('таз', 34),\n",
       " ('алюминиевый', 33),\n",
       " ('зеленый', 31),\n",
       " ('бежевый', 30),\n",
       " ('Wellness', 30),\n",
       " ('хлопок', 30),\n",
       " ('пвх', 30),\n",
       " ('синий', 29),\n",
       " ('скатерть', 29),\n",
       " ('детерминантный', 29),\n",
       " ('белье', 28),\n",
       " ('тарелка', 27),\n",
       " ('голубой', 24),\n",
       " ('покрытие', 24),\n",
       " ('полиэстер', 24),\n",
       " ('нержавеющий', 24),\n",
       " ('металлический', 23),\n",
       " ('круглый', 23),\n",
       " ('ассортимент', 23),\n",
       " ('), ', 23),\n",
       " ('овальный', 23),\n",
       " ('корзина', 23),\n",
       " ('180х200', 23),\n",
       " ('махровый', 22),\n",
       " ('микс', 22),\n",
       " ('россия', 22),\n",
       " ('Hausmann', 22),\n",
       " ('коричневый', 22),\n",
       " ('пищевой', 22),\n",
       " ('Leifheit', 21),\n",
       " ('банка', 21),\n",
       " ('Spirella', 21),\n",
       " ('Bacchetta', 21),\n",
       " ('серый', 20),\n",
       " ('прямоугольный', 20),\n",
       " ('WEBBER', 20),\n",
       " ('мини', 20),\n",
       " ('WELLNESS', 20),\n",
       " ('салатник', 20),\n",
       " ('чехол', 20),\n",
       " ('чайногибридный', 20),\n",
       " ('одежда', 19),\n",
       " ('ступень', 19),\n",
       " ('чайник', 18),\n",
       " ('щетка', 17),\n",
       " ('стеклянный', 17),\n",
       " ('франция', 17),\n",
       " ('нож', 17),\n",
       " ('контейнер', 17),\n",
       " ('Fancy', 17),\n",
       " ('Fair', 17),\n",
       " ('текстильный', 17),\n",
       " ('деревянный', 15),\n",
       " ('фуксия', 15),\n",
       " ('ванна', 15),\n",
       " ('швабра', 15),\n",
       " ('комнатный', 15),\n",
       " ('ступенчатый', 15),\n",
       " ('диаметр', 14),\n",
       " ('пластик', 14),\n",
       " ('примула', 14),\n",
       " ('кружка', 14),\n",
       " ('флокс', 14),\n",
       " ('цикламен', 14),\n",
       " ('240х200', 14),\n",
       " ('ампельный', 13),\n",
       " ('ведро', 13),\n",
       " ('полимербыт', 13),\n",
       " ('ника', 13),\n",
       " ('метельчатый', 13),\n",
       " ('200', 13),\n",
       " ('без', 12),\n",
       " ('цветной', 12),\n",
       " ('противоскользящий', 12),\n",
       " ('крючок', 12),\n",
       " ('полка', 12),\n",
       " ('насадка', 12),\n",
       " ('эмалированный', 12),\n",
       " ('электрический', 12),\n",
       " ('полотенце', 12),\n",
       " ('сковорода', 12),\n",
       " ('Rozenbal', 12),\n",
       " ('10см', 12),\n",
       " ('малый', 11),\n",
       " ('мытье', 11),\n",
       " ('упаковка', 11),\n",
       " ('хранение', 11),\n",
       " ('кухонный', 11),\n",
       " ('малиновый', 11),\n",
       " ('букет', 11),\n",
       " ('фиалка', 11),\n",
       " ('капуста', 11),\n",
       " ('Dasch', 11),\n",
       " (' / ', 11),\n",
       " ('виолета', 11),\n",
       " ('CURVER', 11),\n",
       " ('ложка', 11),\n",
       " ('QWERTY', 11),\n",
       " ('десертный', 11),\n",
       " ('500', 10),\n",
       " ('ерш', 10),\n",
       " ('подставка', 10),\n",
       " ('\", ', 10),\n",
       " ('окно', 10),\n",
       " ('фиолетовый', 10),\n",
       " ('черенок', 10),\n",
       " ('предмет', 10),\n",
       " ('Curver', 10),\n",
       " ('лестница', 10),\n",
       " ('яблоко', 10),\n",
       " ('полиэфир', 10),\n",
       " ('смесь', 9),\n",
       " ('кашпо', 9),\n",
       " ('Hailo', 9),\n",
       " ('бакоп', 9),\n",
       " ('VALIANT', 9),\n",
       " ('универсальный', 9),\n",
       " ('400', 9),\n",
       " ('кольцо', 9),\n",
       " ('DELTA', 9),\n",
       " ('плечики', 9),\n",
       " ('большой', 9),\n",
       " ('рисунок', 9),\n",
       " ('ковер', 9),\n",
       " ('резина', 9),\n",
       " ('PHP', 9),\n",
       " ('SRL', 9),\n",
       " ('хлопковый', 9),\n",
       " ('салфетка', 9),\n",
       " ('180', 9),\n",
       " ('столовый', 9),\n",
       " ('ALPENKOK', 9),\n",
       " ('пуансеттия', 9),\n",
       " ('обеденный', 9),\n",
       " ('душа', 9),\n",
       " ('термокружок', 8),\n",
       " ('средство', 8),\n",
       " ('базилик', 8),\n",
       " ('оцинковывать', 8),\n",
       " ('мусор', 8),\n",
       " ('напольный', 8),\n",
       " ('дерево', 8),\n",
       " ('укоренять', 8),\n",
       " ('виноград', 8),\n",
       " ('декоративный', 8),\n",
       " ('коробка', 8),\n",
       " ('мыло', 8),\n",
       " ('дыня', 8),\n",
       " ('керамический', 8),\n",
       " ('хозяйственный', 8),\n",
       " ('Apache', 8),\n",
       " ('прозрачный', 8),\n",
       " ('косметь', 8),\n",
       " ('стакан', 8),\n",
       " ('мята', 8),\n",
       " ('ROZENBAL', 8),\n",
       " ('обувь', 8),\n",
       " ('чайный', 8),\n",
       " ('2000', 8),\n",
       " ('антуриум', 7),\n",
       " ('блэк', 7),\n",
       " ('стальной', 7),\n",
       " ('сиреневый', 7),\n",
       " ('посуда', 7),\n",
       " ('бальзамин', 7),\n",
       " ('новогвинейский', 7),\n",
       " ('резиновый', 7),\n",
       " ('Valiant', 7),\n",
       " ('ажурный', 7),\n",
       " ('скороспелый', 7),\n",
       " ('золотой', 7),\n",
       " ('паста', 7),\n",
       " ('лиловый', 7),\n",
       " ('50х80', 7),\n",
       " ('Format', 7),\n",
       " ('пол', 7),\n",
       " ('пластика', 7),\n",
       " ('угловой', 7),\n",
       " ('250', 7),\n",
       " ('Dogrular', 7),\n",
       " ('Ufuk', 7),\n",
       " ('антипригарный', 7),\n",
       " ('перец', 7),\n",
       " ('перчатка', 7),\n",
       " ('под', 7),\n",
       " ('жаккард', 7),\n",
       " ('минеральный', 7),\n",
       " ('вода', 7),\n",
       " ('суповой', 7),\n",
       " ('свисток', 7),\n",
       " ('штанга', 7),\n",
       " ('стандарт', 6),\n",
       " ('азалий', 6),\n",
       " ('луковица', 6),\n",
       " ('андрианум', 6),\n",
       " ('арбуз', 6),\n",
       " ('DECS', 6),\n",
       " ('лимон', 6),\n",
       " ('750', 6),\n",
       " ('овощной', 6),\n",
       " ('1000', 6),\n",
       " ('300', 6),\n",
       " ('отжим', 6),\n",
       " ('зми', 6),\n",
       " ('перекладина', 6),\n",
       " ('медный', 6),\n",
       " ('мягкий', 6),\n",
       " ('столовая', 6),\n",
       " ('кокос', 6),\n",
       " ('гвоздик', 6),\n",
       " ('D12', 6),\n",
       " ('композиция', 6),\n",
       " ('подарочный', 6),\n",
       " ('ель', 6),\n",
       " ('зубной', 6),\n",
       " ('овощ', 6),\n",
       " ('кастрюля', 6),\n",
       " ('хозлэнд', 6),\n",
       " ('клубника', 6),\n",
       " ('60х90', 6),\n",
       " ('влаговпитывающий', 6),\n",
       " ('ребристый', 6),\n",
       " ('45х75', 6),\n",
       " ('40х68', 6),\n",
       " ('Helex', 6),\n",
       " ('эльфпласт', 6),\n",
       " ('лоток', 6),\n",
       " (') \"', 6),\n",
       " ('размер', 6),\n",
       " ('василиса', 6),\n",
       " (', \"', 6),\n",
       " ('чистка', 6),\n",
       " ('Scovo', 6),\n",
       " ('огурец', 6),\n",
       " ('подвесной', 6),\n",
       " ('оранж', 6),\n",
       " ('хризантема', 6),\n",
       " ('H20', 6),\n",
       " ('Rigone', 6),\n",
       " ('спирелла', 6),\n",
       " ('TEX', 6),\n",
       " ('180х180', 6),\n",
       " ('Burstenmann', 5),\n",
       " (' , ', 5),\n",
       " ('окраска', 5),\n",
       " ('обыкновенный', 5),\n",
       " ('нидерланды', 5),\n",
       " ('позднеспелый', 5),\n",
       " ('крым', 5),\n",
       " ('мега', 5),\n",
       " ('крупный', 5),\n",
       " ('замок', 5),\n",
       " ('бегония', 5),\n",
       " ('York', 5),\n",
       " ('450', 5),\n",
       " ('весы', 5),\n",
       " ('серебро', 5),\n",
       " ('антик', 5),\n",
       " ('деликатный', 5),\n",
       " ('вилка', 5),\n",
       " ('горох', 5),\n",
       " ('RIPPLE', 5),\n",
       " ('гербер', 5),\n",
       " ('Towa', 5),\n",
       " ('декабрист', 5),\n",
       " ('бутон', 5),\n",
       " ('120', 5),\n",
       " ('ромашка', 5),\n",
       " ('выпечка', 5),\n",
       " ('вино', 5),\n",
       " ('мультиколор', 5),\n",
       " ('комплект', 5),\n",
       " ('простыня', 5),\n",
       " ('ротанг', 5),\n",
       " ('бамбук', 5),\n",
       " ('кофр', 5),\n",
       " ('микрофибра', 5),\n",
       " ('строительный', 5),\n",
       " ('вишня', 5),\n",
       " ('груша', 5),\n",
       " ('фужер', 5),\n",
       " ('METALLONI', 5),\n",
       " ('новогодний', 5),\n",
       " ('керамика', 5),\n",
       " ('пчелоопыляемый', 5),\n",
       " ('петрушка', 5),\n",
       " ('листовой', 5),\n",
       " ('флисовый', 5),\n",
       " ('парковый', 5),\n",
       " ('спрей', 5),\n",
       " ('0000', 5),\n",
       " ('термос', 5),\n",
       " ('урна', 5),\n",
       " ('D15', 5),\n",
       " ('текстиль', 5),\n",
       " ('встроенный', 5),\n",
       " ('полиамидный', 5),\n",
       " ('HSC', 5),\n",
       " ('ящик', 5),\n",
       " ('полосатый', 5),\n",
       " ('унитазный', 4),\n",
       " ('индик', 4),\n",
       " ('Mama', 4),\n",
       " ('стекло', 4),\n",
       " ('COLOR', 4),\n",
       " ('SERIES', 4),\n",
       " ('прищепок', 4),\n",
       " ('серия', 4),\n",
       " ('EVA', 4),\n",
       " ('вещь', 4),\n",
       " ('сливочный', 4),\n",
       " ('лаванда', 4),\n",
       " ('моп', 4),\n",
       " ('LUX', 4),\n",
       " ('полипропиленовый', 4),\n",
       " (' - ', 4),\n",
       " ('ВНП', 4),\n",
       " ('радуга', 4),\n",
       " ('складной', 4),\n",
       " ('настенный', 4),\n",
       " ('сапфир', 4),\n",
       " ('Better', 4),\n",
       " ('C2003E', 4),\n",
       " ('виола', 4),\n",
       " ('крупноцветковый', 4),\n",
       " ('корея', 4),\n",
       " ('гортензия', 4),\n",
       " ('дендробиум', 4),\n",
       " ('ствол', 4),\n",
       " ('медовый', 4),\n",
       " ('канадский', 4),\n",
       " ('коника', 4),\n",
       " ('свч', 4),\n",
       " ('жестяной', 4),\n",
       " (' = ', 4),\n",
       " ('Truper', 4),\n",
       " ('калла', 4),\n",
       " ('закрытый', 4),\n",
       " ('тюльпан', 4),\n",
       " ('мак', 4),\n",
       " ('стэм', 4),\n",
       " (', /', 4),\n",
       " ('ворсовый', 4),\n",
       " ('микрофибры', 4),\n",
       " ('90х60', 4),\n",
       " ('светло-бежевый', 4),\n",
       " ('интерьерный', 4),\n",
       " ('Comfort', 4),\n",
       " ('перерабатывать', 4),\n",
       " ('лавр', 4),\n",
       " ('Mop', 4),\n",
       " ('наволочка', 4),\n",
       " ('50х70', 4),\n",
       " ('чай', 4),\n",
       " ('KNIT', 4),\n",
       " ('синтетический', 4),\n",
       " ('блю', 4),\n",
       " ('кофе', 4),\n",
       " ('одеяло', 4),\n",
       " ('валиант', 4),\n",
       " ('флауэр', 4),\n",
       " ('320', 4),\n",
       " ('250мл', 4),\n",
       " ('пластхозторг', 4),\n",
       " ('220', 4),\n",
       " ('мешок', 4),\n",
       " ('дема', 4),\n",
       " ('многофункциональный', 4),\n",
       " ('магнит', 4),\n",
       " ('гранат', 4),\n",
       " ('чили', 4),\n",
       " ('888', 4),\n",
       " ('прибор', 4),\n",
       " ('Domenik', 4),\n",
       " ('форма', 4),\n",
       " ('итальянский', 4),\n",
       " ('лепесток', 4),\n",
       " ('телескопический', 4),\n",
       " ('патиссон', 4),\n",
       " ('петля', 4),\n",
       " ('плед', 4),\n",
       " ('покрывало', 4),\n",
       " ('акаулис', 4),\n",
       " ('пыль', 4),\n",
       " ('кордан', 4),\n",
       " ('патио', 4),\n",
       " ('арти', 4),\n",
       " ('кутюр', 4),\n",
       " ('браун', 4),\n",
       " ('лувр', 4),\n",
       " ('350х150', 4),\n",
       " ('донна', 4),\n",
       " ('Meiwa', 4),\n",
       " ('скребок', 4),\n",
       " ('сметка', 4),\n",
       " ('совок', 4),\n",
       " ('COLOMBO', 4),\n",
       " ('FACTOTUM', 4),\n",
       " ('Colombo', 4),\n",
       " ('стоунмания', 4),\n",
       " ('колба', 4),\n",
       " ('тимьян', 4),\n",
       " ('чашелист', 4),\n",
       " ('цинния', 4),\n",
       " ('есть', 4),\n",
       " ('180х200см', 4),\n",
       " ('этажерка', 4),\n",
       " ('AVEX', 3),\n",
       " ('волокно', 3),\n",
       " ('металл', 3),\n",
       " ('люкс', 3),\n",
       " ('мультипласт', 3),\n",
       " ('биколор', 3),\n",
       " ('Lion', 3),\n",
       " ('утюг', 3),\n",
       " ('налет', 3),\n",
       " ('звезда', 3),\n",
       " ('пурпурный', 3),\n",
       " ('баклажан', 3),\n",
       " ('диам', 3),\n",
       " ('1350', 3),\n",
       " ('клубневой', 3),\n",
       " ('YORK', 3),\n",
       " ('50х85', 3),\n",
       " ('лекарственный', 3),\n",
       " ('длинный', 3),\n",
       " ('высота', 3),\n",
       " ('электронный', 3),\n",
       " ('брюки', 3),\n",
       " ('светлый', 3),\n",
       " ('степанов', 3),\n",
       " ('бук', 3),\n",
       " ('эссенция', 3),\n",
       " ('бирюзовый', 3),\n",
       " ('FWM', 3),\n",
       " ('стойка', 3),\n",
       " ('венг', 3),\n",
       " ('шоколад', 3),\n",
       " ('красавица', 3),\n",
       " ('Blue', 3),\n",
       " ('стирка', 3),\n",
       " ('ткань', 3),\n",
       " ('152', 3),\n",
       " ('арктик', 3),\n",
       " ('кайма', 3),\n",
       " ('искуственный', 3),\n",
       " ('три', 3),\n",
       " ('грин', 3),\n",
       " ('ртк', 3),\n",
       " ('туалет', 3),\n",
       " ('унитаз', 3),\n",
       " ('новый', 3),\n",
       " ('Vestar', 3),\n",
       " ('зверобой', 3),\n",
       " ('продырявливать', 3),\n",
       " ('земляника', 3),\n",
       " ('Zact', 3),\n",
       " ('ручной', 3),\n",
       " ('длина', 3),\n",
       " ('лилия', 3),\n",
       " ('крокус', 3),\n",
       " ('ландыш', 3),\n",
       " ('нарцисс', 3),\n",
       " ('каланхое', 3),\n",
       " ('каландив', 3),\n",
       " ('календула', 3),\n",
       " ('пинк', 3),\n",
       " ('силиконовый', 3),\n",
       " ('EKSPO', 3),\n",
       " ('90х150', 3),\n",
       " ('40х60', 3),\n",
       " ('латекс', 3),\n",
       " ('Mohawk', 3),\n",
       " ('светло-коричневый', 3),\n",
       " ('EXPEDITION', 3),\n",
       " ('кухня', 3),\n",
       " ('APACHE', 3),\n",
       " ('Iron', 3),\n",
       " ('узор', 3),\n",
       " ('Classic', 3),\n",
       " ('материал', 3),\n",
       " ('кот', 3),\n",
       " ('пузырек', 3),\n",
       " ('колокольчик', 3),\n",
       " ('секционный', 3),\n",
       " ('FLIP', 3),\n",
       " ('BIN', 3),\n",
       " ('02171', 3),\n",
       " ('серебристый', 3),\n",
       " ('03676', 3),\n",
       " ('капучино', 3),\n",
       " ('1840', 3),\n",
       " ('00708', 3),\n",
       " ('арабика', 3),\n",
       " ('350', 3),\n",
       " ('проволочный', 3),\n",
       " ('кувшин', 3),\n",
       " ('вафельный', 3),\n",
       " ('mix', 3),\n",
       " ('пламень', 3),\n",
       " ('алюминевый', 3),\n",
       " ('холодец', 3),\n",
       " ('сетка', 3),\n",
       " ('миксер', 3),\n",
       " ('режим', 3),\n",
       " ('сердце', 3),\n",
       " ('миска', 3),\n",
       " ('инструмент', 3),\n",
       " ('детский', 3),\n",
       " ('банан', 3),\n",
       " ('вишневый', 3),\n",
       " ('мандарин', 3),\n",
       " ('связка', 3),\n",
       " ('персик', 3),\n",
       " ('тыква', 3),\n",
       " ('мусорный', 3),\n",
       " ('хром', 3),\n",
       " ('подарок', 3),\n",
       " ('март', 3),\n",
       " ('бокал', 3),\n",
       " ('187', 3),\n",
       " ('сильвер', 3),\n",
       " ('6шт', 3),\n",
       " ('стеганый', 3),\n",
       " ('Wet', 3),\n",
       " ('настурция', 3),\n",
       " ('\" (', 3),\n",
       " ('окномойка', 3),\n",
       " ('пробка', 3),\n",
       " ('японский', 3),\n",
       " ('латексный', 3),\n",
       " ('гигант', 3),\n",
       " (' % ', 3),\n",
       " ('подголовник', 3),\n",
       " ('25х34', 3),\n",
       " ('Zalger', 3),\n",
       " ('KARNA', 3),\n",
       " ('полк', 3),\n",
       " ('D10', 3),\n",
       " ('мощность', 3),\n",
       " ('свита', 3),\n",
       " ('розмарин', 3),\n",
       " ('пурпл', 3),\n",
       " ('воларэ', 3),\n",
       " ('Protec', 3),\n",
       " ('Textil', 3),\n",
       " ('30х43', 3),\n",
       " ('разноцветный', 3),\n",
       " ('сверло', 3),\n",
       " ('1800', 3),\n",
       " ('сидение', 3),\n",
       " ('джулия', 3),\n",
       " ('FPLUS', 3),\n",
       " ('квадратный', 3),\n",
       " ('спатифиллум', 3),\n",
       " ('поверхность', 3),\n",
       " ('Framar', 3),\n",
       " ('Slimmy', 3),\n",
       " ('бытовой', 3),\n",
       " ('Leonardo', 3),\n",
       " ('терка', 3),\n",
       " ('Alpenkok', 3),\n",
       " ('уличный', 3),\n",
       " ('Hobbyka', 3),\n",
       " ('хоббик', 3),\n",
       " ('2200', 3),\n",
       " ('фаленопсис', 3),\n",
       " ('хлебница', 3),\n",
       " ('одиночный', 3),\n",
       " ('король', 3),\n",
       " ('заварочный', 3),\n",
       " ('25001', 3),\n",
       " ('60х100', 3),\n",
       " ('стенка', 3),\n",
       " ('объемный', 3),\n",
       " ('гидрофобный', 3),\n",
       " ('пропитка', 3),\n",
       " ('ST04', 3),\n",
       " ('рядная', 3),\n",
       " ('эхеверие', 3),\n",
       " ('кабан', 3),\n",
       " ('Freeflow', 2),\n",
       " ('700', 2),\n",
       " ('кремовый', 2),\n",
       " ('ваир', 2),\n",
       " ('аквилегия', 2),\n",
       " ('алиссум', 2),\n",
       " ('снежный', 2),\n",
       " ('анемон', 2),\n",
       " ('антижир', 2),\n",
       " ('аптений', 2),\n",
       " ('известковый', 2),\n",
       " ('гель', 2),\n",
       " ('аспарагус', 2),\n",
       " ('афеляндр', 2),\n",
       " ('скуаррос', 2),\n",
       " ('дания', 2),\n",
       " ('автополив', 2),\n",
       " ('арарат', 2),\n",
       " ('тонус', 2),\n",
       " ('Ultimate', 2),\n",
       " ('вкрапление', 2),\n",
       " ('рондо', 2),\n",
       " ('китай', 2),\n",
       " ('элиз', 2),\n",
       " ('продукт', 2),\n",
       " ('бугельный', 2),\n",
       " ('960', 2),\n",
       " ('TOUCH', 2),\n",
       " ('1700', 2),\n",
       " ('FLEUR', 2),\n",
       " ('бельевой', 2),\n",
       " ('классик', 2),\n",
       " ('бидон', 2),\n",
       " ('эклипсы', 2),\n",
       " ('маскарад', 2),\n",
       " ('вакуумный', 2),\n",
       " ('пакет', 2),\n",
       " ('вантуз', 2),\n",
       " ('110', 2),\n",
       " ('ягода', 2),\n",
       " ('Centi', 2),\n",
       " ('морской', 2),\n",
       " ('веник', 2),\n",
       " ('подметание', 2),\n",
       " ('сорго', 2),\n",
       " ('шов', 2),\n",
       " ('фал', 2),\n",
       " ('механический', 2),\n",
       " ('Soehnle', 2),\n",
       " ('White', 2),\n",
       " ('настольный', 2),\n",
       " ('5кг', 2),\n",
       " ('слуга', 2),\n",
       " ('гардеробная', 2),\n",
       " ('верхний', 2),\n",
       " ('блузка', 2),\n",
       " ('CLASSIC', 2),\n",
       " ('NEO', 2),\n",
       " ('BLUE', 2),\n",
       " ('костюм', 2),\n",
       " ('ATLANT', 2),\n",
       " ('темный', 2),\n",
       " ('колесико', 2),\n",
       " ('закруглять', 2),\n",
       " ('002', 2),\n",
       " ('blue', 2),\n",
       " ('темно-розовый', 2),\n",
       " ('pink', 2),\n",
       " ('сакура', 2),\n",
       " ('колесо', 2),\n",
       " ('сосна', 2),\n",
       " ('тяжелый', 2),\n",
       " ('TD1', 2),\n",
       " ('гардения', 2),\n",
       " ('страсть', 2),\n",
       " ('георгин', 2),\n",
       " ('гиацинт', 2),\n",
       " ('глоксиния', 2),\n",
       " ('Rose', 2),\n",
       " ('5173', 2),\n",
       " ('спираль', 2),\n",
       " ('двуспальный', 2),\n",
       " ('постельный', 2),\n",
       " ('подсолнух', 2),\n",
       " ('04711', 2),\n",
       " ('D41', 2),\n",
       " ('санки', 2),\n",
       " ('держатель', 2),\n",
       " ('диффенбахий', 2),\n",
       " ('топпер', 2),\n",
       " ('день', 2),\n",
       " ('учитель', 2),\n",
       " ('дозатор', 2),\n",
       " ('303', 2),\n",
       " ('гусь', 2),\n",
       " ('жидкий', 2),\n",
       " ('защитный', 2),\n",
       " ('посудомоечный', 2),\n",
       " ('машина', 2),\n",
       " ('Ludwik', 2),\n",
       " ('польша', 2),\n",
       " ('оптимист', 2),\n",
       " ('хоня', 2),\n",
       " ('против', 2),\n",
       " ('8806325', 2),\n",
       " ('Toothpaste', 2),\n",
       " ('150', 2),\n",
       " ('измерительный', 2),\n",
       " ('угольник', 2),\n",
       " ('клен', 2),\n",
       " ('мимоза', 2),\n",
       " ('подснежник', 2),\n",
       " ('бархатный', 2),\n",
       " ('королевский', 2),\n",
       " ('калатея', 2),\n",
       " ('бронзовый', 2),\n",
       " ('гарден', 2),\n",
       " ('камнеломка', 2),\n",
       " ('сальса', 2),\n",
       " ('брокколи', 2),\n",
       " ('фортуна', 2),\n",
       " ('калитва', 2),\n",
       " ('чугунный', 2),\n",
       " ('PYREX', 2),\n",
       " ('цилиндрический', 2),\n",
       " ('106', 2),\n",
       " ('кисточка', 2),\n",
       " ('21х4', 2),\n",
       " ('1440S', 2),\n",
       " ('персиковый', 2),\n",
       " ('сладкий', 2),\n",
       " ('RUS', 2),\n",
       " ('трава', 2),\n",
       " ('60х90см', 2),\n",
       " ('55х55', 2),\n",
       " ('листопад', 2),\n",
       " ('Sochi', 2),\n",
       " ('60х180', 2),\n",
       " ('OrthoSpa', 2),\n",
       " ('River', 2),\n",
       " ('Rocks', 2),\n",
       " ('серо-коричневый', 2),\n",
       " ('акрил', 2),\n",
       " ('темно-зеленый', 2),\n",
       " ('основа', 2),\n",
       " ('Welcome', 2),\n",
       " ('45x76', 2),\n",
       " ('кокосовый', 2),\n",
       " ('Forme', 2),\n",
       " ('Mezzaluna', 2),\n",
       " ('60х91', 2),\n",
       " ('влаговпитывать', 2),\n",
       " ('полимерный', 2),\n",
       " ('Vortex', 2),\n",
       " ('дизайн', 2),\n",
       " ('60х140', 2),\n",
       " ('полипропилен', 2),\n",
       " ('40х70', 2),\n",
       " ('Kokarda', 2),\n",
       " ('спать', 2),\n",
       " ('69х39', 2),\n",
       " ('ракушка', 2),\n",
       " ('кружевной', 2),\n",
       " ('88х38', 2),\n",
       " ('70х38', 2),\n",
       " ('ковш', 2),\n",
       " ('карпатский', 2),\n",
       " ('комод', 2),\n",
       " ('Clean', 2),\n",
       " (' + ', 2),\n",
       " ('топ', 2),\n",
       " ('PLATINUM', 2),\n",
       " ('пододеяльник', 2),\n",
       " ('лайм', 2),\n",
       " ('премиум', 2),\n",
       " ('яйцо', 2),\n",
       " ('PASABAHCE', 2),\n",
       " ('кореопсис', 2),\n",
       " ('INFINITY', 2),\n",
       " ('N23', 2),\n",
       " ('темно-коричневый', 2),\n",
       " ('X64', 2),\n",
       " ('1860', 2),\n",
       " ('2350', 2),\n",
       " ('Paola', 2),\n",
       " ('гладить', 2),\n",
       " ('STYLE', 2),\n",
       " ('308', 2),\n",
       " ('Natural', 2),\n",
       " ('Style', 2),\n",
       " ('213', 2),\n",
       " ('03619', 2),\n",
       " ('885', 2),\n",
       " ('кориандр', 2),\n",
       " ('короб', 2),\n",
       " ('стеллажный', 2),\n",
       " ('BOX', 2),\n",
       " ('клик', 2),\n",
       " ('попсокс', 2),\n",
       " ('мун', 2),\n",
       " ('крассула', 2),\n",
       " ('ROSARIO', 2),\n",
       " ('лили', 2),\n",
       " ('J8565', 2),\n",
       " ('мерный', 2),\n",
       " ('виктория', 2),\n",
       " ('лантан', 2),\n",
       " ('лапчатка', 2),\n",
       " ('обувной', 2),\n",
       " ('красить', 2),\n",
       " ('лопатка', 2),\n",
       " ('BAMBOO', 2),\n",
       " ('2508Кп', 2),\n",
       " ('мантоварка', 2),\n",
       " ('EXCLUSIVE', 2),\n",
       " ('халат', 2),\n",
       " ('скоростной', 2),\n",
       " ('мирт', 2),\n",
       " ('SСOVO', 2),\n",
       " ('гибридный', 2),\n",
       " ('морковь', 2),\n",
       " ('ананас', 2),\n",
       " ('G85', 2),\n",
       " ('LI95', 2),\n",
       " ('черешня', 2),\n",
       " ('чеснок', 2),\n",
       " ('SHINY', 2),\n",
       " ('работа', 2),\n",
       " ('колосистый', 2),\n",
       " ('перечный', 2),\n",
       " (' & ', 2),\n",
       " ('170', 2),\n",
       " ('пиво', 2),\n",
       " ('леди', 2),\n",
       " ('тканевый', 2),\n",
       " ('001', 2),\n",
       " ('40х50', 2),\n",
       " ('низкий', 2),\n",
       " ('кекс', 2),\n",
       " ('00003A', 2),\n",
       " ('односпальный', 2),\n",
       " ('90х200', 2),\n",
       " ('резьба', 2),\n",
       " ('свет', 2),\n",
       " ('незабудка', 2),\n",
       " ('сербский', 2),\n",
       " ('супер', 2),\n",
       " ('мясо', 2),\n",
       " ('175', 2),\n",
       " ('русский', 2),\n",
       " ('метиз', 2),\n",
       " ('ACR042', 2),\n",
       " ('Comfortline', 2),\n",
       " ('140х200', 2),\n",
       " ('съемный', 2),\n",
       " ('осина', 2),\n",
       " ('нло', 2),\n",
       " ('защита', 2),\n",
       " ('рука', 2),\n",
       " ('рояльный', 2),\n",
       " ('цинк', 2),\n",
       " ('286', 2),\n",
       " ('зима', 2),\n",
       " ('200х150', 2),\n",
       " ('атланта', 2),\n",
       " ('1205160', 2),\n",
       " ('открытка', 2),\n",
       " ('подкладка', 2),\n",
       " ('135х50', 2),\n",
       " ('стелла', 2),\n",
       " ('подушка', 2),\n",
       " ('ярус', 2),\n",
       " ('44х24х10', 2),\n",
       " ('40х20х10', 2),\n",
       " ('36х16х10', 2),\n",
       " ('40х13х16', 2),\n",
       " ('17х17х10', 2),\n",
       " ('прессованный', 2),\n",
       " ('278', 2),\n",
       " ('30х60', 2),\n",
       " ('резинка', 2),\n",
       " ('эксперт', 2),\n",
       " ('пылесос', 2),\n",
       " ('сбор', 2),\n",
       " ('всасывание', 2),\n",
       " ('батарейка', 2),\n",
       " ('одноголовый', 2),\n",
       " ('плантация', 2),\n",
       " ('эден', 2),\n",
       " ('роуз', 2),\n",
       " ('почвопокровный', 2),\n",
       " ('солнечный', 2),\n",
       " ('мэджик', 2),\n",
       " ('черри', 2),\n",
       " ('ролик', 2),\n",
       " ('голд', 2),\n",
       " ('рыбочистка', 2),\n",
       " ('салат', 2),\n",
       " ('рукол', 2),\n",
       " ('амбиантэ', 2),\n",
       " ('анис', 2),\n",
       " ('эмпилабль', 2),\n",
       " ('аморить', 2),\n",
       " ('карин', 2),\n",
       " ('Lino', 2),\n",
       " ('полоска', 2),\n",
       " ('102', 2),\n",
       " ('фарфоровый', 2),\n",
       " ('фреза', 2),\n",
       " ('нитрид', 2),\n",
       " ('титан', 2),\n",
       " ('седум', 2),\n",
       " ('WTd180', 2),\n",
       " ('MT355', 2),\n",
       " ('350х180', 2),\n",
       " ('132х178', 2),\n",
       " ('122х152', 2),\n",
       " ('0401', 2),\n",
       " ('PLAIN', 2),\n",
       " ('SARASA', 2),\n",
       " ('MC355', 2),\n",
       " ('арлета', 2),\n",
       " ('беатрис', 2),\n",
       " ('династия', 2),\n",
       " ('жаклин', 2),\n",
       " ('300х150', 2),\n",
       " ('салатовый', 2),\n",
       " ('WTO305', 2),\n",
       " ('муза', 2),\n",
       " ('рим', 2),\n",
       " ('сидней', 2),\n",
       " ('MEIWA', 2),\n",
       " ('тесненый', 2),\n",
       " ('HARD', 2),\n",
       " ('металический', 2),\n",
       " ('MARBLE', 2),\n",
       " ('028', 2),\n",
       " ('TVS', 2),\n",
       " ('тряпка', 2),\n",
       " ('рукоятка', 2),\n",
       " ('кондитерский', 2),\n",
       " ('сменный', 2),\n",
       " ('соковарка', 2),\n",
       " ('удаление', 2),\n",
       " ('стеллаж', 2),\n",
       " ('TELIO', 2),\n",
       " ('OPT', 2),\n",
       " ('алюминий', 2),\n",
       " ('Eurogold', 2),\n",
       " ('111', 2),\n",
       " ('G300A02W', 2),\n",
       " ('табак', 2),\n",
       " ('бордовый', 2),\n",
       " ('1502081', 2),\n",
       " ('Ekko', 2),\n",
       " ('ирис', 2),\n",
       " ('котон', 2),\n",
       " ('мок', 2),\n",
       " ('грань', 2),\n",
       " ('термостакан', 2),\n",
       " ('Duo', 2),\n",
       " ('толкушка', 2),\n",
       " ('чудо', 2),\n",
       " ('пепельница', 2),\n",
       " ('фатсия', 2),\n",
       " ('дорожный', 2),\n",
       " ('прямостоячий', 2),\n",
       " ('хлорофитум', 2),\n",
       " ('холодный', 2),\n",
       " ('сварка', 2),\n",
       " ('Mastix', 2),\n",
       " ('55г', 2),\n",
       " ('алый', 2),\n",
       " ('середина', 2),\n",
       " ('цинерария', 2),\n",
       " ('серебряный', 2),\n",
       " ('фильтр', 2),\n",
       " ('аксинья', 2),\n",
       " ('корпус', 2),\n",
       " ...]"
      ]
     },
     "execution_count": 46,
     "metadata": {},
     "output_type": "execute_result"
    }
   ],
   "source": [
    "a = (functools\n",
    "     .reduce(operator.iconcat, product_category[product_category['product_category'] == 'другое']['lemmas']\n",
    "     .to_list(), [])\n",
    "    )\n",
    "product_lemmas_other = [item for item in a if len(item) > 2]\n",
    "Counter(product_lemmas_other).most_common()"
   ]
  },
  {
   "cell_type": "markdown",
   "metadata": {},
   "source": [
    "После такой сортировки лемм в категории \"другое\" можно расширить словари. Нам нужно добавить ещё леммы во все категории, поэтому перепишем функцию:"
   ]
  },
  {
   "cell_type": "code",
   "execution_count": 47,
   "metadata": {},
   "outputs": [],
   "source": [
    "def lemmateizer(text):\n",
    "    \"\"\"\n",
    "    Функция берёт текст, лемматизирует слова в нём, если встречаются определённые слова, \n",
    "    функция возвращает название категории.\n",
    "    \n",
    "    \"\"\"\n",
    "    lemmas = m.lemmatize(text)\n",
    "    if len([decoration for decoration in decorations if decoration in lemmas]) > 0:\n",
    "        return 'декор'\n",
    "    elif len([household_need for household_need in household_needs if household_need in lemmas]) > 0:\n",
    "        return 'бытовые нужды'\n",
    "    elif len([garden_item for garden_item in garden if garden_item in lemmas]) > 0:\n",
    "        return 'дача'\n",
    "    elif len([plant for plant in plants if plant in lemmas]) > 0:\n",
    "        return 'растения'\n",
    "    else:\n",
    "        return 'другое'\n"
   ]
  },
  {
   "cell_type": "code",
   "execution_count": 48,
   "metadata": {},
   "outputs": [
    {
     "data": {
      "text/plain": [
       "растения         1195\n",
       "декор            1103\n",
       "бытовые нужды     890\n",
       "дача              850\n",
       "другое            662\n",
       "Name: product_category, dtype: int64"
      ]
     },
     "execution_count": 48,
     "metadata": {},
     "output_type": "execute_result"
    }
   ],
   "source": [
    "decorations = (['муляж', 'коврик', 'штора', 'скатерть', 'текстильный', 'Luminarc', \n",
    "                'букет', 'корзина', 'салатник', 'чехол', 'полотенце', 'одежда', 'десертный', 'полка',\n",
    "               'ковер', 'плечики', 'хлопковый', 'рисунок', 'посуда', 'ложка', 'стакан', 'кашпо', 'подарочный'\n",
    "               'кастрюля', 'композиция', 'столовая', 'суповой', 'салфетка', 'обеденный', 'сковорода',\n",
    "               'кружка', 'стеклянный', 'белье', 'тарелка', 'придверный', 'блюдо', 'искуственный', 'новогодний'])\n",
    "garden = ['рассада', 'сорт', 'садовый', 'среднеспелый', 'раннеспелый', 'базилик']\n",
    "plants = (['петуния', 'растение', 'пеларгония', 'калибрахоа', 'герань', 'бакоп', 'эвкалипт', \n",
    "           'лобелия', 'вербейник', 'вербена', 'горшок', 'роза', 'примула', 'фиалка', 'укорененный'])\n",
    "household_needs = (['доска', 'сушилка', 'термометр', 'корыто', 'карниз', 'сиденье', \n",
    "                    'таз', 'вешалка', 'крышка', 'стремянка', 'банка', 'швабра', 'ручка', 'сумка', 'тележка',\n",
    "                   'нержавеющий', 'пищевой', 'нержавеющий', 'ерш', 'подставка', 'лестница', 'хранение', \n",
    "                   'мыло', 'коробка', 'зубной', 'хозяйственный', 'мусор', 'контейнер', 'пищевой', 'алюминиевый',\n",
    "                   'металлический', 'нержавеющий', 'пвх', 'пластиковый'])\n",
    "df['product_category'] = df['product'].apply(lemmateizer)\n",
    "df['product_category'].value_counts()"
   ]
  },
  {
   "cell_type": "markdown",
   "metadata": {},
   "source": [
    "Мы разделили товары в хозяйственном магазине на пять категорий, одна из которых \"другое\". Данная категория самая маленькая по размеру. Поэтому в рамках отведённого на выполнение проекта времени будем считать категоризацию товаров хозяйственного магазина успешной. Поскольку при сегментации покупателей мы опираемся только на содержимое корзины, то фактически мы уже произвели сегментацию пользователей. Те, кто покупает растения - садоводы, кто покупает товары для сада - садоводы, покупатели декора - создатели уюта, ещё есть \"покупатели бытовых товаров\" и последняя категория \"другое\". Далее встаёт вопрос к заказчику исследования и проектировщикам рекомендательной системы: либо мы относим покупателя к одной из категорий по его истории покупок (основываемся на том, товаров какой категории он купил больше и рекомендуем ему товары из этой категории), либо мы смотрим, товаров какой категории больше в его корзине сейчас (рекомендация даётся в процессе покупки) и предлагаем товары именно из этой категории. Оба подхода могут быть применены: наприме, для e-mail рассылки мы используем историю покупок, а в процессе покупки мы анализируем состав корзины в моменте. \n",
    "\n",
    "Для дальнейшего анализа поведения пользователей из отдельных групп будем сегментировать пользователей, основываясь на истории их покупок. Т.е. подсчитаем для каждого пользователя, товаров из какой категории он купил больше, такую категорию ему и присвоим."
   ]
  },
  {
   "cell_type": "code",
   "execution_count": 49,
   "metadata": {},
   "outputs": [],
   "source": [
    "customer_category = df.pivot_table(index=['customer_id', 'product_category'], values='quantity', aggfunc='sum')\n",
    "customer_category = (customer_category\n",
    "                     .loc[customer_category.groupby('customer_id',sort=False)['quantity']\n",
    "                     .idxmax()]\n",
    "                     .reset_index()\n",
    "                    )"
   ]
  },
  {
   "cell_type": "code",
   "execution_count": 50,
   "metadata": {},
   "outputs": [],
   "source": [
    "def user_categorizer(text):\n",
    "    \"\"\"\n",
    "    Функция берёт текст - категорию продукта, в зависимоти от него возвращает категорию пользователя по правилу:\n",
    "    если продукт - растения, категория покупатель - цветовод,\n",
    "    если продукт из категории дача, категория покупателя - дачник,\n",
    "    если продукт - декор, покупатель - создатель уюта, \n",
    "    если продукт из категории бытовые нужды, пользователь - покупатель бытовых товаров,\n",
    "    если продукт из категории \"другое\", та же категория присваивается покупателю.\n",
    "    \n",
    "    \"\"\"\n",
    "    lemmas = m.lemmatize(text)\n",
    "    if text == 'растения':\n",
    "        return 'цветовод'\n",
    "    elif text == 'дача':\n",
    "        return 'дачник'\n",
    "    elif text == 'декор':\n",
    "        return 'создатель уюта'\n",
    "    elif text == 'бытовые нужды':\n",
    "        return 'покупатель бытовых товаров'\n",
    "    else:\n",
    "        return 'другое'\n"
   ]
  },
  {
   "cell_type": "code",
   "execution_count": 51,
   "metadata": {},
   "outputs": [
    {
     "data": {
      "text/plain": [
       "создатель уюта                796\n",
       "покупатель бытовых товаров    727\n",
       "другое                        370\n",
       "цветовод                      337\n",
       "дачник                        108\n",
       "Name: customer_category, dtype: int64"
      ]
     },
     "execution_count": 51,
     "metadata": {},
     "output_type": "execute_result"
    }
   ],
   "source": [
    "customer_category = customer_category.loc[customer_category.groupby('customer_id',sort=False)['quantity'].idxmax()]\n",
    "\n",
    "customer_category['customer_category'] = customer_category['product_category'].apply(user_categorizer)\n",
    "customer_category['customer_category'].value_counts()"
   ]
  },
  {
   "cell_type": "code",
   "execution_count": 52,
   "metadata": {},
   "outputs": [
    {
     "data": {
      "text/plain": [
       "цветовод                      1139\n",
       "создатель уюта                1070\n",
       "покупатель бытовых товаров     998\n",
       "дачник                         889\n",
       "другое                         604\n",
       "Name: customer_category, dtype: int64"
      ]
     },
     "execution_count": 52,
     "metadata": {},
     "output_type": "execute_result"
    }
   ],
   "source": [
    "df = df.merge(customer_category[['customer_id', 'customer_category']], how='right', on=['customer_id'])\n",
    "df['customer_category'].value_counts()"
   ]
  },
  {
   "cell_type": "markdown",
   "metadata": {},
   "source": [
    "Получили интересный результат, что среди уникальных пользователей больше всего создателей уюта и покупателей бытовых товаров, при этом в общем датасете только создатели уюта остаются на той же позиции в рейтинге. На следующем этпае нужно выяснить, покупатели какой категории приносят больше выручки магазину, чтобы подготовить для них более проработанную рекомендательную систему.\n",
    "\n",
    "В предыдущем шаге было отмечено, что в месяцы садово-дачной активности доходы хозяйственного магазина выше. Можно посмотреть, как изменяется от времени количество покупок для каждой категории. Как и ранее будем смотреть число покупок, сделанных за неделю:"
   ]
  },
  {
   "cell_type": "code",
   "execution_count": 53,
   "metadata": {},
   "outputs": [
    {
     "data": {
      "image/png": "[encoded data removed]",
      "text/plain": [
       "<Figure size 1008x1368 with 5 Axes>"
      ]
     },
     "metadata": {
      "needs_background": "light"
     },
     "output_type": "display_data"
    }
   ],
   "source": [
    "fig, axs = plt.subplots(5,1,figsize=(14,19))#, sharex=True)\n",
    "axs[0].set_title('Изменение количества совершённых покупок за неделю во времени для покупателей из разных сегментов', fontsize=16)\n",
    "\n",
    "for i, (column_value, column_slice) in enumerate(df.groupby('customer_category')):\n",
    "    data = column_slice.groupby('week').agg({'order_id': 'nunique'})\n",
    "    axs[i].plot(data, label=column_value)\n",
    "    axs[i].legend()\n",
    "#plt.savefig(\"Изменение количества совершённых покупок за неделю во времени для покупателей из разных сегментов.png\", dpi=300)\n",
    "plt.show()"
   ]
  },
  {
   "cell_type": "markdown",
   "metadata": {},
   "source": [
    "По графикам видно, что категории покупателей \"дачник\" и \"цветовод\" имеют выраженную сезонную активность: число покупок цветоводов растёт в конце февраля - начале марта (возможно, это покупка цветов в горшках к 8 марта), а для дачников с апреля по июнь наступает сезон активных покупок."
   ]
  },
  {
   "cell_type": "markdown",
   "metadata": {},
   "source": [
    "## Шаг 3. Выводы  <a id=\"step10\"></a> "
   ]
  },
  {
   "cell_type": "markdown",
   "metadata": {},
   "source": [
    "С помощью лемматизации мы разделили все товары в хозяйственном магазине на пять товарных категорий: дача, растения (здесь имеются ввиду комнатные растения и цветы), декор (сюда входит также посуда и текстиль), бытовые нужды (разные бытовые принадлежности), в пятую категорию попали все товары, которые не удалось отнести к первым четырём категориям. По числу уникальных пользователей размеры выборок распределены следующим образом:\n",
    "* создатели уюта – 796 человек,\n",
    "* покупатели бытовых товаров - 727 человек;\n",
    "* другое - 370 человека;\n",
    "* цветоводы - 337 человек;\n",
    "* дачники - 108 человек. \n",
    "\n",
    "Как видим, группы получились не равновеликими, кроме того, интересно, что в общем датасете распределение пользователей выглядит иначе (на первых местах по кол-ву строк в датасете дачники и цветоводы). По временным рядам числа заказов разных сегментов покупателей видим, что пользовательская активность выглядит по-разному. Так, категория покупателей \"цветовод\" активна в конце февраля, что может быть связано с покупкой цветов в горшках в качестве подарков к 8-му марта, \"дачники\" же особенно активны в период с апреля по июль, что вполне логично. В следующем шаге предстоит узнать, одинакова ли выручка магазина от пользователей разных групп с помощью статистических тестов. "
   ]
  },
  {
   "cell_type": "markdown",
   "metadata": {},
   "source": [
    "## Шаг 4. Проверка статистических гипотез  <a id=\"step11\"></a> "
   ]
  },
  {
   "cell_type": "markdown",
   "metadata": {},
   "source": [
    "В данном шаге наша задача - установить для генеральной совокупности всех покупателей хозяйственного магазина, одинакова ли выручка для разных сегментов покупателей, имея данные по выборке из 2197 человек. Возьмём в качестве нулевой гипотезы следующее утверждение: **\"выручка магазина от покупателей из разных категорий одинакова\".  Альтернативная гипотеза: \"выручки от покупателей из разных категорий различаются\".** Мы берём утвердительную формулировку для нулевой гипотезы, как это и принято в статистическом анализе. Имея пять категорий пользователей, нам нужно сделать десять попарных статистических тестов. Т.е. в каждом тесте мы формулируем нулевую и альтернативную гипотезы так же, как указано выше, но только для двух сегментов пользователей.  \n",
    "\n",
    "Прежде чем переходить непосредственно к стат тестам, нужно выяснить, является ли распределение выручки в каждой группе покупателей нормальным. Если да, то мы можем критерий Т-Стьюдента, если нет, то непераметрический критерий Манна Уити:"
   ]
  },
  {
   "cell_type": "code",
   "execution_count": 54,
   "metadata": {},
   "outputs": [],
   "source": [
    "def is_distribution_normal(data, parametrs, tests):\n",
    "    \"\"\"\n",
    "    Функция берёт в качестве аргумента датасет, столбец, по которому нужно произвести группировку parametrs\n",
    "    и столбец с измерениями tests. После проведения группировки, функция проверяет, распределены ли измерения нормально.\n",
    "    Нулевая гипотеза: измерения распределены нормально.\n",
    "    Альтернативная гипотеза: распределение измерений в столбце отлично от нормального.\n",
    "    Опровержение гипотезы происходит на основании теста Шапиро-Уилка с уровнем статистической значимости \n",
    "    alpha = 0.05.\n",
    "    \"\"\"\n",
    "    alpha = 0.05\n",
    "    for column_value, column_slice in data.groupby(parametrs):\n",
    "        print('Проверка на нормальность распределения значений', tests, 'для тарифа', column_value)\n",
    "        results = shapiro(column_slice[tests])[1]\n",
    "        print('    p-value =', results)\n",
    "        if (results < alpha):\n",
    "            print(\"    отвергаем нулевую гипотезу, распределение не соответствует нормальному.\", end='\\n')\n",
    "        else:\n",
    "            print(\"Не получилось отвергнуть нулевую гипотезу о соответствии распределения нормальному.\", end='\\n')\n",
    "        print()\n",
    "        "
   ]
  },
  {
   "cell_type": "code",
   "execution_count": 55,
   "metadata": {},
   "outputs": [
    {
     "name": "stdout",
     "output_type": "stream",
     "text": [
      "Проверка на нормальность распределения значений income для тарифа дачник\n",
      "    p-value = 4.311543141003884e-40\n",
      "    отвергаем нулевую гипотезу, распределение не соответствует нормальному.\n",
      "\n",
      "Проверка на нормальность распределения значений income для тарифа другое\n",
      "    p-value = 6.558076813040144e-43\n",
      "    отвергаем нулевую гипотезу, распределение не соответствует нормальному.\n",
      "\n",
      "Проверка на нормальность распределения значений income для тарифа покупатель бытовых товаров\n",
      "    p-value = 2.5978526495077494e-37\n",
      "    отвергаем нулевую гипотезу, распределение не соответствует нормальному.\n",
      "\n",
      "Проверка на нормальность распределения значений income для тарифа создатель уюта\n",
      "    p-value = 4.344025239406933e-44\n",
      "    отвергаем нулевую гипотезу, распределение не соответствует нормальному.\n",
      "\n",
      "Проверка на нормальность распределения значений income для тарифа цветовод\n",
      "    p-value = 0.0\n",
      "    отвергаем нулевую гипотезу, распределение не соответствует нормальному.\n",
      "\n"
     ]
    }
   ],
   "source": [
    "is_distribution_normal(df, 'customer_category', 'income')"
   ]
  },
  {
   "cell_type": "markdown",
   "metadata": {},
   "source": [
    "Что и следовало ожидать, распределения выручки от разных групп покупателей не являются нормальными. Значит проверку гипотез нужно осуществлять с помощью непераметрического критерия Манна Уити:"
   ]
  },
  {
   "cell_type": "code",
   "execution_count": 56,
   "metadata": {},
   "outputs": [
    {
     "data": {
      "text/plain": [
       "['другое',\n",
       " 'создатель уюта',\n",
       " 'покупатель бытовых товаров',\n",
       " 'дачник',\n",
       " 'цветовод']"
      ]
     },
     "execution_count": 56,
     "metadata": {},
     "output_type": "execute_result"
    }
   ],
   "source": [
    "alpha = 0.05 #уровень статистической значимости\n",
    "user_categories = df['customer_category'].unique().tolist()\n",
    "user_categories\n"
   ]
  },
  {
   "cell_type": "code",
   "execution_count": 57,
   "metadata": {},
   "outputs": [],
   "source": [
    "x = {}\n",
    "purchases_per_user_cat = {} # словарь с выручкой на одного пользователя для каждой категории\n",
    "for cat in user_categories:\n",
    "    x[cat] = df.query(f'customer_category == \"{cat}\"')['income'] # месячная выручка пользователей из каждой категории\n",
    "    purchases_per_user_cat[cat] = (df.query(f'customer_category == \"{cat}\"').groupby(['day'])\n",
    "                      .agg({'customer_id': ['nunique'], 'income': ['sum']})\n",
    "                     )\n",
    "    purchases_per_user_cat[cat].columns = ['nunique_users', 'daily_income']\n",
    "    purchases_per_user_cat[cat].reset_index(inplace = True)\n",
    "    purchases_per_user_cat[cat]['income_per_user'] = round(purchases_per_user['daily_income'] \n",
    "                                              / purchases_per_user['nunique_users'], 2\n",
    "                                             )\n"
   ]
  },
  {
   "cell_type": "code",
   "execution_count": 58,
   "metadata": {},
   "outputs": [
    {
     "name": "stdout",
     "output_type": "stream",
     "text": [
      "Проверка нулевой гипотезы о равенстве выручек покупателей из группы другое и группы создатель уюта:\n",
      "        Нулевая гипотеза – выручки пользователей обеих групп равны.\n",
      "        Альтернативная гипотеза – выручки пользователей обеих групп отличаются.\n",
      "        **Результаты проверки:**\n",
      "    p-значение: 0.00\n",
      "    Отвергаем нулевую гипотезу: выручки групп пользователей другое и создатель уюта отличаются.\n",
      "\n",
      "\n",
      "Проверка нулевой гипотезы о равенстве выручек покупателей из группы другое и группы покупатель бытовых товаров:\n",
      "        Нулевая гипотеза – выручки пользователей обеих групп равны.\n",
      "        Альтернативная гипотеза – выручки пользователей обеих групп отличаются.\n",
      "        **Результаты проверки:**\n",
      "    p-значение: 0.00\n",
      "    Отвергаем нулевую гипотезу: выручки групп пользователей другое и покупатель бытовых товаров отличаются.\n",
      "\n",
      "\n",
      "Проверка нулевой гипотезы о равенстве выручек покупателей из группы другое и группы дачник:\n",
      "        Нулевая гипотеза – выручки пользователей обеих групп равны.\n",
      "        Альтернативная гипотеза – выручки пользователей обеих групп отличаются.\n",
      "        **Результаты проверки:**\n",
      "    p-значение: 0.00\n",
      "    Отвергаем нулевую гипотезу: выручки групп пользователей другое и дачник отличаются.\n",
      "\n",
      "\n",
      "Проверка нулевой гипотезы о равенстве выручек покупателей из группы другое и группы цветовод:\n",
      "        Нулевая гипотеза – выручки пользователей обеих групп равны.\n",
      "        Альтернативная гипотеза – выручки пользователей обеих групп отличаются.\n",
      "        **Результаты проверки:**\n",
      "    p-значение: 0.00\n",
      "    Отвергаем нулевую гипотезу: выручки групп пользователей другое и цветовод отличаются.\n",
      "\n",
      "\n",
      "Проверка нулевой гипотезы о равенстве выручек покупателей из группы создатель уюта и группы покупатель бытовых товаров:\n",
      "        Нулевая гипотеза – выручки пользователей обеих групп равны.\n",
      "        Альтернативная гипотеза – выручки пользователей обеих групп отличаются.\n",
      "        **Результаты проверки:**\n",
      "    p-значение: 0.00\n",
      "    Отвергаем нулевую гипотезу: выручки групп пользователей создатель уюта и покупатель бытовых товаров отличаются.\n",
      "\n",
      "\n",
      "Проверка нулевой гипотезы о равенстве выручек покупателей из группы создатель уюта и группы дачник:\n",
      "        Нулевая гипотеза – выручки пользователей обеих групп равны.\n",
      "        Альтернативная гипотеза – выручки пользователей обеих групп отличаются.\n",
      "        **Результаты проверки:**\n",
      "    p-значение: 0.00\n",
      "    Отвергаем нулевую гипотезу: выручки групп пользователей создатель уюта и дачник отличаются.\n",
      "\n",
      "\n",
      "Проверка нулевой гипотезы о равенстве выручек покупателей из группы создатель уюта и группы цветовод:\n",
      "        Нулевая гипотеза – выручки пользователей обеих групп равны.\n",
      "        Альтернативная гипотеза – выручки пользователей обеих групп отличаются.\n",
      "        **Результаты проверки:**\n",
      "    p-значение: 0.00\n",
      "    Отвергаем нулевую гипотезу: выручки групп пользователей создатель уюта и цветовод отличаются.\n",
      "\n",
      "\n",
      "Проверка нулевой гипотезы о равенстве выручек покупателей из группы покупатель бытовых товаров и группы дачник:\n",
      "        Нулевая гипотеза – выручки пользователей обеих групп равны.\n",
      "        Альтернативная гипотеза – выручки пользователей обеих групп отличаются.\n",
      "        **Результаты проверки:**\n",
      "    p-значение: 0.00\n",
      "    Отвергаем нулевую гипотезу: выручки групп пользователей покупатель бытовых товаров и дачник отличаются.\n",
      "\n",
      "\n",
      "Проверка нулевой гипотезы о равенстве выручек покупателей из группы покупатель бытовых товаров и группы цветовод:\n",
      "        Нулевая гипотеза – выручки пользователей обеих групп равны.\n",
      "        Альтернативная гипотеза – выручки пользователей обеих групп отличаются.\n",
      "        **Результаты проверки:**\n",
      "    p-значение: 0.00\n",
      "    Отвергаем нулевую гипотезу: выручки групп пользователей покупатель бытовых товаров и цветовод отличаются.\n",
      "\n",
      "\n",
      "Проверка нулевой гипотезы о равенстве выручек покупателей из группы дачник и группы цветовод:\n",
      "        Нулевая гипотеза – выручки пользователей обеих групп равны.\n",
      "        Альтернативная гипотеза – выручки пользователей обеих групп отличаются.\n",
      "        **Результаты проверки:**\n",
      "    p-значение: 0.00\n",
      "    Отвергаем нулевую гипотезу: выручки групп пользователей дачник и цветовод отличаются.\n",
      "\n",
      "\n"
     ]
    }
   ],
   "source": [
    "for i in range(len(user_categories)):\n",
    "    for j in range(i+1, len(user_categories)):\n",
    "        cat1 = user_categories[i]\n",
    "        cat2 = user_categories[j]\n",
    "        print(f'''Проверка нулевой гипотезы о равенстве выручек покупателей из группы {cat1} и группы {cat2}:\n",
    "        Нулевая гипотеза – выручки пользователей обеих групп равны.\n",
    "        Альтернативная гипотеза – выручки пользователей обеих групп отличаются.\n",
    "        **Результаты проверки:**''')\n",
    "        mw = mannwhitneyu(x[cat1], x[cat2])\n",
    "        print('    p-значение: {:.2f}'.format(mw.pvalue))\n",
    "        if (mw.pvalue < alpha):\n",
    "            print(f\"    Отвергаем нулевую гипотезу: выручки групп пользователей {cat1} и {cat2} отличаются.\")\n",
    "        else:\n",
    "            print(f\"    Не получилось отвергнуть нулевую гипотезу, нет оснований считать выручки двух групп покупателей разными.\")\n",
    "        print('\\n')\n",
    "    "
   ]
  },
  {
   "cell_type": "markdown",
   "metadata": {},
   "source": [
    "Итак, мы отвергли все нулевые теории, т.е. выручки покупателей из всех пяти групп отличаются. Посмотрим на статистики для групп:"
   ]
  },
  {
   "cell_type": "code",
   "execution_count": 59,
   "metadata": {},
   "outputs": [
    {
     "data": {
      "text/html": [
       "<div>\n",
       "<style scoped>\n",
       "    .dataframe tbody tr th:only-of-type {\n",
       "        vertical-align: middle;\n",
       "    }\n",
       "\n",
       "    .dataframe tbody tr th {\n",
       "        vertical-align: top;\n",
       "    }\n",
       "\n",
       "    .dataframe thead th {\n",
       "        text-align: right;\n",
       "    }\n",
       "</style>\n",
       "<table border=\"1\" class=\"dataframe\">\n",
       "  <thead>\n",
       "    <tr style=\"text-align: right;\">\n",
       "      <th></th>\n",
       "      <th>count</th>\n",
       "      <th>mean</th>\n",
       "      <th>std</th>\n",
       "      <th>min</th>\n",
       "      <th>25%</th>\n",
       "      <th>50%</th>\n",
       "      <th>75%</th>\n",
       "      <th>max</th>\n",
       "    </tr>\n",
       "    <tr>\n",
       "      <th>customer_category</th>\n",
       "      <th></th>\n",
       "      <th></th>\n",
       "      <th></th>\n",
       "      <th></th>\n",
       "      <th></th>\n",
       "      <th></th>\n",
       "      <th></th>\n",
       "      <th></th>\n",
       "    </tr>\n",
       "  </thead>\n",
       "  <tbody>\n",
       "    <tr>\n",
       "      <td>дачник</td>\n",
       "      <td>889.0</td>\n",
       "      <td>136.073116</td>\n",
       "      <td>127.921447</td>\n",
       "      <td>9.0</td>\n",
       "      <td>76.00</td>\n",
       "      <td>120.0</td>\n",
       "      <td>150.0</td>\n",
       "      <td>1408.0</td>\n",
       "    </tr>\n",
       "    <tr>\n",
       "      <td>другое</td>\n",
       "      <td>604.0</td>\n",
       "      <td>493.798013</td>\n",
       "      <td>1286.199983</td>\n",
       "      <td>9.0</td>\n",
       "      <td>97.00</td>\n",
       "      <td>187.0</td>\n",
       "      <td>406.0</td>\n",
       "      <td>24370.0</td>\n",
       "    </tr>\n",
       "    <tr>\n",
       "      <td>покупатель бытовых товаров</td>\n",
       "      <td>998.0</td>\n",
       "      <td>1425.434870</td>\n",
       "      <td>1627.302653</td>\n",
       "      <td>22.0</td>\n",
       "      <td>397.00</td>\n",
       "      <td>899.0</td>\n",
       "      <td>1735.5</td>\n",
       "      <td>16536.0</td>\n",
       "    </tr>\n",
       "    <tr>\n",
       "      <td>создатель уюта</td>\n",
       "      <td>1070.0</td>\n",
       "      <td>822.571028</td>\n",
       "      <td>1110.164588</td>\n",
       "      <td>11.0</td>\n",
       "      <td>208.25</td>\n",
       "      <td>524.0</td>\n",
       "      <td>974.0</td>\n",
       "      <td>15680.0</td>\n",
       "    </tr>\n",
       "    <tr>\n",
       "      <td>цветовод</td>\n",
       "      <td>1139.0</td>\n",
       "      <td>187.417032</td>\n",
       "      <td>177.966869</td>\n",
       "      <td>15.0</td>\n",
       "      <td>128.00</td>\n",
       "      <td>149.0</td>\n",
       "      <td>188.0</td>\n",
       "      <td>1794.0</td>\n",
       "    </tr>\n",
       "  </tbody>\n",
       "</table>\n",
       "</div>"
      ],
      "text/plain": [
       "                             count         mean          std   min     25%  \\\n",
       "customer_category                                                            \n",
       "дачник                       889.0   136.073116   127.921447   9.0   76.00   \n",
       "другое                       604.0   493.798013  1286.199983   9.0   97.00   \n",
       "покупатель бытовых товаров   998.0  1425.434870  1627.302653  22.0  397.00   \n",
       "создатель уюта              1070.0   822.571028  1110.164588  11.0  208.25   \n",
       "цветовод                    1139.0   187.417032   177.966869  15.0  128.00   \n",
       "\n",
       "                              50%     75%      max  \n",
       "customer_category                                   \n",
       "дачник                      120.0   150.0   1408.0  \n",
       "другое                      187.0   406.0  24370.0  \n",
       "покупатель бытовых товаров  899.0  1735.5  16536.0  \n",
       "создатель уюта              524.0   974.0  15680.0  \n",
       "цветовод                    149.0   188.0   1794.0  "
      ]
     },
     "execution_count": 59,
     "metadata": {},
     "output_type": "execute_result"
    }
   ],
   "source": [
    "df.groupby('customer_category')['income'].describe()"
   ]
  },
  {
   "cell_type": "markdown",
   "metadata": {},
   "source": [
    "Получается, что самая высокая выручка у группы \"покупатель бытовых товаров\" и \"создатели уюта\", а самая низкая у \"дачников\" и \"цветоводов\". В целом было логично, что выручки групп разной величины (по количеству покупателей) отличаются. Логичнее предположить, что одинаковыми будут не сами выручки, а выручка, поделённая на количество пользователей. Выдвенем нулевую и альтернативную гипотезы:\n",
    "\n",
    "**нулевая гипотеза: средняя выручка магазина от одного уникального пользователя для каждой категории одинакова. \n",
    "Альтернативная гипотеза: среднии выручки магазина от одного уникального пользователя различаются по категориям покупателей**."
   ]
  },
  {
   "cell_type": "code",
   "execution_count": 60,
   "metadata": {},
   "outputs": [
    {
     "name": "stdout",
     "output_type": "stream",
     "text": [
      "Проверка нулевой гипотезы о равенстве средних выручек на одного покупателя из категории другое и категории создатель уюта:\n",
      "        Нулевая гипотеза – средние выручки на покупателя в обеих категориях равны.\n",
      "        Альтернативная гипотеза – средние выручки на покупателя для двух категорий отличаются.\n",
      "        **Результаты проверки:**\n",
      "    p-значение: 0.16\n",
      "    Не получилось отвергнуть нулевую гипотезу, нет оснований считать средние выручки на одного пользователя для двух категорий разными.\n",
      "\n",
      "\n",
      "Проверка нулевой гипотезы о равенстве средних выручек на одного покупателя из категории другое и категории покупатель бытовых товаров:\n",
      "        Нулевая гипотеза – средние выручки на покупателя в обеих категориях равны.\n",
      "        Альтернативная гипотеза – средние выручки на покупателя для двух категорий отличаются.\n",
      "        **Результаты проверки:**\n",
      "    p-значение: 0.17\n",
      "    Не получилось отвергнуть нулевую гипотезу, нет оснований считать средние выручки на одного пользователя для двух категорий разными.\n",
      "\n",
      "\n",
      "Проверка нулевой гипотезы о равенстве средних выручек на одного покупателя из категории другое и категории дачник:\n",
      "        Нулевая гипотеза – средние выручки на покупателя в обеих категориях равны.\n",
      "        Альтернативная гипотеза – средние выручки на покупателя для двух категорий отличаются.\n",
      "        **Результаты проверки:**\n",
      "    p-значение: 0.01\n",
      "    Отвергаем нулевую гипотезу: средние выручки на покупателя для категорий пользователей другое и дачник отличаются.\n",
      "\n",
      "\n",
      "Проверка нулевой гипотезы о равенстве средних выручек на одного покупателя из категории другое и категории цветовод:\n",
      "        Нулевая гипотеза – средние выручки на покупателя в обеих категориях равны.\n",
      "        Альтернативная гипотеза – средние выручки на покупателя для двух категорий отличаются.\n",
      "        **Результаты проверки:**\n",
      "    p-значение: 0.46\n",
      "    Не получилось отвергнуть нулевую гипотезу, нет оснований считать средние выручки на одного пользователя для двух категорий разными.\n",
      "\n",
      "\n",
      "Проверка нулевой гипотезы о равенстве средних выручек на одного покупателя из категории создатель уюта и категории покупатель бытовых товаров:\n",
      "        Нулевая гипотеза – средние выручки на покупателя в обеих категориях равны.\n",
      "        Альтернативная гипотеза – средние выручки на покупателя для двух категорий отличаются.\n",
      "        **Результаты проверки:**\n",
      "    p-значение: 0.47\n",
      "    Не получилось отвергнуть нулевую гипотезу, нет оснований считать средние выручки на одного пользователя для двух категорий разными.\n",
      "\n",
      "\n",
      "Проверка нулевой гипотезы о равенстве средних выручек на одного покупателя из категории создатель уюта и категории дачник:\n",
      "        Нулевая гипотеза – средние выручки на покупателя в обеих категориях равны.\n",
      "        Альтернативная гипотеза – средние выручки на покупателя для двух категорий отличаются.\n",
      "        **Результаты проверки:**\n",
      "    p-значение: 0.00\n",
      "    Отвергаем нулевую гипотезу: средние выручки на покупателя для категорий пользователей создатель уюта и дачник отличаются.\n",
      "\n",
      "\n",
      "Проверка нулевой гипотезы о равенстве средних выручек на одного покупателя из категории создатель уюта и категории цветовод:\n",
      "        Нулевая гипотеза – средние выручки на покупателя в обеих категориях равны.\n",
      "        Альтернативная гипотеза – средние выручки на покупателя для двух категорий отличаются.\n",
      "        **Результаты проверки:**\n",
      "    p-значение: 0.14\n",
      "    Не получилось отвергнуть нулевую гипотезу, нет оснований считать средние выручки на одного пользователя для двух категорий разными.\n",
      "\n",
      "\n",
      "Проверка нулевой гипотезы о равенстве средних выручек на одного покупателя из категории покупатель бытовых товаров и категории дачник:\n",
      "        Нулевая гипотеза – средние выручки на покупателя в обеих категориях равны.\n",
      "        Альтернативная гипотеза – средние выручки на покупателя для двух категорий отличаются.\n",
      "        **Результаты проверки:**\n",
      "    p-значение: 0.00\n",
      "    Отвергаем нулевую гипотезу: средние выручки на покупателя для категорий пользователей покупатель бытовых товаров и дачник отличаются.\n",
      "\n",
      "\n",
      "Проверка нулевой гипотезы о равенстве средних выручек на одного покупателя из категории покупатель бытовых товаров и категории цветовод:\n",
      "        Нулевая гипотеза – средние выручки на покупателя в обеих категориях равны.\n",
      "        Альтернативная гипотеза – средние выручки на покупателя для двух категорий отличаются.\n",
      "        **Результаты проверки:**\n",
      "    p-значение: 0.15\n",
      "    Не получилось отвергнуть нулевую гипотезу, нет оснований считать средние выручки на одного пользователя для двух категорий разными.\n",
      "\n",
      "\n",
      "Проверка нулевой гипотезы о равенстве средних выручек на одного покупателя из категории дачник и категории цветовод:\n",
      "        Нулевая гипотеза – средние выручки на покупателя в обеих категориях равны.\n",
      "        Альтернативная гипотеза – средние выручки на покупателя для двух категорий отличаются.\n",
      "        **Результаты проверки:**\n",
      "    p-значение: 0.02\n",
      "    Отвергаем нулевую гипотезу: средние выручки на покупателя для категорий пользователей дачник и цветовод отличаются.\n",
      "\n",
      "\n"
     ]
    }
   ],
   "source": [
    "for i in range(len(user_categories)):\n",
    "    for j in range(i+1, len(user_categories)):\n",
    "        cat1 = user_categories[i]\n",
    "        cat2 = user_categories[j]\n",
    "        print(f'''Проверка нулевой гипотезы о равенстве средних выручек на одного покупателя из категории {cat1} и категории {cat2}:\n",
    "        Нулевая гипотеза – средние выручки на покупателя в обеих категориях равны.\n",
    "        Альтернативная гипотеза – средние выручки на покупателя для двух категорий отличаются.\n",
    "        **Результаты проверки:**''')\n",
    "        mw = mannwhitneyu(purchases_per_user_cat[cat1]['income_per_user'], purchases_per_user_cat[cat2]['income_per_user'])\n",
    "        print('    p-значение: {:.2f}'.format(mw.pvalue))\n",
    "        if (mw.pvalue < alpha):\n",
    "            print(f\"    Отвергаем нулевую гипотезу: средние выручки на покупателя для категорий пользователей {cat1} и {cat2} отличаются.\")\n",
    "        else:\n",
    "            print(f\"    Не получилось отвергнуть нулевую гипотезу, нет оснований считать средние выручки на одного пользователя для двух категорий разными.\")\n",
    "        print('\\n')\n",
    "    "
   ]
  },
  {
   "cell_type": "markdown",
   "metadata": {},
   "source": [
    "Мы получили, что средние выручки на одного пользователя внутри категорий \"цветовод\", \"покупатель бытовых товаров\", \"создатель уюта\" и \"другое\" статистически не различимы. От них отличается только удельная выручка покупателя из категории \"дачники\". Посмотрим, в какую сторону происходит отклонение:"
   ]
  },
  {
   "cell_type": "code",
   "execution_count": 61,
   "metadata": {},
   "outputs": [
    {
     "data": {
      "image/png": "[encoded data removed]",
      "text/plain": [
       "<Figure size 432x288 with 1 Axes>"
      ]
     },
     "metadata": {
      "needs_background": "light"
     },
     "output_type": "display_data"
    }
   ],
   "source": [
    "fig = plt.figure()\n",
    "ax = plt.gca()\n",
    "sns.distplot(purchases_per_user_cat['дачник']['income_per_user'],\n",
    "             ax=ax, norm_hist=True, kde=True, label=\"дачник\")\n",
    "sns.distplot(purchases_per_user_cat['другое']['income_per_user'],\n",
    "             ax=ax, norm_hist=True, kde=True, label=\"другое\")\n",
    "\n",
    "ax.legend()\n",
    "plt.title(\"Распределения удельной средней выручки для двух категорий покупателей\")\n",
    "#plt.savefig(\"Распределения удельной средней выручки для двух категорий покупателей.png\", dpi=300)\n",
    "plt.show()"
   ]
  },
  {
   "cell_type": "code",
   "execution_count": 62,
   "metadata": {},
   "outputs": [
    {
     "data": {
      "text/plain": [
       "count       84.000000\n",
       "mean      1462.625119\n",
       "std       1271.407239\n",
       "min        336.750000\n",
       "25%        935.717500\n",
       "50%       1261.585000\n",
       "75%       1675.822500\n",
       "max      11179.500000\n",
       "Name: income_per_user, dtype: float64"
      ]
     },
     "execution_count": 62,
     "metadata": {},
     "output_type": "execute_result"
    }
   ],
   "source": [
    "purchases_per_user_cat['дачник']['income_per_user'].describe()"
   ]
  },
  {
   "cell_type": "code",
   "execution_count": 63,
   "metadata": {},
   "outputs": [
    {
     "data": {
      "text/plain": [
       "count      229.000000\n",
       "mean      1260.677118\n",
       "std       1058.267601\n",
       "min        205.750000\n",
       "25%        754.880000\n",
       "50%       1067.670000\n",
       "75%       1500.200000\n",
       "max      11179.500000\n",
       "Name: income_per_user, dtype: float64"
      ]
     },
     "execution_count": 63,
     "metadata": {},
     "output_type": "execute_result"
    }
   ],
   "source": [
    "purchases_per_user_cat['цветовод']['income_per_user'].describe()"
   ]
  },
  {
   "cell_type": "markdown",
   "metadata": {},
   "source": [
    "По статистикам можно сделать вывод о том, что в среднем доход хозяйственного магазина от одного \"дачника\" выше, чем средние доходы от каждого из представителей других категорий."
   ]
  },
  {
   "cell_type": "markdown",
   "metadata": {},
   "source": [
    "## Шаг 4. Выводы  <a id=\"step12\"></a> "
   ]
  },
  {
   "cell_type": "markdown",
   "metadata": {},
   "source": [
    "В данном шаге были проверены гипотезы о равенстве выручек от разных групп покупателей. В первую очаредь при проведении статистических тестов необходимо выбрать методику. Поскольку все группы пользователей не прошли тест Шапиро-Уилка с уровнем статистической значимости alpha = 0.05 на соответствие распределения выручки нормальному, то проверка гипотез о равенстве выручек осуществлялась с помощью непераметрического критерия Манна Уитни с уровнем статистической значимости alpha = 0.05. В результате десяти попарных тестов установлено, что все выручки различаются. \n",
    "\n",
    "Поскольку группы не одинаковы по количеству покупателей, вывод о разных выручках был ожидаем. Логичнее сравнивать удельные выручки от каждой категории, т.е. сравнивать, какой средний доход принесёт хозяйственому магазину один условный \"дачник\", \"цветовод\" и т.д. В результате десяти попарных статистических тестов Манна Уитни с уровнем статистической значимости alpha = 0.05 было установлено, что удельные выручки представителей четырёх категорий статистически равны, а удельная выручка покупателя из категории \"дачник\" отличается от них. Статистики для удельных выручек покупателей категорий \"дачник\" и \"цветовод\" показывают, что один дачник приносит хозяйственному магазину более высокий доход, чем один цветовод, а значит, и чем представители всех остальных групп."
   ]
  },
  {
   "cell_type": "markdown",
   "metadata": {},
   "source": [
    "## Общие выводы  <a id=\"step13\"></a> "
   ]
  },
  {
   "cell_type": "markdown",
   "metadata": {},
   "source": [
    "Нами был изучен датасет, предоставленный интернет-магазином товаров для дома и быта «Пока все ещё тут». Данные были собраны за период с 01.10.2018 по 31.10.2019, таким образом была возможность проследить сезонность некоторых товаров. Всего в датасете фигурировало 2343 уникальных товара и 2451 уникальных покупателей. После очистки датасета от выбросов, в ходе который было удалено более 30% данных, остался 2276 уникальных товаров и 2338 уникальных покупателей.\n",
    "\n",
    "В ходе предварительных расчётов установлено, что в среднем в день в магазин приходит примерно 6 покупателей, а средняя дневная выручка магазина составляет 7507 рублей. Временные ряды выручки магазина и средней выручки от одного покупателя не демонстрируют проявленной сезонности. На временном ряду числа покупок есть отчётливые пики, связанные с основными праздниками: НГ, 23 февраля, 8 марта. Т.е. люди совершают в это время больше покупок, но выручка магазина не растёт. Это возможные точки роста: возможно, стоит расширить ассортимент подарков.\n",
    "\n",
    "С помощью лемматизации товары интернет-магазина были сегментированы на пять категорий: дача (рассада), растения (комнатные растения и цветы), декор (также посуда и текстиль), бытовые нужды (разные бытовые принадлежности), в пятую категорию были выделены товары, которые не удалось отнести к первым четырём. Поскольку покупатели совершали слишком мало повторных покупок, невозможно опираться при сегментации на их поведенческие характеристики. Было принято решение о сегментации покупателей на основе их выбора товаров. Т.е. по тому, к какой категории относится большинство товаров в чеке пользователя мы делаем вывод о том, к какой группе он принадлежит.\n",
    "Были выделены следующие категории покупателей интернет-магазина: создатели уюта – 796 человек, покупатели бытовых товаров - 727 человек, другое - 370 человек, цветоводы - 337 человек, дачники - 108 человек. Временные ряды количества заказов разных сегментов покупателей демонстрируют разную пользовательскую активность: категория покупателей \"цветовод\" активна в конце февраля, что может быть связано с покупкой цветов в горшках в качестве подарков к 8-му марта, \"дачники\" же особенно активны в период с апреля по июль. Другие категории не демонстрируют выраженного сезонного изменения выручки.\n",
    "\n",
    "Данная сегментация товаров является первичной. Далее можно увеличивать число категорий, чтобы рекомендательная система была более точной. Кроме того во время очистки датасета были обнаружены пользователи, которые покупают за раз большое количество товара одного наименования. Эти пользователи не были изучены в датаесте, но при формировании рекомендательной системы есть смысл выделить таких пользователей в отдельную категорию - оптовики, как вариант, делать для них спец цену на товары и другие спец предложения. Также были обнаружены товары, которые на порядок дороже медианного значения по датасету, эти товары также можно выделить в отделюную группу верхнего уровня, а дальше проводить сегментацию уже по группам условно \"дорогих\" и \"дешёвых\" товаров. Т.е. на следующем этапе предлагается  сдедать сегментацию товаров многоуровневой.\n",
    "\n",
    "С целью сравнения выручек магазина от покупателей по категориям были проведены статистические тесты: для попарного сравнения выручек двух независимых выборок покупателей из разных категорий использовался непераметрический критерий Манна Уитни с уровнем статистической значимости 0.05. Установлено, что выручки от всех групп отличаются, что логично объясняется различием в их численности. При повторном проведении стат тестов для сравнения уже средних выручек от одного покупателя выявлено, что пользователи, принадлежащие к сегменту \"дачники\", приносят интернет-магазину в среднем более высокий доход. Удельные выручки от пользователей других групп статистически не различаются."
   ]
  }
 ],
 "metadata": {
  "kernelspec": {
   "display_name": "Python 3",
   "language": "python",
   "name": "python3"
  },
  "language_info": {
   "codemirror_mode": {
    "name": "ipython",
    "version": 3
   },
   "file_extension": ".py",
   "mimetype": "text/x-python",
   "name": "python",
   "nbconvert_exporter": "python",
   "pygments_lexer": "ipython3",
   "version": "3.8.3"
  },
  "toc": {
   "base_numbering": 1,
   "nav_menu": {},
   "number_sections": true,
   "sideBar": true,
   "skip_h1_title": true,
   "title_cell": "Table of Contents",
   "title_sidebar": "Contents",
   "toc_cell": false,
   "toc_position": {},
   "toc_section_display": true,
   "toc_window_display": false
  }
 },
 "nbformat": 4,
 "nbformat_minor": 4
}
